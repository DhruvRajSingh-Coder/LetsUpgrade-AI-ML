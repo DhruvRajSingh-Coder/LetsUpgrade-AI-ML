{
  "nbformat": 4,
  "nbformat_minor": 0,
  "metadata": {
    "colab": {
      "name": "Day_15_Assignment",
      "provenance": [],
      "collapsed_sections": [],
      "authorship_tag": "ABX9TyPF6LwlxK84jwEJu1U4IUkX",
      "include_colab_link": true
    },
    "kernelspec": {
      "name": "python3",
      "display_name": "Python 3"
    }
  },
  "cells": [
    {
      "cell_type": "markdown",
      "metadata": {
        "id": "view-in-github",
        "colab_type": "text"
      },
      "source": [
        "<a href=\"https://colab.research.google.com/github/DhruvRajSingh-Coder/LetsUpgrade-AI-ML/blob/master/Day_15_Assignment.ipynb\" target=\"_parent\"><img src=\"https://colab.research.google.com/assets/colab-badge.svg\" alt=\"Open In Colab\"/></a>"
      ]
    },
    {
      "cell_type": "markdown",
      "metadata": {
        "id": "OrKKptfovyrF",
        "colab_type": "text"
      },
      "source": [
        "1.\n",
        "Create a 3x3x3 array with random values."
      ]
    },
    {
      "cell_type": "code",
      "metadata": {
        "id": "x7wV-xuyvlUZ",
        "colab_type": "code",
        "colab": {
          "base_uri": "https://localhost:8080/",
          "height": 235
        },
        "outputId": "e413faf8-b855-469f-e6d5-0559895208a3"
      },
      "source": [
        "import numpy as np\n",
        "D=np.random.random((3,3,3))\n",
        "print(D)"
      ],
      "execution_count": 159,
      "outputs": [
        {
          "output_type": "stream",
          "text": [
            "[[[0.92893974 0.51748394 0.02402985]\n",
            "  [0.72275107 0.20776251 0.92907233]\n",
            "  [0.84761035 0.26975306 0.30507237]]\n",
            "\n",
            " [[0.33554476 0.05509915 0.50145733]\n",
            "  [0.38519127 0.45688215 0.01881213]\n",
            "  [0.8992345  0.64751668 0.45462292]]\n",
            "\n",
            " [[0.71028876 0.98416044 0.7931729 ]\n",
            "  [0.6133497  0.63683053 0.10335003]\n",
            "  [0.65168819 0.95672546 0.04102824]]]\n"
          ],
          "name": "stdout"
        }
      ]
    },
    {
      "cell_type": "markdown",
      "metadata": {
        "id": "E9XHHDHisSe6",
        "colab_type": "text"
      },
      "source": [
        "2.\n",
        "Create a 5x5 matrix with values 1,2,3,4 just below the\n",
        "diagonal."
      ]
    },
    {
      "cell_type": "code",
      "metadata": {
        "id": "XmzGpHTjvx7J",
        "colab_type": "code",
        "colab": {
          "base_uri": "https://localhost:8080/",
          "height": 107
        },
        "outputId": "c1b43660-46bb-46e9-9ab0-3ad4aa2ac289"
      },
      "source": [
        "K=np.diag(1+np.arange(4),-1)\n",
        "print(K)"
      ],
      "execution_count": 160,
      "outputs": [
        {
          "output_type": "stream",
          "text": [
            "[[0 0 0 0 0]\n",
            " [1 0 0 0 0]\n",
            " [0 2 0 0 0]\n",
            " [0 0 3 0 0]\n",
            " [0 0 0 4 0]]\n"
          ],
          "name": "stdout"
        }
      ]
    },
    {
      "cell_type": "markdown",
      "metadata": {
        "id": "li4pk42_tHK1",
        "colab_type": "text"
      },
      "source": [
        "3.\n",
        "Create a 8x8 matrix and fill it with a checkerboardpattern."
      ]
    },
    {
      "cell_type": "code",
      "metadata": {
        "id": "hjRSLUwWx-cZ",
        "colab_type": "code",
        "colab": {
          "base_uri": "https://localhost:8080/",
          "height": 161
        },
        "outputId": "f7449817-4bb3-4ffd-f622-5d69df8fc215"
      },
      "source": [
        "B=np.zeros((8,8),dtype=int)\n",
        "B[1::2,::2]=1\n",
        "B[::2,1::2]=1\n",
        "print(B)"
      ],
      "execution_count": 161,
      "outputs": [
        {
          "output_type": "stream",
          "text": [
            "[[0 1 0 1 0 1 0 1]\n",
            " [1 0 1 0 1 0 1 0]\n",
            " [0 1 0 1 0 1 0 1]\n",
            " [1 0 1 0 1 0 1 0]\n",
            " [0 1 0 1 0 1 0 1]\n",
            " [1 0 1 0 1 0 1 0]\n",
            " [0 1 0 1 0 1 0 1]\n",
            " [1 0 1 0 1 0 1 0]]\n"
          ],
          "name": "stdout"
        }
      ]
    },
    {
      "cell_type": "markdown",
      "metadata": {
        "id": "aqzz_8XEtWxn",
        "colab_type": "text"
      },
      "source": [
        "4.\n",
        "Normalize a 5x5 random matrix."
      ]
    },
    {
      "cell_type": "code",
      "metadata": {
        "id": "7eUnP3_1zfVC",
        "colab_type": "code",
        "colab": {
          "base_uri": "https://localhost:8080/",
          "height": 235
        },
        "outputId": "81ad65f6-82b7-4438-f93b-570f35a562ce"
      },
      "source": [
        "S=np.random.random((5,5))\n",
        "print(S,\"\\n\")\n",
        "Smin,Smax=S.min(),S.max()\n",
        "S=S-Smin/Smax-Smin\n",
        "print(S)"
      ],
      "execution_count": 162,
      "outputs": [
        {
          "output_type": "stream",
          "text": [
            "[[0.39875494 0.02293163 0.20115112 0.34970877 0.76098339]\n",
            " [0.25305296 0.91661473 0.35578243 0.74537268 0.37523974]\n",
            " [0.40700559 0.31010651 0.43216801 0.65797973 0.00364584]\n",
            " [0.59492554 0.21152269 0.85456559 0.26602597 0.52130606]\n",
            " [0.81315593 0.23006469 0.59244285 0.72470198 0.484961  ]] \n",
            "\n",
            "[[ 0.39113159  0.01530828  0.19352777  0.34208542  0.75336004]\n",
            " [ 0.24542961  0.90899138  0.34815908  0.73774933  0.36761639]\n",
            " [ 0.39938224  0.30248316  0.42454466  0.65035638 -0.00397751]\n",
            " [ 0.58730219  0.20389934  0.84694224  0.25840262  0.51368271]\n",
            " [ 0.80553258  0.22244134  0.5848195   0.71707863  0.47733765]]\n"
          ],
          "name": "stdout"
        }
      ]
    },
    {
      "cell_type": "markdown",
      "metadata": {
        "id": "wpX6T8matpaX",
        "colab_type": "text"
      },
      "source": [
        "5.\n",
        "How to find common values between two arrays?"
      ]
    },
    {
      "cell_type": "code",
      "metadata": {
        "id": "jAnOAC29IjSe",
        "colab_type": "code",
        "colab": {
          "base_uri": "https://localhost:8080/",
          "height": 35
        },
        "outputId": "e0264d30-2bf4-4b97-ea61-c443a2fc92b7"
      },
      "source": [
        "A1=[6,7,12,21,23,58]\n",
        "A2=[6,9,11,12,15,21,24]\n",
        "D=np.intersect1d(A1,A2)\n",
        "print(D)"
      ],
      "execution_count": 163,
      "outputs": [
        {
          "output_type": "stream",
          "text": [
            "[ 6 12 21]\n"
          ],
          "name": "stdout"
        }
      ]
    },
    {
      "cell_type": "markdown",
      "metadata": {
        "id": "l6zZ6mS4teOM",
        "colab_type": "text"
      },
      "source": [
        "6.\n",
        "How to get the dates of yesterday, today and tomorrow?"
      ]
    },
    {
      "cell_type": "code",
      "metadata": {
        "id": "T9FQPvGj5Cl1",
        "colab_type": "code",
        "colab": {
          "base_uri": "https://localhost:8080/",
          "height": 91
        },
        "outputId": "78bedd5a-c183-4d11-f673-5705afa768f0"
      },
      "source": [
        "import datetime as dt\n",
        "today=dt.date.today()\n",
        "yesterday=today-dt.timedelta(days=1)\n",
        "tomorrow=today+dt.timedelta(days=1)\n",
        "print(\"Yesterday was \", yesterday)\n",
        "print(\"Today is \", today)\n",
        "print(\"Tomorrow will be \", tomorrow)"
      ],
      "execution_count": 164,
      "outputs": [
        {
          "output_type": "stream",
          "text": [
            "Yesterday was  2020-07-27\n",
            "Today is  2020-07-28\n",
            "Tomorrow will be  2020-07-29\n"
          ],
          "name": "stdout"
        }
      ]
    },
    {
      "cell_type": "markdown",
      "metadata": {
        "id": "G7TMsJNMt5c_",
        "colab_type": "text"
      },
      "source": [
        "7.\n",
        "Consider two random array A and B,check if they are equal."
      ]
    },
    {
      "cell_type": "code",
      "metadata": {
        "id": "dsMZw6d8KPxo",
        "colab_type": "code",
        "colab": {
          "base_uri": "https://localhost:8080/",
          "height": 71
        },
        "outputId": "20e5bfdc-0719-4bf1-9fc7-95271b085977"
      },
      "source": [
        "A=np.random.randint(2,size=3)\n",
        "print (A)\n",
        "B=np.random.randint(2,size=3)\n",
        "print (B)\n",
        "D=np.array_equal(A,B)\n",
        "print (D)"
      ],
      "execution_count": 232,
      "outputs": [
        {
          "output_type": "stream",
          "text": [
            "[0 0 1]\n",
            "[0 0 1]\n",
            "True\n"
          ],
          "name": "stdout"
        }
      ]
    },
    {
      "cell_type": "markdown",
      "metadata": {
        "id": "hqWVmwOht5--",
        "colab_type": "text"
      },
      "source": [
        "8.\n",
        "Create random vector of size 10 and replace the maximum value by 0."
      ]
    },
    {
      "cell_type": "code",
      "metadata": {
        "id": "-v0bFOX4L54i",
        "colab_type": "code",
        "colab": {
          "base_uri": "https://localhost:8080/",
          "height": 73
        },
        "outputId": "9bf779cc-4cd9-45f9-be35-081d4158a009"
      },
      "source": [
        "R=np.random.randint(13,size=10)\n",
        "print (R)\n",
        "R[R.argmax()]=0\n",
        "print (R)"
      ],
      "execution_count": null,
      "outputs": [
        {
          "output_type": "stream",
          "text": [
            "[ 4  9 11  2  1 12  9  1 10  9]\n",
            "[ 4  9 11  2  1  0  9  1 10  9]\n"
          ],
          "name": "stdout"
        }
      ]
    },
    {
      "cell_type": "markdown",
      "metadata": {
        "id": "ifAq8WmPt6P0",
        "colab_type": "text"
      },
      "source": [
        "9.\n",
        "How to print all the values of an array?"
      ]
    },
    {
      "cell_type": "code",
      "metadata": {
        "id": "GiZVpZm0Nao3",
        "colab_type": "code",
        "colab": {
          "base_uri": "https://localhost:8080/",
          "height": 523
        },
        "outputId": "f794cb89-4480-42d9-efaf-1fcfd90bb75b"
      },
      "source": [
        "F=np.random.randint(10,size=999)\n",
        "np.set_printoptions(threshold=np.inf)\n",
        "print (F)"
      ],
      "execution_count": null,
      "outputs": [
        {
          "output_type": "stream",
          "text": [
            "[5 0 8 4 1 5 9 4 1 7 4 0 5 8 2 9 0 3 4 8 5 1 2 6 8 6 1 4 4 3 9 3 0 0 5 6 5\n",
            " 0 5 8 9 2 8 4 0 2 4 8 1 4 5 9 5 8 1 4 0 9 6 7 0 2 0 5 4 5 8 8 0 9 2 3 1 8\n",
            " 2 3 3 7 3 8 3 2 9 9 7 7 7 5 4 4 0 3 1 8 7 3 2 0 9 1 0 7 4 8 6 0 8 7 3 9 3\n",
            " 9 3 3 4 2 1 7 0 7 6 2 4 1 8 9 0 5 0 3 3 4 6 1 3 9 3 1 8 6 1 9 2 6 8 4 7 9\n",
            " 0 5 3 6 6 5 8 3 8 7 3 5 7 0 4 7 8 6 8 9 1 5 4 1 5 3 2 7 4 0 6 7 7 5 9 2 7\n",
            " 7 4 9 9 3 4 1 1 2 1 0 3 6 8 0 9 2 0 2 7 2 0 4 6 7 8 0 3 5 7 1 2 3 4 1 0 9\n",
            " 5 2 8 9 8 4 8 2 4 3 8 0 8 1 9 5 7 5 4 9 4 1 1 7 1 5 3 1 5 7 5 4 3 3 2 9 2\n",
            " 5 3 0 3 5 6 4 0 0 8 1 0 5 6 4 0 9 3 2 8 1 8 0 3 5 9 3 7 0 4 9 2 8 9 8 4 1\n",
            " 0 9 4 8 1 5 8 6 3 8 9 1 7 9 0 3 7 1 5 2 9 8 8 7 7 1 2 8 2 3 5 3 6 2 6 0 9\n",
            " 2 6 3 9 9 7 8 8 7 4 3 1 3 9 7 5 0 4 2 3 7 0 4 5 9 0 8 0 5 0 7 5 7 7 9 5 7\n",
            " 3 3 2 2 4 6 8 1 9 1 4 1 6 6 8 9 7 5 1 9 1 9 4 2 2 5 1 6 8 9 0 5 6 9 2 2 3\n",
            " 5 7 0 8 7 7 4 0 7 2 6 3 5 3 7 3 5 6 8 5 2 5 8 1 6 7 6 9 6 3 3 5 7 3 1 2 2\n",
            " 3 8 4 6 4 2 2 4 6 5 3 1 2 4 1 2 9 8 6 5 3 0 2 3 6 4 9 1 1 3 2 3 6 7 5 6 9\n",
            " 6 7 9 1 8 6 4 7 4 8 4 7 9 2 2 7 4 8 0 6 6 2 6 0 8 8 5 5 6 4 5 4 8 7 3 1 2\n",
            " 0 0 1 5 5 3 7 3 8 0 9 4 5 8 4 1 4 8 9 9 7 5 8 7 4 4 6 8 2 4 0 6 1 6 1 0 7\n",
            " 3 7 6 0 9 6 7 5 3 8 5 0 7 6 0 9 7 8 4 5 4 8 1 5 5 5 3 7 0 5 4 8 4 1 2 1 2\n",
            " 8 0 1 3 4 2 1 4 2 5 7 2 6 2 1 4 3 8 5 7 2 2 0 8 2 1 3 5 9 1 8 1 3 0 5 5 9\n",
            " 2 3 8 3 3 7 5 9 6 1 4 3 8 9 3 3 4 0 2 8 8 9 0 5 1 3 3 3 7 2 5 2 4 9 5 5 9\n",
            " 1 6 2 0 9 5 2 7 8 5 6 9 6 4 3 1 2 8 0 8 0 4 1 0 1 7 9 5 4 4 4 9 8 3 4 0 9\n",
            " 0 3 0 2 4 3 3 6 7 0 1 7 9 3 3 5 0 2 6 8 3 6 5 3 1 1 4 9 9 6 0 6 6 5 5 8 8\n",
            " 8 0 3 4 2 2 3 6 2 4 1 1 3 7 8 2 5 6 9 6 4 2 6 2 1 6 1 5 3 1 6 7 0 8 1 5 3\n",
            " 6 8 3 5 5 1 0 6 7 1 1 3 6 9 7 8 6 4 4 6 6 5 5 8 7 1 0 9 6 0 3 1 8 7 5 9 8\n",
            " 8 1 5 9 0 4 9 0 2 8 3 2 3 0 1 3 4 2 1 7 8 0 2 1 6 3 0 4 8 1 8 5 5 1 7 0 6\n",
            " 4 8 8 3 9 0 1 9 2 4 8 9 9 2 5 5 5 6 4 3 0 4 9 0 7 6 7 2 7 6 6 3 9 6 7 0 2\n",
            " 8 6 5 2 8 6 9 5 8 7 6 7 6 1 7 0 4 9 1 9 2 1 0 8 0 3 0 1 7 8 0 8 0 4 6 4 3\n",
            " 1 2 3 3 0 7 7 5 3 4 6 0 5 7 8 1 6 5 1 6 9 8 5 4 9 5 8 4 6 0 8 7 6 1 7 7 1\n",
            " 4 8 5 6 8 8 9 5 7 4 2 6 4 7 8 2 5 8 2 5 0 3 8 4 9 0 4 9 9 3 1 6 2 4 3 0 5]\n"
          ],
          "name": "stdout"
        }
      ]
    },
    {
      "cell_type": "markdown",
      "metadata": {
        "id": "9sWmlY8zR7Cx",
        "colab_type": "text"
      },
      "source": [
        "10.\n",
        "Subtract the mean of each row of a matrix."
      ]
    },
    {
      "cell_type": "code",
      "metadata": {
        "id": "WG8Q08f6TwlR",
        "colab_type": "code",
        "colab": {
          "base_uri": "https://localhost:8080/",
          "height": 215
        },
        "outputId": "1d445b5b-e286-4836-dcad-2a7f74f5f385"
      },
      "source": [
        "R=np.array([[1,2,3],[4,5,6],[7,8,9]])\n",
        "print (R)\n",
        "Mean=R.mean(axis=1,keepdims=True)\n",
        "print(\"Mean of each row is \\n\",Mean)\n",
        "R1=print(\"Resultant matrix is \\n\",R-Mean)"
      ],
      "execution_count": null,
      "outputs": [
        {
          "output_type": "stream",
          "text": [
            "[[1 2 3]\n",
            " [4 5 6]\n",
            " [7 8 9]]\n",
            "Mean of each row is \n",
            " [[2.]\n",
            " [5.]\n",
            " [8.]]\n",
            "Resultant matrix is \n",
            " [[-1.  0.  1.]\n",
            " [-1.  0.  1.]\n",
            " [-1.  0.  1.]]\n"
          ],
          "name": "stdout"
        }
      ]
    },
    {
      "cell_type": "markdown",
      "metadata": {
        "id": "SB0r7zrY6wi6",
        "colab_type": "text"
      },
      "source": [
        "11.\n",
        "Consider a given vector, how to add 1 to each element indexed by a second vector (be careful with repeatedindices)?"
      ]
    },
    {
      "cell_type": "code",
      "metadata": {
        "id": "-dHgnBcLarfN",
        "colab_type": "code",
        "colab": {
          "base_uri": "https://localhost:8080/",
          "height": 91
        },
        "outputId": "d84f8fcc-8cdd-4af2-b890-6861038fc9d5"
      },
      "source": [
        "A=np.random.randint(0,9,10)\n",
        "print (A)\n",
        "B=np.random.randint(0,7,10)\n",
        "print (B)\n",
        "A+=np.bincount(B,minlength=len(A))\n",
        "print (A)"
      ],
      "execution_count": null,
      "outputs": [
        {
          "output_type": "stream",
          "text": [
            "[7 7 4 6 2 5 6 0 4 7]\n",
            "[4 2 1 1 1 6 2 4 1 1]\n",
            "[ 7 12  6  6  4  5  7  0  4  7]\n"
          ],
          "name": "stdout"
        }
      ]
    },
    {
      "cell_type": "markdown",
      "metadata": {
        "id": "OAQ1xMCv68fU",
        "colab_type": "text"
      },
      "source": [
        "12.\n",
        "How to get the diagonal of a dot product?"
      ]
    },
    {
      "cell_type": "code",
      "metadata": {
        "id": "D5bPyVb5qy5-",
        "colab_type": "code",
        "colab": {
          "base_uri": "https://localhost:8080/",
          "height": 181
        },
        "outputId": "429ef344-29db-42ae-b025-223445a3797a"
      },
      "source": [
        "U=np.random.randint(0,13,(3,3))\n",
        "print (U)\n",
        "V=np.random.randint(0,13,(3,3))\n",
        "print (V)\n",
        "print (\"The diagonal of the dot product is \\n\",(np.diag(np.dot(U,V))))"
      ],
      "execution_count": 129,
      "outputs": [
        {
          "output_type": "stream",
          "text": [
            "[[12  7 11]\n",
            " [12  5  3]\n",
            " [ 7  5 12]]\n",
            "[[ 4 12  6]\n",
            " [ 2 12  8]\n",
            " [ 6  2  9]]\n",
            "The diagonal of the dot product is \n",
            " [128 210 190]\n"
          ],
          "name": "stdout"
        }
      ]
    },
    {
      "cell_type": "markdown",
      "metadata": {
        "id": "TIQ-Otfh69Kw",
        "colab_type": "text"
      },
      "source": [
        "13.\n",
        "How to find the most frequent value in an array?"
      ]
    },
    {
      "cell_type": "code",
      "metadata": {
        "id": "6rd3Wz1WRfZe",
        "colab_type": "code",
        "colab": {
          "base_uri": "https://localhost:8080/",
          "height": 73
        },
        "outputId": "dc2dd21f-7087-4766-89d1-37e25ef8e453"
      },
      "source": [
        "D=np.random.randint(0,10,20)\n",
        "print (D)\n",
        "print (\"Most frequent value is \",np.bincount(D).argmax())"
      ],
      "execution_count": 140,
      "outputs": [
        {
          "output_type": "stream",
          "text": [
            "[3 6 5 7 6 6 9 2 1 4 0 5 7 8 3 8 0 4 1 9]\n",
            "Most frequent value is  6\n"
          ],
          "name": "stdout"
        }
      ]
    },
    {
      "cell_type": "markdown",
      "metadata": {
        "id": "z0IFbKHm69gS",
        "colab_type": "text"
      },
      "source": [
        "14.\n",
        "How to get the n largest values of an array."
      ]
    },
    {
      "cell_type": "code",
      "metadata": {
        "id": "nZCzoHVDRpr7",
        "colab_type": "code",
        "colab": {
          "base_uri": "https://localhost:8080/",
          "height": 71
        },
        "outputId": "93f55724-f44d-4bae-f6cc-70089a5a7d4c"
      },
      "source": [
        "K=np.arange(100)\n",
        "np.random.shuffle(K)\n",
        "n=7\n",
        "print (n,\"Largest values are \\n\")\n",
        "print (K[np.argsort(K)[-n:]])"
      ],
      "execution_count": 141,
      "outputs": [
        {
          "output_type": "stream",
          "text": [
            "7 Largest values are \n",
            "\n",
            "[93 94 95 96 97 98 99]\n"
          ],
          "name": "stdout"
        }
      ]
    },
    {
      "cell_type": "markdown",
      "metadata": {
        "id": "_Jjf_3fD7ZWw",
        "colab_type": "text"
      },
      "source": [
        "15.\n",
        "How to create a record array from a regular array?"
      ]
    },
    {
      "cell_type": "code",
      "metadata": {
        "id": "qaAVPAwQR0ky",
        "colab_type": "code",
        "colab": {
          "base_uri": "https://localhost:8080/",
          "height": 55
        },
        "outputId": "1a438674-7d1c-4caf-b331-a42f82c56892"
      },
      "source": [
        "X=np.array([(\"Dhruv\",6.7,12),\n",
        "            (\"Raj\",7.58,21)])\n",
        "Y=np.core.records.fromarrays(X.T,names='col1,col2,col3',formats='S8,f8,i8')\n",
        "print (Y)"
      ],
      "execution_count": 155,
      "outputs": [
        {
          "output_type": "stream",
          "text": [
            "[(b'Dhruv', 6.7 , 12) (b'Raj', 7.58, 21)]\n"
          ],
          "name": "stdout"
        }
      ]
    }
  ]
}