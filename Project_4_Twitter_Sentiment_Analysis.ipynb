{
  "nbformat": 4,
  "nbformat_minor": 0,
  "metadata": {
    "colab": {
      "name": "Project_4-Twitter_Sentiment_Analysis",
      "provenance": [],
      "collapsed_sections": [],
      "authorship_tag": "ABX9TyOqu0hH+Tlew3x+u9nkg5tb"
    },
    "kernelspec": {
      "display_name": "Python 3",
      "name": "python3"
    }
  },
  "cells": [
    {
      "cell_type": "code",
      "metadata": {
        "id": "8FFXniQ3zdua"
      },
      "source": [
        "import numpy as np\n",
        "import pandas as pd\n",
        "import tweepy\n",
        "import json\n",
        "from tweepy import OAuthHandler"
      ],
      "execution_count": 1,
      "outputs": []
    },
    {
      "cell_type": "code",
      "metadata": {
        "id": "f0upFBsHzfCv"
      },
      "source": [
        "consumer_key=\"1JS17jSpiI34fbGaImHHTNzsF\"\n",
        "consumer_secret=\"WWmFFP6yt6whmChMaxM2fadzLLZjMvqKt9wzsDQWfYyxtV8CpD\"\n",
        "access_token=\"1342246677223067649-AxoCjq9P1orGDdU8AaHJtzxLkfjpJe\"\n",
        "access_token_secret=\"QE4wYoQOq5VUlKWS2iT45SLKKFMDL8ibrwVOHfia5AX4s\""
      ],
      "execution_count": 2,
      "outputs": []
    },
    {
      "cell_type": "code",
      "metadata": {
        "id": "Lc9vnTYrzfUt"
      },
      "source": [
        "auth=tweepy.OAuthHandler(consumer_key,consumer_secret)\n",
        "auth.set_access_token(access_token,access_token_secret)\n",
        "api=tweepy.API(auth)"
      ],
      "execution_count": 3,
      "outputs": []
    },
    {
      "cell_type": "code",
      "metadata": {
        "id": "eR7_qn3yzf7W"
      },
      "source": [
        "query=\"Democratic Government\""
      ],
      "execution_count": 4,
      "outputs": []
    },
    {
      "cell_type": "code",
      "metadata": {
        "colab": {
          "base_uri": "https://localhost:8080/"
        },
        "id": "AotFxSbUzhIn",
        "outputId": "fb2e2a5e-bcea-42d3-9cd1-db31615354fc"
      },
      "source": [
        "Tweets=api.search(query,count=10,lang='en',exclude='retweets',tweet_mode='extended')\n",
        "# tweet_mode='extended'\n",
        "# tweet_mode='compat'\n",
        "for tweet in Tweets:\n",
        "    print(tweet,\"\\n\")\n",
        "    print(\".....................................\\n\")"
      ],
      "execution_count": 5,
      "outputs": [
        {
          "output_type": "stream",
          "text": [
            "Status(_api=<tweepy.api.API object at 0x7f9501ce1e10>, _json={'created_at': 'Thu Jun 03 06:18:59 +0000 2021', 'id': 1400336188813168640, 'id_str': '1400336188813168640', 'full_text': 'PTT is partnering with military linked companies to expand its engagement in https://t.co/9Fy2R5QkAR should end ties with Myanmar Junta enterprises &amp; suspend all new investment in the country until a democratic government is established#PTT_EndPaymentToSAC\\nhttps://t.co/QbodGoPysO', 'truncated': False, 'display_text_range': [0, 284], 'entities': {'hashtags': [], 'symbols': [], 'user_mentions': [], 'urls': [{'url': 'https://t.co/9Fy2R5QkAR', 'expanded_url': 'http://Myanmar.It', 'display_url': 'Myanmar.It', 'indices': [77, 100]}], 'media': [{'id': 1400087276407836672, 'id_str': '1400087276407836672', 'indices': [261, 284], 'media_url': 'http://pbs.twimg.com/media/E24b9bzVUAAsWY2.jpg', 'media_url_https': 'https://pbs.twimg.com/media/E24b9bzVUAAsWY2.jpg', 'url': 'https://t.co/QbodGoPysO', 'display_url': 'pic.twitter.com/QbodGoPysO', 'expanded_url': 'https://twitter.com/springbago/status/1400087292018978816/photo/1', 'type': 'photo', 'sizes': {'thumb': {'w': 150, 'h': 150, 'resize': 'crop'}, 'large': {'w': 1080, 'h': 810, 'resize': 'fit'}, 'small': {'w': 680, 'h': 510, 'resize': 'fit'}, 'medium': {'w': 1080, 'h': 810, 'resize': 'fit'}}, 'source_status_id': 1400087292018978816, 'source_status_id_str': '1400087292018978816', 'source_user_id': 1376477928016371717, 'source_user_id_str': '1376477928016371717'}]}, 'extended_entities': {'media': [{'id': 1400087276407836672, 'id_str': '1400087276407836672', 'indices': [261, 284], 'media_url': 'http://pbs.twimg.com/media/E24b9bzVUAAsWY2.jpg', 'media_url_https': 'https://pbs.twimg.com/media/E24b9bzVUAAsWY2.jpg', 'url': 'https://t.co/QbodGoPysO', 'display_url': 'pic.twitter.com/QbodGoPysO', 'expanded_url': 'https://twitter.com/springbago/status/1400087292018978816/photo/1', 'type': 'photo', 'sizes': {'thumb': {'w': 150, 'h': 150, 'resize': 'crop'}, 'large': {'w': 1080, 'h': 810, 'resize': 'fit'}, 'small': {'w': 680, 'h': 510, 'resize': 'fit'}, 'medium': {'w': 1080, 'h': 810, 'resize': 'fit'}}, 'source_status_id': 1400087292018978816, 'source_status_id_str': '1400087292018978816', 'source_user_id': 1376477928016371717, 'source_user_id_str': '1376477928016371717'}, {'id': 1400087276403585026, 'id_str': '1400087276403585026', 'indices': [261, 284], 'media_url': 'http://pbs.twimg.com/media/E24b9byUcAIFjaE.jpg', 'media_url_https': 'https://pbs.twimg.com/media/E24b9byUcAIFjaE.jpg', 'url': 'https://t.co/QbodGoPysO', 'display_url': 'pic.twitter.com/QbodGoPysO', 'expanded_url': 'https://twitter.com/springbago/status/1400087292018978816/photo/1', 'type': 'photo', 'sizes': {'thumb': {'w': 150, 'h': 150, 'resize': 'crop'}, 'large': {'w': 592, 'h': 359, 'resize': 'fit'}, 'small': {'w': 592, 'h': 359, 'resize': 'fit'}, 'medium': {'w': 592, 'h': 359, 'resize': 'fit'}}, 'source_status_id': 1400087292018978816, 'source_status_id_str': '1400087292018978816', 'source_user_id': 1376477928016371717, 'source_user_id_str': '1376477928016371717'}]}, 'metadata': {'iso_language_code': 'en', 'result_type': 'recent'}, 'source': '<a href=\"http://twitter.com/download/iphone\" rel=\"nofollow\">Twitter for iPhone</a>', 'in_reply_to_status_id': None, 'in_reply_to_status_id_str': None, 'in_reply_to_user_id': None, 'in_reply_to_user_id_str': None, 'in_reply_to_screen_name': None, 'user': {'id': 1084284749630173184, 'id_str': '1084284749630173184', 'name': 'Anrina ShR', 'screen_name': 'annaroses11', 'location': '', 'description': '🌸', 'url': None, 'entities': {'description': {'urls': []}}, 'protected': False, 'followers_count': 108, 'friends_count': 1834, 'listed_count': 1, 'created_at': 'Sun Jan 13 03:03:24 +0000 2019', 'favourites_count': 186, 'utc_offset': None, 'time_zone': None, 'geo_enabled': False, 'verified': False, 'statuses_count': 762, 'lang': None, 'contributors_enabled': False, 'is_translator': False, 'is_translation_enabled': False, 'profile_background_color': 'F5F8FA', 'profile_background_image_url': None, 'profile_background_image_url_https': None, 'profile_background_tile': False, 'profile_image_url': 'http://pbs.twimg.com/profile_images/1391750274071502855/BIgLX2tG_normal.jpg', 'profile_image_url_https': 'https://pbs.twimg.com/profile_images/1391750274071502855/BIgLX2tG_normal.jpg', 'profile_banner_url': 'https://pbs.twimg.com/profile_banners/1084284749630173184/1614612735', 'profile_link_color': '1DA1F2', 'profile_sidebar_border_color': 'C0DEED', 'profile_sidebar_fill_color': 'DDEEF6', 'profile_text_color': '333333', 'profile_use_background_image': True, 'has_extended_profile': False, 'default_profile': True, 'default_profile_image': False, 'following': False, 'follow_request_sent': False, 'notifications': False, 'translator_type': 'none', 'withheld_in_countries': []}, 'geo': None, 'coordinates': None, 'place': None, 'contributors': None, 'is_quote_status': False, 'retweet_count': 0, 'favorite_count': 0, 'favorited': False, 'retweeted': False, 'possibly_sensitive': True, 'lang': 'en'}, created_at=datetime.datetime(2021, 6, 3, 6, 18, 59), id=1400336188813168640, id_str='1400336188813168640', full_text='PTT is partnering with military linked companies to expand its engagement in https://t.co/9Fy2R5QkAR should end ties with Myanmar Junta enterprises &amp; suspend all new investment in the country until a democratic government is established#PTT_EndPaymentToSAC\\nhttps://t.co/QbodGoPysO', truncated=False, display_text_range=[0, 284], entities={'hashtags': [], 'symbols': [], 'user_mentions': [], 'urls': [{'url': 'https://t.co/9Fy2R5QkAR', 'expanded_url': 'http://Myanmar.It', 'display_url': 'Myanmar.It', 'indices': [77, 100]}], 'media': [{'id': 1400087276407836672, 'id_str': '1400087276407836672', 'indices': [261, 284], 'media_url': 'http://pbs.twimg.com/media/E24b9bzVUAAsWY2.jpg', 'media_url_https': 'https://pbs.twimg.com/media/E24b9bzVUAAsWY2.jpg', 'url': 'https://t.co/QbodGoPysO', 'display_url': 'pic.twitter.com/QbodGoPysO', 'expanded_url': 'https://twitter.com/springbago/status/1400087292018978816/photo/1', 'type': 'photo', 'sizes': {'thumb': {'w': 150, 'h': 150, 'resize': 'crop'}, 'large': {'w': 1080, 'h': 810, 'resize': 'fit'}, 'small': {'w': 680, 'h': 510, 'resize': 'fit'}, 'medium': {'w': 1080, 'h': 810, 'resize': 'fit'}}, 'source_status_id': 1400087292018978816, 'source_status_id_str': '1400087292018978816', 'source_user_id': 1376477928016371717, 'source_user_id_str': '1376477928016371717'}]}, extended_entities={'media': [{'id': 1400087276407836672, 'id_str': '1400087276407836672', 'indices': [261, 284], 'media_url': 'http://pbs.twimg.com/media/E24b9bzVUAAsWY2.jpg', 'media_url_https': 'https://pbs.twimg.com/media/E24b9bzVUAAsWY2.jpg', 'url': 'https://t.co/QbodGoPysO', 'display_url': 'pic.twitter.com/QbodGoPysO', 'expanded_url': 'https://twitter.com/springbago/status/1400087292018978816/photo/1', 'type': 'photo', 'sizes': {'thumb': {'w': 150, 'h': 150, 'resize': 'crop'}, 'large': {'w': 1080, 'h': 810, 'resize': 'fit'}, 'small': {'w': 680, 'h': 510, 'resize': 'fit'}, 'medium': {'w': 1080, 'h': 810, 'resize': 'fit'}}, 'source_status_id': 1400087292018978816, 'source_status_id_str': '1400087292018978816', 'source_user_id': 1376477928016371717, 'source_user_id_str': '1376477928016371717'}, {'id': 1400087276403585026, 'id_str': '1400087276403585026', 'indices': [261, 284], 'media_url': 'http://pbs.twimg.com/media/E24b9byUcAIFjaE.jpg', 'media_url_https': 'https://pbs.twimg.com/media/E24b9byUcAIFjaE.jpg', 'url': 'https://t.co/QbodGoPysO', 'display_url': 'pic.twitter.com/QbodGoPysO', 'expanded_url': 'https://twitter.com/springbago/status/1400087292018978816/photo/1', 'type': 'photo', 'sizes': {'thumb': {'w': 150, 'h': 150, 'resize': 'crop'}, 'large': {'w': 592, 'h': 359, 'resize': 'fit'}, 'small': {'w': 592, 'h': 359, 'resize': 'fit'}, 'medium': {'w': 592, 'h': 359, 'resize': 'fit'}}, 'source_status_id': 1400087292018978816, 'source_status_id_str': '1400087292018978816', 'source_user_id': 1376477928016371717, 'source_user_id_str': '1376477928016371717'}]}, metadata={'iso_language_code': 'en', 'result_type': 'recent'}, source='Twitter for iPhone', source_url='http://twitter.com/download/iphone', in_reply_to_status_id=None, in_reply_to_status_id_str=None, in_reply_to_user_id=None, in_reply_to_user_id_str=None, in_reply_to_screen_name=None, author=User(_api=<tweepy.api.API object at 0x7f9501ce1e10>, _json={'id': 1084284749630173184, 'id_str': '1084284749630173184', 'name': 'Anrina ShR', 'screen_name': 'annaroses11', 'location': '', 'description': '🌸', 'url': None, 'entities': {'description': {'urls': []}}, 'protected': False, 'followers_count': 108, 'friends_count': 1834, 'listed_count': 1, 'created_at': 'Sun Jan 13 03:03:24 +0000 2019', 'favourites_count': 186, 'utc_offset': None, 'time_zone': None, 'geo_enabled': False, 'verified': False, 'statuses_count': 762, 'lang': None, 'contributors_enabled': False, 'is_translator': False, 'is_translation_enabled': False, 'profile_background_color': 'F5F8FA', 'profile_background_image_url': None, 'profile_background_image_url_https': None, 'profile_background_tile': False, 'profile_image_url': 'http://pbs.twimg.com/profile_images/1391750274071502855/BIgLX2tG_normal.jpg', 'profile_image_url_https': 'https://pbs.twimg.com/profile_images/1391750274071502855/BIgLX2tG_normal.jpg', 'profile_banner_url': 'https://pbs.twimg.com/profile_banners/1084284749630173184/1614612735', 'profile_link_color': '1DA1F2', 'profile_sidebar_border_color': 'C0DEED', 'profile_sidebar_fill_color': 'DDEEF6', 'profile_text_color': '333333', 'profile_use_background_image': True, 'has_extended_profile': False, 'default_profile': True, 'default_profile_image': False, 'following': False, 'follow_request_sent': False, 'notifications': False, 'translator_type': 'none', 'withheld_in_countries': []}, id=1084284749630173184, id_str='1084284749630173184', name='Anrina ShR', screen_name='annaroses11', location='', description='🌸', url=None, entities={'description': {'urls': []}}, protected=False, followers_count=108, friends_count=1834, listed_count=1, created_at=datetime.datetime(2019, 1, 13, 3, 3, 24), favourites_count=186, utc_offset=None, time_zone=None, geo_enabled=False, verified=False, statuses_count=762, lang=None, contributors_enabled=False, is_translator=False, is_translation_enabled=False, profile_background_color='F5F8FA', profile_background_image_url=None, profile_background_image_url_https=None, profile_background_tile=False, profile_image_url='http://pbs.twimg.com/profile_images/1391750274071502855/BIgLX2tG_normal.jpg', profile_image_url_https='https://pbs.twimg.com/profile_images/1391750274071502855/BIgLX2tG_normal.jpg', profile_banner_url='https://pbs.twimg.com/profile_banners/1084284749630173184/1614612735', profile_link_color='1DA1F2', profile_sidebar_border_color='C0DEED', profile_sidebar_fill_color='DDEEF6', profile_text_color='333333', profile_use_background_image=True, has_extended_profile=False, default_profile=True, default_profile_image=False, following=False, follow_request_sent=False, notifications=False, translator_type='none', withheld_in_countries=[]), user=User(_api=<tweepy.api.API object at 0x7f9501ce1e10>, _json={'id': 1084284749630173184, 'id_str': '1084284749630173184', 'name': 'Anrina ShR', 'screen_name': 'annaroses11', 'location': '', 'description': '🌸', 'url': None, 'entities': {'description': {'urls': []}}, 'protected': False, 'followers_count': 108, 'friends_count': 1834, 'listed_count': 1, 'created_at': 'Sun Jan 13 03:03:24 +0000 2019', 'favourites_count': 186, 'utc_offset': None, 'time_zone': None, 'geo_enabled': False, 'verified': False, 'statuses_count': 762, 'lang': None, 'contributors_enabled': False, 'is_translator': False, 'is_translation_enabled': False, 'profile_background_color': 'F5F8FA', 'profile_background_image_url': None, 'profile_background_image_url_https': None, 'profile_background_tile': False, 'profile_image_url': 'http://pbs.twimg.com/profile_images/1391750274071502855/BIgLX2tG_normal.jpg', 'profile_image_url_https': 'https://pbs.twimg.com/profile_images/1391750274071502855/BIgLX2tG_normal.jpg', 'profile_banner_url': 'https://pbs.twimg.com/profile_banners/1084284749630173184/1614612735', 'profile_link_color': '1DA1F2', 'profile_sidebar_border_color': 'C0DEED', 'profile_sidebar_fill_color': 'DDEEF6', 'profile_text_color': '333333', 'profile_use_background_image': True, 'has_extended_profile': False, 'default_profile': True, 'default_profile_image': False, 'following': False, 'follow_request_sent': False, 'notifications': False, 'translator_type': 'none', 'withheld_in_countries': []}, id=1084284749630173184, id_str='1084284749630173184', name='Anrina ShR', screen_name='annaroses11', location='', description='🌸', url=None, entities={'description': {'urls': []}}, protected=False, followers_count=108, friends_count=1834, listed_count=1, created_at=datetime.datetime(2019, 1, 13, 3, 3, 24), favourites_count=186, utc_offset=None, time_zone=None, geo_enabled=False, verified=False, statuses_count=762, lang=None, contributors_enabled=False, is_translator=False, is_translation_enabled=False, profile_background_color='F5F8FA', profile_background_image_url=None, profile_background_image_url_https=None, profile_background_tile=False, profile_image_url='http://pbs.twimg.com/profile_images/1391750274071502855/BIgLX2tG_normal.jpg', profile_image_url_https='https://pbs.twimg.com/profile_images/1391750274071502855/BIgLX2tG_normal.jpg', profile_banner_url='https://pbs.twimg.com/profile_banners/1084284749630173184/1614612735', profile_link_color='1DA1F2', profile_sidebar_border_color='C0DEED', profile_sidebar_fill_color='DDEEF6', profile_text_color='333333', profile_use_background_image=True, has_extended_profile=False, default_profile=True, default_profile_image=False, following=False, follow_request_sent=False, notifications=False, translator_type='none', withheld_in_countries=[]), geo=None, coordinates=None, place=None, contributors=None, is_quote_status=False, retweet_count=0, favorite_count=0, favorited=False, retweeted=False, possibly_sensitive=True, lang='en') \n",
            "\n",
            ".....................................\n",
            "\n",
            "Status(_api=<tweepy.api.API object at 0x7f9501ce1e10>, _json={'created_at': 'Thu Jun 03 06:15:02 +0000 2021', 'id': 1400335198433202177, 'id_str': '1400335198433202177', 'full_text': \"Shooting and killing protesters is the trademark of this 'democratic' government. Nigerians must say no to tyranny and fight for a democracy that works for the masses \\n#June12protest\", 'truncated': False, 'display_text_range': [0, 182], 'entities': {'hashtags': [{'text': 'June12protest', 'indices': [168, 182]}], 'symbols': [], 'user_mentions': [], 'urls': []}, 'metadata': {'iso_language_code': 'en', 'result_type': 'recent'}, 'source': '<a href=\"https://www.hootsuite.com\" rel=\"nofollow\">Hootsuite Inc.</a>', 'in_reply_to_status_id': None, 'in_reply_to_status_id_str': None, 'in_reply_to_user_id': None, 'in_reply_to_user_id_str': None, 'in_reply_to_screen_name': None, 'user': {'id': 1261413963520229377, 'id_str': '1261413963520229377', 'name': '@dntsilenceme', 'screen_name': 'RARE_FOOTWEARS', 'location': 'Rarefootwears@gmail.com', 'description': 'we make footwears at affordable prices.\\ncrown prince of violenceFC 🔱♨️👑\\n  sapiosexual \\nFORCA BARCA', 'url': None, 'entities': {'description': {'urls': []}}, 'protected': False, 'followers_count': 714, 'friends_count': 1032, 'listed_count': 0, 'created_at': 'Fri May 15 21:51:49 +0000 2020', 'favourites_count': 75291, 'utc_offset': None, 'time_zone': None, 'geo_enabled': True, 'verified': False, 'statuses_count': 21354, 'lang': None, 'contributors_enabled': False, 'is_translator': False, 'is_translation_enabled': False, 'profile_background_color': 'F5F8FA', 'profile_background_image_url': None, 'profile_background_image_url_https': None, 'profile_background_tile': False, 'profile_image_url': 'http://pbs.twimg.com/profile_images/1387280130301743109/jflKXTIU_normal.jpg', 'profile_image_url_https': 'https://pbs.twimg.com/profile_images/1387280130301743109/jflKXTIU_normal.jpg', 'profile_banner_url': 'https://pbs.twimg.com/profile_banners/1261413963520229377/1608291076', 'profile_link_color': '1DA1F2', 'profile_sidebar_border_color': 'C0DEED', 'profile_sidebar_fill_color': 'DDEEF6', 'profile_text_color': '333333', 'profile_use_background_image': True, 'has_extended_profile': True, 'default_profile': True, 'default_profile_image': False, 'following': False, 'follow_request_sent': False, 'notifications': False, 'translator_type': 'none', 'withheld_in_countries': []}, 'geo': None, 'coordinates': None, 'place': None, 'contributors': None, 'is_quote_status': False, 'retweet_count': 0, 'favorite_count': 0, 'favorited': False, 'retweeted': False, 'lang': 'en'}, created_at=datetime.datetime(2021, 6, 3, 6, 15, 2), id=1400335198433202177, id_str='1400335198433202177', full_text=\"Shooting and killing protesters is the trademark of this 'democratic' government. Nigerians must say no to tyranny and fight for a democracy that works for the masses \\n#June12protest\", truncated=False, display_text_range=[0, 182], entities={'hashtags': [{'text': 'June12protest', 'indices': [168, 182]}], 'symbols': [], 'user_mentions': [], 'urls': []}, metadata={'iso_language_code': 'en', 'result_type': 'recent'}, source='Hootsuite Inc.', source_url='https://www.hootsuite.com', in_reply_to_status_id=None, in_reply_to_status_id_str=None, in_reply_to_user_id=None, in_reply_to_user_id_str=None, in_reply_to_screen_name=None, author=User(_api=<tweepy.api.API object at 0x7f9501ce1e10>, _json={'id': 1261413963520229377, 'id_str': '1261413963520229377', 'name': '@dntsilenceme', 'screen_name': 'RARE_FOOTWEARS', 'location': 'Rarefootwears@gmail.com', 'description': 'we make footwears at affordable prices.\\ncrown prince of violenceFC 🔱♨️👑\\n  sapiosexual \\nFORCA BARCA', 'url': None, 'entities': {'description': {'urls': []}}, 'protected': False, 'followers_count': 714, 'friends_count': 1032, 'listed_count': 0, 'created_at': 'Fri May 15 21:51:49 +0000 2020', 'favourites_count': 75291, 'utc_offset': None, 'time_zone': None, 'geo_enabled': True, 'verified': False, 'statuses_count': 21354, 'lang': None, 'contributors_enabled': False, 'is_translator': False, 'is_translation_enabled': False, 'profile_background_color': 'F5F8FA', 'profile_background_image_url': None, 'profile_background_image_url_https': None, 'profile_background_tile': False, 'profile_image_url': 'http://pbs.twimg.com/profile_images/1387280130301743109/jflKXTIU_normal.jpg', 'profile_image_url_https': 'https://pbs.twimg.com/profile_images/1387280130301743109/jflKXTIU_normal.jpg', 'profile_banner_url': 'https://pbs.twimg.com/profile_banners/1261413963520229377/1608291076', 'profile_link_color': '1DA1F2', 'profile_sidebar_border_color': 'C0DEED', 'profile_sidebar_fill_color': 'DDEEF6', 'profile_text_color': '333333', 'profile_use_background_image': True, 'has_extended_profile': True, 'default_profile': True, 'default_profile_image': False, 'following': False, 'follow_request_sent': False, 'notifications': False, 'translator_type': 'none', 'withheld_in_countries': []}, id=1261413963520229377, id_str='1261413963520229377', name='@dntsilenceme', screen_name='RARE_FOOTWEARS', location='Rarefootwears@gmail.com', description='we make footwears at affordable prices.\\ncrown prince of violenceFC 🔱♨️👑\\n  sapiosexual \\nFORCA BARCA', url=None, entities={'description': {'urls': []}}, protected=False, followers_count=714, friends_count=1032, listed_count=0, created_at=datetime.datetime(2020, 5, 15, 21, 51, 49), favourites_count=75291, utc_offset=None, time_zone=None, geo_enabled=True, verified=False, statuses_count=21354, lang=None, contributors_enabled=False, is_translator=False, is_translation_enabled=False, profile_background_color='F5F8FA', profile_background_image_url=None, profile_background_image_url_https=None, profile_background_tile=False, profile_image_url='http://pbs.twimg.com/profile_images/1387280130301743109/jflKXTIU_normal.jpg', profile_image_url_https='https://pbs.twimg.com/profile_images/1387280130301743109/jflKXTIU_normal.jpg', profile_banner_url='https://pbs.twimg.com/profile_banners/1261413963520229377/1608291076', profile_link_color='1DA1F2', profile_sidebar_border_color='C0DEED', profile_sidebar_fill_color='DDEEF6', profile_text_color='333333', profile_use_background_image=True, has_extended_profile=True, default_profile=True, default_profile_image=False, following=False, follow_request_sent=False, notifications=False, translator_type='none', withheld_in_countries=[]), user=User(_api=<tweepy.api.API object at 0x7f9501ce1e10>, _json={'id': 1261413963520229377, 'id_str': '1261413963520229377', 'name': '@dntsilenceme', 'screen_name': 'RARE_FOOTWEARS', 'location': 'Rarefootwears@gmail.com', 'description': 'we make footwears at affordable prices.\\ncrown prince of violenceFC 🔱♨️👑\\n  sapiosexual \\nFORCA BARCA', 'url': None, 'entities': {'description': {'urls': []}}, 'protected': False, 'followers_count': 714, 'friends_count': 1032, 'listed_count': 0, 'created_at': 'Fri May 15 21:51:49 +0000 2020', 'favourites_count': 75291, 'utc_offset': None, 'time_zone': None, 'geo_enabled': True, 'verified': False, 'statuses_count': 21354, 'lang': None, 'contributors_enabled': False, 'is_translator': False, 'is_translation_enabled': False, 'profile_background_color': 'F5F8FA', 'profile_background_image_url': None, 'profile_background_image_url_https': None, 'profile_background_tile': False, 'profile_image_url': 'http://pbs.twimg.com/profile_images/1387280130301743109/jflKXTIU_normal.jpg', 'profile_image_url_https': 'https://pbs.twimg.com/profile_images/1387280130301743109/jflKXTIU_normal.jpg', 'profile_banner_url': 'https://pbs.twimg.com/profile_banners/1261413963520229377/1608291076', 'profile_link_color': '1DA1F2', 'profile_sidebar_border_color': 'C0DEED', 'profile_sidebar_fill_color': 'DDEEF6', 'profile_text_color': '333333', 'profile_use_background_image': True, 'has_extended_profile': True, 'default_profile': True, 'default_profile_image': False, 'following': False, 'follow_request_sent': False, 'notifications': False, 'translator_type': 'none', 'withheld_in_countries': []}, id=1261413963520229377, id_str='1261413963520229377', name='@dntsilenceme', screen_name='RARE_FOOTWEARS', location='Rarefootwears@gmail.com', description='we make footwears at affordable prices.\\ncrown prince of violenceFC 🔱♨️👑\\n  sapiosexual \\nFORCA BARCA', url=None, entities={'description': {'urls': []}}, protected=False, followers_count=714, friends_count=1032, listed_count=0, created_at=datetime.datetime(2020, 5, 15, 21, 51, 49), favourites_count=75291, utc_offset=None, time_zone=None, geo_enabled=True, verified=False, statuses_count=21354, lang=None, contributors_enabled=False, is_translator=False, is_translation_enabled=False, profile_background_color='F5F8FA', profile_background_image_url=None, profile_background_image_url_https=None, profile_background_tile=False, profile_image_url='http://pbs.twimg.com/profile_images/1387280130301743109/jflKXTIU_normal.jpg', profile_image_url_https='https://pbs.twimg.com/profile_images/1387280130301743109/jflKXTIU_normal.jpg', profile_banner_url='https://pbs.twimg.com/profile_banners/1261413963520229377/1608291076', profile_link_color='1DA1F2', profile_sidebar_border_color='C0DEED', profile_sidebar_fill_color='DDEEF6', profile_text_color='333333', profile_use_background_image=True, has_extended_profile=True, default_profile=True, default_profile_image=False, following=False, follow_request_sent=False, notifications=False, translator_type='none', withheld_in_countries=[]), geo=None, coordinates=None, place=None, contributors=None, is_quote_status=False, retweet_count=0, favorite_count=0, favorited=False, retweeted=False, lang='en') \n",
            "\n",
            ".....................................\n",
            "\n",
            "Status(_api=<tweepy.api.API object at 0x7f9501ce1e10>, _json={'created_at': 'Thu Jun 03 06:14:56 +0000 2021', 'id': 1400335171497336832, 'id_str': '1400335171497336832', 'full_text': 'The democratic forces should register their voice since it is the question of justice and rule of law. I therefore call upon my fellow friends to request the Government of tamilnadu / prison authorities to release the 49 muslim prisoners who spent more than ten years in jail', 'truncated': False, 'display_text_range': [0, 275], 'entities': {'hashtags': [], 'symbols': [], 'user_mentions': [], 'urls': []}, 'metadata': {'iso_language_code': 'en', 'result_type': 'recent'}, 'source': '<a href=\"http://twitter.com/download/android\" rel=\"nofollow\">Twitter for Android</a>', 'in_reply_to_status_id': None, 'in_reply_to_status_id_str': None, 'in_reply_to_user_id': None, 'in_reply_to_user_id_str': None, 'in_reply_to_screen_name': None, 'user': {'id': 3134349660, 'id_str': '3134349660', 'name': 'Keeranur Shanavas', 'screen_name': 'shanawaa', 'location': 'India', 'description': 'MediaVoiceTamil Anchor,\\nQ7 news Reporter📚🖋🎶💪🏻\\n\\nமக்கள் ஊடகன்\\nமீம்ஸ் ஆக்கம்,\\n📷பிரியன்😍!', 'url': 'https://t.co/T7b7Qka6cE', 'entities': {'url': {'urls': [{'url': 'https://t.co/T7b7Qka6cE', 'expanded_url': 'https://youtube.com/channel/UC0kT7znNEQsP3iqAUxrmmfQ', 'display_url': 'youtube.com/channel/UC0kT7…', 'indices': [0, 23]}]}, 'description': {'urls': []}}, 'protected': False, 'followers_count': 562, 'friends_count': 1017, 'listed_count': 0, 'created_at': 'Fri Apr 03 06:39:09 +0000 2015', 'favourites_count': 782, 'utc_offset': None, 'time_zone': None, 'geo_enabled': False, 'verified': False, 'statuses_count': 3632, 'lang': None, 'contributors_enabled': False, 'is_translator': False, 'is_translation_enabled': False, 'profile_background_color': 'C0DEED', 'profile_background_image_url': 'http://abs.twimg.com/images/themes/theme1/bg.png', 'profile_background_image_url_https': 'https://abs.twimg.com/images/themes/theme1/bg.png', 'profile_background_tile': False, 'profile_image_url': 'http://pbs.twimg.com/profile_images/1157647341748228096/rRu2npbG_normal.jpg', 'profile_image_url_https': 'https://pbs.twimg.com/profile_images/1157647341748228096/rRu2npbG_normal.jpg', 'profile_banner_url': 'https://pbs.twimg.com/profile_banners/3134349660/1564839829', 'profile_link_color': '1DA1F2', 'profile_sidebar_border_color': 'C0DEED', 'profile_sidebar_fill_color': 'DDEEF6', 'profile_text_color': '333333', 'profile_use_background_image': True, 'has_extended_profile': True, 'default_profile': True, 'default_profile_image': False, 'following': False, 'follow_request_sent': False, 'notifications': False, 'translator_type': 'none', 'withheld_in_countries': []}, 'geo': None, 'coordinates': None, 'place': None, 'contributors': None, 'is_quote_status': False, 'retweet_count': 0, 'favorite_count': 0, 'favorited': False, 'retweeted': False, 'lang': 'en'}, created_at=datetime.datetime(2021, 6, 3, 6, 14, 56), id=1400335171497336832, id_str='1400335171497336832', full_text='The democratic forces should register their voice since it is the question of justice and rule of law. I therefore call upon my fellow friends to request the Government of tamilnadu / prison authorities to release the 49 muslim prisoners who spent more than ten years in jail', truncated=False, display_text_range=[0, 275], entities={'hashtags': [], 'symbols': [], 'user_mentions': [], 'urls': []}, metadata={'iso_language_code': 'en', 'result_type': 'recent'}, source='Twitter for Android', source_url='http://twitter.com/download/android', in_reply_to_status_id=None, in_reply_to_status_id_str=None, in_reply_to_user_id=None, in_reply_to_user_id_str=None, in_reply_to_screen_name=None, author=User(_api=<tweepy.api.API object at 0x7f9501ce1e10>, _json={'id': 3134349660, 'id_str': '3134349660', 'name': 'Keeranur Shanavas', 'screen_name': 'shanawaa', 'location': 'India', 'description': 'MediaVoiceTamil Anchor,\\nQ7 news Reporter📚🖋🎶💪🏻\\n\\nமக்கள் ஊடகன்\\nமீம்ஸ் ஆக்கம்,\\n📷பிரியன்😍!', 'url': 'https://t.co/T7b7Qka6cE', 'entities': {'url': {'urls': [{'url': 'https://t.co/T7b7Qka6cE', 'expanded_url': 'https://youtube.com/channel/UC0kT7znNEQsP3iqAUxrmmfQ', 'display_url': 'youtube.com/channel/UC0kT7…', 'indices': [0, 23]}]}, 'description': {'urls': []}}, 'protected': False, 'followers_count': 562, 'friends_count': 1017, 'listed_count': 0, 'created_at': 'Fri Apr 03 06:39:09 +0000 2015', 'favourites_count': 782, 'utc_offset': None, 'time_zone': None, 'geo_enabled': False, 'verified': False, 'statuses_count': 3632, 'lang': None, 'contributors_enabled': False, 'is_translator': False, 'is_translation_enabled': False, 'profile_background_color': 'C0DEED', 'profile_background_image_url': 'http://abs.twimg.com/images/themes/theme1/bg.png', 'profile_background_image_url_https': 'https://abs.twimg.com/images/themes/theme1/bg.png', 'profile_background_tile': False, 'profile_image_url': 'http://pbs.twimg.com/profile_images/1157647341748228096/rRu2npbG_normal.jpg', 'profile_image_url_https': 'https://pbs.twimg.com/profile_images/1157647341748228096/rRu2npbG_normal.jpg', 'profile_banner_url': 'https://pbs.twimg.com/profile_banners/3134349660/1564839829', 'profile_link_color': '1DA1F2', 'profile_sidebar_border_color': 'C0DEED', 'profile_sidebar_fill_color': 'DDEEF6', 'profile_text_color': '333333', 'profile_use_background_image': True, 'has_extended_profile': True, 'default_profile': True, 'default_profile_image': False, 'following': False, 'follow_request_sent': False, 'notifications': False, 'translator_type': 'none', 'withheld_in_countries': []}, id=3134349660, id_str='3134349660', name='Keeranur Shanavas', screen_name='shanawaa', location='India', description='MediaVoiceTamil Anchor,\\nQ7 news Reporter📚🖋🎶💪🏻\\n\\nமக்கள் ஊடகன்\\nமீம்ஸ் ஆக்கம்,\\n📷பிரியன்😍!', url='https://t.co/T7b7Qka6cE', entities={'url': {'urls': [{'url': 'https://t.co/T7b7Qka6cE', 'expanded_url': 'https://youtube.com/channel/UC0kT7znNEQsP3iqAUxrmmfQ', 'display_url': 'youtube.com/channel/UC0kT7…', 'indices': [0, 23]}]}, 'description': {'urls': []}}, protected=False, followers_count=562, friends_count=1017, listed_count=0, created_at=datetime.datetime(2015, 4, 3, 6, 39, 9), favourites_count=782, utc_offset=None, time_zone=None, geo_enabled=False, verified=False, statuses_count=3632, lang=None, contributors_enabled=False, is_translator=False, is_translation_enabled=False, profile_background_color='C0DEED', profile_background_image_url='http://abs.twimg.com/images/themes/theme1/bg.png', profile_background_image_url_https='https://abs.twimg.com/images/themes/theme1/bg.png', profile_background_tile=False, profile_image_url='http://pbs.twimg.com/profile_images/1157647341748228096/rRu2npbG_normal.jpg', profile_image_url_https='https://pbs.twimg.com/profile_images/1157647341748228096/rRu2npbG_normal.jpg', profile_banner_url='https://pbs.twimg.com/profile_banners/3134349660/1564839829', profile_link_color='1DA1F2', profile_sidebar_border_color='C0DEED', profile_sidebar_fill_color='DDEEF6', profile_text_color='333333', profile_use_background_image=True, has_extended_profile=True, default_profile=True, default_profile_image=False, following=False, follow_request_sent=False, notifications=False, translator_type='none', withheld_in_countries=[]), user=User(_api=<tweepy.api.API object at 0x7f9501ce1e10>, _json={'id': 3134349660, 'id_str': '3134349660', 'name': 'Keeranur Shanavas', 'screen_name': 'shanawaa', 'location': 'India', 'description': 'MediaVoiceTamil Anchor,\\nQ7 news Reporter📚🖋🎶💪🏻\\n\\nமக்கள் ஊடகன்\\nமீம்ஸ் ஆக்கம்,\\n📷பிரியன்😍!', 'url': 'https://t.co/T7b7Qka6cE', 'entities': {'url': {'urls': [{'url': 'https://t.co/T7b7Qka6cE', 'expanded_url': 'https://youtube.com/channel/UC0kT7znNEQsP3iqAUxrmmfQ', 'display_url': 'youtube.com/channel/UC0kT7…', 'indices': [0, 23]}]}, 'description': {'urls': []}}, 'protected': False, 'followers_count': 562, 'friends_count': 1017, 'listed_count': 0, 'created_at': 'Fri Apr 03 06:39:09 +0000 2015', 'favourites_count': 782, 'utc_offset': None, 'time_zone': None, 'geo_enabled': False, 'verified': False, 'statuses_count': 3632, 'lang': None, 'contributors_enabled': False, 'is_translator': False, 'is_translation_enabled': False, 'profile_background_color': 'C0DEED', 'profile_background_image_url': 'http://abs.twimg.com/images/themes/theme1/bg.png', 'profile_background_image_url_https': 'https://abs.twimg.com/images/themes/theme1/bg.png', 'profile_background_tile': False, 'profile_image_url': 'http://pbs.twimg.com/profile_images/1157647341748228096/rRu2npbG_normal.jpg', 'profile_image_url_https': 'https://pbs.twimg.com/profile_images/1157647341748228096/rRu2npbG_normal.jpg', 'profile_banner_url': 'https://pbs.twimg.com/profile_banners/3134349660/1564839829', 'profile_link_color': '1DA1F2', 'profile_sidebar_border_color': 'C0DEED', 'profile_sidebar_fill_color': 'DDEEF6', 'profile_text_color': '333333', 'profile_use_background_image': True, 'has_extended_profile': True, 'default_profile': True, 'default_profile_image': False, 'following': False, 'follow_request_sent': False, 'notifications': False, 'translator_type': 'none', 'withheld_in_countries': []}, id=3134349660, id_str='3134349660', name='Keeranur Shanavas', screen_name='shanawaa', location='India', description='MediaVoiceTamil Anchor,\\nQ7 news Reporter📚🖋🎶💪🏻\\n\\nமக்கள் ஊடகன்\\nமீம்ஸ் ஆக்கம்,\\n📷பிரியன்😍!', url='https://t.co/T7b7Qka6cE', entities={'url': {'urls': [{'url': 'https://t.co/T7b7Qka6cE', 'expanded_url': 'https://youtube.com/channel/UC0kT7znNEQsP3iqAUxrmmfQ', 'display_url': 'youtube.com/channel/UC0kT7…', 'indices': [0, 23]}]}, 'description': {'urls': []}}, protected=False, followers_count=562, friends_count=1017, listed_count=0, created_at=datetime.datetime(2015, 4, 3, 6, 39, 9), favourites_count=782, utc_offset=None, time_zone=None, geo_enabled=False, verified=False, statuses_count=3632, lang=None, contributors_enabled=False, is_translator=False, is_translation_enabled=False, profile_background_color='C0DEED', profile_background_image_url='http://abs.twimg.com/images/themes/theme1/bg.png', profile_background_image_url_https='https://abs.twimg.com/images/themes/theme1/bg.png', profile_background_tile=False, profile_image_url='http://pbs.twimg.com/profile_images/1157647341748228096/rRu2npbG_normal.jpg', profile_image_url_https='https://pbs.twimg.com/profile_images/1157647341748228096/rRu2npbG_normal.jpg', profile_banner_url='https://pbs.twimg.com/profile_banners/3134349660/1564839829', profile_link_color='1DA1F2', profile_sidebar_border_color='C0DEED', profile_sidebar_fill_color='DDEEF6', profile_text_color='333333', profile_use_background_image=True, has_extended_profile=True, default_profile=True, default_profile_image=False, following=False, follow_request_sent=False, notifications=False, translator_type='none', withheld_in_countries=[]), geo=None, coordinates=None, place=None, contributors=None, is_quote_status=False, retweet_count=0, favorite_count=0, favorited=False, retweeted=False, lang='en') \n",
            "\n",
            ".....................................\n",
            "\n",
            "Status(_api=<tweepy.api.API object at 0x7f9501ce1e10>, _json={'created_at': 'Thu Jun 03 06:14:46 +0000 2021', 'id': 1400335129055154182, 'id_str': '1400335129055154182', 'full_text': 'The democratic forces should register their voice since it is the question of justice and rule of law. I therefore call upon my fellow friends to request the Government of tamilnadu / prison authorities to release the 49 muslim prisoners who spent more than ten years in', 'truncated': False, 'display_text_range': [0, 270], 'entities': {'hashtags': [], 'symbols': [], 'user_mentions': [], 'urls': []}, 'metadata': {'iso_language_code': 'en', 'result_type': 'recent'}, 'source': '<a href=\"http://twitter.com/download/android\" rel=\"nofollow\">Twitter for Android</a>', 'in_reply_to_status_id': None, 'in_reply_to_status_id_str': None, 'in_reply_to_user_id': None, 'in_reply_to_user_id_str': None, 'in_reply_to_screen_name': None, 'user': {'id': 3134349660, 'id_str': '3134349660', 'name': 'Keeranur Shanavas', 'screen_name': 'shanawaa', 'location': 'India', 'description': 'MediaVoiceTamil Anchor,\\nQ7 news Reporter📚🖋🎶💪🏻\\n\\nமக்கள் ஊடகன்\\nமீம்ஸ் ஆக்கம்,\\n📷பிரியன்😍!', 'url': 'https://t.co/T7b7Qka6cE', 'entities': {'url': {'urls': [{'url': 'https://t.co/T7b7Qka6cE', 'expanded_url': 'https://youtube.com/channel/UC0kT7znNEQsP3iqAUxrmmfQ', 'display_url': 'youtube.com/channel/UC0kT7…', 'indices': [0, 23]}]}, 'description': {'urls': []}}, 'protected': False, 'followers_count': 562, 'friends_count': 1017, 'listed_count': 0, 'created_at': 'Fri Apr 03 06:39:09 +0000 2015', 'favourites_count': 782, 'utc_offset': None, 'time_zone': None, 'geo_enabled': False, 'verified': False, 'statuses_count': 3632, 'lang': None, 'contributors_enabled': False, 'is_translator': False, 'is_translation_enabled': False, 'profile_background_color': 'C0DEED', 'profile_background_image_url': 'http://abs.twimg.com/images/themes/theme1/bg.png', 'profile_background_image_url_https': 'https://abs.twimg.com/images/themes/theme1/bg.png', 'profile_background_tile': False, 'profile_image_url': 'http://pbs.twimg.com/profile_images/1157647341748228096/rRu2npbG_normal.jpg', 'profile_image_url_https': 'https://pbs.twimg.com/profile_images/1157647341748228096/rRu2npbG_normal.jpg', 'profile_banner_url': 'https://pbs.twimg.com/profile_banners/3134349660/1564839829', 'profile_link_color': '1DA1F2', 'profile_sidebar_border_color': 'C0DEED', 'profile_sidebar_fill_color': 'DDEEF6', 'profile_text_color': '333333', 'profile_use_background_image': True, 'has_extended_profile': True, 'default_profile': True, 'default_profile_image': False, 'following': False, 'follow_request_sent': False, 'notifications': False, 'translator_type': 'none', 'withheld_in_countries': []}, 'geo': None, 'coordinates': None, 'place': None, 'contributors': None, 'is_quote_status': False, 'retweet_count': 0, 'favorite_count': 0, 'favorited': False, 'retweeted': False, 'lang': 'en'}, created_at=datetime.datetime(2021, 6, 3, 6, 14, 46), id=1400335129055154182, id_str='1400335129055154182', full_text='The democratic forces should register their voice since it is the question of justice and rule of law. I therefore call upon my fellow friends to request the Government of tamilnadu / prison authorities to release the 49 muslim prisoners who spent more than ten years in', truncated=False, display_text_range=[0, 270], entities={'hashtags': [], 'symbols': [], 'user_mentions': [], 'urls': []}, metadata={'iso_language_code': 'en', 'result_type': 'recent'}, source='Twitter for Android', source_url='http://twitter.com/download/android', in_reply_to_status_id=None, in_reply_to_status_id_str=None, in_reply_to_user_id=None, in_reply_to_user_id_str=None, in_reply_to_screen_name=None, author=User(_api=<tweepy.api.API object at 0x7f9501ce1e10>, _json={'id': 3134349660, 'id_str': '3134349660', 'name': 'Keeranur Shanavas', 'screen_name': 'shanawaa', 'location': 'India', 'description': 'MediaVoiceTamil Anchor,\\nQ7 news Reporter📚🖋🎶💪🏻\\n\\nமக்கள் ஊடகன்\\nமீம்ஸ் ஆக்கம்,\\n📷பிரியன்😍!', 'url': 'https://t.co/T7b7Qka6cE', 'entities': {'url': {'urls': [{'url': 'https://t.co/T7b7Qka6cE', 'expanded_url': 'https://youtube.com/channel/UC0kT7znNEQsP3iqAUxrmmfQ', 'display_url': 'youtube.com/channel/UC0kT7…', 'indices': [0, 23]}]}, 'description': {'urls': []}}, 'protected': False, 'followers_count': 562, 'friends_count': 1017, 'listed_count': 0, 'created_at': 'Fri Apr 03 06:39:09 +0000 2015', 'favourites_count': 782, 'utc_offset': None, 'time_zone': None, 'geo_enabled': False, 'verified': False, 'statuses_count': 3632, 'lang': None, 'contributors_enabled': False, 'is_translator': False, 'is_translation_enabled': False, 'profile_background_color': 'C0DEED', 'profile_background_image_url': 'http://abs.twimg.com/images/themes/theme1/bg.png', 'profile_background_image_url_https': 'https://abs.twimg.com/images/themes/theme1/bg.png', 'profile_background_tile': False, 'profile_image_url': 'http://pbs.twimg.com/profile_images/1157647341748228096/rRu2npbG_normal.jpg', 'profile_image_url_https': 'https://pbs.twimg.com/profile_images/1157647341748228096/rRu2npbG_normal.jpg', 'profile_banner_url': 'https://pbs.twimg.com/profile_banners/3134349660/1564839829', 'profile_link_color': '1DA1F2', 'profile_sidebar_border_color': 'C0DEED', 'profile_sidebar_fill_color': 'DDEEF6', 'profile_text_color': '333333', 'profile_use_background_image': True, 'has_extended_profile': True, 'default_profile': True, 'default_profile_image': False, 'following': False, 'follow_request_sent': False, 'notifications': False, 'translator_type': 'none', 'withheld_in_countries': []}, id=3134349660, id_str='3134349660', name='Keeranur Shanavas', screen_name='shanawaa', location='India', description='MediaVoiceTamil Anchor,\\nQ7 news Reporter📚🖋🎶💪🏻\\n\\nமக்கள் ஊடகன்\\nமீம்ஸ் ஆக்கம்,\\n📷பிரியன்😍!', url='https://t.co/T7b7Qka6cE', entities={'url': {'urls': [{'url': 'https://t.co/T7b7Qka6cE', 'expanded_url': 'https://youtube.com/channel/UC0kT7znNEQsP3iqAUxrmmfQ', 'display_url': 'youtube.com/channel/UC0kT7…', 'indices': [0, 23]}]}, 'description': {'urls': []}}, protected=False, followers_count=562, friends_count=1017, listed_count=0, created_at=datetime.datetime(2015, 4, 3, 6, 39, 9), favourites_count=782, utc_offset=None, time_zone=None, geo_enabled=False, verified=False, statuses_count=3632, lang=None, contributors_enabled=False, is_translator=False, is_translation_enabled=False, profile_background_color='C0DEED', profile_background_image_url='http://abs.twimg.com/images/themes/theme1/bg.png', profile_background_image_url_https='https://abs.twimg.com/images/themes/theme1/bg.png', profile_background_tile=False, profile_image_url='http://pbs.twimg.com/profile_images/1157647341748228096/rRu2npbG_normal.jpg', profile_image_url_https='https://pbs.twimg.com/profile_images/1157647341748228096/rRu2npbG_normal.jpg', profile_banner_url='https://pbs.twimg.com/profile_banners/3134349660/1564839829', profile_link_color='1DA1F2', profile_sidebar_border_color='C0DEED', profile_sidebar_fill_color='DDEEF6', profile_text_color='333333', profile_use_background_image=True, has_extended_profile=True, default_profile=True, default_profile_image=False, following=False, follow_request_sent=False, notifications=False, translator_type='none', withheld_in_countries=[]), user=User(_api=<tweepy.api.API object at 0x7f9501ce1e10>, _json={'id': 3134349660, 'id_str': '3134349660', 'name': 'Keeranur Shanavas', 'screen_name': 'shanawaa', 'location': 'India', 'description': 'MediaVoiceTamil Anchor,\\nQ7 news Reporter📚🖋🎶💪🏻\\n\\nமக்கள் ஊடகன்\\nமீம்ஸ் ஆக்கம்,\\n📷பிரியன்😍!', 'url': 'https://t.co/T7b7Qka6cE', 'entities': {'url': {'urls': [{'url': 'https://t.co/T7b7Qka6cE', 'expanded_url': 'https://youtube.com/channel/UC0kT7znNEQsP3iqAUxrmmfQ', 'display_url': 'youtube.com/channel/UC0kT7…', 'indices': [0, 23]}]}, 'description': {'urls': []}}, 'protected': False, 'followers_count': 562, 'friends_count': 1017, 'listed_count': 0, 'created_at': 'Fri Apr 03 06:39:09 +0000 2015', 'favourites_count': 782, 'utc_offset': None, 'time_zone': None, 'geo_enabled': False, 'verified': False, 'statuses_count': 3632, 'lang': None, 'contributors_enabled': False, 'is_translator': False, 'is_translation_enabled': False, 'profile_background_color': 'C0DEED', 'profile_background_image_url': 'http://abs.twimg.com/images/themes/theme1/bg.png', 'profile_background_image_url_https': 'https://abs.twimg.com/images/themes/theme1/bg.png', 'profile_background_tile': False, 'profile_image_url': 'http://pbs.twimg.com/profile_images/1157647341748228096/rRu2npbG_normal.jpg', 'profile_image_url_https': 'https://pbs.twimg.com/profile_images/1157647341748228096/rRu2npbG_normal.jpg', 'profile_banner_url': 'https://pbs.twimg.com/profile_banners/3134349660/1564839829', 'profile_link_color': '1DA1F2', 'profile_sidebar_border_color': 'C0DEED', 'profile_sidebar_fill_color': 'DDEEF6', 'profile_text_color': '333333', 'profile_use_background_image': True, 'has_extended_profile': True, 'default_profile': True, 'default_profile_image': False, 'following': False, 'follow_request_sent': False, 'notifications': False, 'translator_type': 'none', 'withheld_in_countries': []}, id=3134349660, id_str='3134349660', name='Keeranur Shanavas', screen_name='shanawaa', location='India', description='MediaVoiceTamil Anchor,\\nQ7 news Reporter📚🖋🎶💪🏻\\n\\nமக்கள் ஊடகன்\\nமீம்ஸ் ஆக்கம்,\\n📷பிரியன்😍!', url='https://t.co/T7b7Qka6cE', entities={'url': {'urls': [{'url': 'https://t.co/T7b7Qka6cE', 'expanded_url': 'https://youtube.com/channel/UC0kT7znNEQsP3iqAUxrmmfQ', 'display_url': 'youtube.com/channel/UC0kT7…', 'indices': [0, 23]}]}, 'description': {'urls': []}}, protected=False, followers_count=562, friends_count=1017, listed_count=0, created_at=datetime.datetime(2015, 4, 3, 6, 39, 9), favourites_count=782, utc_offset=None, time_zone=None, geo_enabled=False, verified=False, statuses_count=3632, lang=None, contributors_enabled=False, is_translator=False, is_translation_enabled=False, profile_background_color='C0DEED', profile_background_image_url='http://abs.twimg.com/images/themes/theme1/bg.png', profile_background_image_url_https='https://abs.twimg.com/images/themes/theme1/bg.png', profile_background_tile=False, profile_image_url='http://pbs.twimg.com/profile_images/1157647341748228096/rRu2npbG_normal.jpg', profile_image_url_https='https://pbs.twimg.com/profile_images/1157647341748228096/rRu2npbG_normal.jpg', profile_banner_url='https://pbs.twimg.com/profile_banners/3134349660/1564839829', profile_link_color='1DA1F2', profile_sidebar_border_color='C0DEED', profile_sidebar_fill_color='DDEEF6', profile_text_color='333333', profile_use_background_image=True, has_extended_profile=True, default_profile=True, default_profile_image=False, following=False, follow_request_sent=False, notifications=False, translator_type='none', withheld_in_countries=[]), geo=None, coordinates=None, place=None, contributors=None, is_quote_status=False, retweet_count=0, favorite_count=0, favorited=False, retweeted=False, lang='en') \n",
            "\n",
            ".....................................\n",
            "\n",
            "Status(_api=<tweepy.api.API object at 0x7f9501ce1e10>, _json={'created_at': 'Thu Jun 03 06:11:54 +0000 2021', 'id': 1400334407626539011, 'id_str': '1400334407626539011', 'full_text': '@TeelaResists He touched the world’s most admired system of government- our democratic form of government is now on a ventilator.', 'truncated': False, 'display_text_range': [14, 129], 'entities': {'hashtags': [], 'symbols': [], 'user_mentions': [{'screen_name': 'TeelaResists', 'name': \"i'm a 👉🏽 Bʅυҽ Wαʋҽ (commenting)\", 'id': 854320967648260098, 'id_str': '854320967648260098', 'indices': [0, 13]}], 'urls': []}, 'metadata': {'iso_language_code': 'en', 'result_type': 'recent'}, 'source': '<a href=\"http://twitter.com/download/iphone\" rel=\"nofollow\">Twitter for iPhone</a>', 'in_reply_to_status_id': 1400136348737146883, 'in_reply_to_status_id_str': '1400136348737146883', 'in_reply_to_user_id': 854320967648260098, 'in_reply_to_user_id_str': '854320967648260098', 'in_reply_to_screen_name': 'TeelaResists', 'user': {'id': 57216159, 'id_str': '57216159', 'name': 'dani cole', 'screen_name': 'Egggzit', 'location': '', 'description': '', 'url': None, 'entities': {'description': {'urls': []}}, 'protected': False, 'followers_count': 82, 'friends_count': 355, 'listed_count': 1, 'created_at': 'Thu Jul 16 02:28:22 +0000 2009', 'favourites_count': 814, 'utc_offset': None, 'time_zone': None, 'geo_enabled': False, 'verified': False, 'statuses_count': 5177, 'lang': None, 'contributors_enabled': False, 'is_translator': False, 'is_translation_enabled': False, 'profile_background_color': 'C0DEED', 'profile_background_image_url': 'http://abs.twimg.com/images/themes/theme1/bg.png', 'profile_background_image_url_https': 'https://abs.twimg.com/images/themes/theme1/bg.png', 'profile_background_tile': False, 'profile_image_url': 'http://pbs.twimg.com/profile_images/572856426512683008/ARU4slwk_normal.jpeg', 'profile_image_url_https': 'https://pbs.twimg.com/profile_images/572856426512683008/ARU4slwk_normal.jpeg', 'profile_banner_url': 'https://pbs.twimg.com/profile_banners/57216159/1530630765', 'profile_link_color': '1DA1F2', 'profile_sidebar_border_color': 'C0DEED', 'profile_sidebar_fill_color': 'DDEEF6', 'profile_text_color': '333333', 'profile_use_background_image': True, 'has_extended_profile': False, 'default_profile': True, 'default_profile_image': False, 'following': False, 'follow_request_sent': False, 'notifications': False, 'translator_type': 'none', 'withheld_in_countries': []}, 'geo': None, 'coordinates': None, 'place': None, 'contributors': None, 'is_quote_status': False, 'retweet_count': 0, 'favorite_count': 0, 'favorited': False, 'retweeted': False, 'lang': 'en'}, created_at=datetime.datetime(2021, 6, 3, 6, 11, 54), id=1400334407626539011, id_str='1400334407626539011', full_text='@TeelaResists He touched the world’s most admired system of government- our democratic form of government is now on a ventilator.', truncated=False, display_text_range=[14, 129], entities={'hashtags': [], 'symbols': [], 'user_mentions': [{'screen_name': 'TeelaResists', 'name': \"i'm a 👉🏽 Bʅυҽ Wαʋҽ (commenting)\", 'id': 854320967648260098, 'id_str': '854320967648260098', 'indices': [0, 13]}], 'urls': []}, metadata={'iso_language_code': 'en', 'result_type': 'recent'}, source='Twitter for iPhone', source_url='http://twitter.com/download/iphone', in_reply_to_status_id=1400136348737146883, in_reply_to_status_id_str='1400136348737146883', in_reply_to_user_id=854320967648260098, in_reply_to_user_id_str='854320967648260098', in_reply_to_screen_name='TeelaResists', author=User(_api=<tweepy.api.API object at 0x7f9501ce1e10>, _json={'id': 57216159, 'id_str': '57216159', 'name': 'dani cole', 'screen_name': 'Egggzit', 'location': '', 'description': '', 'url': None, 'entities': {'description': {'urls': []}}, 'protected': False, 'followers_count': 82, 'friends_count': 355, 'listed_count': 1, 'created_at': 'Thu Jul 16 02:28:22 +0000 2009', 'favourites_count': 814, 'utc_offset': None, 'time_zone': None, 'geo_enabled': False, 'verified': False, 'statuses_count': 5177, 'lang': None, 'contributors_enabled': False, 'is_translator': False, 'is_translation_enabled': False, 'profile_background_color': 'C0DEED', 'profile_background_image_url': 'http://abs.twimg.com/images/themes/theme1/bg.png', 'profile_background_image_url_https': 'https://abs.twimg.com/images/themes/theme1/bg.png', 'profile_background_tile': False, 'profile_image_url': 'http://pbs.twimg.com/profile_images/572856426512683008/ARU4slwk_normal.jpeg', 'profile_image_url_https': 'https://pbs.twimg.com/profile_images/572856426512683008/ARU4slwk_normal.jpeg', 'profile_banner_url': 'https://pbs.twimg.com/profile_banners/57216159/1530630765', 'profile_link_color': '1DA1F2', 'profile_sidebar_border_color': 'C0DEED', 'profile_sidebar_fill_color': 'DDEEF6', 'profile_text_color': '333333', 'profile_use_background_image': True, 'has_extended_profile': False, 'default_profile': True, 'default_profile_image': False, 'following': False, 'follow_request_sent': False, 'notifications': False, 'translator_type': 'none', 'withheld_in_countries': []}, id=57216159, id_str='57216159', name='dani cole', screen_name='Egggzit', location='', description='', url=None, entities={'description': {'urls': []}}, protected=False, followers_count=82, friends_count=355, listed_count=1, created_at=datetime.datetime(2009, 7, 16, 2, 28, 22), favourites_count=814, utc_offset=None, time_zone=None, geo_enabled=False, verified=False, statuses_count=5177, lang=None, contributors_enabled=False, is_translator=False, is_translation_enabled=False, profile_background_color='C0DEED', profile_background_image_url='http://abs.twimg.com/images/themes/theme1/bg.png', profile_background_image_url_https='https://abs.twimg.com/images/themes/theme1/bg.png', profile_background_tile=False, profile_image_url='http://pbs.twimg.com/profile_images/572856426512683008/ARU4slwk_normal.jpeg', profile_image_url_https='https://pbs.twimg.com/profile_images/572856426512683008/ARU4slwk_normal.jpeg', profile_banner_url='https://pbs.twimg.com/profile_banners/57216159/1530630765', profile_link_color='1DA1F2', profile_sidebar_border_color='C0DEED', profile_sidebar_fill_color='DDEEF6', profile_text_color='333333', profile_use_background_image=True, has_extended_profile=False, default_profile=True, default_profile_image=False, following=False, follow_request_sent=False, notifications=False, translator_type='none', withheld_in_countries=[]), user=User(_api=<tweepy.api.API object at 0x7f9501ce1e10>, _json={'id': 57216159, 'id_str': '57216159', 'name': 'dani cole', 'screen_name': 'Egggzit', 'location': '', 'description': '', 'url': None, 'entities': {'description': {'urls': []}}, 'protected': False, 'followers_count': 82, 'friends_count': 355, 'listed_count': 1, 'created_at': 'Thu Jul 16 02:28:22 +0000 2009', 'favourites_count': 814, 'utc_offset': None, 'time_zone': None, 'geo_enabled': False, 'verified': False, 'statuses_count': 5177, 'lang': None, 'contributors_enabled': False, 'is_translator': False, 'is_translation_enabled': False, 'profile_background_color': 'C0DEED', 'profile_background_image_url': 'http://abs.twimg.com/images/themes/theme1/bg.png', 'profile_background_image_url_https': 'https://abs.twimg.com/images/themes/theme1/bg.png', 'profile_background_tile': False, 'profile_image_url': 'http://pbs.twimg.com/profile_images/572856426512683008/ARU4slwk_normal.jpeg', 'profile_image_url_https': 'https://pbs.twimg.com/profile_images/572856426512683008/ARU4slwk_normal.jpeg', 'profile_banner_url': 'https://pbs.twimg.com/profile_banners/57216159/1530630765', 'profile_link_color': '1DA1F2', 'profile_sidebar_border_color': 'C0DEED', 'profile_sidebar_fill_color': 'DDEEF6', 'profile_text_color': '333333', 'profile_use_background_image': True, 'has_extended_profile': False, 'default_profile': True, 'default_profile_image': False, 'following': False, 'follow_request_sent': False, 'notifications': False, 'translator_type': 'none', 'withheld_in_countries': []}, id=57216159, id_str='57216159', name='dani cole', screen_name='Egggzit', location='', description='', url=None, entities={'description': {'urls': []}}, protected=False, followers_count=82, friends_count=355, listed_count=1, created_at=datetime.datetime(2009, 7, 16, 2, 28, 22), favourites_count=814, utc_offset=None, time_zone=None, geo_enabled=False, verified=False, statuses_count=5177, lang=None, contributors_enabled=False, is_translator=False, is_translation_enabled=False, profile_background_color='C0DEED', profile_background_image_url='http://abs.twimg.com/images/themes/theme1/bg.png', profile_background_image_url_https='https://abs.twimg.com/images/themes/theme1/bg.png', profile_background_tile=False, profile_image_url='http://pbs.twimg.com/profile_images/572856426512683008/ARU4slwk_normal.jpeg', profile_image_url_https='https://pbs.twimg.com/profile_images/572856426512683008/ARU4slwk_normal.jpeg', profile_banner_url='https://pbs.twimg.com/profile_banners/57216159/1530630765', profile_link_color='1DA1F2', profile_sidebar_border_color='C0DEED', profile_sidebar_fill_color='DDEEF6', profile_text_color='333333', profile_use_background_image=True, has_extended_profile=False, default_profile=True, default_profile_image=False, following=False, follow_request_sent=False, notifications=False, translator_type='none', withheld_in_countries=[]), geo=None, coordinates=None, place=None, contributors=None, is_quote_status=False, retweet_count=0, favorite_count=0, favorited=False, retweeted=False, lang='en') \n",
            "\n",
            ".....................................\n",
            "\n",
            "Status(_api=<tweepy.api.API object at 0x7f9501ce1e10>, _json={'created_at': 'Thu Jun 03 06:11:30 +0000 2021', 'id': 1400334308079017986, 'id_str': '1400334308079017986', 'full_text': \"@JMarsh_Madness @jordanbpeterson It already is...\\n\\nTake the CBC in Canada. It receives $1.1-billion in government funding every year toward its budget of $1.7-billion. Justin Trudeau couldn't as for more positive coverage. \\n\\nIn the US the Main Stream Media behaves as the media wing of the Democratic Party.\", 'truncated': False, 'display_text_range': [33, 307], 'entities': {'hashtags': [], 'symbols': [], 'user_mentions': [{'screen_name': 'JMarsh_Madness', 'name': 'Joel', 'id': 936687357998321665, 'id_str': '936687357998321665', 'indices': [0, 15]}, {'screen_name': 'jordanbpeterson', 'name': 'Dr Jordan B Peterson', 'id': 95092020, 'id_str': '95092020', 'indices': [16, 32]}], 'urls': []}, 'metadata': {'iso_language_code': 'en', 'result_type': 'recent'}, 'source': '<a href=\"https://mobile.twitter.com\" rel=\"nofollow\">Twitter Web App</a>', 'in_reply_to_status_id': 1400298623280107520, 'in_reply_to_status_id_str': '1400298623280107520', 'in_reply_to_user_id': 936687357998321665, 'in_reply_to_user_id_str': '936687357998321665', 'in_reply_to_screen_name': 'JMarsh_Madness', 'user': {'id': 230865948, 'id_str': '230865948', 'name': 'Yoav Levy', 'screen_name': 'yoavlevytam', 'location': '', 'description': 'On Tuesdays I gather Blue Bells for the sick and the needy and check the woods for injured wildlife', 'url': 'https://t.co/VUNhwDAM3K', 'entities': {'url': {'urls': [{'url': 'https://t.co/VUNhwDAM3K', 'expanded_url': 'http://www.DesireThis.com', 'display_url': 'DesireThis.com', 'indices': [0, 23]}]}, 'description': {'urls': []}}, 'protected': False, 'followers_count': 40, 'friends_count': 631, 'listed_count': 4, 'created_at': 'Sun Dec 26 23:04:27 +0000 2010', 'favourites_count': 24, 'utc_offset': None, 'time_zone': None, 'geo_enabled': False, 'verified': False, 'statuses_count': 931, 'lang': None, 'contributors_enabled': False, 'is_translator': False, 'is_translation_enabled': False, 'profile_background_color': 'C0DEED', 'profile_background_image_url': 'http://abs.twimg.com/images/themes/theme1/bg.png', 'profile_background_image_url_https': 'https://abs.twimg.com/images/themes/theme1/bg.png', 'profile_background_tile': False, 'profile_image_url': 'http://pbs.twimg.com/profile_images/1327783216305070082/jg0zE5-o_normal.jpg', 'profile_image_url_https': 'https://pbs.twimg.com/profile_images/1327783216305070082/jg0zE5-o_normal.jpg', 'profile_banner_url': 'https://pbs.twimg.com/profile_banners/230865948/1616609268', 'profile_link_color': '1DA1F2', 'profile_sidebar_border_color': 'C0DEED', 'profile_sidebar_fill_color': 'DDEEF6', 'profile_text_color': '333333', 'profile_use_background_image': True, 'has_extended_profile': False, 'default_profile': True, 'default_profile_image': False, 'following': False, 'follow_request_sent': False, 'notifications': False, 'translator_type': 'none', 'withheld_in_countries': []}, 'geo': None, 'coordinates': None, 'place': None, 'contributors': None, 'is_quote_status': False, 'retweet_count': 0, 'favorite_count': 0, 'favorited': False, 'retweeted': False, 'lang': 'en'}, created_at=datetime.datetime(2021, 6, 3, 6, 11, 30), id=1400334308079017986, id_str='1400334308079017986', full_text=\"@JMarsh_Madness @jordanbpeterson It already is...\\n\\nTake the CBC in Canada. It receives $1.1-billion in government funding every year toward its budget of $1.7-billion. Justin Trudeau couldn't as for more positive coverage. \\n\\nIn the US the Main Stream Media behaves as the media wing of the Democratic Party.\", truncated=False, display_text_range=[33, 307], entities={'hashtags': [], 'symbols': [], 'user_mentions': [{'screen_name': 'JMarsh_Madness', 'name': 'Joel', 'id': 936687357998321665, 'id_str': '936687357998321665', 'indices': [0, 15]}, {'screen_name': 'jordanbpeterson', 'name': 'Dr Jordan B Peterson', 'id': 95092020, 'id_str': '95092020', 'indices': [16, 32]}], 'urls': []}, metadata={'iso_language_code': 'en', 'result_type': 'recent'}, source='Twitter Web App', source_url='https://mobile.twitter.com', in_reply_to_status_id=1400298623280107520, in_reply_to_status_id_str='1400298623280107520', in_reply_to_user_id=936687357998321665, in_reply_to_user_id_str='936687357998321665', in_reply_to_screen_name='JMarsh_Madness', author=User(_api=<tweepy.api.API object at 0x7f9501ce1e10>, _json={'id': 230865948, 'id_str': '230865948', 'name': 'Yoav Levy', 'screen_name': 'yoavlevytam', 'location': '', 'description': 'On Tuesdays I gather Blue Bells for the sick and the needy and check the woods for injured wildlife', 'url': 'https://t.co/VUNhwDAM3K', 'entities': {'url': {'urls': [{'url': 'https://t.co/VUNhwDAM3K', 'expanded_url': 'http://www.DesireThis.com', 'display_url': 'DesireThis.com', 'indices': [0, 23]}]}, 'description': {'urls': []}}, 'protected': False, 'followers_count': 40, 'friends_count': 631, 'listed_count': 4, 'created_at': 'Sun Dec 26 23:04:27 +0000 2010', 'favourites_count': 24, 'utc_offset': None, 'time_zone': None, 'geo_enabled': False, 'verified': False, 'statuses_count': 931, 'lang': None, 'contributors_enabled': False, 'is_translator': False, 'is_translation_enabled': False, 'profile_background_color': 'C0DEED', 'profile_background_image_url': 'http://abs.twimg.com/images/themes/theme1/bg.png', 'profile_background_image_url_https': 'https://abs.twimg.com/images/themes/theme1/bg.png', 'profile_background_tile': False, 'profile_image_url': 'http://pbs.twimg.com/profile_images/1327783216305070082/jg0zE5-o_normal.jpg', 'profile_image_url_https': 'https://pbs.twimg.com/profile_images/1327783216305070082/jg0zE5-o_normal.jpg', 'profile_banner_url': 'https://pbs.twimg.com/profile_banners/230865948/1616609268', 'profile_link_color': '1DA1F2', 'profile_sidebar_border_color': 'C0DEED', 'profile_sidebar_fill_color': 'DDEEF6', 'profile_text_color': '333333', 'profile_use_background_image': True, 'has_extended_profile': False, 'default_profile': True, 'default_profile_image': False, 'following': False, 'follow_request_sent': False, 'notifications': False, 'translator_type': 'none', 'withheld_in_countries': []}, id=230865948, id_str='230865948', name='Yoav Levy', screen_name='yoavlevytam', location='', description='On Tuesdays I gather Blue Bells for the sick and the needy and check the woods for injured wildlife', url='https://t.co/VUNhwDAM3K', entities={'url': {'urls': [{'url': 'https://t.co/VUNhwDAM3K', 'expanded_url': 'http://www.DesireThis.com', 'display_url': 'DesireThis.com', 'indices': [0, 23]}]}, 'description': {'urls': []}}, protected=False, followers_count=40, friends_count=631, listed_count=4, created_at=datetime.datetime(2010, 12, 26, 23, 4, 27), favourites_count=24, utc_offset=None, time_zone=None, geo_enabled=False, verified=False, statuses_count=931, lang=None, contributors_enabled=False, is_translator=False, is_translation_enabled=False, profile_background_color='C0DEED', profile_background_image_url='http://abs.twimg.com/images/themes/theme1/bg.png', profile_background_image_url_https='https://abs.twimg.com/images/themes/theme1/bg.png', profile_background_tile=False, profile_image_url='http://pbs.twimg.com/profile_images/1327783216305070082/jg0zE5-o_normal.jpg', profile_image_url_https='https://pbs.twimg.com/profile_images/1327783216305070082/jg0zE5-o_normal.jpg', profile_banner_url='https://pbs.twimg.com/profile_banners/230865948/1616609268', profile_link_color='1DA1F2', profile_sidebar_border_color='C0DEED', profile_sidebar_fill_color='DDEEF6', profile_text_color='333333', profile_use_background_image=True, has_extended_profile=False, default_profile=True, default_profile_image=False, following=False, follow_request_sent=False, notifications=False, translator_type='none', withheld_in_countries=[]), user=User(_api=<tweepy.api.API object at 0x7f9501ce1e10>, _json={'id': 230865948, 'id_str': '230865948', 'name': 'Yoav Levy', 'screen_name': 'yoavlevytam', 'location': '', 'description': 'On Tuesdays I gather Blue Bells for the sick and the needy and check the woods for injured wildlife', 'url': 'https://t.co/VUNhwDAM3K', 'entities': {'url': {'urls': [{'url': 'https://t.co/VUNhwDAM3K', 'expanded_url': 'http://www.DesireThis.com', 'display_url': 'DesireThis.com', 'indices': [0, 23]}]}, 'description': {'urls': []}}, 'protected': False, 'followers_count': 40, 'friends_count': 631, 'listed_count': 4, 'created_at': 'Sun Dec 26 23:04:27 +0000 2010', 'favourites_count': 24, 'utc_offset': None, 'time_zone': None, 'geo_enabled': False, 'verified': False, 'statuses_count': 931, 'lang': None, 'contributors_enabled': False, 'is_translator': False, 'is_translation_enabled': False, 'profile_background_color': 'C0DEED', 'profile_background_image_url': 'http://abs.twimg.com/images/themes/theme1/bg.png', 'profile_background_image_url_https': 'https://abs.twimg.com/images/themes/theme1/bg.png', 'profile_background_tile': False, 'profile_image_url': 'http://pbs.twimg.com/profile_images/1327783216305070082/jg0zE5-o_normal.jpg', 'profile_image_url_https': 'https://pbs.twimg.com/profile_images/1327783216305070082/jg0zE5-o_normal.jpg', 'profile_banner_url': 'https://pbs.twimg.com/profile_banners/230865948/1616609268', 'profile_link_color': '1DA1F2', 'profile_sidebar_border_color': 'C0DEED', 'profile_sidebar_fill_color': 'DDEEF6', 'profile_text_color': '333333', 'profile_use_background_image': True, 'has_extended_profile': False, 'default_profile': True, 'default_profile_image': False, 'following': False, 'follow_request_sent': False, 'notifications': False, 'translator_type': 'none', 'withheld_in_countries': []}, id=230865948, id_str='230865948', name='Yoav Levy', screen_name='yoavlevytam', location='', description='On Tuesdays I gather Blue Bells for the sick and the needy and check the woods for injured wildlife', url='https://t.co/VUNhwDAM3K', entities={'url': {'urls': [{'url': 'https://t.co/VUNhwDAM3K', 'expanded_url': 'http://www.DesireThis.com', 'display_url': 'DesireThis.com', 'indices': [0, 23]}]}, 'description': {'urls': []}}, protected=False, followers_count=40, friends_count=631, listed_count=4, created_at=datetime.datetime(2010, 12, 26, 23, 4, 27), favourites_count=24, utc_offset=None, time_zone=None, geo_enabled=False, verified=False, statuses_count=931, lang=None, contributors_enabled=False, is_translator=False, is_translation_enabled=False, profile_background_color='C0DEED', profile_background_image_url='http://abs.twimg.com/images/themes/theme1/bg.png', profile_background_image_url_https='https://abs.twimg.com/images/themes/theme1/bg.png', profile_background_tile=False, profile_image_url='http://pbs.twimg.com/profile_images/1327783216305070082/jg0zE5-o_normal.jpg', profile_image_url_https='https://pbs.twimg.com/profile_images/1327783216305070082/jg0zE5-o_normal.jpg', profile_banner_url='https://pbs.twimg.com/profile_banners/230865948/1616609268', profile_link_color='1DA1F2', profile_sidebar_border_color='C0DEED', profile_sidebar_fill_color='DDEEF6', profile_text_color='333333', profile_use_background_image=True, has_extended_profile=False, default_profile=True, default_profile_image=False, following=False, follow_request_sent=False, notifications=False, translator_type='none', withheld_in_countries=[]), geo=None, coordinates=None, place=None, contributors=None, is_quote_status=False, retweet_count=0, favorite_count=0, favorited=False, retweeted=False, lang='en') \n",
            "\n",
            ".....................................\n",
            "\n",
            "Status(_api=<tweepy.api.API object at 0x7f9501ce1e10>, _json={'created_at': 'Thu Jun 03 06:08:30 +0000 2021', 'id': 1400333550591700993, 'id_str': '1400333550591700993', 'full_text': '@NoTyAnWi @TheOmniLiberal Ah yes, that “Alliance with Nazi Germany”\\n\\nthat only existed after we executed all the Nazis and replaced their government with an ostensibly democratic puppet state\\n\\nI swear to Christ, lefties need to read a fucking history book', 'truncated': False, 'display_text_range': [26, 255], 'entities': {'hashtags': [], 'symbols': [], 'user_mentions': [{'screen_name': 'NoTyAnWi', 'name': 'Nolan🌹🇵🇸', 'id': 3348428218, 'id_str': '3348428218', 'indices': [0, 9]}, {'screen_name': 'TheOmniLiberal', 'name': 'The Omni Liberal', 'id': 1356514488451817472, 'id_str': '1356514488451817472', 'indices': [10, 25]}], 'urls': []}, 'metadata': {'iso_language_code': 'en', 'result_type': 'recent'}, 'source': '<a href=\"http://twitter.com/download/iphone\" rel=\"nofollow\">Twitter for iPhone</a>', 'in_reply_to_status_id': 1400170989208604672, 'in_reply_to_status_id_str': '1400170989208604672', 'in_reply_to_user_id': 3348428218, 'in_reply_to_user_id_str': '3348428218', 'in_reply_to_screen_name': 'NoTyAnWi', 'user': {'id': 1311887577314545667, 'id_str': '1311887577314545667', 'name': 'Vaalic01', 'screen_name': 'vaalic01', 'location': '', 'description': '', 'url': None, 'entities': {'description': {'urls': []}}, 'protected': False, 'followers_count': 1, 'friends_count': 21, 'listed_count': 0, 'created_at': 'Fri Oct 02 04:35:54 +0000 2020', 'favourites_count': 2418, 'utc_offset': None, 'time_zone': None, 'geo_enabled': False, 'verified': False, 'statuses_count': 24, 'lang': None, 'contributors_enabled': False, 'is_translator': False, 'is_translation_enabled': False, 'profile_background_color': 'F5F8FA', 'profile_background_image_url': None, 'profile_background_image_url_https': None, 'profile_background_tile': False, 'profile_image_url': 'http://pbs.twimg.com/profile_images/1341109144242237448/mC23tfut_normal.jpg', 'profile_image_url_https': 'https://pbs.twimg.com/profile_images/1341109144242237448/mC23tfut_normal.jpg', 'profile_link_color': '1DA1F2', 'profile_sidebar_border_color': 'C0DEED', 'profile_sidebar_fill_color': 'DDEEF6', 'profile_text_color': '333333', 'profile_use_background_image': True, 'has_extended_profile': True, 'default_profile': True, 'default_profile_image': False, 'following': False, 'follow_request_sent': False, 'notifications': False, 'translator_type': 'none', 'withheld_in_countries': []}, 'geo': None, 'coordinates': None, 'place': None, 'contributors': None, 'is_quote_status': False, 'retweet_count': 0, 'favorite_count': 0, 'favorited': False, 'retweeted': False, 'lang': 'en'}, created_at=datetime.datetime(2021, 6, 3, 6, 8, 30), id=1400333550591700993, id_str='1400333550591700993', full_text='@NoTyAnWi @TheOmniLiberal Ah yes, that “Alliance with Nazi Germany”\\n\\nthat only existed after we executed all the Nazis and replaced their government with an ostensibly democratic puppet state\\n\\nI swear to Christ, lefties need to read a fucking history book', truncated=False, display_text_range=[26, 255], entities={'hashtags': [], 'symbols': [], 'user_mentions': [{'screen_name': 'NoTyAnWi', 'name': 'Nolan🌹🇵🇸', 'id': 3348428218, 'id_str': '3348428218', 'indices': [0, 9]}, {'screen_name': 'TheOmniLiberal', 'name': 'The Omni Liberal', 'id': 1356514488451817472, 'id_str': '1356514488451817472', 'indices': [10, 25]}], 'urls': []}, metadata={'iso_language_code': 'en', 'result_type': 'recent'}, source='Twitter for iPhone', source_url='http://twitter.com/download/iphone', in_reply_to_status_id=1400170989208604672, in_reply_to_status_id_str='1400170989208604672', in_reply_to_user_id=3348428218, in_reply_to_user_id_str='3348428218', in_reply_to_screen_name='NoTyAnWi', author=User(_api=<tweepy.api.API object at 0x7f9501ce1e10>, _json={'id': 1311887577314545667, 'id_str': '1311887577314545667', 'name': 'Vaalic01', 'screen_name': 'vaalic01', 'location': '', 'description': '', 'url': None, 'entities': {'description': {'urls': []}}, 'protected': False, 'followers_count': 1, 'friends_count': 21, 'listed_count': 0, 'created_at': 'Fri Oct 02 04:35:54 +0000 2020', 'favourites_count': 2418, 'utc_offset': None, 'time_zone': None, 'geo_enabled': False, 'verified': False, 'statuses_count': 24, 'lang': None, 'contributors_enabled': False, 'is_translator': False, 'is_translation_enabled': False, 'profile_background_color': 'F5F8FA', 'profile_background_image_url': None, 'profile_background_image_url_https': None, 'profile_background_tile': False, 'profile_image_url': 'http://pbs.twimg.com/profile_images/1341109144242237448/mC23tfut_normal.jpg', 'profile_image_url_https': 'https://pbs.twimg.com/profile_images/1341109144242237448/mC23tfut_normal.jpg', 'profile_link_color': '1DA1F2', 'profile_sidebar_border_color': 'C0DEED', 'profile_sidebar_fill_color': 'DDEEF6', 'profile_text_color': '333333', 'profile_use_background_image': True, 'has_extended_profile': True, 'default_profile': True, 'default_profile_image': False, 'following': False, 'follow_request_sent': False, 'notifications': False, 'translator_type': 'none', 'withheld_in_countries': []}, id=1311887577314545667, id_str='1311887577314545667', name='Vaalic01', screen_name='vaalic01', location='', description='', url=None, entities={'description': {'urls': []}}, protected=False, followers_count=1, friends_count=21, listed_count=0, created_at=datetime.datetime(2020, 10, 2, 4, 35, 54), favourites_count=2418, utc_offset=None, time_zone=None, geo_enabled=False, verified=False, statuses_count=24, lang=None, contributors_enabled=False, is_translator=False, is_translation_enabled=False, profile_background_color='F5F8FA', profile_background_image_url=None, profile_background_image_url_https=None, profile_background_tile=False, profile_image_url='http://pbs.twimg.com/profile_images/1341109144242237448/mC23tfut_normal.jpg', profile_image_url_https='https://pbs.twimg.com/profile_images/1341109144242237448/mC23tfut_normal.jpg', profile_link_color='1DA1F2', profile_sidebar_border_color='C0DEED', profile_sidebar_fill_color='DDEEF6', profile_text_color='333333', profile_use_background_image=True, has_extended_profile=True, default_profile=True, default_profile_image=False, following=False, follow_request_sent=False, notifications=False, translator_type='none', withheld_in_countries=[]), user=User(_api=<tweepy.api.API object at 0x7f9501ce1e10>, _json={'id': 1311887577314545667, 'id_str': '1311887577314545667', 'name': 'Vaalic01', 'screen_name': 'vaalic01', 'location': '', 'description': '', 'url': None, 'entities': {'description': {'urls': []}}, 'protected': False, 'followers_count': 1, 'friends_count': 21, 'listed_count': 0, 'created_at': 'Fri Oct 02 04:35:54 +0000 2020', 'favourites_count': 2418, 'utc_offset': None, 'time_zone': None, 'geo_enabled': False, 'verified': False, 'statuses_count': 24, 'lang': None, 'contributors_enabled': False, 'is_translator': False, 'is_translation_enabled': False, 'profile_background_color': 'F5F8FA', 'profile_background_image_url': None, 'profile_background_image_url_https': None, 'profile_background_tile': False, 'profile_image_url': 'http://pbs.twimg.com/profile_images/1341109144242237448/mC23tfut_normal.jpg', 'profile_image_url_https': 'https://pbs.twimg.com/profile_images/1341109144242237448/mC23tfut_normal.jpg', 'profile_link_color': '1DA1F2', 'profile_sidebar_border_color': 'C0DEED', 'profile_sidebar_fill_color': 'DDEEF6', 'profile_text_color': '333333', 'profile_use_background_image': True, 'has_extended_profile': True, 'default_profile': True, 'default_profile_image': False, 'following': False, 'follow_request_sent': False, 'notifications': False, 'translator_type': 'none', 'withheld_in_countries': []}, id=1311887577314545667, id_str='1311887577314545667', name='Vaalic01', screen_name='vaalic01', location='', description='', url=None, entities={'description': {'urls': []}}, protected=False, followers_count=1, friends_count=21, listed_count=0, created_at=datetime.datetime(2020, 10, 2, 4, 35, 54), favourites_count=2418, utc_offset=None, time_zone=None, geo_enabled=False, verified=False, statuses_count=24, lang=None, contributors_enabled=False, is_translator=False, is_translation_enabled=False, profile_background_color='F5F8FA', profile_background_image_url=None, profile_background_image_url_https=None, profile_background_tile=False, profile_image_url='http://pbs.twimg.com/profile_images/1341109144242237448/mC23tfut_normal.jpg', profile_image_url_https='https://pbs.twimg.com/profile_images/1341109144242237448/mC23tfut_normal.jpg', profile_link_color='1DA1F2', profile_sidebar_border_color='C0DEED', profile_sidebar_fill_color='DDEEF6', profile_text_color='333333', profile_use_background_image=True, has_extended_profile=True, default_profile=True, default_profile_image=False, following=False, follow_request_sent=False, notifications=False, translator_type='none', withheld_in_countries=[]), geo=None, coordinates=None, place=None, contributors=None, is_quote_status=False, retweet_count=0, favorite_count=0, favorited=False, retweeted=False, lang='en') \n",
            "\n",
            ".....................................\n",
            "\n",
            "Status(_api=<tweepy.api.API object at 0x7f9501ce1e10>, _json={'created_at': 'Thu Jun 03 06:08:02 +0000 2021', 'id': 1400333433449091072, 'id_str': '1400333433449091072', 'full_text': '\"Not entirely neoliberal,” SNP government is “not social democratic either\"— \\n\\nScottish think tank brands SNP’s flagship employment programme as\\xa0‘weak, limited and oversold’ https://t.co/RO3wCnPxMt', 'truncated': False, 'display_text_range': [0, 197], 'entities': {'hashtags': [], 'symbols': [], 'user_mentions': [], 'urls': [{'url': 'https://t.co/RO3wCnPxMt', 'expanded_url': 'https://morningstaronline.co.uk/article/b/snp-government-think-tank-fair-work#.YLhxKp3LVLM.twitter', 'display_url': 'morningstaronline.co.uk/article/b/snp-…', 'indices': [174, 197]}]}, 'metadata': {'iso_language_code': 'en', 'result_type': 'recent'}, 'source': '<a href=\"http://twitter.com/download/android\" rel=\"nofollow\">Twitter for Android</a>', 'in_reply_to_status_id': None, 'in_reply_to_status_id_str': None, 'in_reply_to_user_id': None, 'in_reply_to_user_id_str': None, 'in_reply_to_screen_name': None, 'user': {'id': 1032269494901723137, 'id_str': '1032269494901723137', 'name': 'McLaughlin', 'screen_name': 'JimMacLochlainn', 'location': 'Scotland', 'description': 'Retired NHS(RMN), Unite, Internationalism, Alba Party.', 'url': None, 'entities': {'description': {'urls': []}}, 'protected': False, 'followers_count': 599, 'friends_count': 928, 'listed_count': 1, 'created_at': 'Wed Aug 22 14:13:21 +0000 2018', 'favourites_count': 15100, 'utc_offset': None, 'time_zone': None, 'geo_enabled': False, 'verified': False, 'statuses_count': 9603, 'lang': None, 'contributors_enabled': False, 'is_translator': False, 'is_translation_enabled': False, 'profile_background_color': 'F5F8FA', 'profile_background_image_url': None, 'profile_background_image_url_https': None, 'profile_background_tile': False, 'profile_image_url': 'http://pbs.twimg.com/profile_images/1395517447868981258/sHzO_F9w_normal.jpg', 'profile_image_url_https': 'https://pbs.twimg.com/profile_images/1395517447868981258/sHzO_F9w_normal.jpg', 'profile_banner_url': 'https://pbs.twimg.com/profile_banners/1032269494901723137/1621552494', 'profile_link_color': '1DA1F2', 'profile_sidebar_border_color': 'C0DEED', 'profile_sidebar_fill_color': 'DDEEF6', 'profile_text_color': '333333', 'profile_use_background_image': True, 'has_extended_profile': False, 'default_profile': True, 'default_profile_image': False, 'following': False, 'follow_request_sent': False, 'notifications': False, 'translator_type': 'none', 'withheld_in_countries': []}, 'geo': None, 'coordinates': None, 'place': None, 'contributors': None, 'is_quote_status': False, 'retweet_count': 0, 'favorite_count': 0, 'favorited': False, 'retweeted': False, 'possibly_sensitive': False, 'lang': 'en'}, created_at=datetime.datetime(2021, 6, 3, 6, 8, 2), id=1400333433449091072, id_str='1400333433449091072', full_text='\"Not entirely neoliberal,” SNP government is “not social democratic either\"— \\n\\nScottish think tank brands SNP’s flagship employment programme as\\xa0‘weak, limited and oversold’ https://t.co/RO3wCnPxMt', truncated=False, display_text_range=[0, 197], entities={'hashtags': [], 'symbols': [], 'user_mentions': [], 'urls': [{'url': 'https://t.co/RO3wCnPxMt', 'expanded_url': 'https://morningstaronline.co.uk/article/b/snp-government-think-tank-fair-work#.YLhxKp3LVLM.twitter', 'display_url': 'morningstaronline.co.uk/article/b/snp-…', 'indices': [174, 197]}]}, metadata={'iso_language_code': 'en', 'result_type': 'recent'}, source='Twitter for Android', source_url='http://twitter.com/download/android', in_reply_to_status_id=None, in_reply_to_status_id_str=None, in_reply_to_user_id=None, in_reply_to_user_id_str=None, in_reply_to_screen_name=None, author=User(_api=<tweepy.api.API object at 0x7f9501ce1e10>, _json={'id': 1032269494901723137, 'id_str': '1032269494901723137', 'name': 'McLaughlin', 'screen_name': 'JimMacLochlainn', 'location': 'Scotland', 'description': 'Retired NHS(RMN), Unite, Internationalism, Alba Party.', 'url': None, 'entities': {'description': {'urls': []}}, 'protected': False, 'followers_count': 599, 'friends_count': 928, 'listed_count': 1, 'created_at': 'Wed Aug 22 14:13:21 +0000 2018', 'favourites_count': 15100, 'utc_offset': None, 'time_zone': None, 'geo_enabled': False, 'verified': False, 'statuses_count': 9603, 'lang': None, 'contributors_enabled': False, 'is_translator': False, 'is_translation_enabled': False, 'profile_background_color': 'F5F8FA', 'profile_background_image_url': None, 'profile_background_image_url_https': None, 'profile_background_tile': False, 'profile_image_url': 'http://pbs.twimg.com/profile_images/1395517447868981258/sHzO_F9w_normal.jpg', 'profile_image_url_https': 'https://pbs.twimg.com/profile_images/1395517447868981258/sHzO_F9w_normal.jpg', 'profile_banner_url': 'https://pbs.twimg.com/profile_banners/1032269494901723137/1621552494', 'profile_link_color': '1DA1F2', 'profile_sidebar_border_color': 'C0DEED', 'profile_sidebar_fill_color': 'DDEEF6', 'profile_text_color': '333333', 'profile_use_background_image': True, 'has_extended_profile': False, 'default_profile': True, 'default_profile_image': False, 'following': False, 'follow_request_sent': False, 'notifications': False, 'translator_type': 'none', 'withheld_in_countries': []}, id=1032269494901723137, id_str='1032269494901723137', name='McLaughlin', screen_name='JimMacLochlainn', location='Scotland', description='Retired NHS(RMN), Unite, Internationalism, Alba Party.', url=None, entities={'description': {'urls': []}}, protected=False, followers_count=599, friends_count=928, listed_count=1, created_at=datetime.datetime(2018, 8, 22, 14, 13, 21), favourites_count=15100, utc_offset=None, time_zone=None, geo_enabled=False, verified=False, statuses_count=9603, lang=None, contributors_enabled=False, is_translator=False, is_translation_enabled=False, profile_background_color='F5F8FA', profile_background_image_url=None, profile_background_image_url_https=None, profile_background_tile=False, profile_image_url='http://pbs.twimg.com/profile_images/1395517447868981258/sHzO_F9w_normal.jpg', profile_image_url_https='https://pbs.twimg.com/profile_images/1395517447868981258/sHzO_F9w_normal.jpg', profile_banner_url='https://pbs.twimg.com/profile_banners/1032269494901723137/1621552494', profile_link_color='1DA1F2', profile_sidebar_border_color='C0DEED', profile_sidebar_fill_color='DDEEF6', profile_text_color='333333', profile_use_background_image=True, has_extended_profile=False, default_profile=True, default_profile_image=False, following=False, follow_request_sent=False, notifications=False, translator_type='none', withheld_in_countries=[]), user=User(_api=<tweepy.api.API object at 0x7f9501ce1e10>, _json={'id': 1032269494901723137, 'id_str': '1032269494901723137', 'name': 'McLaughlin', 'screen_name': 'JimMacLochlainn', 'location': 'Scotland', 'description': 'Retired NHS(RMN), Unite, Internationalism, Alba Party.', 'url': None, 'entities': {'description': {'urls': []}}, 'protected': False, 'followers_count': 599, 'friends_count': 928, 'listed_count': 1, 'created_at': 'Wed Aug 22 14:13:21 +0000 2018', 'favourites_count': 15100, 'utc_offset': None, 'time_zone': None, 'geo_enabled': False, 'verified': False, 'statuses_count': 9603, 'lang': None, 'contributors_enabled': False, 'is_translator': False, 'is_translation_enabled': False, 'profile_background_color': 'F5F8FA', 'profile_background_image_url': None, 'profile_background_image_url_https': None, 'profile_background_tile': False, 'profile_image_url': 'http://pbs.twimg.com/profile_images/1395517447868981258/sHzO_F9w_normal.jpg', 'profile_image_url_https': 'https://pbs.twimg.com/profile_images/1395517447868981258/sHzO_F9w_normal.jpg', 'profile_banner_url': 'https://pbs.twimg.com/profile_banners/1032269494901723137/1621552494', 'profile_link_color': '1DA1F2', 'profile_sidebar_border_color': 'C0DEED', 'profile_sidebar_fill_color': 'DDEEF6', 'profile_text_color': '333333', 'profile_use_background_image': True, 'has_extended_profile': False, 'default_profile': True, 'default_profile_image': False, 'following': False, 'follow_request_sent': False, 'notifications': False, 'translator_type': 'none', 'withheld_in_countries': []}, id=1032269494901723137, id_str='1032269494901723137', name='McLaughlin', screen_name='JimMacLochlainn', location='Scotland', description='Retired NHS(RMN), Unite, Internationalism, Alba Party.', url=None, entities={'description': {'urls': []}}, protected=False, followers_count=599, friends_count=928, listed_count=1, created_at=datetime.datetime(2018, 8, 22, 14, 13, 21), favourites_count=15100, utc_offset=None, time_zone=None, geo_enabled=False, verified=False, statuses_count=9603, lang=None, contributors_enabled=False, is_translator=False, is_translation_enabled=False, profile_background_color='F5F8FA', profile_background_image_url=None, profile_background_image_url_https=None, profile_background_tile=False, profile_image_url='http://pbs.twimg.com/profile_images/1395517447868981258/sHzO_F9w_normal.jpg', profile_image_url_https='https://pbs.twimg.com/profile_images/1395517447868981258/sHzO_F9w_normal.jpg', profile_banner_url='https://pbs.twimg.com/profile_banners/1032269494901723137/1621552494', profile_link_color='1DA1F2', profile_sidebar_border_color='C0DEED', profile_sidebar_fill_color='DDEEF6', profile_text_color='333333', profile_use_background_image=True, has_extended_profile=False, default_profile=True, default_profile_image=False, following=False, follow_request_sent=False, notifications=False, translator_type='none', withheld_in_countries=[]), geo=None, coordinates=None, place=None, contributors=None, is_quote_status=False, retweet_count=0, favorite_count=0, favorited=False, retweeted=False, possibly_sensitive=False, lang='en') \n",
            "\n",
            ".....................................\n",
            "\n",
            "Status(_api=<tweepy.api.API object at 0x7f9501ce1e10>, _json={'created_at': 'Thu Jun 03 05:59:07 +0000 2021', 'id': 1400331191253749760, 'id_str': '1400331191253749760', 'full_text': 'The Social Democratic Liberal Party leader Viliame Gavoka believes the government is taking advantage of the coronavirus pandemic situations to pass through Bill.', 'truncated': False, 'display_text_range': [0, 162], 'entities': {'hashtags': [], 'symbols': [], 'user_mentions': [], 'urls': []}, 'metadata': {'iso_language_code': 'en', 'result_type': 'recent'}, 'source': '<a href=\"https://mobile.twitter.com\" rel=\"nofollow\">Twitter Web App</a>', 'in_reply_to_status_id': None, 'in_reply_to_status_id_str': None, 'in_reply_to_user_id': None, 'in_reply_to_user_id_str': None, 'in_reply_to_screen_name': None, 'user': {'id': 903174330074333184, 'id_str': '903174330074333184', 'name': 'The Chosen One', 'screen_name': 'Grog_swiper', 'location': 'Fiji', 'description': 'A son, brother, student, women and kids advocate,family, single, journalist and a volunteer', 'url': None, 'entities': {'description': {'urls': []}}, 'protected': False, 'followers_count': 1644, 'friends_count': 880, 'listed_count': 7, 'created_at': 'Thu Aug 31 08:35:15 +0000 2017', 'favourites_count': 4615, 'utc_offset': None, 'time_zone': None, 'geo_enabled': False, 'verified': False, 'statuses_count': 8434, 'lang': None, 'contributors_enabled': False, 'is_translator': False, 'is_translation_enabled': False, 'profile_background_color': 'F5F8FA', 'profile_background_image_url': None, 'profile_background_image_url_https': None, 'profile_background_tile': False, 'profile_image_url': 'http://pbs.twimg.com/profile_images/1394450329089888258/meivfbaq_normal.jpg', 'profile_image_url_https': 'https://pbs.twimg.com/profile_images/1394450329089888258/meivfbaq_normal.jpg', 'profile_banner_url': 'https://pbs.twimg.com/profile_banners/903174330074333184/1621297376', 'profile_link_color': '1DA1F2', 'profile_sidebar_border_color': 'C0DEED', 'profile_sidebar_fill_color': 'DDEEF6', 'profile_text_color': '333333', 'profile_use_background_image': True, 'has_extended_profile': True, 'default_profile': True, 'default_profile_image': False, 'following': False, 'follow_request_sent': False, 'notifications': False, 'translator_type': 'none', 'withheld_in_countries': []}, 'geo': None, 'coordinates': None, 'place': None, 'contributors': None, 'is_quote_status': False, 'retweet_count': 0, 'favorite_count': 2, 'favorited': False, 'retweeted': False, 'lang': 'en'}, created_at=datetime.datetime(2021, 6, 3, 5, 59, 7), id=1400331191253749760, id_str='1400331191253749760', full_text='The Social Democratic Liberal Party leader Viliame Gavoka believes the government is taking advantage of the coronavirus pandemic situations to pass through Bill.', truncated=False, display_text_range=[0, 162], entities={'hashtags': [], 'symbols': [], 'user_mentions': [], 'urls': []}, metadata={'iso_language_code': 'en', 'result_type': 'recent'}, source='Twitter Web App', source_url='https://mobile.twitter.com', in_reply_to_status_id=None, in_reply_to_status_id_str=None, in_reply_to_user_id=None, in_reply_to_user_id_str=None, in_reply_to_screen_name=None, author=User(_api=<tweepy.api.API object at 0x7f9501ce1e10>, _json={'id': 903174330074333184, 'id_str': '903174330074333184', 'name': 'The Chosen One', 'screen_name': 'Grog_swiper', 'location': 'Fiji', 'description': 'A son, brother, student, women and kids advocate,family, single, journalist and a volunteer', 'url': None, 'entities': {'description': {'urls': []}}, 'protected': False, 'followers_count': 1644, 'friends_count': 880, 'listed_count': 7, 'created_at': 'Thu Aug 31 08:35:15 +0000 2017', 'favourites_count': 4615, 'utc_offset': None, 'time_zone': None, 'geo_enabled': False, 'verified': False, 'statuses_count': 8434, 'lang': None, 'contributors_enabled': False, 'is_translator': False, 'is_translation_enabled': False, 'profile_background_color': 'F5F8FA', 'profile_background_image_url': None, 'profile_background_image_url_https': None, 'profile_background_tile': False, 'profile_image_url': 'http://pbs.twimg.com/profile_images/1394450329089888258/meivfbaq_normal.jpg', 'profile_image_url_https': 'https://pbs.twimg.com/profile_images/1394450329089888258/meivfbaq_normal.jpg', 'profile_banner_url': 'https://pbs.twimg.com/profile_banners/903174330074333184/1621297376', 'profile_link_color': '1DA1F2', 'profile_sidebar_border_color': 'C0DEED', 'profile_sidebar_fill_color': 'DDEEF6', 'profile_text_color': '333333', 'profile_use_background_image': True, 'has_extended_profile': True, 'default_profile': True, 'default_profile_image': False, 'following': False, 'follow_request_sent': False, 'notifications': False, 'translator_type': 'none', 'withheld_in_countries': []}, id=903174330074333184, id_str='903174330074333184', name='The Chosen One', screen_name='Grog_swiper', location='Fiji', description='A son, brother, student, women and kids advocate,family, single, journalist and a volunteer', url=None, entities={'description': {'urls': []}}, protected=False, followers_count=1644, friends_count=880, listed_count=7, created_at=datetime.datetime(2017, 8, 31, 8, 35, 15), favourites_count=4615, utc_offset=None, time_zone=None, geo_enabled=False, verified=False, statuses_count=8434, lang=None, contributors_enabled=False, is_translator=False, is_translation_enabled=False, profile_background_color='F5F8FA', profile_background_image_url=None, profile_background_image_url_https=None, profile_background_tile=False, profile_image_url='http://pbs.twimg.com/profile_images/1394450329089888258/meivfbaq_normal.jpg', profile_image_url_https='https://pbs.twimg.com/profile_images/1394450329089888258/meivfbaq_normal.jpg', profile_banner_url='https://pbs.twimg.com/profile_banners/903174330074333184/1621297376', profile_link_color='1DA1F2', profile_sidebar_border_color='C0DEED', profile_sidebar_fill_color='DDEEF6', profile_text_color='333333', profile_use_background_image=True, has_extended_profile=True, default_profile=True, default_profile_image=False, following=False, follow_request_sent=False, notifications=False, translator_type='none', withheld_in_countries=[]), user=User(_api=<tweepy.api.API object at 0x7f9501ce1e10>, _json={'id': 903174330074333184, 'id_str': '903174330074333184', 'name': 'The Chosen One', 'screen_name': 'Grog_swiper', 'location': 'Fiji', 'description': 'A son, brother, student, women and kids advocate,family, single, journalist and a volunteer', 'url': None, 'entities': {'description': {'urls': []}}, 'protected': False, 'followers_count': 1644, 'friends_count': 880, 'listed_count': 7, 'created_at': 'Thu Aug 31 08:35:15 +0000 2017', 'favourites_count': 4615, 'utc_offset': None, 'time_zone': None, 'geo_enabled': False, 'verified': False, 'statuses_count': 8434, 'lang': None, 'contributors_enabled': False, 'is_translator': False, 'is_translation_enabled': False, 'profile_background_color': 'F5F8FA', 'profile_background_image_url': None, 'profile_background_image_url_https': None, 'profile_background_tile': False, 'profile_image_url': 'http://pbs.twimg.com/profile_images/1394450329089888258/meivfbaq_normal.jpg', 'profile_image_url_https': 'https://pbs.twimg.com/profile_images/1394450329089888258/meivfbaq_normal.jpg', 'profile_banner_url': 'https://pbs.twimg.com/profile_banners/903174330074333184/1621297376', 'profile_link_color': '1DA1F2', 'profile_sidebar_border_color': 'C0DEED', 'profile_sidebar_fill_color': 'DDEEF6', 'profile_text_color': '333333', 'profile_use_background_image': True, 'has_extended_profile': True, 'default_profile': True, 'default_profile_image': False, 'following': False, 'follow_request_sent': False, 'notifications': False, 'translator_type': 'none', 'withheld_in_countries': []}, id=903174330074333184, id_str='903174330074333184', name='The Chosen One', screen_name='Grog_swiper', location='Fiji', description='A son, brother, student, women and kids advocate,family, single, journalist and a volunteer', url=None, entities={'description': {'urls': []}}, protected=False, followers_count=1644, friends_count=880, listed_count=7, created_at=datetime.datetime(2017, 8, 31, 8, 35, 15), favourites_count=4615, utc_offset=None, time_zone=None, geo_enabled=False, verified=False, statuses_count=8434, lang=None, contributors_enabled=False, is_translator=False, is_translation_enabled=False, profile_background_color='F5F8FA', profile_background_image_url=None, profile_background_image_url_https=None, profile_background_tile=False, profile_image_url='http://pbs.twimg.com/profile_images/1394450329089888258/meivfbaq_normal.jpg', profile_image_url_https='https://pbs.twimg.com/profile_images/1394450329089888258/meivfbaq_normal.jpg', profile_banner_url='https://pbs.twimg.com/profile_banners/903174330074333184/1621297376', profile_link_color='1DA1F2', profile_sidebar_border_color='C0DEED', profile_sidebar_fill_color='DDEEF6', profile_text_color='333333', profile_use_background_image=True, has_extended_profile=True, default_profile=True, default_profile_image=False, following=False, follow_request_sent=False, notifications=False, translator_type='none', withheld_in_countries=[]), geo=None, coordinates=None, place=None, contributors=None, is_quote_status=False, retweet_count=0, favorite_count=2, favorited=False, retweeted=False, lang='en') \n",
            "\n",
            ".....................................\n",
            "\n",
            "Status(_api=<tweepy.api.API object at 0x7f9501ce1e10>, _json={'created_at': 'Thu Jun 03 05:53:29 +0000 2021', 'id': 1400329774099222530, 'id_str': '1400329774099222530', 'full_text': 'Apart from the fact that he upturned a Democratic Government in 1983 in a coup plot, I fail to see any GOOD ACHIEVEMENTS attached to his name in the present. Am I the only one https://t.co/CjMfF2vpDH', 'truncated': False, 'display_text_range': [0, 175], 'entities': {'hashtags': [], 'symbols': [], 'user_mentions': [], 'urls': [{'url': 'https://t.co/CjMfF2vpDH', 'expanded_url': 'https://twitter.com/Umbrella_Force/status/1400325656169287682', 'display_url': 'twitter.com/Umbrella_Force…', 'indices': [176, 199]}]}, 'metadata': {'iso_language_code': 'en', 'result_type': 'recent'}, 'source': '<a href=\"https://mobile.twitter.com\" rel=\"nofollow\">Twitter Web App</a>', 'in_reply_to_status_id': None, 'in_reply_to_status_id_str': None, 'in_reply_to_user_id': None, 'in_reply_to_user_id_str': None, 'in_reply_to_screen_name': None, 'user': {'id': 561363904, 'id_str': '561363904', 'name': 'Daniel Alabi', 'screen_name': 'alabi_daniel', 'location': 'Lagos, Nigeria', 'description': 'Fisheries Technologist, IT expert and Strong Advocate of Peace and Love', 'url': None, 'entities': {'description': {'urls': []}}, 'protected': False, 'followers_count': 156, 'friends_count': 104, 'listed_count': 0, 'created_at': 'Mon Apr 23 18:24:28 +0000 2012', 'favourites_count': 4545, 'utc_offset': None, 'time_zone': None, 'geo_enabled': False, 'verified': False, 'statuses_count': 6741, 'lang': None, 'contributors_enabled': False, 'is_translator': False, 'is_translation_enabled': False, 'profile_background_color': 'C0DEED', 'profile_background_image_url': 'http://abs.twimg.com/images/themes/theme1/bg.png', 'profile_background_image_url_https': 'https://abs.twimg.com/images/themes/theme1/bg.png', 'profile_background_tile': False, 'profile_image_url': 'http://pbs.twimg.com/profile_images/1357524452549013504/rIg2_3Hv_normal.jpg', 'profile_image_url_https': 'https://pbs.twimg.com/profile_images/1357524452549013504/rIg2_3Hv_normal.jpg', 'profile_banner_url': 'https://pbs.twimg.com/profile_banners/561363904/1612031792', 'profile_link_color': '1DA1F2', 'profile_sidebar_border_color': 'C0DEED', 'profile_sidebar_fill_color': 'DDEEF6', 'profile_text_color': '333333', 'profile_use_background_image': True, 'has_extended_profile': False, 'default_profile': True, 'default_profile_image': False, 'following': False, 'follow_request_sent': False, 'notifications': False, 'translator_type': 'none', 'withheld_in_countries': []}, 'geo': None, 'coordinates': None, 'place': None, 'contributors': None, 'is_quote_status': True, 'quoted_status_id': 1400325656169287682, 'quoted_status_id_str': '1400325656169287682', 'quoted_status': {'created_at': 'Thu Jun 03 05:37:07 +0000 2021', 'id': 1400325656169287682, 'id_str': '1400325656169287682', 'full_text': 'How so hilarious that a govt that has turned an Euro to 700 naira, a dollar to 500 naira, unemployment at 33%, inflation at 21% is even talking about achievements, what achievement does a government that cannot secure lives and properties have? Nonsense\\n\\nhttps://t.co/p491XUwTuI', 'truncated': False, 'display_text_range': [0, 278], 'entities': {'hashtags': [], 'symbols': [], 'user_mentions': [], 'urls': [{'url': 'https://t.co/p491XUwTuI', 'expanded_url': 'https://guardian.ng/news/judge-buhari-with-achievements-not-insecurity-minister-tells-nigerians/', 'display_url': 'guardian.ng/news/judge-buh…', 'indices': [255, 278]}]}, 'metadata': {'iso_language_code': 'en', 'result_type': 'recent'}, 'source': '<a href=\"http://twitter.com/download/android\" rel=\"nofollow\">Twitter for Android</a>', 'in_reply_to_status_id': None, 'in_reply_to_status_id_str': None, 'in_reply_to_user_id': None, 'in_reply_to_user_id_str': None, 'in_reply_to_screen_name': None, 'user': {'id': 324307080, 'id_str': '324307080', 'name': 'ᴜᴍʙʀᴇʟʟᴀ Fᴏʀᴄᴇ', 'screen_name': 'Umbrella_Force', 'location': 'Nigeria', 'description': \"We are a frontline Social Media group of the PDP whose objective is to project the party positively & highlight it's giant strides in governance.\", 'url': None, 'entities': {'description': {'urls': []}}, 'protected': False, 'followers_count': 1734, 'friends_count': 849, 'listed_count': 1, 'created_at': 'Sun Jun 26 11:11:35 +0000 2011', 'favourites_count': 3474, 'utc_offset': None, 'time_zone': None, 'geo_enabled': False, 'verified': False, 'statuses_count': 3472, 'lang': None, 'contributors_enabled': False, 'is_translator': False, 'is_translation_enabled': False, 'profile_background_color': 'C0DEED', 'profile_background_image_url': 'http://abs.twimg.com/images/themes/theme1/bg.png', 'profile_background_image_url_https': 'https://abs.twimg.com/images/themes/theme1/bg.png', 'profile_background_tile': False, 'profile_image_url': 'http://pbs.twimg.com/profile_images/1190239124013359104/mQd5AmtQ_normal.jpg', 'profile_image_url_https': 'https://pbs.twimg.com/profile_images/1190239124013359104/mQd5AmtQ_normal.jpg', 'profile_banner_url': 'https://pbs.twimg.com/profile_banners/324307080/1591327227', 'profile_link_color': '1DA1F2', 'profile_sidebar_border_color': 'C0DEED', 'profile_sidebar_fill_color': 'DDEEF6', 'profile_text_color': '333333', 'profile_use_background_image': True, 'has_extended_profile': False, 'default_profile': True, 'default_profile_image': False, 'following': False, 'follow_request_sent': False, 'notifications': False, 'translator_type': 'none', 'withheld_in_countries': []}, 'geo': None, 'coordinates': None, 'place': None, 'contributors': None, 'is_quote_status': False, 'retweet_count': 17, 'favorite_count': 14, 'favorited': False, 'retweeted': False, 'possibly_sensitive': False, 'lang': 'en'}, 'retweet_count': 0, 'favorite_count': 0, 'favorited': False, 'retweeted': False, 'possibly_sensitive': False, 'lang': 'en'}, created_at=datetime.datetime(2021, 6, 3, 5, 53, 29), id=1400329774099222530, id_str='1400329774099222530', full_text='Apart from the fact that he upturned a Democratic Government in 1983 in a coup plot, I fail to see any GOOD ACHIEVEMENTS attached to his name in the present. Am I the only one https://t.co/CjMfF2vpDH', truncated=False, display_text_range=[0, 175], entities={'hashtags': [], 'symbols': [], 'user_mentions': [], 'urls': [{'url': 'https://t.co/CjMfF2vpDH', 'expanded_url': 'https://twitter.com/Umbrella_Force/status/1400325656169287682', 'display_url': 'twitter.com/Umbrella_Force…', 'indices': [176, 199]}]}, metadata={'iso_language_code': 'en', 'result_type': 'recent'}, source='Twitter Web App', source_url='https://mobile.twitter.com', in_reply_to_status_id=None, in_reply_to_status_id_str=None, in_reply_to_user_id=None, in_reply_to_user_id_str=None, in_reply_to_screen_name=None, author=User(_api=<tweepy.api.API object at 0x7f9501ce1e10>, _json={'id': 561363904, 'id_str': '561363904', 'name': 'Daniel Alabi', 'screen_name': 'alabi_daniel', 'location': 'Lagos, Nigeria', 'description': 'Fisheries Technologist, IT expert and Strong Advocate of Peace and Love', 'url': None, 'entities': {'description': {'urls': []}}, 'protected': False, 'followers_count': 156, 'friends_count': 104, 'listed_count': 0, 'created_at': 'Mon Apr 23 18:24:28 +0000 2012', 'favourites_count': 4545, 'utc_offset': None, 'time_zone': None, 'geo_enabled': False, 'verified': False, 'statuses_count': 6741, 'lang': None, 'contributors_enabled': False, 'is_translator': False, 'is_translation_enabled': False, 'profile_background_color': 'C0DEED', 'profile_background_image_url': 'http://abs.twimg.com/images/themes/theme1/bg.png', 'profile_background_image_url_https': 'https://abs.twimg.com/images/themes/theme1/bg.png', 'profile_background_tile': False, 'profile_image_url': 'http://pbs.twimg.com/profile_images/1357524452549013504/rIg2_3Hv_normal.jpg', 'profile_image_url_https': 'https://pbs.twimg.com/profile_images/1357524452549013504/rIg2_3Hv_normal.jpg', 'profile_banner_url': 'https://pbs.twimg.com/profile_banners/561363904/1612031792', 'profile_link_color': '1DA1F2', 'profile_sidebar_border_color': 'C0DEED', 'profile_sidebar_fill_color': 'DDEEF6', 'profile_text_color': '333333', 'profile_use_background_image': True, 'has_extended_profile': False, 'default_profile': True, 'default_profile_image': False, 'following': False, 'follow_request_sent': False, 'notifications': False, 'translator_type': 'none', 'withheld_in_countries': []}, id=561363904, id_str='561363904', name='Daniel Alabi', screen_name='alabi_daniel', location='Lagos, Nigeria', description='Fisheries Technologist, IT expert and Strong Advocate of Peace and Love', url=None, entities={'description': {'urls': []}}, protected=False, followers_count=156, friends_count=104, listed_count=0, created_at=datetime.datetime(2012, 4, 23, 18, 24, 28), favourites_count=4545, utc_offset=None, time_zone=None, geo_enabled=False, verified=False, statuses_count=6741, lang=None, contributors_enabled=False, is_translator=False, is_translation_enabled=False, profile_background_color='C0DEED', profile_background_image_url='http://abs.twimg.com/images/themes/theme1/bg.png', profile_background_image_url_https='https://abs.twimg.com/images/themes/theme1/bg.png', profile_background_tile=False, profile_image_url='http://pbs.twimg.com/profile_images/1357524452549013504/rIg2_3Hv_normal.jpg', profile_image_url_https='https://pbs.twimg.com/profile_images/1357524452549013504/rIg2_3Hv_normal.jpg', profile_banner_url='https://pbs.twimg.com/profile_banners/561363904/1612031792', profile_link_color='1DA1F2', profile_sidebar_border_color='C0DEED', profile_sidebar_fill_color='DDEEF6', profile_text_color='333333', profile_use_background_image=True, has_extended_profile=False, default_profile=True, default_profile_image=False, following=False, follow_request_sent=False, notifications=False, translator_type='none', withheld_in_countries=[]), user=User(_api=<tweepy.api.API object at 0x7f9501ce1e10>, _json={'id': 561363904, 'id_str': '561363904', 'name': 'Daniel Alabi', 'screen_name': 'alabi_daniel', 'location': 'Lagos, Nigeria', 'description': 'Fisheries Technologist, IT expert and Strong Advocate of Peace and Love', 'url': None, 'entities': {'description': {'urls': []}}, 'protected': False, 'followers_count': 156, 'friends_count': 104, 'listed_count': 0, 'created_at': 'Mon Apr 23 18:24:28 +0000 2012', 'favourites_count': 4545, 'utc_offset': None, 'time_zone': None, 'geo_enabled': False, 'verified': False, 'statuses_count': 6741, 'lang': None, 'contributors_enabled': False, 'is_translator': False, 'is_translation_enabled': False, 'profile_background_color': 'C0DEED', 'profile_background_image_url': 'http://abs.twimg.com/images/themes/theme1/bg.png', 'profile_background_image_url_https': 'https://abs.twimg.com/images/themes/theme1/bg.png', 'profile_background_tile': False, 'profile_image_url': 'http://pbs.twimg.com/profile_images/1357524452549013504/rIg2_3Hv_normal.jpg', 'profile_image_url_https': 'https://pbs.twimg.com/profile_images/1357524452549013504/rIg2_3Hv_normal.jpg', 'profile_banner_url': 'https://pbs.twimg.com/profile_banners/561363904/1612031792', 'profile_link_color': '1DA1F2', 'profile_sidebar_border_color': 'C0DEED', 'profile_sidebar_fill_color': 'DDEEF6', 'profile_text_color': '333333', 'profile_use_background_image': True, 'has_extended_profile': False, 'default_profile': True, 'default_profile_image': False, 'following': False, 'follow_request_sent': False, 'notifications': False, 'translator_type': 'none', 'withheld_in_countries': []}, id=561363904, id_str='561363904', name='Daniel Alabi', screen_name='alabi_daniel', location='Lagos, Nigeria', description='Fisheries Technologist, IT expert and Strong Advocate of Peace and Love', url=None, entities={'description': {'urls': []}}, protected=False, followers_count=156, friends_count=104, listed_count=0, created_at=datetime.datetime(2012, 4, 23, 18, 24, 28), favourites_count=4545, utc_offset=None, time_zone=None, geo_enabled=False, verified=False, statuses_count=6741, lang=None, contributors_enabled=False, is_translator=False, is_translation_enabled=False, profile_background_color='C0DEED', profile_background_image_url='http://abs.twimg.com/images/themes/theme1/bg.png', profile_background_image_url_https='https://abs.twimg.com/images/themes/theme1/bg.png', profile_background_tile=False, profile_image_url='http://pbs.twimg.com/profile_images/1357524452549013504/rIg2_3Hv_normal.jpg', profile_image_url_https='https://pbs.twimg.com/profile_images/1357524452549013504/rIg2_3Hv_normal.jpg', profile_banner_url='https://pbs.twimg.com/profile_banners/561363904/1612031792', profile_link_color='1DA1F2', profile_sidebar_border_color='C0DEED', profile_sidebar_fill_color='DDEEF6', profile_text_color='333333', profile_use_background_image=True, has_extended_profile=False, default_profile=True, default_profile_image=False, following=False, follow_request_sent=False, notifications=False, translator_type='none', withheld_in_countries=[]), geo=None, coordinates=None, place=None, contributors=None, is_quote_status=True, quoted_status_id=1400325656169287682, quoted_status_id_str='1400325656169287682', quoted_status=Status(_api=<tweepy.api.API object at 0x7f9501ce1e10>, _json={'created_at': 'Thu Jun 03 05:37:07 +0000 2021', 'id': 1400325656169287682, 'id_str': '1400325656169287682', 'full_text': 'How so hilarious that a govt that has turned an Euro to 700 naira, a dollar to 500 naira, unemployment at 33%, inflation at 21% is even talking about achievements, what achievement does a government that cannot secure lives and properties have? Nonsense\\n\\nhttps://t.co/p491XUwTuI', 'truncated': False, 'display_text_range': [0, 278], 'entities': {'hashtags': [], 'symbols': [], 'user_mentions': [], 'urls': [{'url': 'https://t.co/p491XUwTuI', 'expanded_url': 'https://guardian.ng/news/judge-buhari-with-achievements-not-insecurity-minister-tells-nigerians/', 'display_url': 'guardian.ng/news/judge-buh…', 'indices': [255, 278]}]}, 'metadata': {'iso_language_code': 'en', 'result_type': 'recent'}, 'source': '<a href=\"http://twitter.com/download/android\" rel=\"nofollow\">Twitter for Android</a>', 'in_reply_to_status_id': None, 'in_reply_to_status_id_str': None, 'in_reply_to_user_id': None, 'in_reply_to_user_id_str': None, 'in_reply_to_screen_name': None, 'user': {'id': 324307080, 'id_str': '324307080', 'name': 'ᴜᴍʙʀᴇʟʟᴀ Fᴏʀᴄᴇ', 'screen_name': 'Umbrella_Force', 'location': 'Nigeria', 'description': \"We are a frontline Social Media group of the PDP whose objective is to project the party positively & highlight it's giant strides in governance.\", 'url': None, 'entities': {'description': {'urls': []}}, 'protected': False, 'followers_count': 1734, 'friends_count': 849, 'listed_count': 1, 'created_at': 'Sun Jun 26 11:11:35 +0000 2011', 'favourites_count': 3474, 'utc_offset': None, 'time_zone': None, 'geo_enabled': False, 'verified': False, 'statuses_count': 3472, 'lang': None, 'contributors_enabled': False, 'is_translator': False, 'is_translation_enabled': False, 'profile_background_color': 'C0DEED', 'profile_background_image_url': 'http://abs.twimg.com/images/themes/theme1/bg.png', 'profile_background_image_url_https': 'https://abs.twimg.com/images/themes/theme1/bg.png', 'profile_background_tile': False, 'profile_image_url': 'http://pbs.twimg.com/profile_images/1190239124013359104/mQd5AmtQ_normal.jpg', 'profile_image_url_https': 'https://pbs.twimg.com/profile_images/1190239124013359104/mQd5AmtQ_normal.jpg', 'profile_banner_url': 'https://pbs.twimg.com/profile_banners/324307080/1591327227', 'profile_link_color': '1DA1F2', 'profile_sidebar_border_color': 'C0DEED', 'profile_sidebar_fill_color': 'DDEEF6', 'profile_text_color': '333333', 'profile_use_background_image': True, 'has_extended_profile': False, 'default_profile': True, 'default_profile_image': False, 'following': False, 'follow_request_sent': False, 'notifications': False, 'translator_type': 'none', 'withheld_in_countries': []}, 'geo': None, 'coordinates': None, 'place': None, 'contributors': None, 'is_quote_status': False, 'retweet_count': 17, 'favorite_count': 14, 'favorited': False, 'retweeted': False, 'possibly_sensitive': False, 'lang': 'en'}, created_at=datetime.datetime(2021, 6, 3, 5, 37, 7), id=1400325656169287682, id_str='1400325656169287682', full_text='How so hilarious that a govt that has turned an Euro to 700 naira, a dollar to 500 naira, unemployment at 33%, inflation at 21% is even talking about achievements, what achievement does a government that cannot secure lives and properties have? Nonsense\\n\\nhttps://t.co/p491XUwTuI', truncated=False, display_text_range=[0, 278], entities={'hashtags': [], 'symbols': [], 'user_mentions': [], 'urls': [{'url': 'https://t.co/p491XUwTuI', 'expanded_url': 'https://guardian.ng/news/judge-buhari-with-achievements-not-insecurity-minister-tells-nigerians/', 'display_url': 'guardian.ng/news/judge-buh…', 'indices': [255, 278]}]}, metadata={'iso_language_code': 'en', 'result_type': 'recent'}, source='Twitter for Android', source_url='http://twitter.com/download/android', in_reply_to_status_id=None, in_reply_to_status_id_str=None, in_reply_to_user_id=None, in_reply_to_user_id_str=None, in_reply_to_screen_name=None, author=User(_api=<tweepy.api.API object at 0x7f9501ce1e10>, _json={'id': 324307080, 'id_str': '324307080', 'name': 'ᴜᴍʙʀᴇʟʟᴀ Fᴏʀᴄᴇ', 'screen_name': 'Umbrella_Force', 'location': 'Nigeria', 'description': \"We are a frontline Social Media group of the PDP whose objective is to project the party positively & highlight it's giant strides in governance.\", 'url': None, 'entities': {'description': {'urls': []}}, 'protected': False, 'followers_count': 1734, 'friends_count': 849, 'listed_count': 1, 'created_at': 'Sun Jun 26 11:11:35 +0000 2011', 'favourites_count': 3474, 'utc_offset': None, 'time_zone': None, 'geo_enabled': False, 'verified': False, 'statuses_count': 3472, 'lang': None, 'contributors_enabled': False, 'is_translator': False, 'is_translation_enabled': False, 'profile_background_color': 'C0DEED', 'profile_background_image_url': 'http://abs.twimg.com/images/themes/theme1/bg.png', 'profile_background_image_url_https': 'https://abs.twimg.com/images/themes/theme1/bg.png', 'profile_background_tile': False, 'profile_image_url': 'http://pbs.twimg.com/profile_images/1190239124013359104/mQd5AmtQ_normal.jpg', 'profile_image_url_https': 'https://pbs.twimg.com/profile_images/1190239124013359104/mQd5AmtQ_normal.jpg', 'profile_banner_url': 'https://pbs.twimg.com/profile_banners/324307080/1591327227', 'profile_link_color': '1DA1F2', 'profile_sidebar_border_color': 'C0DEED', 'profile_sidebar_fill_color': 'DDEEF6', 'profile_text_color': '333333', 'profile_use_background_image': True, 'has_extended_profile': False, 'default_profile': True, 'default_profile_image': False, 'following': False, 'follow_request_sent': False, 'notifications': False, 'translator_type': 'none', 'withheld_in_countries': []}, id=324307080, id_str='324307080', name='ᴜᴍʙʀᴇʟʟᴀ Fᴏʀᴄᴇ', screen_name='Umbrella_Force', location='Nigeria', description=\"We are a frontline Social Media group of the PDP whose objective is to project the party positively & highlight it's giant strides in governance.\", url=None, entities={'description': {'urls': []}}, protected=False, followers_count=1734, friends_count=849, listed_count=1, created_at=datetime.datetime(2011, 6, 26, 11, 11, 35), favourites_count=3474, utc_offset=None, time_zone=None, geo_enabled=False, verified=False, statuses_count=3472, lang=None, contributors_enabled=False, is_translator=False, is_translation_enabled=False, profile_background_color='C0DEED', profile_background_image_url='http://abs.twimg.com/images/themes/theme1/bg.png', profile_background_image_url_https='https://abs.twimg.com/images/themes/theme1/bg.png', profile_background_tile=False, profile_image_url='http://pbs.twimg.com/profile_images/1190239124013359104/mQd5AmtQ_normal.jpg', profile_image_url_https='https://pbs.twimg.com/profile_images/1190239124013359104/mQd5AmtQ_normal.jpg', profile_banner_url='https://pbs.twimg.com/profile_banners/324307080/1591327227', profile_link_color='1DA1F2', profile_sidebar_border_color='C0DEED', profile_sidebar_fill_color='DDEEF6', profile_text_color='333333', profile_use_background_image=True, has_extended_profile=False, default_profile=True, default_profile_image=False, following=False, follow_request_sent=False, notifications=False, translator_type='none', withheld_in_countries=[]), user=User(_api=<tweepy.api.API object at 0x7f9501ce1e10>, _json={'id': 324307080, 'id_str': '324307080', 'name': 'ᴜᴍʙʀᴇʟʟᴀ Fᴏʀᴄᴇ', 'screen_name': 'Umbrella_Force', 'location': 'Nigeria', 'description': \"We are a frontline Social Media group of the PDP whose objective is to project the party positively & highlight it's giant strides in governance.\", 'url': None, 'entities': {'description': {'urls': []}}, 'protected': False, 'followers_count': 1734, 'friends_count': 849, 'listed_count': 1, 'created_at': 'Sun Jun 26 11:11:35 +0000 2011', 'favourites_count': 3474, 'utc_offset': None, 'time_zone': None, 'geo_enabled': False, 'verified': False, 'statuses_count': 3472, 'lang': None, 'contributors_enabled': False, 'is_translator': False, 'is_translation_enabled': False, 'profile_background_color': 'C0DEED', 'profile_background_image_url': 'http://abs.twimg.com/images/themes/theme1/bg.png', 'profile_background_image_url_https': 'https://abs.twimg.com/images/themes/theme1/bg.png', 'profile_background_tile': False, 'profile_image_url': 'http://pbs.twimg.com/profile_images/1190239124013359104/mQd5AmtQ_normal.jpg', 'profile_image_url_https': 'https://pbs.twimg.com/profile_images/1190239124013359104/mQd5AmtQ_normal.jpg', 'profile_banner_url': 'https://pbs.twimg.com/profile_banners/324307080/1591327227', 'profile_link_color': '1DA1F2', 'profile_sidebar_border_color': 'C0DEED', 'profile_sidebar_fill_color': 'DDEEF6', 'profile_text_color': '333333', 'profile_use_background_image': True, 'has_extended_profile': False, 'default_profile': True, 'default_profile_image': False, 'following': False, 'follow_request_sent': False, 'notifications': False, 'translator_type': 'none', 'withheld_in_countries': []}, id=324307080, id_str='324307080', name='ᴜᴍʙʀᴇʟʟᴀ Fᴏʀᴄᴇ', screen_name='Umbrella_Force', location='Nigeria', description=\"We are a frontline Social Media group of the PDP whose objective is to project the party positively & highlight it's giant strides in governance.\", url=None, entities={'description': {'urls': []}}, protected=False, followers_count=1734, friends_count=849, listed_count=1, created_at=datetime.datetime(2011, 6, 26, 11, 11, 35), favourites_count=3474, utc_offset=None, time_zone=None, geo_enabled=False, verified=False, statuses_count=3472, lang=None, contributors_enabled=False, is_translator=False, is_translation_enabled=False, profile_background_color='C0DEED', profile_background_image_url='http://abs.twimg.com/images/themes/theme1/bg.png', profile_background_image_url_https='https://abs.twimg.com/images/themes/theme1/bg.png', profile_background_tile=False, profile_image_url='http://pbs.twimg.com/profile_images/1190239124013359104/mQd5AmtQ_normal.jpg', profile_image_url_https='https://pbs.twimg.com/profile_images/1190239124013359104/mQd5AmtQ_normal.jpg', profile_banner_url='https://pbs.twimg.com/profile_banners/324307080/1591327227', profile_link_color='1DA1F2', profile_sidebar_border_color='C0DEED', profile_sidebar_fill_color='DDEEF6', profile_text_color='333333', profile_use_background_image=True, has_extended_profile=False, default_profile=True, default_profile_image=False, following=False, follow_request_sent=False, notifications=False, translator_type='none', withheld_in_countries=[]), geo=None, coordinates=None, place=None, contributors=None, is_quote_status=False, retweet_count=17, favorite_count=14, favorited=False, retweeted=False, possibly_sensitive=False, lang='en'), retweet_count=0, favorite_count=0, favorited=False, retweeted=False, possibly_sensitive=False, lang='en') \n",
            "\n",
            ".....................................\n",
            "\n"
          ],
          "name": "stdout"
        }
      ]
    },
    {
      "cell_type": "code",
      "metadata": {
        "colab": {
          "base_uri": "https://localhost:8080/"
        },
        "id": "JmO9ZQ8cWfh6",
        "outputId": "fd8f085e-f715-4e57-ca59-85b75fc77fdd"
      },
      "source": [
        "Data=pd.DataFrame(columns=['Tweets','User','User_statuses_count','user_followers','User_location','User_verified','fav_count','rt_count','tweet_date'])\n",
        "print(Data)"
      ],
      "execution_count": 6,
      "outputs": [
        {
          "output_type": "stream",
          "text": [
            "Empty DataFrame\n",
            "Columns: [Tweets, User, User_statuses_count, user_followers, User_location, User_verified, fav_count, rt_count, tweet_date]\n",
            "Index: []\n"
          ],
          "name": "stdout"
        }
      ]
    },
    {
      "cell_type": "code",
      "metadata": {
        "id": "CXL-5hP3WvWL"
      },
      "source": [
        "def stream(data,file_name):\n",
        "    i = 0\n",
        "    for tweet in tweepy.Cursor(api.search,q=data,count=100,lang='en').items():\n",
        "        print(i, end='\\r')\n",
        "        Data.loc[i,'Tweets']=tweet.text\n",
        "        Data.loc[i,'User']=tweet.user.name\n",
        "        Data.loc[i,'User_statuses_count']=tweet.user.statuses_count\n",
        "        Data.loc[i,'user_followers']=tweet.user.followers_count\n",
        "        Data.loc[i,'User_location']=tweet.user.location\n",
        "        Data.loc[i,'User_verified']=tweet.user.verified\n",
        "        Data.loc[i,'fav_count']=tweet.favorite_count\n",
        "        Data.loc[i,'rt_count']=tweet.retweet_count\n",
        "        Data.loc[i,'tweet_date']=tweet.created_at\n",
        "        Data.to_excel('{}.xlsx'.format(file_name))\n",
        "        i = i+1\n",
        "        if i == 1000:\n",
        "            break\n",
        "        else:\n",
        "            pass"
      ],
      "execution_count": 7,
      "outputs": []
    },
    {
      "cell_type": "code",
      "metadata": {
        "colab": {
          "base_uri": "https://localhost:8080/"
        },
        "id": "7s_77NGtXStN",
        "outputId": "9c9ef202-60a8-4116-fccf-8f312a9c6ea5"
      },
      "source": [
        "stream(data=[\"Democratic Government\"],file_name='my_tweets')"
      ],
      "execution_count": 8,
      "outputs": [
        {
          "output_type": "stream",
          "text": [
            ""
          ],
          "name": "stdout"
        }
      ]
    },
    {
      "cell_type": "code",
      "metadata": {
        "colab": {
          "base_uri": "https://localhost:8080/",
          "height": 414
        },
        "id": "fqDDcCAwYKlT",
        "outputId": "287f797e-68c7-40b5-a509-7465c6ce64ab"
      },
      "source": [
        "Data.head()"
      ],
      "execution_count": 9,
      "outputs": [
        {
          "output_type": "execute_result",
          "data": {
            "text/html": [
              "<div>\n",
              "<style scoped>\n",
              "    .dataframe tbody tr th:only-of-type {\n",
              "        vertical-align: middle;\n",
              "    }\n",
              "\n",
              "    .dataframe tbody tr th {\n",
              "        vertical-align: top;\n",
              "    }\n",
              "\n",
              "    .dataframe thead th {\n",
              "        text-align: right;\n",
              "    }\n",
              "</style>\n",
              "<table border=\"1\" class=\"dataframe\">\n",
              "  <thead>\n",
              "    <tr style=\"text-align: right;\">\n",
              "      <th></th>\n",
              "      <th>Tweets</th>\n",
              "      <th>User</th>\n",
              "      <th>User_statuses_count</th>\n",
              "      <th>user_followers</th>\n",
              "      <th>User_location</th>\n",
              "      <th>User_verified</th>\n",
              "      <th>fav_count</th>\n",
              "      <th>rt_count</th>\n",
              "      <th>tweet_date</th>\n",
              "    </tr>\n",
              "  </thead>\n",
              "  <tbody>\n",
              "    <tr>\n",
              "      <th>0</th>\n",
              "      <td>RT @shahidsheik03: Eleven Muslim families are ...</td>\n",
              "      <td>ZakCher</td>\n",
              "      <td>6902</td>\n",
              "      <td>2456</td>\n",
              "      <td>Utopia</td>\n",
              "      <td>False</td>\n",
              "      <td>0</td>\n",
              "      <td>29</td>\n",
              "      <td>2021-06-03 06:21:43</td>\n",
              "    </tr>\n",
              "    <tr>\n",
              "      <th>1</th>\n",
              "      <td>RT @AdenekanKolawo1: Shooting and killing prot...</td>\n",
              "      <td>Sonetty</td>\n",
              "      <td>3229</td>\n",
              "      <td>126</td>\n",
              "      <td>Lagos, Nigeria</td>\n",
              "      <td>False</td>\n",
              "      <td>0</td>\n",
              "      <td>3</td>\n",
              "      <td>2021-06-03 06:21:29</td>\n",
              "    </tr>\n",
              "    <tr>\n",
              "      <th>2</th>\n",
              "      <td>RT @MAslam_k: Our democratic system is a slap ...</td>\n",
              "      <td>Shazi_Ivf</td>\n",
              "      <td>28609</td>\n",
              "      <td>1481</td>\n",
              "      <td></td>\n",
              "      <td>False</td>\n",
              "      <td>0</td>\n",
              "      <td>4</td>\n",
              "      <td>2021-06-03 06:21:27</td>\n",
              "    </tr>\n",
              "    <tr>\n",
              "      <th>3</th>\n",
              "      <td>RT @shahidsheik03: Eleven Muslim families are ...</td>\n",
              "      <td>𝕱𝖆𝖊𝖖𝖚𝖊 | فائق | फ़ाएक़</td>\n",
              "      <td>24332</td>\n",
              "      <td>2367</td>\n",
              "      <td>India</td>\n",
              "      <td>False</td>\n",
              "      <td>0</td>\n",
              "      <td>29</td>\n",
              "      <td>2021-06-03 06:20:36</td>\n",
              "    </tr>\n",
              "    <tr>\n",
              "      <th>4</th>\n",
              "      <td>RT @TostevinM: As Myanmar's junta shows little...</td>\n",
              "      <td>Nyi Nyi Nyan Lin</td>\n",
              "      <td>2791</td>\n",
              "      <td>203</td>\n",
              "      <td>Myanmar</td>\n",
              "      <td>False</td>\n",
              "      <td>0</td>\n",
              "      <td>475</td>\n",
              "      <td>2021-06-03 06:20:31</td>\n",
              "    </tr>\n",
              "  </tbody>\n",
              "</table>\n",
              "</div>"
            ],
            "text/plain": [
              "                                              Tweets  ...           tweet_date\n",
              "0  RT @shahidsheik03: Eleven Muslim families are ...  ...  2021-06-03 06:21:43\n",
              "1  RT @AdenekanKolawo1: Shooting and killing prot...  ...  2021-06-03 06:21:29\n",
              "2  RT @MAslam_k: Our democratic system is a slap ...  ...  2021-06-03 06:21:27\n",
              "3  RT @shahidsheik03: Eleven Muslim families are ...  ...  2021-06-03 06:20:36\n",
              "4  RT @TostevinM: As Myanmar's junta shows little...  ...  2021-06-03 06:20:31\n",
              "\n",
              "[5 rows x 9 columns]"
            ]
          },
          "metadata": {
            "tags": []
          },
          "execution_count": 9
        }
      ]
    },
    {
      "cell_type": "code",
      "metadata": {
        "id": "lYD69SKGYYeN"
      },
      "source": [
        "from textblob import TextBlob"
      ],
      "execution_count": 10,
      "outputs": []
    },
    {
      "cell_type": "code",
      "metadata": {
        "id": "Pk8c68JYYaN_"
      },
      "source": [
        "import re\n",
        "def clean_tweet(tweet):\n",
        "    return' '.join(re.sub('(@[A-Za-z0-9]+)|([^0-9A-Za-z \\t])|(\\w+:\\/\\/\\S+)',' ',tweet).split())"
      ],
      "execution_count": 11,
      "outputs": []
    },
    {
      "cell_type": "code",
      "metadata": {
        "id": "y-WVQ4pwYlSu"
      },
      "source": [
        "def analyze_sentiment(tweet):\n",
        "    analysis=TextBlob(tweet)\n",
        "    if analysis.sentiment.polarity>0:\n",
        "        return 'Positive'\n",
        "    elif analysis.sentiment.polarity==0:\n",
        "        return 'Neutral'\n",
        "    else:\n",
        "        return 'Negative'"
      ],
      "execution_count": 12,
      "outputs": []
    },
    {
      "cell_type": "code",
      "metadata": {
        "id": "cJqGzsq5Y0CX"
      },
      "source": [
        "Data['clean_tweet']=Data['Tweets'].apply(lambda x:clean_tweet(x))"
      ],
      "execution_count": 13,
      "outputs": []
    },
    {
      "cell_type": "code",
      "metadata": {
        "colab": {
          "base_uri": "https://localhost:8080/",
          "height": 534
        },
        "id": "NwTtuFTGY56G",
        "outputId": "4cde1382-79c2-42a0-aca9-809fe2cc51e6"
      },
      "source": [
        "Data.head()"
      ],
      "execution_count": 14,
      "outputs": [
        {
          "output_type": "execute_result",
          "data": {
            "text/html": [
              "<div>\n",
              "<style scoped>\n",
              "    .dataframe tbody tr th:only-of-type {\n",
              "        vertical-align: middle;\n",
              "    }\n",
              "\n",
              "    .dataframe tbody tr th {\n",
              "        vertical-align: top;\n",
              "    }\n",
              "\n",
              "    .dataframe thead th {\n",
              "        text-align: right;\n",
              "    }\n",
              "</style>\n",
              "<table border=\"1\" class=\"dataframe\">\n",
              "  <thead>\n",
              "    <tr style=\"text-align: right;\">\n",
              "      <th></th>\n",
              "      <th>Tweets</th>\n",
              "      <th>User</th>\n",
              "      <th>User_statuses_count</th>\n",
              "      <th>user_followers</th>\n",
              "      <th>User_location</th>\n",
              "      <th>User_verified</th>\n",
              "      <th>fav_count</th>\n",
              "      <th>rt_count</th>\n",
              "      <th>tweet_date</th>\n",
              "      <th>clean_tweet</th>\n",
              "    </tr>\n",
              "  </thead>\n",
              "  <tbody>\n",
              "    <tr>\n",
              "      <th>0</th>\n",
              "      <td>RT @shahidsheik03: Eleven Muslim families are ...</td>\n",
              "      <td>ZakCher</td>\n",
              "      <td>6902</td>\n",
              "      <td>2456</td>\n",
              "      <td>Utopia</td>\n",
              "      <td>False</td>\n",
              "      <td>0</td>\n",
              "      <td>29</td>\n",
              "      <td>2021-06-03 06:21:43</td>\n",
              "      <td>RT Eleven Muslim families are being asked to g...</td>\n",
              "    </tr>\n",
              "    <tr>\n",
              "      <th>1</th>\n",
              "      <td>RT @AdenekanKolawo1: Shooting and killing prot...</td>\n",
              "      <td>Sonetty</td>\n",
              "      <td>3229</td>\n",
              "      <td>126</td>\n",
              "      <td>Lagos, Nigeria</td>\n",
              "      <td>False</td>\n",
              "      <td>0</td>\n",
              "      <td>3</td>\n",
              "      <td>2021-06-03 06:21:29</td>\n",
              "      <td>RT Shooting and killing protesters is the trad...</td>\n",
              "    </tr>\n",
              "    <tr>\n",
              "      <th>2</th>\n",
              "      <td>RT @MAslam_k: Our democratic system is a slap ...</td>\n",
              "      <td>Shazi_Ivf</td>\n",
              "      <td>28609</td>\n",
              "      <td>1481</td>\n",
              "      <td></td>\n",
              "      <td>False</td>\n",
              "      <td>0</td>\n",
              "      <td>4</td>\n",
              "      <td>2021-06-03 06:21:27</td>\n",
              "      <td>RT k Our democratic system is a slap in the fa...</td>\n",
              "    </tr>\n",
              "    <tr>\n",
              "      <th>3</th>\n",
              "      <td>RT @shahidsheik03: Eleven Muslim families are ...</td>\n",
              "      <td>𝕱𝖆𝖊𝖖𝖚𝖊 | فائق | फ़ाएक़</td>\n",
              "      <td>24332</td>\n",
              "      <td>2367</td>\n",
              "      <td>India</td>\n",
              "      <td>False</td>\n",
              "      <td>0</td>\n",
              "      <td>29</td>\n",
              "      <td>2021-06-03 06:20:36</td>\n",
              "      <td>RT Eleven Muslim families are being asked to g...</td>\n",
              "    </tr>\n",
              "    <tr>\n",
              "      <th>4</th>\n",
              "      <td>RT @TostevinM: As Myanmar's junta shows little...</td>\n",
              "      <td>Nyi Nyi Nyan Lin</td>\n",
              "      <td>2791</td>\n",
              "      <td>203</td>\n",
              "      <td>Myanmar</td>\n",
              "      <td>False</td>\n",
              "      <td>0</td>\n",
              "      <td>475</td>\n",
              "      <td>2021-06-03 06:20:31</td>\n",
              "      <td>RT As Myanmar s junta shows little sign of hee...</td>\n",
              "    </tr>\n",
              "  </tbody>\n",
              "</table>\n",
              "</div>"
            ],
            "text/plain": [
              "                                              Tweets  ...                                        clean_tweet\n",
              "0  RT @shahidsheik03: Eleven Muslim families are ...  ...  RT Eleven Muslim families are being asked to g...\n",
              "1  RT @AdenekanKolawo1: Shooting and killing prot...  ...  RT Shooting and killing protesters is the trad...\n",
              "2  RT @MAslam_k: Our democratic system is a slap ...  ...  RT k Our democratic system is a slap in the fa...\n",
              "3  RT @shahidsheik03: Eleven Muslim families are ...  ...  RT Eleven Muslim families are being asked to g...\n",
              "4  RT @TostevinM: As Myanmar's junta shows little...  ...  RT As Myanmar s junta shows little sign of hee...\n",
              "\n",
              "[5 rows x 10 columns]"
            ]
          },
          "metadata": {
            "tags": []
          },
          "execution_count": 14
        }
      ]
    },
    {
      "cell_type": "code",
      "metadata": {
        "colab": {
          "base_uri": "https://localhost:8080/",
          "height": 534
        },
        "id": "BhaPJHKeY_yO",
        "outputId": "c22e1982-dddf-4ff4-cbb7-fc7adbdf4085"
      },
      "source": [
        "Data['Sentiment']=Data['clean_tweet'].apply(lambda x:analyze_sentiment(x))\n",
        "Data.head()"
      ],
      "execution_count": 15,
      "outputs": [
        {
          "output_type": "execute_result",
          "data": {
            "text/html": [
              "<div>\n",
              "<style scoped>\n",
              "    .dataframe tbody tr th:only-of-type {\n",
              "        vertical-align: middle;\n",
              "    }\n",
              "\n",
              "    .dataframe tbody tr th {\n",
              "        vertical-align: top;\n",
              "    }\n",
              "\n",
              "    .dataframe thead th {\n",
              "        text-align: right;\n",
              "    }\n",
              "</style>\n",
              "<table border=\"1\" class=\"dataframe\">\n",
              "  <thead>\n",
              "    <tr style=\"text-align: right;\">\n",
              "      <th></th>\n",
              "      <th>Tweets</th>\n",
              "      <th>User</th>\n",
              "      <th>User_statuses_count</th>\n",
              "      <th>user_followers</th>\n",
              "      <th>User_location</th>\n",
              "      <th>User_verified</th>\n",
              "      <th>fav_count</th>\n",
              "      <th>rt_count</th>\n",
              "      <th>tweet_date</th>\n",
              "      <th>clean_tweet</th>\n",
              "      <th>Sentiment</th>\n",
              "    </tr>\n",
              "  </thead>\n",
              "  <tbody>\n",
              "    <tr>\n",
              "      <th>0</th>\n",
              "      <td>RT @shahidsheik03: Eleven Muslim families are ...</td>\n",
              "      <td>ZakCher</td>\n",
              "      <td>6902</td>\n",
              "      <td>2456</td>\n",
              "      <td>Utopia</td>\n",
              "      <td>False</td>\n",
              "      <td>0</td>\n",
              "      <td>29</td>\n",
              "      <td>2021-06-03 06:21:43</td>\n",
              "      <td>RT Eleven Muslim families are being asked to g...</td>\n",
              "      <td>Neutral</td>\n",
              "    </tr>\n",
              "    <tr>\n",
              "      <th>1</th>\n",
              "      <td>RT @AdenekanKolawo1: Shooting and killing prot...</td>\n",
              "      <td>Sonetty</td>\n",
              "      <td>3229</td>\n",
              "      <td>126</td>\n",
              "      <td>Lagos, Nigeria</td>\n",
              "      <td>False</td>\n",
              "      <td>0</td>\n",
              "      <td>3</td>\n",
              "      <td>2021-06-03 06:21:29</td>\n",
              "      <td>RT Shooting and killing protesters is the trad...</td>\n",
              "      <td>Neutral</td>\n",
              "    </tr>\n",
              "    <tr>\n",
              "      <th>2</th>\n",
              "      <td>RT @MAslam_k: Our democratic system is a slap ...</td>\n",
              "      <td>Shazi_Ivf</td>\n",
              "      <td>28609</td>\n",
              "      <td>1481</td>\n",
              "      <td></td>\n",
              "      <td>False</td>\n",
              "      <td>0</td>\n",
              "      <td>4</td>\n",
              "      <td>2021-06-03 06:21:27</td>\n",
              "      <td>RT k Our democratic system is a slap in the fa...</td>\n",
              "      <td>Neutral</td>\n",
              "    </tr>\n",
              "    <tr>\n",
              "      <th>3</th>\n",
              "      <td>RT @shahidsheik03: Eleven Muslim families are ...</td>\n",
              "      <td>𝕱𝖆𝖊𝖖𝖚𝖊 | فائق | फ़ाएक़</td>\n",
              "      <td>24332</td>\n",
              "      <td>2367</td>\n",
              "      <td>India</td>\n",
              "      <td>False</td>\n",
              "      <td>0</td>\n",
              "      <td>29</td>\n",
              "      <td>2021-06-03 06:20:36</td>\n",
              "      <td>RT Eleven Muslim families are being asked to g...</td>\n",
              "      <td>Neutral</td>\n",
              "    </tr>\n",
              "    <tr>\n",
              "      <th>4</th>\n",
              "      <td>RT @TostevinM: As Myanmar's junta shows little...</td>\n",
              "      <td>Nyi Nyi Nyan Lin</td>\n",
              "      <td>2791</td>\n",
              "      <td>203</td>\n",
              "      <td>Myanmar</td>\n",
              "      <td>False</td>\n",
              "      <td>0</td>\n",
              "      <td>475</td>\n",
              "      <td>2021-06-03 06:20:31</td>\n",
              "      <td>RT As Myanmar s junta shows little sign of hee...</td>\n",
              "      <td>Negative</td>\n",
              "    </tr>\n",
              "  </tbody>\n",
              "</table>\n",
              "</div>"
            ],
            "text/plain": [
              "                                              Tweets  ... Sentiment\n",
              "0  RT @shahidsheik03: Eleven Muslim families are ...  ...   Neutral\n",
              "1  RT @AdenekanKolawo1: Shooting and killing prot...  ...   Neutral\n",
              "2  RT @MAslam_k: Our democratic system is a slap ...  ...   Neutral\n",
              "3  RT @shahidsheik03: Eleven Muslim families are ...  ...   Neutral\n",
              "4  RT @TostevinM: As Myanmar's junta shows little...  ...  Negative\n",
              "\n",
              "[5 rows x 11 columns]"
            ]
          },
          "metadata": {
            "tags": []
          },
          "execution_count": 15
        }
      ]
    },
    {
      "cell_type": "code",
      "metadata": {
        "colab": {
          "base_uri": "https://localhost:8080/"
        },
        "id": "nN-57qI6ZFfR",
        "outputId": "9a321020-93da-459c-81ed-56e7078eeec4"
      },
      "source": [
        "n=1\n",
        "print(\"Original tweet:\\n\",Data['Tweets'][n])\n",
        "print()\n",
        "print(\"Clean tweet:\\n\",Data['clean_tweet'][n])\n",
        "print()\n",
        "print(\"Sentiment of the tweet:\\n\",Data['Sentiment'][n])"
      ],
      "execution_count": 16,
      "outputs": [
        {
          "output_type": "stream",
          "text": [
            "Original tweet:\n",
            " RT @AdenekanKolawo1: Shooting and killing protesters is the trademark of this 'democratic' government. Nigerians must say no to tyranny and…\n",
            "\n",
            "Clean tweet:\n",
            " RT Shooting and killing protesters is the trademark of this democratic government Nigerians must say no to tyranny and\n",
            "\n",
            "Sentiment of the tweet:\n",
            " Neutral\n"
          ],
          "name": "stdout"
        }
      ]
    },
    {
      "cell_type": "code",
      "metadata": {
        "colab": {
          "base_uri": "https://localhost:8080/"
        },
        "id": "aFLHUNnUZZ4j",
        "outputId": "ba21456c-4a48-448c-9a42-213ec7d20f4f"
      },
      "source": [
        "n=10\n",
        "print(\"Original tweet:\\n\",Data['Tweets'][n])\n",
        "print()\n",
        "print(\"Clean tweet:\\n\",Data['clean_tweet'][n])\n",
        "print()\n",
        "print(\"Sentiment of the tweet:\\n\",Data['Sentiment'][n])"
      ],
      "execution_count": 17,
      "outputs": [
        {
          "output_type": "stream",
          "text": [
            "Original tweet:\n",
            " RT @shahidsheik03: Eleven Muslim families are being asked to give up their homes situated close to the Gorakhnath temple for the purpose of…\n",
            "\n",
            "Clean tweet:\n",
            " RT Eleven Muslim families are being asked to give up their homes situated close to the Gorakhnath temple for the purpose of\n",
            "\n",
            "Sentiment of the tweet:\n",
            " Neutral\n"
          ],
          "name": "stdout"
        }
      ]
    },
    {
      "cell_type": "code",
      "metadata": {
        "colab": {
          "base_uri": "https://localhost:8080/"
        },
        "id": "NMlTXw17Zfzh",
        "outputId": "d7d6ea83-7ca4-45f9-baed-91b810e47989"
      },
      "source": [
        "n=100\n",
        "print(\"Original tweet:\\n\",Data['Tweets'][n])\n",
        "print()\n",
        "print(\"Clean tweet:\\n\",Data['clean_tweet'][n])\n",
        "print()\n",
        "print(\"Sentiment of the tweet:\\n\",Data['Sentiment'][n])"
      ],
      "execution_count": 18,
      "outputs": [
        {
          "output_type": "stream",
          "text": [
            "Original tweet:\n",
            " RT @Muhamma09810821: TThe presidential form of government is as democratic as any other is. The Americans have run an exceptional model wit…\n",
            "\n",
            "Clean tweet:\n",
            " RT TThe presidential form of government is as democratic as any other is The Americans have run an exceptional model wit\n",
            "\n",
            "Sentiment of the tweet:\n",
            " Positive\n"
          ],
          "name": "stdout"
        }
      ]
    },
    {
      "cell_type": "code",
      "metadata": {
        "colab": {
          "base_uri": "https://localhost:8080/"
        },
        "id": "NczZUjzXZjVs",
        "outputId": "b8118bfb-e47c-4c6c-ece9-705c81f324c0"
      },
      "source": [
        "Data[Data.Sentiment=='Positive'].shape[0]"
      ],
      "execution_count": 19,
      "outputs": [
        {
          "output_type": "execute_result",
          "data": {
            "text/plain": [
              "510"
            ]
          },
          "metadata": {
            "tags": []
          },
          "execution_count": 19
        }
      ]
    },
    {
      "cell_type": "code",
      "metadata": {
        "colab": {
          "base_uri": "https://localhost:8080/"
        },
        "id": "JKcd-Eb4Zo-o",
        "outputId": "be09a9d5-d738-452f-b717-bfebb182243f"
      },
      "source": [
        "Data[Data.Sentiment=='Neutral'].shape[0]"
      ],
      "execution_count": 20,
      "outputs": [
        {
          "output_type": "execute_result",
          "data": {
            "text/plain": [
              "340"
            ]
          },
          "metadata": {
            "tags": []
          },
          "execution_count": 20
        }
      ]
    },
    {
      "cell_type": "code",
      "metadata": {
        "colab": {
          "base_uri": "https://localhost:8080/"
        },
        "id": "8fugY8QuZsde",
        "outputId": "2825fe54-4287-4917-ede8-c4f24f3b495c"
      },
      "source": [
        "Data[Data.Sentiment=='Negative'].shape[0]"
      ],
      "execution_count": 21,
      "outputs": [
        {
          "output_type": "execute_result",
          "data": {
            "text/plain": [
              "150"
            ]
          },
          "metadata": {
            "tags": []
          },
          "execution_count": 21
        }
      ]
    }
  ]
}