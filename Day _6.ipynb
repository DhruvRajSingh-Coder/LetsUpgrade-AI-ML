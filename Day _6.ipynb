{
  "nbformat": 4,
  "nbformat_minor": 0,
  "metadata": {
    "colab": {
      "name": "Sets",
      "provenance": [],
      "authorship_tag": "ABX9TyM4JDMsACCa4Riztf/dagah",
      "include_colab_link": true
    },
    "kernelspec": {
      "name": "python3",
      "display_name": "Python 3"
    }
  },
  "cells": [
    {
      "cell_type": "markdown",
      "metadata": {
        "id": "view-in-github",
        "colab_type": "text"
      },
      "source": [
        "<a href=\"https://colab.research.google.com/github/DhruvRajSingh-Coder/LetsUpgrade-AI-ML/blob/master/Day%20_6.ipynb\" target=\"_parent\"><img src=\"https://colab.research.google.com/assets/colab-badge.svg\" alt=\"Open In Colab\"/></a>"
      ]
    },
    {
      "cell_type": "markdown",
      "metadata": {
        "id": "z_vFtzlRPmie",
        "colab_type": "text"
      },
      "source": [
        "#___Sets___"
      ]
    },
    {
      "cell_type": "markdown",
      "metadata": {
        "id": "bPF9Pxf9Zsv2",
        "colab_type": "text"
      },
      "source": [
        "A Set is an unordered collection data type that is iterable,mutable and has no duplicate elements. In a set the elements are enclosed by curly brackets."
      ]
    },
    {
      "cell_type": "code",
      "metadata": {
        "id": "9OqLPT8YPd3w",
        "colab_type": "code",
        "colab": {
          "base_uri": "https://localhost:8080/",
          "height": 35
        },
        "outputId": "39936035-f493-4047-f2d8-7206fe8d5c3d"
      },
      "source": [
        "#Example:\n",
        "D={\"Python\",\"Java\",\"C#\"}\n",
        "print (D)"
      ],
      "execution_count": 1,
      "outputs": [
        {
          "output_type": "stream",
          "text": [
            "{'Java', 'Python', 'C#'}\n"
          ],
          "name": "stdout"
        }
      ]
    },
    {
      "cell_type": "markdown",
      "metadata": {
        "id": "XE-C3ic7b7w2",
        "colab_type": "text"
      },
      "source": [
        "In Sets prediction of order of the output is impossible, therefore the items have no index."
      ]
    },
    {
      "cell_type": "markdown",
      "metadata": {
        "id": "gUlhGyKicXao",
        "colab_type": "text"
      },
      "source": [
        "Although,'for loop'can be used to loop through the set items and if a specified value is presentin a set we can used 'in' keyword."
      ]
    },
    {
      "cell_type": "code",
      "metadata": {
        "id": "8-1GZmlndP7S",
        "colab_type": "code",
        "colab": {
          "base_uri": "https://localhost:8080/",
          "height": 71
        },
        "outputId": "06879a33-7957-4ef8-fb31-f8347164a79c"
      },
      "source": [
        "#Example:\n",
        "D={\"Python\",\"C#\",\"Java\"}\n",
        "for x in D:\n",
        "    print(x)"
      ],
      "execution_count": 2,
      "outputs": [
        {
          "output_type": "stream",
          "text": [
            "Java\n",
            "Python\n",
            "C#\n"
          ],
          "name": "stdout"
        }
      ]
    },
    {
      "cell_type": "code",
      "metadata": {
        "id": "KYm3OGEDd0__",
        "colab_type": "code",
        "colab": {
          "base_uri": "https://localhost:8080/",
          "height": 35
        },
        "outputId": "eca895c6-10b6-442f-f6a4-b2bf0973a2ea"
      },
      "source": [
        "#To check the presence of \"Python\" in the set D.\n",
        "print (\"Python\" in D)"
      ],
      "execution_count": 4,
      "outputs": [
        {
          "output_type": "stream",
          "text": [
            "True\n"
          ],
          "name": "stdout"
        }
      ]
    },
    {
      "cell_type": "code",
      "metadata": {
        "id": "YZEuFqi1eokb",
        "colab_type": "code",
        "colab": {
          "base_uri": "https://localhost:8080/",
          "height": 55
        },
        "outputId": "90a3c2b5-2b1e-49ed-81b8-808de19d8147"
      },
      "source": [
        "#One item can be added into a set using add() method.\n",
        "#Example:\n",
        "D.add(\"Malbolge\")\n",
        "print(D)"
      ],
      "execution_count": 5,
      "outputs": [
        {
          "output_type": "stream",
          "text": [
            "{'Malbolge', 'Java', 'Python', 'C#'}\n"
          ],
          "name": "stdout"
        }
      ]
    },
    {
      "cell_type": "code",
      "metadata": {
        "id": "kix4aHyiffVb",
        "colab_type": "code",
        "colab": {
          "base_uri": "https://localhost:8080/",
          "height": 55
        },
        "outputId": "f173936c-2bf6-469b-f64b-81270a731b35"
      },
      "source": [
        "#Multiple items can be added into a set using update() method.\n",
        "#Example:\n",
        "D.update([\"Cow\",\"C++\"])\n",
        "print(D)"
      ],
      "execution_count": 23,
      "outputs": [
        {
          "output_type": "stream",
          "text": [
            "{'Malbolge', 'Cow', 'Java', 'C++', 'C#', 'Python'}\n"
          ],
          "name": "stdout"
        }
      ]
    },
    {
      "cell_type": "code",
      "metadata": {
        "id": "33dP5AM-giuc",
        "colab_type": "code",
        "colab": {
          "base_uri": "https://localhost:8080/",
          "height": 35
        },
        "outputId": "1cf34fb6-cb81-463d-906d-24e95284b9b4"
      },
      "source": [
        "#len() is used two determine how many items are there in a set.\n",
        "#Example:\n",
        "print(len(D))"
      ],
      "execution_count": 24,
      "outputs": [
        {
          "output_type": "stream",
          "text": [
            "6\n"
          ],
          "name": "stdout"
        }
      ]
    },
    {
      "cell_type": "code",
      "metadata": {
        "id": "6-R1DuUlhRPA",
        "colab_type": "code",
        "colab": {
          "base_uri": "https://localhost:8080/",
          "height": 55
        },
        "outputId": "2974bf09-e4a1-4f50-8471-fdbc02a79e1e"
      },
      "source": [
        "#remove() or discard() is used to remove an item in a set.\n",
        "#Example:\n",
        "D.remove(\"C++\")\n",
        "print(D)"
      ],
      "execution_count": 25,
      "outputs": [
        {
          "output_type": "stream",
          "text": [
            "{'Malbolge', 'Cow', 'Java', 'C#', 'Python'}\n"
          ],
          "name": "stdout"
        }
      ]
    },
    {
      "cell_type": "code",
      "metadata": {
        "id": "XOEhDeHbjA67",
        "colab_type": "code",
        "colab": {
          "base_uri": "https://localhost:8080/",
          "height": 73
        },
        "outputId": "392f23b1-e9d1-45a0-ade4-0e4b19902ece"
      },
      "source": [
        "#pop() is used to remove the last item in the set.\n",
        "#Example:\n",
        "y=D.pop()\n",
        "print(y)\n",
        "print(D)"
      ],
      "execution_count": 26,
      "outputs": [
        {
          "output_type": "stream",
          "text": [
            "Malbolge\n",
            "{'Cow', 'Java', 'C#', 'Python'}\n"
          ],
          "name": "stdout"
        }
      ]
    },
    {
      "cell_type": "markdown",
      "metadata": {
        "id": "MNWIWaLikL53",
        "colab_type": "text"
      },
      "source": [
        "__Note:__ Since sets are unordered,we never know that which item will get removed when we use pop()."
      ]
    },
    {
      "cell_type": "code",
      "metadata": {
        "id": "BR0m0SyJk2jh",
        "colab_type": "code",
        "colab": {
          "base_uri": "https://localhost:8080/",
          "height": 35
        },
        "outputId": "eaaaabc7-ef0e-4491-8ebe-f37cb61efee5"
      },
      "source": [
        "#clear() is used to empty the set.\n",
        "#Example:\n",
        "D.clear()\n",
        "print(D)"
      ],
      "execution_count": 27,
      "outputs": [
        {
          "output_type": "stream",
          "text": [
            "set()\n"
          ],
          "name": "stdout"
        }
      ]
    },
    {
      "cell_type": "code",
      "metadata": {
        "id": "dbcglNETlW2V",
        "colab_type": "code",
        "colab": {
          "base_uri": "https://localhost:8080/",
          "height": 332
        },
        "outputId": "becb4456-8a0f-432b-ee8a-65fb337e6a31"
      },
      "source": [
        "#del keyboard will delete the set completely.\n",
        "#Example:\n",
        "D={\"Java\",\"Python\",\"C#\"}\n",
        "del D\n",
        "print(D)"
      ],
      "execution_count": 33,
      "outputs": [
        {
          "output_type": "error",
          "ename": "NameError",
          "evalue": "ignored",
          "traceback": [
            "\u001b[0;31m---------------------------------------------------------------------------\u001b[0m",
            "\u001b[0;31mNameError\u001b[0m                                 Traceback (most recent call last)",
            "\u001b[0;32m<ipython-input-33-a0df40c28273>\u001b[0m in \u001b[0;36m<module>\u001b[0;34m()\u001b[0m\n\u001b[1;32m      3\u001b[0m \u001b[0mD\u001b[0m\u001b[0;34m=\u001b[0m\u001b[0;34m{\u001b[0m\u001b[0;34m\"Java\"\u001b[0m\u001b[0;34m,\u001b[0m\u001b[0;34m\"Python\"\u001b[0m\u001b[0;34m,\u001b[0m\u001b[0;34m\"C#\"\u001b[0m\u001b[0;34m}\u001b[0m\u001b[0;34m\u001b[0m\u001b[0;34m\u001b[0m\u001b[0m\n\u001b[1;32m      4\u001b[0m \u001b[0;32mdel\u001b[0m \u001b[0mD\u001b[0m\u001b[0;34m\u001b[0m\u001b[0;34m\u001b[0m\u001b[0m\n\u001b[0;32m----> 5\u001b[0;31m \u001b[0mprint\u001b[0m\u001b[0;34m(\u001b[0m\u001b[0mD\u001b[0m\u001b[0;34m)\u001b[0m\u001b[0;34m\u001b[0m\u001b[0;34m\u001b[0m\u001b[0m\n\u001b[0m",
            "\u001b[0;31mNameError\u001b[0m: name 'D' is not defined"
          ]
        }
      ]
    },
    {
      "cell_type": "markdown",
      "metadata": {
        "id": "eJlBWfz0mXPg",
        "colab_type": "text"
      },
      "source": [
        "The above output has an error because the set has already been deleted before it is being printed."
      ]
    },
    {
      "cell_type": "code",
      "metadata": {
        "id": "fO2a6-VFmgF5",
        "colab_type": "code",
        "colab": {
          "base_uri": "https://localhost:8080/",
          "height": 55
        },
        "outputId": "6cc92a5d-b3e5-49ce-f6cd-955bb80a0e90"
      },
      "source": [
        "#union() returns a new set containing all the items from both the sets entered in the input.\n",
        "#Example:\n",
        "D={\"Life\",\"Death\"}\n",
        "K={\"Hell\",\"Heaven\"}\n",
        "B=D.union(K)\n",
        "print(B)"
      ],
      "execution_count": 35,
      "outputs": [
        {
          "output_type": "stream",
          "text": [
            "{'Heaven', 'Hell', 'Life', 'Death'}\n"
          ],
          "name": "stdout"
        }
      ]
    },
    {
      "cell_type": "code",
      "metadata": {
        "id": "P8rls1e3nzDb",
        "colab_type": "code",
        "colab": {
          "base_uri": "https://localhost:8080/",
          "height": 55
        },
        "outputId": "8088880b-dce2-4e31-91b4-b7a35437f343"
      },
      "source": [
        "#update() is used to insert the items from one set to another set.\n",
        "#Example:\n",
        "D.update(K)\n",
        "print(D)"
      ],
      "execution_count": 36,
      "outputs": [
        {
          "output_type": "stream",
          "text": [
            "{'Heaven', 'Hell', 'Life', 'Death'}\n"
          ],
          "name": "stdout"
        }
      ]
    },
    {
      "cell_type": "code",
      "metadata": {
        "id": "9xkq9XKwoV-6",
        "colab_type": "code",
        "colab": {
          "base_uri": "https://localhost:8080/",
          "height": 55
        },
        "outputId": "bc481270-8b6a-42b0-b568-5a6665e1242d"
      },
      "source": [
        "#set() constructor is used to make a set.\n",
        "#Example:\n",
        "D=set((\"Music\",\"Connects\",\"Soul\"))\n",
        "print(D)"
      ],
      "execution_count": 37,
      "outputs": [
        {
          "output_type": "stream",
          "text": [
            "{'Soul', 'Connects', 'Music'}\n"
          ],
          "name": "stdout"
        }
      ]
    },
    {
      "cell_type": "markdown",
      "metadata": {
        "id": "to_bho1IpNgK",
        "colab_type": "text"
      },
      "source": [
        "__Other set methods which are built-in in Python:__   \n",
        "*add()- adds an element to a set.\n",
        "*copy()- returns a copy of a set.\n",
        "*difference()- returns a set containing the difference between the two or more sets.\n",
        "*difference_update()- removes the items in the this set that are also included in another specified set.\n",
        "*intersection()- returns a set that is the intersection of two other sets.\n",
        "*intersection_update()- removes the items in the set that are not present in other specified set.   \n",
        "*isdisjoint()- returns whether two sets have a intersection or not.\n",
        "*issubset()- returns whether another set contains this set or not.\n",
        "*issuperset()- returns whether this set contains another set or not.\n",
        "*symmetric_difference()- returns a set with the symmetric differences of two sets.\n",
        "*symmetric_difference_update()- inserts the symmetric differences from this set and another."
      ]
    }
  ]
}