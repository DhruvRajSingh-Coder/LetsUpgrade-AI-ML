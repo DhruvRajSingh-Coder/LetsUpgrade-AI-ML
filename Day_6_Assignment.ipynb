{
  "nbformat": 4,
  "nbformat_minor": 0,
  "metadata": {
    "colab": {
      "name": "Day_6_Assignment",
      "provenance": [],
      "collapsed_sections": [],
      "authorship_tag": "ABX9TyMfbZNrHDXl2DZGZZh3VgMZ",
      "include_colab_link": true
    },
    "kernelspec": {
      "name": "python3",
      "display_name": "Python 3"
    }
  },
  "cells": [
    {
      "cell_type": "markdown",
      "metadata": {
        "id": "view-in-github",
        "colab_type": "text"
      },
      "source": [
        "<a href=\"https://colab.research.google.com/github/DhruvRajSingh-Coder/LetsUpgrade-AI-ML/blob/master/Day_6_Assignment.ipynb\" target=\"_parent\"><img src=\"https://colab.research.google.com/assets/colab-badge.svg\" alt=\"Open In Colab\"/></a>"
      ]
    },
    {
      "cell_type": "markdown",
      "metadata": {
        "id": "Pe1NX-nk-gVM",
        "colab_type": "text"
      },
      "source": [
        "Question 1:   \n",
        "Assuming that we have some email addresses in the \"username@companyname.com\" format, please write program\n",
        "to print the company name of a given email address. Both user names and company names are composed of letters\n",
        "only.\n",
        "Input Format:\n",
        "The first line of the input contains an email address.\n",
        "Output Format:\n",
        "Print the company name in single line.\n",
        "Example;\n",
        "Input:\n",
        "john@google.com\n",
        "Output:\n",
        "google"
      ]
    },
    {
      "cell_type": "code",
      "metadata": {
        "id": "nqM_3Rtp-eY0",
        "colab_type": "code",
        "colab": {
          "base_uri": "https://localhost:8080/",
          "height": 73
        },
        "outputId": "04bdd95e-05b9-462e-da39-72cc4f310abe"
      },
      "source": [
        "Email_ID=input(\"Enter your email address \")\n",
        "Company=Email_ID.split(\"@\")[1].split(\".\")[0]\n",
        "print(\"Name of the company is\", Company)"
      ],
      "execution_count": null,
      "outputs": [
        {
          "output_type": "stream",
          "text": [
            "Enter your email address narayan@infosys.com\n",
            "Name of the company is infosys\n"
          ],
          "name": "stdout"
        }
      ]
    },
    {
      "cell_type": "markdown",
      "metadata": {
        "id": "b7HxyK9wMi6g",
        "colab_type": "text"
      },
      "source": [
        "Question 2:  \n",
        "Write a program that accepts a comma-separated sequence of words as input and prints the words in a comma\n",
        "separated sequence after sorting them alphabetically.Input Format:The first line of input contains words separated by the comma.\n",
        "Output Format:\n",
        "Print the sorted words separated by the comma.\n",
        "Example:\n",
        "Input:\n",
        "without,hello,bag,world Output:\n",
        "bag,hello,without,world"
      ]
    },
    {
      "cell_type": "code",
      "metadata": {
        "id": "vHsCk49EqCjK",
        "colab_type": "code",
        "colab": {
          "base_uri": "https://localhost:8080/",
          "height": 73
        },
        "outputId": "35df8619-7ab5-48fd-9e63-f1568650d1bc"
      },
      "source": [
        "D=input(\"Enter the unsorted words:\").split(\",\")\n",
        "B=D.sort()\n",
        "B=\",\".join(I for I in D)\n",
        "print(\"Sorted words are\",B)"
      ],
      "execution_count": null,
      "outputs": [
        {
          "output_type": "stream",
          "text": [
            "Enter the unsorted words:Rock,Jazz,Funk,Classical,Pop\n",
            "Sorted words are Classical,Funk,Jazz,Pop,Rock\n"
          ],
          "name": "stdout"
        }
      ]
    },
    {
      "cell_type": "markdown",
      "metadata": {
        "id": "85PR9IOWP2h1",
        "colab_type": "text"
      },
      "source": [
        "Question 3:    \n",
        "Create your own Jupyter Notebook for Sets.\n",
        "Reference link: https://www.w3schools.com/python/python_sets.asp\n",
        " \n",
        "###___Done in another notebook.___"
      ]
    },
    {
      "cell_type": "markdown",
      "metadata": {
        "id": "QPQ-dH1aNi0H",
        "colab_type": "text"
      },
      "source": [
        "Question 4:                    \n",
        "Given a list of n-1 numbers ranging from 1 to n, your task is to find the missing number. There are no duplicates.Input Format:\n",
        "The first line contains n-1 numbers with each number separated by a space.\n",
        "Output Format:\n",
        "Print the missing number\n",
        "Example:\n",
        "Input:1 2 4 6 3 7 8\n",
        "Output:5\n",
        "Explanation:\n",
        "In the above list of numbers 5 is missing and hence 5 is the input."
      ]
    },
    {
      "cell_type": "code",
      "metadata": {
        "id": "2A02-LAs0xQi",
        "colab_type": "code",
        "colab": {
          "base_uri": "https://localhost:8080/",
          "height": 73
        },
        "outputId": "cbbddc28-1d4e-497d-acf7-28d9a5eaca78"
      },
      "source": [
        "D=input(\"Enter the numbers:\")\n",
        "K=D.split()\n",
        "for I in range(1,len(K)+2):\n",
        "    if str(I) not in K:\n",
        "        print(\"The missing number is\",I)"
      ],
      "execution_count": null,
      "outputs": [
        {
          "output_type": "stream",
          "text": [
            "Enter the numbers:5 1 4 9 7 2 8 3\n",
            "The missing number is 6\n"
          ],
          "name": "stdout"
        }
      ]
    },
    {
      "cell_type": "markdown",
      "metadata": {
        "id": "9wLychcMg-zT",
        "colab_type": "text"
      },
      "source": [
        "Question 5:   \n",
        "With a given list L, write a program to print this list L after removing all duplicate values with original order reserved.\n",
        "Example:\n",
        "If the input list is\n",
        "12 24 35 24 88 120 155 88 120 155\n",
        "Then the output should be\n",
        "12 24 35 88 120 155\n",
        "Explanation:\n",
        "Third, seventh and ninth element of the list L has been removed because it was already present.\n",
        "Input Format:\n",
        "In one line take the elements of the list L with each element separated by a space.\n",
        "Output Format:\n",
        "Print the elements of the modified list in one line with each element separated by a space.\n",
        "Example:\n",
        "Input: 12 24 35 24\n",
        "Output:\n",
        "12 24 35"
      ]
    },
    {
      "cell_type": "code",
      "metadata": {
        "id": "AFDI5IZd6pkZ",
        "colab_type": "code",
        "colab": {
          "base_uri": "https://localhost:8080/",
          "height": 71
        },
        "outputId": "289aa0f6-c0a2-4dc0-c723-c84d20d9941f"
      },
      "source": [
        "L=[]\n",
        "D=input(\"Enter the numbers:\")\n",
        "H=D.split()\n",
        "for I in H:\n",
        "    if int(I) not in L:\n",
        "        L.append(int(I))\n",
        "        print(int(I),end=\" \")"
      ],
      "execution_count": null,
      "outputs": [
        {
          "output_type": "stream",
          "text": [
            "Enter the numbers:6 12 15 12 6 21 23 21 23\n",
            "6 12 15 21 23 "
          ],
          "name": "stdout"
        }
      ]
    }
  ]
}