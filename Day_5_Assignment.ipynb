{
  "nbformat": 4,
  "nbformat_minor": 0,
  "metadata": {
    "colab": {
      "name": "Day_5_Assignment",
      "provenance": [],
      "collapsed_sections": [],
      "authorship_tag": "ABX9TyNL2Mx7zvsjIO+8wsDBZLYC",
      "include_colab_link": true
    },
    "kernelspec": {
      "name": "python3",
      "display_name": "Python 3"
    }
  },
  "cells": [
    {
      "cell_type": "markdown",
      "metadata": {
        "id": "view-in-github",
        "colab_type": "text"
      },
      "source": [
        "<a href=\"https://colab.research.google.com/github/DhruvRajSingh-Coder/LetsUpgrade-AI-ML/blob/master/Day_5_Assignment.ipynb\" target=\"_parent\"><img src=\"https://colab.research.google.com/assets/colab-badge.svg\" alt=\"Open In Colab\"/></a>"
      ]
    },
    {
      "cell_type": "markdown",
      "metadata": {
        "id": "nxWEP7VGrblu",
        "colab_type": "text"
      },
      "source": [
        "Question 1:  \n",
        "Write a Python program to find the first 20 non-even prime natural numbers."
      ]
    },
    {
      "cell_type": "code",
      "metadata": {
        "id": "tPjlru4pPWH_",
        "colab_type": "code",
        "colab": {
          "base_uri": "https://localhost:8080/",
          "height": 55
        },
        "outputId": "2daf3c6c-802d-4aa9-f6e5-da3c2f0ab915"
      },
      "source": [
        "Odd_prime_numbers=[]\n",
        "for k in range(1,100):\n",
        "    if (k>2 and len(Odd_prime_numbers)<20):\n",
        "        for d in range(2,k):\n",
        "            if (k%d==0):\n",
        "                break\n",
        "        else:\n",
        "             Odd_prime_numbers.append(k)\n",
        "print(\"The first 20 odd prime natural numbers are\",Odd_prime_numbers)"
      ],
      "execution_count": 66,
      "outputs": [
        {
          "output_type": "stream",
          "text": [
            "The first 20 odd prime natural numbers are [3, 5, 7, 11, 13, 17, 19, 23, 29, 31, 37, 41, 43, 47, 53, 59, 61, 67, 71, 73]\n"
          ],
          "name": "stdout"
        }
      ]
    },
    {
      "cell_type": "markdown",
      "metadata": {
        "id": "bORiQJWComDU",
        "colab_type": "text"
      },
      "source": [
        "Question 2:  \n",
        "Write a Python program to implement 15 functions of string."
      ]
    },
    {
      "cell_type": "code",
      "metadata": {
        "id": "zqyq__6xSy6x",
        "colab_type": "code",
        "colab": {
          "base_uri": "https://localhost:8080/",
          "height": 287
        },
        "outputId": "a9c8eabb-0d10-4c0f-bb9b-b70effd8e321"
      },
      "source": [
        "j=\"Life or Death\"\n",
        "print(j.casefold())\n",
        "print(j.count(\"L\"))\n",
        "print(j.encode())\n",
        "print(j.endswith(\"H\"))\n",
        "print(j.expandtabs(6))\n",
        "print(j.find(\"h\"))\n",
        "print(j.index(\"r\"))\n",
        "print(j.isalnum())\n",
        "print(j.isalpha())\n",
        "print(j.isdecimal())\n",
        "print(j.isdigit())\n",
        "print(j.isidentifier())\n",
        "print(j.strip())\n",
        "print(j.swapcase())\n",
        "print(j.upper())"
      ],
      "execution_count": 89,
      "outputs": [
        {
          "output_type": "stream",
          "text": [
            "life or death\n",
            "1\n",
            "b'Life or Death'\n",
            "False\n",
            "Life or Death\n",
            "12\n",
            "6\n",
            "False\n",
            "False\n",
            "False\n",
            "False\n",
            "False\n",
            "Life or Death\n",
            "lIFE OR dEATH\n",
            "LIFE OR DEATH\n"
          ],
          "name": "stdout"
        }
      ]
    },
    {
      "cell_type": "markdown",
      "metadata": {
        "id": "um4QV7Avon68",
        "colab_type": "text"
      },
      "source": [
        "Question 3:   \n",
        "Write a Python program to check if the given string is a Palindrome or Anagram or None of them.\n",
        "Display the message accordingly to the user."
      ]
    },
    {
      "cell_type": "code",
      "metadata": {
        "id": "UCXfuQb7ZhvY",
        "colab_type": "code",
        "colab": {
          "base_uri": "https://localhost:8080/",
          "height": 35
        },
        "outputId": "18bcb625-6947-432f-fedc-f146185f8347"
      },
      "source": [
        "a=\"listen\"\n",
        "b=\"silent\"\n",
        "if sorted(a)==sorted(b):\n",
        "    print(\"The given string is Anagram\")\n",
        "elif a==a[::-1]:\n",
        "    print(\"The given string is Palindrome\")\n",
        "else:\n",
        "    print (\"The given string is neither Anagram nor Palindrome\")"
      ],
      "execution_count": 119,
      "outputs": [
        {
          "output_type": "stream",
          "text": [
            "The given string is Anagram\n"
          ],
          "name": "stdout"
        }
      ]
    },
    {
      "cell_type": "markdown",
      "metadata": {
        "id": "v7ul_tXlooST",
        "colab_type": "text"
      },
      "source": [
        "Question 4:    \n",
        "Write a Python's user defined function that removes all the additional characters from the stringand converts it finally to lower case using built-in lower(). eg: If the string is \"Dr. Darshan Ingle\n",
        "@AI-ML Trainer\", then the output be \"drdarshaningleaimltrainer\"."
      ]
    },
    {
      "cell_type": "code",
      "metadata": {
        "id": "NJwreCEhiwJM",
        "colab_type": "code",
        "colab": {
          "base_uri": "https://localhost:8080/",
          "height": 35
        },
        "outputId": "e0301917-2995-408c-918c-dd4414e1b948"
      },
      "source": [
        "D=\"Follow_@_Buddha's_Steps\"\n",
        "def omitter(str):\n",
        "    for k in str.lower():\n",
        "        if k.isalpha():\n",
        "            print(k,end='')\n",
        "omitter(D)"
      ],
      "execution_count": 127,
      "outputs": [
        {
          "output_type": "stream",
          "text": [
            "followbuddhassteps"
          ],
          "name": "stdout"
        }
      ]
    }
  ]
}