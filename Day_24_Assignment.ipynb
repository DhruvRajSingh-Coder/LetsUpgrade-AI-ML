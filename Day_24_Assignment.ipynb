{
  "nbformat": 4,
  "nbformat_minor": 0,
  "metadata": {
    "colab": {
      "name": "Day_24_Assignment",
      "provenance": [],
      "collapsed_sections": [],
      "authorship_tag": "ABX9TyNFW7aja/woiPbJVu6rcAEv",
      "include_colab_link": true
    },
    "kernelspec": {
      "name": "python3",
      "display_name": "Python 3"
    }
  },
  "cells": [
    {
      "cell_type": "markdown",
      "metadata": {
        "id": "view-in-github",
        "colab_type": "text"
      },
      "source": [
        "<a href=\"https://colab.research.google.com/github/DhruvRajSingh-Coder/LetsUpgrade-AI-ML/blob/master/Day_24_Assignment.ipynb\" target=\"_parent\"><img src=\"https://colab.research.google.com/assets/colab-badge.svg\" alt=\"Open In Colab\"/></a>"
      ]
    },
    {
      "cell_type": "code",
      "metadata": {
        "id": "8B8z5L27zrcG"
      },
      "source": [
        "import numpy as np\n",
        "import pandas as pd\n",
        "from sklearn import tree\n",
        "from sklearn import preprocessing"
      ],
      "execution_count": null,
      "outputs": []
    },
    {
      "cell_type": "markdown",
      "metadata": {
        "id": "U_UWiMzpM3Ub"
      },
      "source": [
        "___Q1. Build Decision Tree(DV-\"Survived\",IDV-\"Age,Gender and Fare\") and Prediction.___"
      ]
    },
    {
      "cell_type": "code",
      "metadata": {
        "id": "wTx2Vb1_z6QY",
        "outputId": "2c542e4b-bb09-4b05-f553-da1fee5ac0d6",
        "colab": {
          "base_uri": "https://localhost:8080/",
          "height": 35
        }
      },
      "source": [
        "from google.colab import drive\n",
        "drive.mount(\"/content/drive\")"
      ],
      "execution_count": null,
      "outputs": [
        {
          "output_type": "stream",
          "text": [
            "Mounted at /content/drive\n"
          ],
          "name": "stdout"
        }
      ]
    },
    {
      "cell_type": "code",
      "metadata": {
        "id": "_eU2656LLf-b",
        "outputId": "46802e32-d9b7-4d6a-83ba-a4c0a0b5662b",
        "colab": {
          "base_uri": "https://localhost:8080/",
          "height": 499
        }
      },
      "source": [
        "path=\"/content/drive/My Drive/train.csv\"\n",
        "Train_Data=pd.read_csv(path)\n",
        "Train_Data.head()"
      ],
      "execution_count": null,
      "outputs": [
        {
          "output_type": "execute_result",
          "data": {
            "text/html": [
              "<div>\n",
              "<style scoped>\n",
              "    .dataframe tbody tr th:only-of-type {\n",
              "        vertical-align: middle;\n",
              "    }\n",
              "\n",
              "    .dataframe tbody tr th {\n",
              "        vertical-align: top;\n",
              "    }\n",
              "\n",
              "    .dataframe thead th {\n",
              "        text-align: right;\n",
              "    }\n",
              "</style>\n",
              "<table border=\"1\" class=\"dataframe\">\n",
              "  <thead>\n",
              "    <tr style=\"text-align: right;\">\n",
              "      <th></th>\n",
              "      <th>PassengerId</th>\n",
              "      <th>Survived</th>\n",
              "      <th>Pclass</th>\n",
              "      <th>Name</th>\n",
              "      <th>Sex</th>\n",
              "      <th>Age</th>\n",
              "      <th>SibSp</th>\n",
              "      <th>Parch</th>\n",
              "      <th>Ticket</th>\n",
              "      <th>Fare</th>\n",
              "      <th>Cabin</th>\n",
              "      <th>Embarked</th>\n",
              "    </tr>\n",
              "  </thead>\n",
              "  <tbody>\n",
              "    <tr>\n",
              "      <th>0</th>\n",
              "      <td>1</td>\n",
              "      <td>0</td>\n",
              "      <td>3</td>\n",
              "      <td>Braund, Mr. Owen Harris</td>\n",
              "      <td>male</td>\n",
              "      <td>22.0</td>\n",
              "      <td>1</td>\n",
              "      <td>0</td>\n",
              "      <td>A/5 21171</td>\n",
              "      <td>7.2500</td>\n",
              "      <td>NaN</td>\n",
              "      <td>S</td>\n",
              "    </tr>\n",
              "    <tr>\n",
              "      <th>1</th>\n",
              "      <td>2</td>\n",
              "      <td>1</td>\n",
              "      <td>1</td>\n",
              "      <td>Cumings, Mrs. John Bradley (Florence Briggs Th...</td>\n",
              "      <td>female</td>\n",
              "      <td>38.0</td>\n",
              "      <td>1</td>\n",
              "      <td>0</td>\n",
              "      <td>PC 17599</td>\n",
              "      <td>71.2833</td>\n",
              "      <td>C85</td>\n",
              "      <td>C</td>\n",
              "    </tr>\n",
              "    <tr>\n",
              "      <th>2</th>\n",
              "      <td>3</td>\n",
              "      <td>1</td>\n",
              "      <td>3</td>\n",
              "      <td>Heikkinen, Miss. Laina</td>\n",
              "      <td>female</td>\n",
              "      <td>26.0</td>\n",
              "      <td>0</td>\n",
              "      <td>0</td>\n",
              "      <td>STON/O2. 3101282</td>\n",
              "      <td>7.9250</td>\n",
              "      <td>NaN</td>\n",
              "      <td>S</td>\n",
              "    </tr>\n",
              "    <tr>\n",
              "      <th>3</th>\n",
              "      <td>4</td>\n",
              "      <td>1</td>\n",
              "      <td>1</td>\n",
              "      <td>Futrelle, Mrs. Jacques Heath (Lily May Peel)</td>\n",
              "      <td>female</td>\n",
              "      <td>35.0</td>\n",
              "      <td>1</td>\n",
              "      <td>0</td>\n",
              "      <td>113803</td>\n",
              "      <td>53.1000</td>\n",
              "      <td>C123</td>\n",
              "      <td>S</td>\n",
              "    </tr>\n",
              "    <tr>\n",
              "      <th>4</th>\n",
              "      <td>5</td>\n",
              "      <td>0</td>\n",
              "      <td>3</td>\n",
              "      <td>Allen, Mr. William Henry</td>\n",
              "      <td>male</td>\n",
              "      <td>35.0</td>\n",
              "      <td>0</td>\n",
              "      <td>0</td>\n",
              "      <td>373450</td>\n",
              "      <td>8.0500</td>\n",
              "      <td>NaN</td>\n",
              "      <td>S</td>\n",
              "    </tr>\n",
              "  </tbody>\n",
              "</table>\n",
              "</div>"
            ],
            "text/plain": [
              "   PassengerId  Survived  Pclass  ...     Fare Cabin  Embarked\n",
              "0            1         0       3  ...   7.2500   NaN         S\n",
              "1            2         1       1  ...  71.2833   C85         C\n",
              "2            3         1       3  ...   7.9250   NaN         S\n",
              "3            4         1       1  ...  53.1000  C123         S\n",
              "4            5         0       3  ...   8.0500   NaN         S\n",
              "\n",
              "[5 rows x 12 columns]"
            ]
          },
          "metadata": {
            "tags": []
          },
          "execution_count": 4
        }
      ]
    },
    {
      "cell_type": "code",
      "metadata": {
        "id": "9K5kw1WbZral",
        "outputId": "30b15759-76f7-4d59-d94d-b013f537ea81",
        "colab": {
          "base_uri": "https://localhost:8080/",
          "height": 251
        }
      },
      "source": [
        "Train_Data.isnull().sum()"
      ],
      "execution_count": null,
      "outputs": [
        {
          "output_type": "execute_result",
          "data": {
            "text/plain": [
              "PassengerId      0\n",
              "Survived         0\n",
              "Pclass           0\n",
              "Name             0\n",
              "Sex              0\n",
              "Age            177\n",
              "SibSp            0\n",
              "Parch            0\n",
              "Ticket           0\n",
              "Fare             0\n",
              "Cabin          687\n",
              "Embarked         2\n",
              "dtype: int64"
            ]
          },
          "metadata": {
            "tags": []
          },
          "execution_count": 5
        }
      ]
    },
    {
      "cell_type": "code",
      "metadata": {
        "id": "CCz2iQx_bPyU",
        "outputId": "ced46928-4861-423d-cddd-6ac4ff6ae486",
        "colab": {
          "base_uri": "https://localhost:8080/",
          "height": 499
        }
      },
      "source": [
        "Train_Data=Train_Data.drop(columns=['PassengerId','Ticket','Cabin','Embarked'])\n",
        "Train_Data.head()"
      ],
      "execution_count": null,
      "outputs": [
        {
          "output_type": "execute_result",
          "data": {
            "text/html": [
              "<div>\n",
              "<style scoped>\n",
              "    .dataframe tbody tr th:only-of-type {\n",
              "        vertical-align: middle;\n",
              "    }\n",
              "\n",
              "    .dataframe tbody tr th {\n",
              "        vertical-align: top;\n",
              "    }\n",
              "\n",
              "    .dataframe thead th {\n",
              "        text-align: right;\n",
              "    }\n",
              "</style>\n",
              "<table border=\"1\" class=\"dataframe\">\n",
              "  <thead>\n",
              "    <tr style=\"text-align: right;\">\n",
              "      <th></th>\n",
              "      <th>Survived</th>\n",
              "      <th>Pclass</th>\n",
              "      <th>Name</th>\n",
              "      <th>Sex</th>\n",
              "      <th>Age</th>\n",
              "      <th>SibSp</th>\n",
              "      <th>Parch</th>\n",
              "      <th>Fare</th>\n",
              "    </tr>\n",
              "  </thead>\n",
              "  <tbody>\n",
              "    <tr>\n",
              "      <th>0</th>\n",
              "      <td>0</td>\n",
              "      <td>3</td>\n",
              "      <td>Braund, Mr. Owen Harris</td>\n",
              "      <td>male</td>\n",
              "      <td>22.0</td>\n",
              "      <td>1</td>\n",
              "      <td>0</td>\n",
              "      <td>7.2500</td>\n",
              "    </tr>\n",
              "    <tr>\n",
              "      <th>1</th>\n",
              "      <td>1</td>\n",
              "      <td>1</td>\n",
              "      <td>Cumings, Mrs. John Bradley (Florence Briggs Th...</td>\n",
              "      <td>female</td>\n",
              "      <td>38.0</td>\n",
              "      <td>1</td>\n",
              "      <td>0</td>\n",
              "      <td>71.2833</td>\n",
              "    </tr>\n",
              "    <tr>\n",
              "      <th>2</th>\n",
              "      <td>1</td>\n",
              "      <td>3</td>\n",
              "      <td>Heikkinen, Miss. Laina</td>\n",
              "      <td>female</td>\n",
              "      <td>26.0</td>\n",
              "      <td>0</td>\n",
              "      <td>0</td>\n",
              "      <td>7.9250</td>\n",
              "    </tr>\n",
              "    <tr>\n",
              "      <th>3</th>\n",
              "      <td>1</td>\n",
              "      <td>1</td>\n",
              "      <td>Futrelle, Mrs. Jacques Heath (Lily May Peel)</td>\n",
              "      <td>female</td>\n",
              "      <td>35.0</td>\n",
              "      <td>1</td>\n",
              "      <td>0</td>\n",
              "      <td>53.1000</td>\n",
              "    </tr>\n",
              "    <tr>\n",
              "      <th>4</th>\n",
              "      <td>0</td>\n",
              "      <td>3</td>\n",
              "      <td>Allen, Mr. William Henry</td>\n",
              "      <td>male</td>\n",
              "      <td>35.0</td>\n",
              "      <td>0</td>\n",
              "      <td>0</td>\n",
              "      <td>8.0500</td>\n",
              "    </tr>\n",
              "  </tbody>\n",
              "</table>\n",
              "</div>"
            ],
            "text/plain": [
              "   Survived  Pclass  ... Parch     Fare\n",
              "0         0       3  ...     0   7.2500\n",
              "1         1       1  ...     0  71.2833\n",
              "2         1       3  ...     0   7.9250\n",
              "3         1       1  ...     0  53.1000\n",
              "4         0       3  ...     0   8.0500\n",
              "\n",
              "[5 rows x 8 columns]"
            ]
          },
          "metadata": {
            "tags": []
          },
          "execution_count": 6
        }
      ]
    },
    {
      "cell_type": "code",
      "metadata": {
        "id": "ut5bnovvZ_Vy",
        "outputId": "8c04bf92-4320-4dc3-b53d-63152708e00a",
        "colab": {
          "base_uri": "https://localhost:8080/",
          "height": 253
        }
      },
      "source": [
        "Train_Data.describe().T"
      ],
      "execution_count": null,
      "outputs": [
        {
          "output_type": "execute_result",
          "data": {
            "text/html": [
              "<div>\n",
              "<style scoped>\n",
              "    .dataframe tbody tr th:only-of-type {\n",
              "        vertical-align: middle;\n",
              "    }\n",
              "\n",
              "    .dataframe tbody tr th {\n",
              "        vertical-align: top;\n",
              "    }\n",
              "\n",
              "    .dataframe thead th {\n",
              "        text-align: right;\n",
              "    }\n",
              "</style>\n",
              "<table border=\"1\" class=\"dataframe\">\n",
              "  <thead>\n",
              "    <tr style=\"text-align: right;\">\n",
              "      <th></th>\n",
              "      <th>count</th>\n",
              "      <th>mean</th>\n",
              "      <th>std</th>\n",
              "      <th>min</th>\n",
              "      <th>25%</th>\n",
              "      <th>50%</th>\n",
              "      <th>75%</th>\n",
              "      <th>max</th>\n",
              "    </tr>\n",
              "  </thead>\n",
              "  <tbody>\n",
              "    <tr>\n",
              "      <th>Survived</th>\n",
              "      <td>891.0</td>\n",
              "      <td>0.383838</td>\n",
              "      <td>0.486592</td>\n",
              "      <td>0.00</td>\n",
              "      <td>0.0000</td>\n",
              "      <td>0.0000</td>\n",
              "      <td>1.0</td>\n",
              "      <td>1.0000</td>\n",
              "    </tr>\n",
              "    <tr>\n",
              "      <th>Pclass</th>\n",
              "      <td>891.0</td>\n",
              "      <td>2.308642</td>\n",
              "      <td>0.836071</td>\n",
              "      <td>1.00</td>\n",
              "      <td>2.0000</td>\n",
              "      <td>3.0000</td>\n",
              "      <td>3.0</td>\n",
              "      <td>3.0000</td>\n",
              "    </tr>\n",
              "    <tr>\n",
              "      <th>Age</th>\n",
              "      <td>714.0</td>\n",
              "      <td>29.699118</td>\n",
              "      <td>14.526497</td>\n",
              "      <td>0.42</td>\n",
              "      <td>20.1250</td>\n",
              "      <td>28.0000</td>\n",
              "      <td>38.0</td>\n",
              "      <td>80.0000</td>\n",
              "    </tr>\n",
              "    <tr>\n",
              "      <th>SibSp</th>\n",
              "      <td>891.0</td>\n",
              "      <td>0.523008</td>\n",
              "      <td>1.102743</td>\n",
              "      <td>0.00</td>\n",
              "      <td>0.0000</td>\n",
              "      <td>0.0000</td>\n",
              "      <td>1.0</td>\n",
              "      <td>8.0000</td>\n",
              "    </tr>\n",
              "    <tr>\n",
              "      <th>Parch</th>\n",
              "      <td>891.0</td>\n",
              "      <td>0.381594</td>\n",
              "      <td>0.806057</td>\n",
              "      <td>0.00</td>\n",
              "      <td>0.0000</td>\n",
              "      <td>0.0000</td>\n",
              "      <td>0.0</td>\n",
              "      <td>6.0000</td>\n",
              "    </tr>\n",
              "    <tr>\n",
              "      <th>Fare</th>\n",
              "      <td>891.0</td>\n",
              "      <td>32.204208</td>\n",
              "      <td>49.693429</td>\n",
              "      <td>0.00</td>\n",
              "      <td>7.9104</td>\n",
              "      <td>14.4542</td>\n",
              "      <td>31.0</td>\n",
              "      <td>512.3292</td>\n",
              "    </tr>\n",
              "  </tbody>\n",
              "</table>\n",
              "</div>"
            ],
            "text/plain": [
              "          count       mean        std   min      25%      50%   75%       max\n",
              "Survived  891.0   0.383838   0.486592  0.00   0.0000   0.0000   1.0    1.0000\n",
              "Pclass    891.0   2.308642   0.836071  1.00   2.0000   3.0000   3.0    3.0000\n",
              "Age       714.0  29.699118  14.526497  0.42  20.1250  28.0000  38.0   80.0000\n",
              "SibSp     891.0   0.523008   1.102743  0.00   0.0000   0.0000   1.0    8.0000\n",
              "Parch     891.0   0.381594   0.806057  0.00   0.0000   0.0000   0.0    6.0000\n",
              "Fare      891.0  32.204208  49.693429  0.00   7.9104  14.4542  31.0  512.3292"
            ]
          },
          "metadata": {
            "tags": []
          },
          "execution_count": 7
        }
      ]
    },
    {
      "cell_type": "code",
      "metadata": {
        "id": "zgadyyFLcITL"
      },
      "source": [
        "new_age=np.where(Train_Data['Age'].isnull(),29,Train_Data['Age'])\n",
        "Train_Data['Age']=new_age"
      ],
      "execution_count": null,
      "outputs": []
    },
    {
      "cell_type": "code",
      "metadata": {
        "id": "StFA4uEMg636",
        "outputId": "73ec5103-1605-4812-bf12-8523fa77c3ce",
        "colab": {
          "base_uri": "https://localhost:8080/",
          "height": 35
        }
      },
      "source": [
        "Train_Data.isnull().sum().sum()"
      ],
      "execution_count": null,
      "outputs": [
        {
          "output_type": "execute_result",
          "data": {
            "text/plain": [
              "0"
            ]
          },
          "metadata": {
            "tags": []
          },
          "execution_count": 9
        }
      ]
    },
    {
      "cell_type": "code",
      "metadata": {
        "id": "njOUK31whV8n",
        "outputId": "5500e337-95ec-40eb-a305-552437c3571c",
        "colab": {
          "base_uri": "https://localhost:8080/",
          "height": 499
        }
      },
      "source": [
        "label_encoder=preprocessing.LabelEncoder()\n",
        "Train_Data.Sex=label_encoder.fit_transform(Train_Data.Sex)\n",
        "Train_Data.head()"
      ],
      "execution_count": null,
      "outputs": [
        {
          "output_type": "execute_result",
          "data": {
            "text/html": [
              "<div>\n",
              "<style scoped>\n",
              "    .dataframe tbody tr th:only-of-type {\n",
              "        vertical-align: middle;\n",
              "    }\n",
              "\n",
              "    .dataframe tbody tr th {\n",
              "        vertical-align: top;\n",
              "    }\n",
              "\n",
              "    .dataframe thead th {\n",
              "        text-align: right;\n",
              "    }\n",
              "</style>\n",
              "<table border=\"1\" class=\"dataframe\">\n",
              "  <thead>\n",
              "    <tr style=\"text-align: right;\">\n",
              "      <th></th>\n",
              "      <th>Survived</th>\n",
              "      <th>Pclass</th>\n",
              "      <th>Name</th>\n",
              "      <th>Sex</th>\n",
              "      <th>Age</th>\n",
              "      <th>SibSp</th>\n",
              "      <th>Parch</th>\n",
              "      <th>Fare</th>\n",
              "    </tr>\n",
              "  </thead>\n",
              "  <tbody>\n",
              "    <tr>\n",
              "      <th>0</th>\n",
              "      <td>0</td>\n",
              "      <td>3</td>\n",
              "      <td>Braund, Mr. Owen Harris</td>\n",
              "      <td>1</td>\n",
              "      <td>22.0</td>\n",
              "      <td>1</td>\n",
              "      <td>0</td>\n",
              "      <td>7.2500</td>\n",
              "    </tr>\n",
              "    <tr>\n",
              "      <th>1</th>\n",
              "      <td>1</td>\n",
              "      <td>1</td>\n",
              "      <td>Cumings, Mrs. John Bradley (Florence Briggs Th...</td>\n",
              "      <td>0</td>\n",
              "      <td>38.0</td>\n",
              "      <td>1</td>\n",
              "      <td>0</td>\n",
              "      <td>71.2833</td>\n",
              "    </tr>\n",
              "    <tr>\n",
              "      <th>2</th>\n",
              "      <td>1</td>\n",
              "      <td>3</td>\n",
              "      <td>Heikkinen, Miss. Laina</td>\n",
              "      <td>0</td>\n",
              "      <td>26.0</td>\n",
              "      <td>0</td>\n",
              "      <td>0</td>\n",
              "      <td>7.9250</td>\n",
              "    </tr>\n",
              "    <tr>\n",
              "      <th>3</th>\n",
              "      <td>1</td>\n",
              "      <td>1</td>\n",
              "      <td>Futrelle, Mrs. Jacques Heath (Lily May Peel)</td>\n",
              "      <td>0</td>\n",
              "      <td>35.0</td>\n",
              "      <td>1</td>\n",
              "      <td>0</td>\n",
              "      <td>53.1000</td>\n",
              "    </tr>\n",
              "    <tr>\n",
              "      <th>4</th>\n",
              "      <td>0</td>\n",
              "      <td>3</td>\n",
              "      <td>Allen, Mr. William Henry</td>\n",
              "      <td>1</td>\n",
              "      <td>35.0</td>\n",
              "      <td>0</td>\n",
              "      <td>0</td>\n",
              "      <td>8.0500</td>\n",
              "    </tr>\n",
              "  </tbody>\n",
              "</table>\n",
              "</div>"
            ],
            "text/plain": [
              "   Survived  Pclass  ... Parch     Fare\n",
              "0         0       3  ...     0   7.2500\n",
              "1         1       1  ...     0  71.2833\n",
              "2         1       3  ...     0   7.9250\n",
              "3         1       1  ...     0  53.1000\n",
              "4         0       3  ...     0   8.0500\n",
              "\n",
              "[5 rows x 8 columns]"
            ]
          },
          "metadata": {
            "tags": []
          },
          "execution_count": 10
        }
      ]
    },
    {
      "cell_type": "code",
      "metadata": {
        "id": "Y85tqTVQjgJQ",
        "outputId": "5f67c5a0-1ba7-4d94-e0a1-21c69420351e",
        "colab": {
          "base_uri": "https://localhost:8080/",
          "height": 145
        }
      },
      "source": [
        "tree_model=tree.DecisionTreeClassifier()\n",
        "predictors=pd.DataFrame([Train_Data[\"Sex\"],Train_Data[\"Age\"],Train_Data[\"Fare\"]]).T\n",
        "tree_model=tree.DecisionTreeClassifier(max_depth=6,max_leaf_nodes=12)\n",
        "tree_model.fit(X=predictors,y=Train_Data[\"Survived\"])"
      ],
      "execution_count": null,
      "outputs": [
        {
          "output_type": "execute_result",
          "data": {
            "text/plain": [
              "DecisionTreeClassifier(ccp_alpha=0.0, class_weight=None, criterion='gini',\n",
              "                       max_depth=6, max_features=None, max_leaf_nodes=12,\n",
              "                       min_impurity_decrease=0.0, min_impurity_split=None,\n",
              "                       min_samples_leaf=1, min_samples_split=2,\n",
              "                       min_weight_fraction_leaf=0.0, presort='deprecated',\n",
              "                       random_state=None, splitter='best')"
            ]
          },
          "metadata": {
            "tags": []
          },
          "execution_count": 21
        }
      ]
    },
    {
      "cell_type": "code",
      "metadata": {
        "id": "T48mRFczllkg"
      },
      "source": [
        "with open(\"Dtree1.dot\",'w') as f:\n",
        "  f=tree.export_graphviz(tree_model,feature_names=[\"Sex\",\"Age\",\"Fare\"],out_file=f);"
      ],
      "execution_count": null,
      "outputs": []
    },
    {
      "cell_type": "code",
      "metadata": {
        "id": "u6i1u1pdxWtc",
        "outputId": "c31a3e8a-bac1-4496-8599-f66dadf81a85",
        "colab": {
          "base_uri": "https://localhost:8080/",
          "height": 817
        }
      },
      "source": [
        "import graphviz\n",
        "with open(\"Dtree1.dot\") as f:\n",
        "    dot_graph=f.read()\n",
        "graphviz.Source(dot_graph)"
      ],
      "execution_count": null,
      "outputs": [
        {
          "output_type": "execute_result",
          "data": {
            "text/plain": [
              "<graphviz.files.Source at 0x7f71fd9b4748>"
            ],
            "image/svg+xml": "<?xml version=\"1.0\" encoding=\"UTF-8\" standalone=\"no\"?>\n<!DOCTYPE svg PUBLIC \"-//W3C//DTD SVG 1.1//EN\"\n \"http://www.w3.org/Graphics/SVG/1.1/DTD/svg11.dtd\">\n<!-- Generated by graphviz version 2.40.1 (20161225.0304)\n -->\n<!-- Title: Tree Pages: 1 -->\n<svg width=\"1075pt\" height=\"581pt\"\n viewBox=\"0.00 0.00 1075.00 581.00\" xmlns=\"http://www.w3.org/2000/svg\" xmlns:xlink=\"http://www.w3.org/1999/xlink\">\n<g id=\"graph0\" class=\"graph\" transform=\"scale(1 1) rotate(0) translate(4 577)\">\n<title>Tree</title>\n<polygon fill=\"#ffffff\" stroke=\"transparent\" points=\"-4,4 -4,-577 1071,-577 1071,4 -4,4\"/>\n<!-- 0 -->\n<g id=\"node1\" class=\"node\">\n<title>0</title>\n<polygon fill=\"none\" stroke=\"#000000\" points=\"620,-573 495,-573 495,-505 620,-505 620,-573\"/>\n<text text-anchor=\"middle\" x=\"557.5\" y=\"-557.8\" font-family=\"Times,serif\" font-size=\"14.00\" fill=\"#000000\">Sex &lt;= 0.5</text>\n<text text-anchor=\"middle\" x=\"557.5\" y=\"-542.8\" font-family=\"Times,serif\" font-size=\"14.00\" fill=\"#000000\">gini = 0.473</text>\n<text text-anchor=\"middle\" x=\"557.5\" y=\"-527.8\" font-family=\"Times,serif\" font-size=\"14.00\" fill=\"#000000\">samples = 891</text>\n<text text-anchor=\"middle\" x=\"557.5\" y=\"-512.8\" font-family=\"Times,serif\" font-size=\"14.00\" fill=\"#000000\">value = [549, 342]</text>\n</g>\n<!-- 1 -->\n<g id=\"node2\" class=\"node\">\n<title>1</title>\n<polygon fill=\"none\" stroke=\"#000000\" points=\"547,-469 430,-469 430,-401 547,-401 547,-469\"/>\n<text text-anchor=\"middle\" x=\"488.5\" y=\"-453.8\" font-family=\"Times,serif\" font-size=\"14.00\" fill=\"#000000\">Fare &lt;= 48.2</text>\n<text text-anchor=\"middle\" x=\"488.5\" y=\"-438.8\" font-family=\"Times,serif\" font-size=\"14.00\" fill=\"#000000\">gini = 0.383</text>\n<text text-anchor=\"middle\" x=\"488.5\" y=\"-423.8\" font-family=\"Times,serif\" font-size=\"14.00\" fill=\"#000000\">samples = 314</text>\n<text text-anchor=\"middle\" x=\"488.5\" y=\"-408.8\" font-family=\"Times,serif\" font-size=\"14.00\" fill=\"#000000\">value = [81, 233]</text>\n</g>\n<!-- 0&#45;&gt;1 -->\n<g id=\"edge1\" class=\"edge\">\n<title>0&#45;&gt;1</title>\n<path fill=\"none\" stroke=\"#000000\" d=\"M534.9068,-504.9465C529.1286,-496.2373 522.8425,-486.7626 516.8166,-477.6801\"/>\n<polygon fill=\"#000000\" stroke=\"#000000\" points=\"519.589,-475.5278 511.1439,-469.13 513.756,-479.3978 519.589,-475.5278\"/>\n<text text-anchor=\"middle\" x=\"506.1866\" y=\"-489.9336\" font-family=\"Times,serif\" font-size=\"14.00\" fill=\"#000000\">True</text>\n</g>\n<!-- 2 -->\n<g id=\"node13\" class=\"node\">\n<title>2</title>\n<polygon fill=\"none\" stroke=\"#000000\" points=\"690,-469 565,-469 565,-401 690,-401 690,-469\"/>\n<text text-anchor=\"middle\" x=\"627.5\" y=\"-453.8\" font-family=\"Times,serif\" font-size=\"14.00\" fill=\"#000000\">Age &lt;= 6.5</text>\n<text text-anchor=\"middle\" x=\"627.5\" y=\"-438.8\" font-family=\"Times,serif\" font-size=\"14.00\" fill=\"#000000\">gini = 0.306</text>\n<text text-anchor=\"middle\" x=\"627.5\" y=\"-423.8\" font-family=\"Times,serif\" font-size=\"14.00\" fill=\"#000000\">samples = 577</text>\n<text text-anchor=\"middle\" x=\"627.5\" y=\"-408.8\" font-family=\"Times,serif\" font-size=\"14.00\" fill=\"#000000\">value = [468, 109]</text>\n</g>\n<!-- 0&#45;&gt;2 -->\n<g id=\"edge12\" class=\"edge\">\n<title>0&#45;&gt;2</title>\n<path fill=\"none\" stroke=\"#000000\" d=\"M580.4206,-504.9465C586.2826,-496.2373 592.6598,-486.7626 598.773,-477.6801\"/>\n<polygon fill=\"#000000\" stroke=\"#000000\" points=\"601.8476,-479.3802 604.5279,-469.13 596.0405,-475.4716 601.8476,-479.3802\"/>\n<text text-anchor=\"middle\" x=\"609.3223\" y=\"-489.966\" font-family=\"Times,serif\" font-size=\"14.00\" fill=\"#000000\">False</text>\n</g>\n<!-- 7 -->\n<g id=\"node3\" class=\"node\">\n<title>7</title>\n<polygon fill=\"none\" stroke=\"#000000\" points=\"423,-365 306,-365 306,-297 423,-297 423,-365\"/>\n<text text-anchor=\"middle\" x=\"364.5\" y=\"-349.8\" font-family=\"Times,serif\" font-size=\"14.00\" fill=\"#000000\">Fare &lt;= 27.825</text>\n<text text-anchor=\"middle\" x=\"364.5\" y=\"-334.8\" font-family=\"Times,serif\" font-size=\"14.00\" fill=\"#000000\">gini = 0.447</text>\n<text text-anchor=\"middle\" x=\"364.5\" y=\"-319.8\" font-family=\"Times,serif\" font-size=\"14.00\" fill=\"#000000\">samples = 225</text>\n<text text-anchor=\"middle\" x=\"364.5\" y=\"-304.8\" font-family=\"Times,serif\" font-size=\"14.00\" fill=\"#000000\">value = [76, 149]</text>\n</g>\n<!-- 1&#45;&gt;7 -->\n<g id=\"edge2\" class=\"edge\">\n<title>1&#45;&gt;7</title>\n<path fill=\"none\" stroke=\"#000000\" d=\"M447.8978,-400.9465C436.7644,-391.6088 424.5817,-381.3911 413.0511,-371.7203\"/>\n<polygon fill=\"#000000\" stroke=\"#000000\" points=\"415.1046,-368.8745 405.1935,-365.13 410.6062,-374.2378 415.1046,-368.8745\"/>\n</g>\n<!-- 8 -->\n<g id=\"node12\" class=\"node\">\n<title>8</title>\n<polygon fill=\"none\" stroke=\"#000000\" points=\"543.5,-357.5 441.5,-357.5 441.5,-304.5 543.5,-304.5 543.5,-357.5\"/>\n<text text-anchor=\"middle\" x=\"492.5\" y=\"-342.3\" font-family=\"Times,serif\" font-size=\"14.00\" fill=\"#000000\">gini = 0.106</text>\n<text text-anchor=\"middle\" x=\"492.5\" y=\"-327.3\" font-family=\"Times,serif\" font-size=\"14.00\" fill=\"#000000\">samples = 89</text>\n<text text-anchor=\"middle\" x=\"492.5\" y=\"-312.3\" font-family=\"Times,serif\" font-size=\"14.00\" fill=\"#000000\">value = [5, 84]</text>\n</g>\n<!-- 1&#45;&gt;8 -->\n<g id=\"edge11\" class=\"edge\">\n<title>1&#45;&gt;8</title>\n<path fill=\"none\" stroke=\"#000000\" d=\"M489.8097,-400.9465C490.2207,-390.2621 490.6759,-378.4254 491.0933,-367.5742\"/>\n<polygon fill=\"#000000\" stroke=\"#000000\" points=\"494.5921,-367.6693 491.4791,-357.5422 487.5973,-367.4002 494.5921,-367.6693\"/>\n</g>\n<!-- 15 -->\n<g id=\"node4\" class=\"node\">\n<title>15</title>\n<polygon fill=\"none\" stroke=\"#000000\" points=\"303,-261 186,-261 186,-193 303,-193 303,-261\"/>\n<text text-anchor=\"middle\" x=\"244.5\" y=\"-245.8\" font-family=\"Times,serif\" font-size=\"14.00\" fill=\"#000000\">Fare &lt;= 25.698</text>\n<text text-anchor=\"middle\" x=\"244.5\" y=\"-230.8\" font-family=\"Times,serif\" font-size=\"14.00\" fill=\"#000000\">gini = 0.428</text>\n<text text-anchor=\"middle\" x=\"244.5\" y=\"-215.8\" font-family=\"Times,serif\" font-size=\"14.00\" fill=\"#000000\">samples = 193</text>\n<text text-anchor=\"middle\" x=\"244.5\" y=\"-200.8\" font-family=\"Times,serif\" font-size=\"14.00\" fill=\"#000000\">value = [60, 133]</text>\n</g>\n<!-- 7&#45;&gt;15 -->\n<g id=\"edge3\" class=\"edge\">\n<title>7&#45;&gt;15</title>\n<path fill=\"none\" stroke=\"#000000\" d=\"M325.2075,-296.9465C314.4333,-287.6088 302.6436,-277.3911 291.485,-267.7203\"/>\n<polygon fill=\"#000000\" stroke=\"#000000\" points=\"293.7299,-265.0344 283.8808,-261.13 289.1454,-270.3243 293.7299,-265.0344\"/>\n</g>\n<!-- 16 -->\n<g id=\"node9\" class=\"node\">\n<title>16</title>\n<polygon fill=\"none\" stroke=\"#000000\" points=\"431.5,-261 321.5,-261 321.5,-193 431.5,-193 431.5,-261\"/>\n<text text-anchor=\"middle\" x=\"376.5\" y=\"-245.8\" font-family=\"Times,serif\" font-size=\"14.00\" fill=\"#000000\">Fare &lt;= 28.856</text>\n<text text-anchor=\"middle\" x=\"376.5\" y=\"-230.8\" font-family=\"Times,serif\" font-size=\"14.00\" fill=\"#000000\">gini = 0.5</text>\n<text text-anchor=\"middle\" x=\"376.5\" y=\"-215.8\" font-family=\"Times,serif\" font-size=\"14.00\" fill=\"#000000\">samples = 32</text>\n<text text-anchor=\"middle\" x=\"376.5\" y=\"-200.8\" font-family=\"Times,serif\" font-size=\"14.00\" fill=\"#000000\">value = [16, 16]</text>\n</g>\n<!-- 7&#45;&gt;16 -->\n<g id=\"edge8\" class=\"edge\">\n<title>7&#45;&gt;16</title>\n<path fill=\"none\" stroke=\"#000000\" d=\"M368.4292,-296.9465C369.3824,-288.6863 370.4149,-279.7374 371.413,-271.0875\"/>\n<polygon fill=\"#000000\" stroke=\"#000000\" points=\"374.8925,-271.4653 372.5619,-261.13 367.9387,-270.6629 374.8925,-271.4653\"/>\n</g>\n<!-- 17 -->\n<g id=\"node5\" class=\"node\">\n<title>17</title>\n<polygon fill=\"none\" stroke=\"#000000\" points=\"179,-157 62,-157 62,-89 179,-89 179,-157\"/>\n<text text-anchor=\"middle\" x=\"120.5\" y=\"-141.8\" font-family=\"Times,serif\" font-size=\"14.00\" fill=\"#000000\">Fare &lt;= 24.075</text>\n<text text-anchor=\"middle\" x=\"120.5\" y=\"-126.8\" font-family=\"Times,serif\" font-size=\"14.00\" fill=\"#000000\">gini = 0.453</text>\n<text text-anchor=\"middle\" x=\"120.5\" y=\"-111.8\" font-family=\"Times,serif\" font-size=\"14.00\" fill=\"#000000\">samples = 167</text>\n<text text-anchor=\"middle\" x=\"120.5\" y=\"-96.8\" font-family=\"Times,serif\" font-size=\"14.00\" fill=\"#000000\">value = [58, 109]</text>\n</g>\n<!-- 15&#45;&gt;17 -->\n<g id=\"edge4\" class=\"edge\">\n<title>15&#45;&gt;17</title>\n<path fill=\"none\" stroke=\"#000000\" d=\"M203.8978,-192.9465C192.7644,-183.6088 180.5817,-173.3911 169.0511,-163.7203\"/>\n<polygon fill=\"#000000\" stroke=\"#000000\" points=\"171.1046,-160.8745 161.1935,-157.13 166.6062,-166.2378 171.1046,-160.8745\"/>\n</g>\n<!-- 18 -->\n<g id=\"node8\" class=\"node\">\n<title>18</title>\n<polygon fill=\"none\" stroke=\"#000000\" points=\"299.5,-149.5 197.5,-149.5 197.5,-96.5 299.5,-96.5 299.5,-149.5\"/>\n<text text-anchor=\"middle\" x=\"248.5\" y=\"-134.3\" font-family=\"Times,serif\" font-size=\"14.00\" fill=\"#000000\">gini = 0.142</text>\n<text text-anchor=\"middle\" x=\"248.5\" y=\"-119.3\" font-family=\"Times,serif\" font-size=\"14.00\" fill=\"#000000\">samples = 26</text>\n<text text-anchor=\"middle\" x=\"248.5\" y=\"-104.3\" font-family=\"Times,serif\" font-size=\"14.00\" fill=\"#000000\">value = [2, 24]</text>\n</g>\n<!-- 15&#45;&gt;18 -->\n<g id=\"edge7\" class=\"edge\">\n<title>15&#45;&gt;18</title>\n<path fill=\"none\" stroke=\"#000000\" d=\"M245.8097,-192.9465C246.2207,-182.2621 246.6759,-170.4254 247.0933,-159.5742\"/>\n<polygon fill=\"#000000\" stroke=\"#000000\" points=\"250.5921,-159.6693 247.4791,-149.5422 243.5973,-159.4002 250.5921,-159.6693\"/>\n</g>\n<!-- 19 -->\n<g id=\"node6\" class=\"node\">\n<title>19</title>\n<polygon fill=\"none\" stroke=\"#000000\" points=\"117,-53 0,-53 0,0 117,0 117,-53\"/>\n<text text-anchor=\"middle\" x=\"58.5\" y=\"-37.8\" font-family=\"Times,serif\" font-size=\"14.00\" fill=\"#000000\">gini = 0.442</text>\n<text text-anchor=\"middle\" x=\"58.5\" y=\"-22.8\" font-family=\"Times,serif\" font-size=\"14.00\" fill=\"#000000\">samples = 161</text>\n<text text-anchor=\"middle\" x=\"58.5\" y=\"-7.8\" font-family=\"Times,serif\" font-size=\"14.00\" fill=\"#000000\">value = [53, 108]</text>\n</g>\n<!-- 17&#45;&gt;19 -->\n<g id=\"edge5\" class=\"edge\">\n<title>17&#45;&gt;19</title>\n<path fill=\"none\" stroke=\"#000000\" d=\"M98.6411,-88.9777C92.9932,-80.187 86.9007,-70.7044 81.2104,-61.8477\"/>\n<polygon fill=\"#000000\" stroke=\"#000000\" points=\"84.0356,-59.7698 75.6856,-53.2485 78.1463,-63.5536 84.0356,-59.7698\"/>\n</g>\n<!-- 20 -->\n<g id=\"node7\" class=\"node\">\n<title>20</title>\n<polygon fill=\"none\" stroke=\"#000000\" points=\"230,-53 135,-53 135,0 230,0 230,-53\"/>\n<text text-anchor=\"middle\" x=\"182.5\" y=\"-37.8\" font-family=\"Times,serif\" font-size=\"14.00\" fill=\"#000000\">gini = 0.278</text>\n<text text-anchor=\"middle\" x=\"182.5\" y=\"-22.8\" font-family=\"Times,serif\" font-size=\"14.00\" fill=\"#000000\">samples = 6</text>\n<text text-anchor=\"middle\" x=\"182.5\" y=\"-7.8\" font-family=\"Times,serif\" font-size=\"14.00\" fill=\"#000000\">value = [5, 1]</text>\n</g>\n<!-- 17&#45;&gt;20 -->\n<g id=\"edge6\" class=\"edge\">\n<title>17&#45;&gt;20</title>\n<path fill=\"none\" stroke=\"#000000\" d=\"M142.3589,-88.9777C148.0068,-80.187 154.0993,-70.7044 159.7896,-61.8477\"/>\n<polygon fill=\"#000000\" stroke=\"#000000\" points=\"162.8537,-63.5536 165.3144,-53.2485 156.9644,-59.7698 162.8537,-63.5536\"/>\n</g>\n<!-- 21 -->\n<g id=\"node10\" class=\"node\">\n<title>21</title>\n<polygon fill=\"none\" stroke=\"#000000\" points=\"420,-149.5 325,-149.5 325,-96.5 420,-96.5 420,-149.5\"/>\n<text text-anchor=\"middle\" x=\"372.5\" y=\"-134.3\" font-family=\"Times,serif\" font-size=\"14.00\" fill=\"#000000\">gini = 0.0</text>\n<text text-anchor=\"middle\" x=\"372.5\" y=\"-119.3\" font-family=\"Times,serif\" font-size=\"14.00\" fill=\"#000000\">samples = 4</text>\n<text text-anchor=\"middle\" x=\"372.5\" y=\"-104.3\" font-family=\"Times,serif\" font-size=\"14.00\" fill=\"#000000\">value = [4, 0]</text>\n</g>\n<!-- 16&#45;&gt;21 -->\n<g id=\"edge9\" class=\"edge\">\n<title>16&#45;&gt;21</title>\n<path fill=\"none\" stroke=\"#000000\" d=\"M375.1903,-192.9465C374.7793,-182.2621 374.3241,-170.4254 373.9067,-159.5742\"/>\n<polygon fill=\"#000000\" stroke=\"#000000\" points=\"377.4027,-159.4002 373.5209,-149.5422 370.4079,-159.6693 377.4027,-159.4002\"/>\n</g>\n<!-- 22 -->\n<g id=\"node11\" class=\"node\">\n<title>22</title>\n<polygon fill=\"none\" stroke=\"#000000\" points=\"548.5,-149.5 438.5,-149.5 438.5,-96.5 548.5,-96.5 548.5,-149.5\"/>\n<text text-anchor=\"middle\" x=\"493.5\" y=\"-134.3\" font-family=\"Times,serif\" font-size=\"14.00\" fill=\"#000000\">gini = 0.49</text>\n<text text-anchor=\"middle\" x=\"493.5\" y=\"-119.3\" font-family=\"Times,serif\" font-size=\"14.00\" fill=\"#000000\">samples = 28</text>\n<text text-anchor=\"middle\" x=\"493.5\" y=\"-104.3\" font-family=\"Times,serif\" font-size=\"14.00\" fill=\"#000000\">value = [12, 16]</text>\n</g>\n<!-- 16&#45;&gt;22 -->\n<g id=\"edge10\" class=\"edge\">\n<title>16&#45;&gt;22</title>\n<path fill=\"none\" stroke=\"#000000\" d=\"M414.8102,-192.9465C428.0694,-181.1606 442.9058,-167.9726 456.0916,-156.2519\"/>\n<polygon fill=\"#000000\" stroke=\"#000000\" points=\"458.4912,-158.8018 463.6401,-149.5422 453.8407,-153.5699 458.4912,-158.8018\"/>\n</g>\n<!-- 3 -->\n<g id=\"node14\" class=\"node\">\n<title>3</title>\n<polygon fill=\"none\" stroke=\"#000000\" points=\"677,-365 570,-365 570,-297 677,-297 677,-365\"/>\n<text text-anchor=\"middle\" x=\"623.5\" y=\"-349.8\" font-family=\"Times,serif\" font-size=\"14.00\" fill=\"#000000\">Fare &lt;= 20.825</text>\n<text text-anchor=\"middle\" x=\"623.5\" y=\"-334.8\" font-family=\"Times,serif\" font-size=\"14.00\" fill=\"#000000\">gini = 0.444</text>\n<text text-anchor=\"middle\" x=\"623.5\" y=\"-319.8\" font-family=\"Times,serif\" font-size=\"14.00\" fill=\"#000000\">samples = 24</text>\n<text text-anchor=\"middle\" x=\"623.5\" y=\"-304.8\" font-family=\"Times,serif\" font-size=\"14.00\" fill=\"#000000\">value = [8, 16]</text>\n</g>\n<!-- 2&#45;&gt;3 -->\n<g id=\"edge13\" class=\"edge\">\n<title>2&#45;&gt;3</title>\n<path fill=\"none\" stroke=\"#000000\" d=\"M626.1903,-400.9465C625.876,-392.776 625.5358,-383.9318 625.2065,-375.3697\"/>\n<polygon fill=\"#000000\" stroke=\"#000000\" points=\"628.6945,-374.9881 624.8127,-365.13 621.6997,-375.2572 628.6945,-374.9881\"/>\n</g>\n<!-- 4 -->\n<g id=\"node17\" class=\"node\">\n<title>4</title>\n<polygon fill=\"none\" stroke=\"#000000\" points=\"812,-365 695,-365 695,-297 812,-297 812,-365\"/>\n<text text-anchor=\"middle\" x=\"753.5\" y=\"-349.8\" font-family=\"Times,serif\" font-size=\"14.00\" fill=\"#000000\">Fare &lt;= 26.269</text>\n<text text-anchor=\"middle\" x=\"753.5\" y=\"-334.8\" font-family=\"Times,serif\" font-size=\"14.00\" fill=\"#000000\">gini = 0.28</text>\n<text text-anchor=\"middle\" x=\"753.5\" y=\"-319.8\" font-family=\"Times,serif\" font-size=\"14.00\" fill=\"#000000\">samples = 553</text>\n<text text-anchor=\"middle\" x=\"753.5\" y=\"-304.8\" font-family=\"Times,serif\" font-size=\"14.00\" fill=\"#000000\">value = [460, 93]</text>\n</g>\n<!-- 2&#45;&gt;4 -->\n<g id=\"edge16\" class=\"edge\">\n<title>2&#45;&gt;4</title>\n<path fill=\"none\" stroke=\"#000000\" d=\"M668.7571,-400.9465C680.0701,-391.6088 692.4492,-381.3911 704.1658,-371.7203\"/>\n<polygon fill=\"#000000\" stroke=\"#000000\" points=\"706.6659,-374.195 712.1502,-365.13 702.21,-368.7964 706.6659,-374.195\"/>\n</g>\n<!-- 13 -->\n<g id=\"node15\" class=\"node\">\n<title>13</title>\n<polygon fill=\"none\" stroke=\"#000000\" points=\"560,-253.5 465,-253.5 465,-200.5 560,-200.5 560,-253.5\"/>\n<text text-anchor=\"middle\" x=\"512.5\" y=\"-238.3\" font-family=\"Times,serif\" font-size=\"14.00\" fill=\"#000000\">gini = 0.0</text>\n<text text-anchor=\"middle\" x=\"512.5\" y=\"-223.3\" font-family=\"Times,serif\" font-size=\"14.00\" fill=\"#000000\">samples = 8</text>\n<text text-anchor=\"middle\" x=\"512.5\" y=\"-208.3\" font-family=\"Times,serif\" font-size=\"14.00\" fill=\"#000000\">value = [0, 8]</text>\n</g>\n<!-- 3&#45;&gt;13 -->\n<g id=\"edge14\" class=\"edge\">\n<title>3&#45;&gt;13</title>\n<path fill=\"none\" stroke=\"#000000\" d=\"M587.1544,-296.9465C574.6928,-285.2707 560.7626,-272.219 548.3412,-260.5809\"/>\n<polygon fill=\"#000000\" stroke=\"#000000\" points=\"550.5191,-257.8253 540.8287,-253.5422 545.7331,-262.9335 550.5191,-257.8253\"/>\n</g>\n<!-- 14 -->\n<g id=\"node16\" class=\"node\">\n<title>14</title>\n<polygon fill=\"none\" stroke=\"#000000\" points=\"673,-253.5 578,-253.5 578,-200.5 673,-200.5 673,-253.5\"/>\n<text text-anchor=\"middle\" x=\"625.5\" y=\"-238.3\" font-family=\"Times,serif\" font-size=\"14.00\" fill=\"#000000\">gini = 0.5</text>\n<text text-anchor=\"middle\" x=\"625.5\" y=\"-223.3\" font-family=\"Times,serif\" font-size=\"14.00\" fill=\"#000000\">samples = 16</text>\n<text text-anchor=\"middle\" x=\"625.5\" y=\"-208.3\" font-family=\"Times,serif\" font-size=\"14.00\" fill=\"#000000\">value = [8, 8]</text>\n</g>\n<!-- 3&#45;&gt;14 -->\n<g id=\"edge15\" class=\"edge\">\n<title>3&#45;&gt;14</title>\n<path fill=\"none\" stroke=\"#000000\" d=\"M624.1549,-296.9465C624.3603,-286.2621 624.588,-274.4254 624.7966,-263.5742\"/>\n<polygon fill=\"#000000\" stroke=\"#000000\" points=\"628.2966,-263.6076 624.9896,-253.5422 621.2979,-263.473 628.2966,-263.6076\"/>\n</g>\n<!-- 5 -->\n<g id=\"node18\" class=\"node\">\n<title>5</title>\n<polygon fill=\"none\" stroke=\"#000000\" points=\"811,-261 694,-261 694,-193 811,-193 811,-261\"/>\n<text text-anchor=\"middle\" x=\"752.5\" y=\"-245.8\" font-family=\"Times,serif\" font-size=\"14.00\" fill=\"#000000\">Age &lt;= 13.5</text>\n<text text-anchor=\"middle\" x=\"752.5\" y=\"-230.8\" font-family=\"Times,serif\" font-size=\"14.00\" fill=\"#000000\">gini = 0.194</text>\n<text text-anchor=\"middle\" x=\"752.5\" y=\"-215.8\" font-family=\"Times,serif\" font-size=\"14.00\" fill=\"#000000\">samples = 404</text>\n<text text-anchor=\"middle\" x=\"752.5\" y=\"-200.8\" font-family=\"Times,serif\" font-size=\"14.00\" fill=\"#000000\">value = [360, 44]</text>\n</g>\n<!-- 4&#45;&gt;5 -->\n<g id=\"edge17\" class=\"edge\">\n<title>4&#45;&gt;5</title>\n<path fill=\"none\" stroke=\"#000000\" d=\"M753.1726,-296.9465C753.094,-288.776 753.009,-279.9318 752.9266,-271.3697\"/>\n<polygon fill=\"#000000\" stroke=\"#000000\" points=\"756.4243,-271.0958 752.8282,-261.13 749.4246,-271.1632 756.4243,-271.0958\"/>\n</g>\n<!-- 6 -->\n<g id=\"node21\" class=\"node\">\n<title>6</title>\n<polygon fill=\"none\" stroke=\"#000000\" points=\"946,-261 829,-261 829,-193 946,-193 946,-261\"/>\n<text text-anchor=\"middle\" x=\"887.5\" y=\"-245.8\" font-family=\"Times,serif\" font-size=\"14.00\" fill=\"#000000\">Fare &lt;= 26.469</text>\n<text text-anchor=\"middle\" x=\"887.5\" y=\"-230.8\" font-family=\"Times,serif\" font-size=\"14.00\" fill=\"#000000\">gini = 0.441</text>\n<text text-anchor=\"middle\" x=\"887.5\" y=\"-215.8\" font-family=\"Times,serif\" font-size=\"14.00\" fill=\"#000000\">samples = 149</text>\n<text text-anchor=\"middle\" x=\"887.5\" y=\"-200.8\" font-family=\"Times,serif\" font-size=\"14.00\" fill=\"#000000\">value = [100, 49]</text>\n</g>\n<!-- 4&#45;&gt;6 -->\n<g id=\"edge20\" class=\"edge\">\n<title>4&#45;&gt;6</title>\n<path fill=\"none\" stroke=\"#000000\" d=\"M797.3766,-296.9465C809.5235,-287.519 822.8262,-277.1946 835.3927,-267.4415\"/>\n<polygon fill=\"#000000\" stroke=\"#000000\" points=\"837.7709,-270.0262 843.5248,-261.13 833.479,-264.4963 837.7709,-270.0262\"/>\n</g>\n<!-- 11 -->\n<g id=\"node19\" class=\"node\">\n<title>11</title>\n<polygon fill=\"none\" stroke=\"#000000\" points=\"679,-149.5 584,-149.5 584,-96.5 679,-96.5 679,-149.5\"/>\n<text text-anchor=\"middle\" x=\"631.5\" y=\"-134.3\" font-family=\"Times,serif\" font-size=\"14.00\" fill=\"#000000\">gini = 0.375</text>\n<text text-anchor=\"middle\" x=\"631.5\" y=\"-119.3\" font-family=\"Times,serif\" font-size=\"14.00\" fill=\"#000000\">samples = 4</text>\n<text text-anchor=\"middle\" x=\"631.5\" y=\"-104.3\" font-family=\"Times,serif\" font-size=\"14.00\" fill=\"#000000\">value = [1, 3]</text>\n</g>\n<!-- 5&#45;&gt;11 -->\n<g id=\"edge18\" class=\"edge\">\n<title>5&#45;&gt;11</title>\n<path fill=\"none\" stroke=\"#000000\" d=\"M712.8801,-192.9465C699.1676,-181.1606 683.8239,-167.9726 670.1873,-156.2519\"/>\n<polygon fill=\"#000000\" stroke=\"#000000\" points=\"672.2459,-153.4061 662.3808,-149.5422 667.6831,-158.7147 672.2459,-153.4061\"/>\n</g>\n<!-- 12 -->\n<g id=\"node20\" class=\"node\">\n<title>12</title>\n<polygon fill=\"none\" stroke=\"#000000\" points=\"814,-149.5 697,-149.5 697,-96.5 814,-96.5 814,-149.5\"/>\n<text text-anchor=\"middle\" x=\"755.5\" y=\"-134.3\" font-family=\"Times,serif\" font-size=\"14.00\" fill=\"#000000\">gini = 0.184</text>\n<text text-anchor=\"middle\" x=\"755.5\" y=\"-119.3\" font-family=\"Times,serif\" font-size=\"14.00\" fill=\"#000000\">samples = 400</text>\n<text text-anchor=\"middle\" x=\"755.5\" y=\"-104.3\" font-family=\"Times,serif\" font-size=\"14.00\" fill=\"#000000\">value = [359, 41]</text>\n</g>\n<!-- 5&#45;&gt;12 -->\n<g id=\"edge19\" class=\"edge\">\n<title>5&#45;&gt;12</title>\n<path fill=\"none\" stroke=\"#000000\" d=\"M753.4823,-192.9465C753.7905,-182.2621 754.132,-170.4254 754.445,-159.5742\"/>\n<polygon fill=\"#000000\" stroke=\"#000000\" points=\"757.9445,-159.639 754.7344,-149.5422 750.9474,-159.4371 757.9445,-159.639\"/>\n</g>\n<!-- 9 -->\n<g id=\"node22\" class=\"node\">\n<title>9</title>\n<polygon fill=\"none\" stroke=\"#000000\" points=\"932,-149.5 837,-149.5 837,-96.5 932,-96.5 932,-149.5\"/>\n<text text-anchor=\"middle\" x=\"884.5\" y=\"-134.3\" font-family=\"Times,serif\" font-size=\"14.00\" fill=\"#000000\">gini = 0.0</text>\n<text text-anchor=\"middle\" x=\"884.5\" y=\"-119.3\" font-family=\"Times,serif\" font-size=\"14.00\" fill=\"#000000\">samples = 4</text>\n<text text-anchor=\"middle\" x=\"884.5\" y=\"-104.3\" font-family=\"Times,serif\" font-size=\"14.00\" fill=\"#000000\">value = [0, 4]</text>\n</g>\n<!-- 6&#45;&gt;9 -->\n<g id=\"edge21\" class=\"edge\">\n<title>6&#45;&gt;9</title>\n<path fill=\"none\" stroke=\"#000000\" d=\"M886.5177,-192.9465C886.2095,-182.2621 885.868,-170.4254 885.555,-159.5742\"/>\n<polygon fill=\"#000000\" stroke=\"#000000\" points=\"889.0526,-159.4371 885.2656,-149.5422 882.0555,-159.639 889.0526,-159.4371\"/>\n</g>\n<!-- 10 -->\n<g id=\"node23\" class=\"node\">\n<title>10</title>\n<polygon fill=\"none\" stroke=\"#000000\" points=\"1067,-149.5 950,-149.5 950,-96.5 1067,-96.5 1067,-149.5\"/>\n<text text-anchor=\"middle\" x=\"1008.5\" y=\"-134.3\" font-family=\"Times,serif\" font-size=\"14.00\" fill=\"#000000\">gini = 0.428</text>\n<text text-anchor=\"middle\" x=\"1008.5\" y=\"-119.3\" font-family=\"Times,serif\" font-size=\"14.00\" fill=\"#000000\">samples = 145</text>\n<text text-anchor=\"middle\" x=\"1008.5\" y=\"-104.3\" font-family=\"Times,serif\" font-size=\"14.00\" fill=\"#000000\">value = [100, 45]</text>\n</g>\n<!-- 6&#45;&gt;10 -->\n<g id=\"edge22\" class=\"edge\">\n<title>6&#45;&gt;10</title>\n<path fill=\"none\" stroke=\"#000000\" d=\"M927.1199,-192.9465C940.8324,-181.1606 956.1761,-167.9726 969.8127,-156.2519\"/>\n<polygon fill=\"#000000\" stroke=\"#000000\" points=\"972.3169,-158.7147 977.6192,-149.5422 967.7541,-153.4061 972.3169,-158.7147\"/>\n</g>\n</g>\n</svg>\n"
          },
          "metadata": {
            "tags": []
          },
          "execution_count": 23
        }
      ]
    },
    {
      "cell_type": "code",
      "metadata": {
        "id": "zKnXhfKjnYKC",
        "outputId": "b797057f-48dd-4715-dd65-f7a90e6dd52e",
        "colab": {
          "base_uri": "https://localhost:8080/",
          "height": 35
        }
      },
      "source": [
        "tree_model.score(X=predictors,y=Train_Data['Survived'])"
      ],
      "execution_count": null,
      "outputs": [
        {
          "output_type": "execute_result",
          "data": {
            "text/plain": [
              "0.8114478114478114"
            ]
          },
          "metadata": {
            "tags": []
          },
          "execution_count": 24
        }
      ]
    },
    {
      "cell_type": "code",
      "metadata": {
        "id": "gBeKR188Km_J",
        "outputId": "55df4a4f-7259-498d-f1d8-1be528e9a1b6",
        "colab": {
          "base_uri": "https://localhost:8080/",
          "height": 447
        }
      },
      "source": [
        "path=\"/content/drive/My Drive/test.csv\"\n",
        "Test_Data=pd.read_csv(path)\n",
        "Test_Data.head()"
      ],
      "execution_count": null,
      "outputs": [
        {
          "output_type": "execute_result",
          "data": {
            "text/html": [
              "<div>\n",
              "<style scoped>\n",
              "    .dataframe tbody tr th:only-of-type {\n",
              "        vertical-align: middle;\n",
              "    }\n",
              "\n",
              "    .dataframe tbody tr th {\n",
              "        vertical-align: top;\n",
              "    }\n",
              "\n",
              "    .dataframe thead th {\n",
              "        text-align: right;\n",
              "    }\n",
              "</style>\n",
              "<table border=\"1\" class=\"dataframe\">\n",
              "  <thead>\n",
              "    <tr style=\"text-align: right;\">\n",
              "      <th></th>\n",
              "      <th>PassengerId</th>\n",
              "      <th>Pclass</th>\n",
              "      <th>Name</th>\n",
              "      <th>Sex</th>\n",
              "      <th>Age</th>\n",
              "      <th>SibSp</th>\n",
              "      <th>Parch</th>\n",
              "      <th>Ticket</th>\n",
              "      <th>Fare</th>\n",
              "      <th>Cabin</th>\n",
              "      <th>Embarked</th>\n",
              "    </tr>\n",
              "  </thead>\n",
              "  <tbody>\n",
              "    <tr>\n",
              "      <th>0</th>\n",
              "      <td>892</td>\n",
              "      <td>3</td>\n",
              "      <td>Kelly, Mr. James</td>\n",
              "      <td>male</td>\n",
              "      <td>34.5</td>\n",
              "      <td>0</td>\n",
              "      <td>0</td>\n",
              "      <td>330911</td>\n",
              "      <td>7.8292</td>\n",
              "      <td>NaN</td>\n",
              "      <td>Q</td>\n",
              "    </tr>\n",
              "    <tr>\n",
              "      <th>1</th>\n",
              "      <td>893</td>\n",
              "      <td>3</td>\n",
              "      <td>Wilkes, Mrs. James (Ellen Needs)</td>\n",
              "      <td>female</td>\n",
              "      <td>47.0</td>\n",
              "      <td>1</td>\n",
              "      <td>0</td>\n",
              "      <td>363272</td>\n",
              "      <td>7.0000</td>\n",
              "      <td>NaN</td>\n",
              "      <td>S</td>\n",
              "    </tr>\n",
              "    <tr>\n",
              "      <th>2</th>\n",
              "      <td>894</td>\n",
              "      <td>2</td>\n",
              "      <td>Myles, Mr. Thomas Francis</td>\n",
              "      <td>male</td>\n",
              "      <td>62.0</td>\n",
              "      <td>0</td>\n",
              "      <td>0</td>\n",
              "      <td>240276</td>\n",
              "      <td>9.6875</td>\n",
              "      <td>NaN</td>\n",
              "      <td>Q</td>\n",
              "    </tr>\n",
              "    <tr>\n",
              "      <th>3</th>\n",
              "      <td>895</td>\n",
              "      <td>3</td>\n",
              "      <td>Wirz, Mr. Albert</td>\n",
              "      <td>male</td>\n",
              "      <td>27.0</td>\n",
              "      <td>0</td>\n",
              "      <td>0</td>\n",
              "      <td>315154</td>\n",
              "      <td>8.6625</td>\n",
              "      <td>NaN</td>\n",
              "      <td>S</td>\n",
              "    </tr>\n",
              "    <tr>\n",
              "      <th>4</th>\n",
              "      <td>896</td>\n",
              "      <td>3</td>\n",
              "      <td>Hirvonen, Mrs. Alexander (Helga E Lindqvist)</td>\n",
              "      <td>female</td>\n",
              "      <td>22.0</td>\n",
              "      <td>1</td>\n",
              "      <td>1</td>\n",
              "      <td>3101298</td>\n",
              "      <td>12.2875</td>\n",
              "      <td>NaN</td>\n",
              "      <td>S</td>\n",
              "    </tr>\n",
              "  </tbody>\n",
              "</table>\n",
              "</div>"
            ],
            "text/plain": [
              "   PassengerId  Pclass  ... Cabin Embarked\n",
              "0          892       3  ...   NaN        Q\n",
              "1          893       3  ...   NaN        S\n",
              "2          894       2  ...   NaN        Q\n",
              "3          895       3  ...   NaN        S\n",
              "4          896       3  ...   NaN        S\n",
              "\n",
              "[5 rows x 11 columns]"
            ]
          },
          "metadata": {
            "tags": []
          },
          "execution_count": 25
        }
      ]
    },
    {
      "cell_type": "code",
      "metadata": {
        "id": "hEXwFZOMobHh",
        "outputId": "e80bf3e7-2c09-4e2e-f804-7804fc96dc95",
        "colab": {
          "base_uri": "https://localhost:8080/",
          "height": 233
        }
      },
      "source": [
        "Test_Data.isnull().sum()"
      ],
      "execution_count": null,
      "outputs": [
        {
          "output_type": "execute_result",
          "data": {
            "text/plain": [
              "PassengerId      0\n",
              "Pclass           0\n",
              "Name             0\n",
              "Sex              0\n",
              "Age             86\n",
              "SibSp            0\n",
              "Parch            0\n",
              "Ticket           0\n",
              "Fare             1\n",
              "Cabin          327\n",
              "Embarked         0\n",
              "dtype: int64"
            ]
          },
          "metadata": {
            "tags": []
          },
          "execution_count": 26
        }
      ]
    },
    {
      "cell_type": "code",
      "metadata": {
        "id": "8X62ToIQoPko",
        "outputId": "a86ea44d-02cc-49a5-a475-220bd812685b",
        "colab": {
          "base_uri": "https://localhost:8080/",
          "height": 253
        }
      },
      "source": [
        "Test_Data.describe().T"
      ],
      "execution_count": null,
      "outputs": [
        {
          "output_type": "execute_result",
          "data": {
            "text/html": [
              "<div>\n",
              "<style scoped>\n",
              "    .dataframe tbody tr th:only-of-type {\n",
              "        vertical-align: middle;\n",
              "    }\n",
              "\n",
              "    .dataframe tbody tr th {\n",
              "        vertical-align: top;\n",
              "    }\n",
              "\n",
              "    .dataframe thead th {\n",
              "        text-align: right;\n",
              "    }\n",
              "</style>\n",
              "<table border=\"1\" class=\"dataframe\">\n",
              "  <thead>\n",
              "    <tr style=\"text-align: right;\">\n",
              "      <th></th>\n",
              "      <th>count</th>\n",
              "      <th>mean</th>\n",
              "      <th>std</th>\n",
              "      <th>min</th>\n",
              "      <th>25%</th>\n",
              "      <th>50%</th>\n",
              "      <th>75%</th>\n",
              "      <th>max</th>\n",
              "    </tr>\n",
              "  </thead>\n",
              "  <tbody>\n",
              "    <tr>\n",
              "      <th>PassengerId</th>\n",
              "      <td>418.0</td>\n",
              "      <td>1100.500000</td>\n",
              "      <td>120.810458</td>\n",
              "      <td>892.00</td>\n",
              "      <td>996.2500</td>\n",
              "      <td>1100.5000</td>\n",
              "      <td>1204.75</td>\n",
              "      <td>1309.0000</td>\n",
              "    </tr>\n",
              "    <tr>\n",
              "      <th>Pclass</th>\n",
              "      <td>418.0</td>\n",
              "      <td>2.265550</td>\n",
              "      <td>0.841838</td>\n",
              "      <td>1.00</td>\n",
              "      <td>1.0000</td>\n",
              "      <td>3.0000</td>\n",
              "      <td>3.00</td>\n",
              "      <td>3.0000</td>\n",
              "    </tr>\n",
              "    <tr>\n",
              "      <th>Age</th>\n",
              "      <td>332.0</td>\n",
              "      <td>30.272590</td>\n",
              "      <td>14.181209</td>\n",
              "      <td>0.17</td>\n",
              "      <td>21.0000</td>\n",
              "      <td>27.0000</td>\n",
              "      <td>39.00</td>\n",
              "      <td>76.0000</td>\n",
              "    </tr>\n",
              "    <tr>\n",
              "      <th>SibSp</th>\n",
              "      <td>418.0</td>\n",
              "      <td>0.447368</td>\n",
              "      <td>0.896760</td>\n",
              "      <td>0.00</td>\n",
              "      <td>0.0000</td>\n",
              "      <td>0.0000</td>\n",
              "      <td>1.00</td>\n",
              "      <td>8.0000</td>\n",
              "    </tr>\n",
              "    <tr>\n",
              "      <th>Parch</th>\n",
              "      <td>418.0</td>\n",
              "      <td>0.392344</td>\n",
              "      <td>0.981429</td>\n",
              "      <td>0.00</td>\n",
              "      <td>0.0000</td>\n",
              "      <td>0.0000</td>\n",
              "      <td>0.00</td>\n",
              "      <td>9.0000</td>\n",
              "    </tr>\n",
              "    <tr>\n",
              "      <th>Fare</th>\n",
              "      <td>417.0</td>\n",
              "      <td>35.627188</td>\n",
              "      <td>55.907576</td>\n",
              "      <td>0.00</td>\n",
              "      <td>7.8958</td>\n",
              "      <td>14.4542</td>\n",
              "      <td>31.50</td>\n",
              "      <td>512.3292</td>\n",
              "    </tr>\n",
              "  </tbody>\n",
              "</table>\n",
              "</div>"
            ],
            "text/plain": [
              "             count         mean         std  ...        50%      75%        max\n",
              "PassengerId  418.0  1100.500000  120.810458  ...  1100.5000  1204.75  1309.0000\n",
              "Pclass       418.0     2.265550    0.841838  ...     3.0000     3.00     3.0000\n",
              "Age          332.0    30.272590   14.181209  ...    27.0000    39.00    76.0000\n",
              "SibSp        418.0     0.447368    0.896760  ...     0.0000     1.00     8.0000\n",
              "Parch        418.0     0.392344    0.981429  ...     0.0000     0.00     9.0000\n",
              "Fare         417.0    35.627188   55.907576  ...    14.4542    31.50   512.3292\n",
              "\n",
              "[6 rows x 8 columns]"
            ]
          },
          "metadata": {
            "tags": []
          },
          "execution_count": 27
        }
      ]
    },
    {
      "cell_type": "code",
      "metadata": {
        "id": "dZ1gtJ6roBDo"
      },
      "source": [
        "new_age1=np.where(Test_Data['Age'].isnull(),29,Test_Data['Age'])\n",
        "Test_Data['Age']=new_age1\n",
        "new_fare=np.where(Test_Data['Fare'].isnull(),35,Test_Data['Fare'])\n",
        "Test_Data['Fare']=new_fare"
      ],
      "execution_count": null,
      "outputs": []
    },
    {
      "cell_type": "code",
      "metadata": {
        "id": "7pgWhT3OqzCd",
        "outputId": "107d493b-88d3-4d6f-a1bb-5b3d5d1f5e8f",
        "colab": {
          "base_uri": "https://localhost:8080/",
          "height": 233
        }
      },
      "source": [
        "Test_Data.isnull().sum()"
      ],
      "execution_count": null,
      "outputs": [
        {
          "output_type": "execute_result",
          "data": {
            "text/plain": [
              "PassengerId      0\n",
              "Pclass           0\n",
              "Name             0\n",
              "Sex              0\n",
              "Age              0\n",
              "SibSp            0\n",
              "Parch            0\n",
              "Ticket           0\n",
              "Fare             0\n",
              "Cabin          327\n",
              "Embarked         0\n",
              "dtype: int64"
            ]
          },
          "metadata": {
            "tags": []
          },
          "execution_count": 29
        }
      ]
    },
    {
      "cell_type": "code",
      "metadata": {
        "id": "1tu46jzmo7BR",
        "outputId": "89ece39a-59e7-4b4e-adbb-befb301c62f4",
        "colab": {
          "base_uri": "https://localhost:8080/",
          "height": 447
        }
      },
      "source": [
        "Test_Data.Sex=label_encoder.fit_transform(Test_Data.Sex)\n",
        "Test_Data.head()"
      ],
      "execution_count": null,
      "outputs": [
        {
          "output_type": "execute_result",
          "data": {
            "text/html": [
              "<div>\n",
              "<style scoped>\n",
              "    .dataframe tbody tr th:only-of-type {\n",
              "        vertical-align: middle;\n",
              "    }\n",
              "\n",
              "    .dataframe tbody tr th {\n",
              "        vertical-align: top;\n",
              "    }\n",
              "\n",
              "    .dataframe thead th {\n",
              "        text-align: right;\n",
              "    }\n",
              "</style>\n",
              "<table border=\"1\" class=\"dataframe\">\n",
              "  <thead>\n",
              "    <tr style=\"text-align: right;\">\n",
              "      <th></th>\n",
              "      <th>PassengerId</th>\n",
              "      <th>Pclass</th>\n",
              "      <th>Name</th>\n",
              "      <th>Sex</th>\n",
              "      <th>Age</th>\n",
              "      <th>SibSp</th>\n",
              "      <th>Parch</th>\n",
              "      <th>Ticket</th>\n",
              "      <th>Fare</th>\n",
              "      <th>Cabin</th>\n",
              "      <th>Embarked</th>\n",
              "    </tr>\n",
              "  </thead>\n",
              "  <tbody>\n",
              "    <tr>\n",
              "      <th>0</th>\n",
              "      <td>892</td>\n",
              "      <td>3</td>\n",
              "      <td>Kelly, Mr. James</td>\n",
              "      <td>1</td>\n",
              "      <td>34.5</td>\n",
              "      <td>0</td>\n",
              "      <td>0</td>\n",
              "      <td>330911</td>\n",
              "      <td>7.8292</td>\n",
              "      <td>NaN</td>\n",
              "      <td>Q</td>\n",
              "    </tr>\n",
              "    <tr>\n",
              "      <th>1</th>\n",
              "      <td>893</td>\n",
              "      <td>3</td>\n",
              "      <td>Wilkes, Mrs. James (Ellen Needs)</td>\n",
              "      <td>0</td>\n",
              "      <td>47.0</td>\n",
              "      <td>1</td>\n",
              "      <td>0</td>\n",
              "      <td>363272</td>\n",
              "      <td>7.0000</td>\n",
              "      <td>NaN</td>\n",
              "      <td>S</td>\n",
              "    </tr>\n",
              "    <tr>\n",
              "      <th>2</th>\n",
              "      <td>894</td>\n",
              "      <td>2</td>\n",
              "      <td>Myles, Mr. Thomas Francis</td>\n",
              "      <td>1</td>\n",
              "      <td>62.0</td>\n",
              "      <td>0</td>\n",
              "      <td>0</td>\n",
              "      <td>240276</td>\n",
              "      <td>9.6875</td>\n",
              "      <td>NaN</td>\n",
              "      <td>Q</td>\n",
              "    </tr>\n",
              "    <tr>\n",
              "      <th>3</th>\n",
              "      <td>895</td>\n",
              "      <td>3</td>\n",
              "      <td>Wirz, Mr. Albert</td>\n",
              "      <td>1</td>\n",
              "      <td>27.0</td>\n",
              "      <td>0</td>\n",
              "      <td>0</td>\n",
              "      <td>315154</td>\n",
              "      <td>8.6625</td>\n",
              "      <td>NaN</td>\n",
              "      <td>S</td>\n",
              "    </tr>\n",
              "    <tr>\n",
              "      <th>4</th>\n",
              "      <td>896</td>\n",
              "      <td>3</td>\n",
              "      <td>Hirvonen, Mrs. Alexander (Helga E Lindqvist)</td>\n",
              "      <td>0</td>\n",
              "      <td>22.0</td>\n",
              "      <td>1</td>\n",
              "      <td>1</td>\n",
              "      <td>3101298</td>\n",
              "      <td>12.2875</td>\n",
              "      <td>NaN</td>\n",
              "      <td>S</td>\n",
              "    </tr>\n",
              "  </tbody>\n",
              "</table>\n",
              "</div>"
            ],
            "text/plain": [
              "   PassengerId  Pclass  ... Cabin  Embarked\n",
              "0          892       3  ...   NaN         Q\n",
              "1          893       3  ...   NaN         S\n",
              "2          894       2  ...   NaN         Q\n",
              "3          895       3  ...   NaN         S\n",
              "4          896       3  ...   NaN         S\n",
              "\n",
              "[5 rows x 11 columns]"
            ]
          },
          "metadata": {
            "tags": []
          },
          "execution_count": 30
        }
      ]
    },
    {
      "cell_type": "code",
      "metadata": {
        "id": "7GEikJB7pFDy"
      },
      "source": [
        "test_features=pd.DataFrame([Test_Data['Sex'],Test_Data['Age'],Test_Data['Fare']]).T\n",
        "test_preds=tree_model.predict(X=test_features)\n",
        "Predicted_Output=pd.DataFrame({'PassengerId':Test_Data['PassengerId'],'Survived':test_preds})\n",
        "Predicted_Output.to_csv(\"Output.csv\",index=False);"
      ],
      "execution_count": null,
      "outputs": []
    },
    {
      "cell_type": "code",
      "metadata": {
        "id": "-WLCc6EdHwym",
        "outputId": "1fd26462-df53-4624-ec42-ba09224d83f7",
        "colab": {
          "base_uri": "https://localhost:8080/",
          "height": 202
        }
      },
      "source": [
        "path='/content/Output.csv'\n",
        "Predicted_Output=pd.read_csv(path)\n",
        "Predicted_Output.head()"
      ],
      "execution_count": null,
      "outputs": [
        {
          "output_type": "execute_result",
          "data": {
            "text/html": [
              "<div>\n",
              "<style scoped>\n",
              "    .dataframe tbody tr th:only-of-type {\n",
              "        vertical-align: middle;\n",
              "    }\n",
              "\n",
              "    .dataframe tbody tr th {\n",
              "        vertical-align: top;\n",
              "    }\n",
              "\n",
              "    .dataframe thead th {\n",
              "        text-align: right;\n",
              "    }\n",
              "</style>\n",
              "<table border=\"1\" class=\"dataframe\">\n",
              "  <thead>\n",
              "    <tr style=\"text-align: right;\">\n",
              "      <th></th>\n",
              "      <th>PassengerId</th>\n",
              "      <th>Survived</th>\n",
              "    </tr>\n",
              "  </thead>\n",
              "  <tbody>\n",
              "    <tr>\n",
              "      <th>0</th>\n",
              "      <td>892</td>\n",
              "      <td>0</td>\n",
              "    </tr>\n",
              "    <tr>\n",
              "      <th>1</th>\n",
              "      <td>893</td>\n",
              "      <td>1</td>\n",
              "    </tr>\n",
              "    <tr>\n",
              "      <th>2</th>\n",
              "      <td>894</td>\n",
              "      <td>0</td>\n",
              "    </tr>\n",
              "    <tr>\n",
              "      <th>3</th>\n",
              "      <td>895</td>\n",
              "      <td>0</td>\n",
              "    </tr>\n",
              "    <tr>\n",
              "      <th>4</th>\n",
              "      <td>896</td>\n",
              "      <td>1</td>\n",
              "    </tr>\n",
              "  </tbody>\n",
              "</table>\n",
              "</div>"
            ],
            "text/plain": [
              "   PassengerId  Survived\n",
              "0          892         0\n",
              "1          893         1\n",
              "2          894         0\n",
              "3          895         0\n",
              "4          896         1"
            ]
          },
          "metadata": {
            "tags": []
          },
          "execution_count": 32
        }
      ]
    },
    {
      "cell_type": "markdown",
      "metadata": {
        "id": "Ja4Sim3pJTiT"
      },
      "source": [
        "___Q2. Build Decision Tree for Attrition Rate Analysis (DV - \"Attrition\",\n",
        "IDV - Output of RF Algorithm).___"
      ]
    },
    {
      "cell_type": "code",
      "metadata": {
        "id": "UlQNNYaZzU4r",
        "outputId": "f6667c3c-1df3-45bc-87cc-ed62a7fa8123",
        "colab": {
          "base_uri": "https://localhost:8080/",
          "height": 309
        }
      },
      "source": [
        "Data=pd.read_csv(\"https://raw.githubusercontent.com/LetsUpgrade/AI-ML-July-2020/master/Day-7/Assignment/general_data.csv\")\n",
        "Data.head()"
      ],
      "execution_count": null,
      "outputs": [
        {
          "output_type": "execute_result",
          "data": {
            "text/html": [
              "<div>\n",
              "<style scoped>\n",
              "    .dataframe tbody tr th:only-of-type {\n",
              "        vertical-align: middle;\n",
              "    }\n",
              "\n",
              "    .dataframe tbody tr th {\n",
              "        vertical-align: top;\n",
              "    }\n",
              "\n",
              "    .dataframe thead th {\n",
              "        text-align: right;\n",
              "    }\n",
              "</style>\n",
              "<table border=\"1\" class=\"dataframe\">\n",
              "  <thead>\n",
              "    <tr style=\"text-align: right;\">\n",
              "      <th></th>\n",
              "      <th>Age</th>\n",
              "      <th>Attrition</th>\n",
              "      <th>BusinessTravel</th>\n",
              "      <th>Department</th>\n",
              "      <th>DistanceFromHome</th>\n",
              "      <th>Education</th>\n",
              "      <th>EducationField</th>\n",
              "      <th>EmployeeCount</th>\n",
              "      <th>EmployeeID</th>\n",
              "      <th>Gender</th>\n",
              "      <th>JobLevel</th>\n",
              "      <th>JobRole</th>\n",
              "      <th>MaritalStatus</th>\n",
              "      <th>MonthlyIncome</th>\n",
              "      <th>NumCompaniesWorked</th>\n",
              "      <th>Over18</th>\n",
              "      <th>PercentSalaryHike</th>\n",
              "      <th>StandardHours</th>\n",
              "      <th>StockOptionLevel</th>\n",
              "      <th>TotalWorkingYears</th>\n",
              "      <th>TrainingTimesLastYear</th>\n",
              "      <th>YearsAtCompany</th>\n",
              "      <th>YearsSinceLastPromotion</th>\n",
              "      <th>YearsWithCurrManager</th>\n",
              "    </tr>\n",
              "  </thead>\n",
              "  <tbody>\n",
              "    <tr>\n",
              "      <th>0</th>\n",
              "      <td>51</td>\n",
              "      <td>No</td>\n",
              "      <td>Travel_Rarely</td>\n",
              "      <td>Sales</td>\n",
              "      <td>6</td>\n",
              "      <td>2</td>\n",
              "      <td>Life Sciences</td>\n",
              "      <td>1</td>\n",
              "      <td>1</td>\n",
              "      <td>Female</td>\n",
              "      <td>1</td>\n",
              "      <td>Healthcare Representative</td>\n",
              "      <td>Married</td>\n",
              "      <td>131160</td>\n",
              "      <td>1.0</td>\n",
              "      <td>Y</td>\n",
              "      <td>11</td>\n",
              "      <td>8</td>\n",
              "      <td>0</td>\n",
              "      <td>1.0</td>\n",
              "      <td>6</td>\n",
              "      <td>1</td>\n",
              "      <td>0</td>\n",
              "      <td>0</td>\n",
              "    </tr>\n",
              "    <tr>\n",
              "      <th>1</th>\n",
              "      <td>31</td>\n",
              "      <td>Yes</td>\n",
              "      <td>Travel_Frequently</td>\n",
              "      <td>Research &amp; Development</td>\n",
              "      <td>10</td>\n",
              "      <td>1</td>\n",
              "      <td>Life Sciences</td>\n",
              "      <td>1</td>\n",
              "      <td>2</td>\n",
              "      <td>Female</td>\n",
              "      <td>1</td>\n",
              "      <td>Research Scientist</td>\n",
              "      <td>Single</td>\n",
              "      <td>41890</td>\n",
              "      <td>0.0</td>\n",
              "      <td>Y</td>\n",
              "      <td>23</td>\n",
              "      <td>8</td>\n",
              "      <td>1</td>\n",
              "      <td>6.0</td>\n",
              "      <td>3</td>\n",
              "      <td>5</td>\n",
              "      <td>1</td>\n",
              "      <td>4</td>\n",
              "    </tr>\n",
              "    <tr>\n",
              "      <th>2</th>\n",
              "      <td>32</td>\n",
              "      <td>No</td>\n",
              "      <td>Travel_Frequently</td>\n",
              "      <td>Research &amp; Development</td>\n",
              "      <td>17</td>\n",
              "      <td>4</td>\n",
              "      <td>Other</td>\n",
              "      <td>1</td>\n",
              "      <td>3</td>\n",
              "      <td>Male</td>\n",
              "      <td>4</td>\n",
              "      <td>Sales Executive</td>\n",
              "      <td>Married</td>\n",
              "      <td>193280</td>\n",
              "      <td>1.0</td>\n",
              "      <td>Y</td>\n",
              "      <td>15</td>\n",
              "      <td>8</td>\n",
              "      <td>3</td>\n",
              "      <td>5.0</td>\n",
              "      <td>2</td>\n",
              "      <td>5</td>\n",
              "      <td>0</td>\n",
              "      <td>3</td>\n",
              "    </tr>\n",
              "    <tr>\n",
              "      <th>3</th>\n",
              "      <td>38</td>\n",
              "      <td>No</td>\n",
              "      <td>Non-Travel</td>\n",
              "      <td>Research &amp; Development</td>\n",
              "      <td>2</td>\n",
              "      <td>5</td>\n",
              "      <td>Life Sciences</td>\n",
              "      <td>1</td>\n",
              "      <td>4</td>\n",
              "      <td>Male</td>\n",
              "      <td>3</td>\n",
              "      <td>Human Resources</td>\n",
              "      <td>Married</td>\n",
              "      <td>83210</td>\n",
              "      <td>3.0</td>\n",
              "      <td>Y</td>\n",
              "      <td>11</td>\n",
              "      <td>8</td>\n",
              "      <td>3</td>\n",
              "      <td>13.0</td>\n",
              "      <td>5</td>\n",
              "      <td>8</td>\n",
              "      <td>7</td>\n",
              "      <td>5</td>\n",
              "    </tr>\n",
              "    <tr>\n",
              "      <th>4</th>\n",
              "      <td>32</td>\n",
              "      <td>No</td>\n",
              "      <td>Travel_Rarely</td>\n",
              "      <td>Research &amp; Development</td>\n",
              "      <td>10</td>\n",
              "      <td>1</td>\n",
              "      <td>Medical</td>\n",
              "      <td>1</td>\n",
              "      <td>5</td>\n",
              "      <td>Male</td>\n",
              "      <td>1</td>\n",
              "      <td>Sales Executive</td>\n",
              "      <td>Single</td>\n",
              "      <td>23420</td>\n",
              "      <td>4.0</td>\n",
              "      <td>Y</td>\n",
              "      <td>12</td>\n",
              "      <td>8</td>\n",
              "      <td>2</td>\n",
              "      <td>9.0</td>\n",
              "      <td>2</td>\n",
              "      <td>6</td>\n",
              "      <td>0</td>\n",
              "      <td>4</td>\n",
              "    </tr>\n",
              "  </tbody>\n",
              "</table>\n",
              "</div>"
            ],
            "text/plain": [
              "   Age Attrition  ... YearsSinceLastPromotion YearsWithCurrManager\n",
              "0   51        No  ...                       0                    0\n",
              "1   31       Yes  ...                       1                    4\n",
              "2   32        No  ...                       0                    3\n",
              "3   38        No  ...                       7                    5\n",
              "4   32        No  ...                       0                    4\n",
              "\n",
              "[5 rows x 24 columns]"
            ]
          },
          "metadata": {
            "tags": []
          },
          "execution_count": 33
        }
      ]
    },
    {
      "cell_type": "code",
      "metadata": {
        "id": "1_N_MCiQ6Xze",
        "outputId": "96a561be-f2b0-4f06-c949-027ed86fed0f",
        "colab": {
          "base_uri": "https://localhost:8080/",
          "height": 309
        }
      },
      "source": [
        "Data=Data.drop(columns=['EmployeeID','EmployeeCount','Over18','StandardHours'])\n",
        "Data.head()"
      ],
      "execution_count": null,
      "outputs": [
        {
          "output_type": "execute_result",
          "data": {
            "text/html": [
              "<div>\n",
              "<style scoped>\n",
              "    .dataframe tbody tr th:only-of-type {\n",
              "        vertical-align: middle;\n",
              "    }\n",
              "\n",
              "    .dataframe tbody tr th {\n",
              "        vertical-align: top;\n",
              "    }\n",
              "\n",
              "    .dataframe thead th {\n",
              "        text-align: right;\n",
              "    }\n",
              "</style>\n",
              "<table border=\"1\" class=\"dataframe\">\n",
              "  <thead>\n",
              "    <tr style=\"text-align: right;\">\n",
              "      <th></th>\n",
              "      <th>Age</th>\n",
              "      <th>Attrition</th>\n",
              "      <th>BusinessTravel</th>\n",
              "      <th>Department</th>\n",
              "      <th>DistanceFromHome</th>\n",
              "      <th>Education</th>\n",
              "      <th>EducationField</th>\n",
              "      <th>Gender</th>\n",
              "      <th>JobLevel</th>\n",
              "      <th>JobRole</th>\n",
              "      <th>MaritalStatus</th>\n",
              "      <th>MonthlyIncome</th>\n",
              "      <th>NumCompaniesWorked</th>\n",
              "      <th>PercentSalaryHike</th>\n",
              "      <th>StockOptionLevel</th>\n",
              "      <th>TotalWorkingYears</th>\n",
              "      <th>TrainingTimesLastYear</th>\n",
              "      <th>YearsAtCompany</th>\n",
              "      <th>YearsSinceLastPromotion</th>\n",
              "      <th>YearsWithCurrManager</th>\n",
              "    </tr>\n",
              "  </thead>\n",
              "  <tbody>\n",
              "    <tr>\n",
              "      <th>0</th>\n",
              "      <td>51</td>\n",
              "      <td>No</td>\n",
              "      <td>Travel_Rarely</td>\n",
              "      <td>Sales</td>\n",
              "      <td>6</td>\n",
              "      <td>2</td>\n",
              "      <td>Life Sciences</td>\n",
              "      <td>Female</td>\n",
              "      <td>1</td>\n",
              "      <td>Healthcare Representative</td>\n",
              "      <td>Married</td>\n",
              "      <td>131160</td>\n",
              "      <td>1.0</td>\n",
              "      <td>11</td>\n",
              "      <td>0</td>\n",
              "      <td>1.0</td>\n",
              "      <td>6</td>\n",
              "      <td>1</td>\n",
              "      <td>0</td>\n",
              "      <td>0</td>\n",
              "    </tr>\n",
              "    <tr>\n",
              "      <th>1</th>\n",
              "      <td>31</td>\n",
              "      <td>Yes</td>\n",
              "      <td>Travel_Frequently</td>\n",
              "      <td>Research &amp; Development</td>\n",
              "      <td>10</td>\n",
              "      <td>1</td>\n",
              "      <td>Life Sciences</td>\n",
              "      <td>Female</td>\n",
              "      <td>1</td>\n",
              "      <td>Research Scientist</td>\n",
              "      <td>Single</td>\n",
              "      <td>41890</td>\n",
              "      <td>0.0</td>\n",
              "      <td>23</td>\n",
              "      <td>1</td>\n",
              "      <td>6.0</td>\n",
              "      <td>3</td>\n",
              "      <td>5</td>\n",
              "      <td>1</td>\n",
              "      <td>4</td>\n",
              "    </tr>\n",
              "    <tr>\n",
              "      <th>2</th>\n",
              "      <td>32</td>\n",
              "      <td>No</td>\n",
              "      <td>Travel_Frequently</td>\n",
              "      <td>Research &amp; Development</td>\n",
              "      <td>17</td>\n",
              "      <td>4</td>\n",
              "      <td>Other</td>\n",
              "      <td>Male</td>\n",
              "      <td>4</td>\n",
              "      <td>Sales Executive</td>\n",
              "      <td>Married</td>\n",
              "      <td>193280</td>\n",
              "      <td>1.0</td>\n",
              "      <td>15</td>\n",
              "      <td>3</td>\n",
              "      <td>5.0</td>\n",
              "      <td>2</td>\n",
              "      <td>5</td>\n",
              "      <td>0</td>\n",
              "      <td>3</td>\n",
              "    </tr>\n",
              "    <tr>\n",
              "      <th>3</th>\n",
              "      <td>38</td>\n",
              "      <td>No</td>\n",
              "      <td>Non-Travel</td>\n",
              "      <td>Research &amp; Development</td>\n",
              "      <td>2</td>\n",
              "      <td>5</td>\n",
              "      <td>Life Sciences</td>\n",
              "      <td>Male</td>\n",
              "      <td>3</td>\n",
              "      <td>Human Resources</td>\n",
              "      <td>Married</td>\n",
              "      <td>83210</td>\n",
              "      <td>3.0</td>\n",
              "      <td>11</td>\n",
              "      <td>3</td>\n",
              "      <td>13.0</td>\n",
              "      <td>5</td>\n",
              "      <td>8</td>\n",
              "      <td>7</td>\n",
              "      <td>5</td>\n",
              "    </tr>\n",
              "    <tr>\n",
              "      <th>4</th>\n",
              "      <td>32</td>\n",
              "      <td>No</td>\n",
              "      <td>Travel_Rarely</td>\n",
              "      <td>Research &amp; Development</td>\n",
              "      <td>10</td>\n",
              "      <td>1</td>\n",
              "      <td>Medical</td>\n",
              "      <td>Male</td>\n",
              "      <td>1</td>\n",
              "      <td>Sales Executive</td>\n",
              "      <td>Single</td>\n",
              "      <td>23420</td>\n",
              "      <td>4.0</td>\n",
              "      <td>12</td>\n",
              "      <td>2</td>\n",
              "      <td>9.0</td>\n",
              "      <td>2</td>\n",
              "      <td>6</td>\n",
              "      <td>0</td>\n",
              "      <td>4</td>\n",
              "    </tr>\n",
              "  </tbody>\n",
              "</table>\n",
              "</div>"
            ],
            "text/plain": [
              "   Age Attrition  ... YearsSinceLastPromotion YearsWithCurrManager\n",
              "0   51        No  ...                       0                    0\n",
              "1   31       Yes  ...                       1                    4\n",
              "2   32        No  ...                       0                    3\n",
              "3   38        No  ...                       7                    5\n",
              "4   32        No  ...                       0                    4\n",
              "\n",
              "[5 rows x 20 columns]"
            ]
          },
          "metadata": {
            "tags": []
          },
          "execution_count": 34
        }
      ]
    },
    {
      "cell_type": "code",
      "metadata": {
        "id": "mpcPE-JZKzyt",
        "outputId": "c3ee88e8-f24c-41b1-8331-f2cd24b808af",
        "colab": {
          "base_uri": "https://localhost:8080/",
          "height": 163
        }
      },
      "source": [
        "from sklearn.ensemble import RandomForestClassifier\n",
        "Data.columns"
      ],
      "execution_count": null,
      "outputs": [
        {
          "output_type": "execute_result",
          "data": {
            "text/plain": [
              "Index(['Age', 'Attrition', 'BusinessTravel', 'Department', 'DistanceFromHome',\n",
              "       'Education', 'EducationField', 'Gender', 'JobLevel', 'JobRole',\n",
              "       'MaritalStatus', 'MonthlyIncome', 'NumCompaniesWorked',\n",
              "       'PercentSalaryHike', 'StockOptionLevel', 'TotalWorkingYears',\n",
              "       'TrainingTimesLastYear', 'YearsAtCompany', 'YearsSinceLastPromotion',\n",
              "       'YearsWithCurrManager'],\n",
              "      dtype='object')"
            ]
          },
          "metadata": {
            "tags": []
          },
          "execution_count": 35
        }
      ]
    },
    {
      "cell_type": "code",
      "metadata": {
        "id": "dEeLKPny0mrK",
        "outputId": "37b39d9e-887e-4729-837d-0d8c1d1bbb65",
        "colab": {
          "base_uri": "https://localhost:8080/",
          "height": 222
        }
      },
      "source": [
        "Data.Attrition=label_encoder.fit_transform(Data.Attrition)\n",
        "Data.BusinessTravel=label_encoder.fit_transform(Data.BusinessTravel)\n",
        "Data.Department=label_encoder.fit_transform(Data.Department)\n",
        "Data.EducationField=label_encoder.fit_transform(Data.EducationField)\n",
        "Data.Gender=label_encoder.fit_transform(Data.Gender)\n",
        "Data.JobRole=label_encoder.fit_transform(Data.JobRole)\n",
        "Data.MaritalStatus=label_encoder.fit_transform(Data.MaritalStatus)\n",
        "Data.head()"
      ],
      "execution_count": null,
      "outputs": [
        {
          "output_type": "execute_result",
          "data": {
            "text/html": [
              "<div>\n",
              "<style scoped>\n",
              "    .dataframe tbody tr th:only-of-type {\n",
              "        vertical-align: middle;\n",
              "    }\n",
              "\n",
              "    .dataframe tbody tr th {\n",
              "        vertical-align: top;\n",
              "    }\n",
              "\n",
              "    .dataframe thead th {\n",
              "        text-align: right;\n",
              "    }\n",
              "</style>\n",
              "<table border=\"1\" class=\"dataframe\">\n",
              "  <thead>\n",
              "    <tr style=\"text-align: right;\">\n",
              "      <th></th>\n",
              "      <th>Age</th>\n",
              "      <th>Attrition</th>\n",
              "      <th>BusinessTravel</th>\n",
              "      <th>Department</th>\n",
              "      <th>DistanceFromHome</th>\n",
              "      <th>Education</th>\n",
              "      <th>EducationField</th>\n",
              "      <th>Gender</th>\n",
              "      <th>JobLevel</th>\n",
              "      <th>JobRole</th>\n",
              "      <th>MaritalStatus</th>\n",
              "      <th>MonthlyIncome</th>\n",
              "      <th>NumCompaniesWorked</th>\n",
              "      <th>PercentSalaryHike</th>\n",
              "      <th>StockOptionLevel</th>\n",
              "      <th>TotalWorkingYears</th>\n",
              "      <th>TrainingTimesLastYear</th>\n",
              "      <th>YearsAtCompany</th>\n",
              "      <th>YearsSinceLastPromotion</th>\n",
              "      <th>YearsWithCurrManager</th>\n",
              "    </tr>\n",
              "  </thead>\n",
              "  <tbody>\n",
              "    <tr>\n",
              "      <th>0</th>\n",
              "      <td>51</td>\n",
              "      <td>0</td>\n",
              "      <td>2</td>\n",
              "      <td>2</td>\n",
              "      <td>6</td>\n",
              "      <td>2</td>\n",
              "      <td>1</td>\n",
              "      <td>0</td>\n",
              "      <td>1</td>\n",
              "      <td>0</td>\n",
              "      <td>1</td>\n",
              "      <td>131160</td>\n",
              "      <td>1.0</td>\n",
              "      <td>11</td>\n",
              "      <td>0</td>\n",
              "      <td>1.0</td>\n",
              "      <td>6</td>\n",
              "      <td>1</td>\n",
              "      <td>0</td>\n",
              "      <td>0</td>\n",
              "    </tr>\n",
              "    <tr>\n",
              "      <th>1</th>\n",
              "      <td>31</td>\n",
              "      <td>1</td>\n",
              "      <td>1</td>\n",
              "      <td>1</td>\n",
              "      <td>10</td>\n",
              "      <td>1</td>\n",
              "      <td>1</td>\n",
              "      <td>0</td>\n",
              "      <td>1</td>\n",
              "      <td>6</td>\n",
              "      <td>2</td>\n",
              "      <td>41890</td>\n",
              "      <td>0.0</td>\n",
              "      <td>23</td>\n",
              "      <td>1</td>\n",
              "      <td>6.0</td>\n",
              "      <td>3</td>\n",
              "      <td>5</td>\n",
              "      <td>1</td>\n",
              "      <td>4</td>\n",
              "    </tr>\n",
              "    <tr>\n",
              "      <th>2</th>\n",
              "      <td>32</td>\n",
              "      <td>0</td>\n",
              "      <td>1</td>\n",
              "      <td>1</td>\n",
              "      <td>17</td>\n",
              "      <td>4</td>\n",
              "      <td>4</td>\n",
              "      <td>1</td>\n",
              "      <td>4</td>\n",
              "      <td>7</td>\n",
              "      <td>1</td>\n",
              "      <td>193280</td>\n",
              "      <td>1.0</td>\n",
              "      <td>15</td>\n",
              "      <td>3</td>\n",
              "      <td>5.0</td>\n",
              "      <td>2</td>\n",
              "      <td>5</td>\n",
              "      <td>0</td>\n",
              "      <td>3</td>\n",
              "    </tr>\n",
              "    <tr>\n",
              "      <th>3</th>\n",
              "      <td>38</td>\n",
              "      <td>0</td>\n",
              "      <td>0</td>\n",
              "      <td>1</td>\n",
              "      <td>2</td>\n",
              "      <td>5</td>\n",
              "      <td>1</td>\n",
              "      <td>1</td>\n",
              "      <td>3</td>\n",
              "      <td>1</td>\n",
              "      <td>1</td>\n",
              "      <td>83210</td>\n",
              "      <td>3.0</td>\n",
              "      <td>11</td>\n",
              "      <td>3</td>\n",
              "      <td>13.0</td>\n",
              "      <td>5</td>\n",
              "      <td>8</td>\n",
              "      <td>7</td>\n",
              "      <td>5</td>\n",
              "    </tr>\n",
              "    <tr>\n",
              "      <th>4</th>\n",
              "      <td>32</td>\n",
              "      <td>0</td>\n",
              "      <td>2</td>\n",
              "      <td>1</td>\n",
              "      <td>10</td>\n",
              "      <td>1</td>\n",
              "      <td>3</td>\n",
              "      <td>1</td>\n",
              "      <td>1</td>\n",
              "      <td>7</td>\n",
              "      <td>2</td>\n",
              "      <td>23420</td>\n",
              "      <td>4.0</td>\n",
              "      <td>12</td>\n",
              "      <td>2</td>\n",
              "      <td>9.0</td>\n",
              "      <td>2</td>\n",
              "      <td>6</td>\n",
              "      <td>0</td>\n",
              "      <td>4</td>\n",
              "    </tr>\n",
              "  </tbody>\n",
              "</table>\n",
              "</div>"
            ],
            "text/plain": [
              "   Age  Attrition  ...  YearsSinceLastPromotion  YearsWithCurrManager\n",
              "0   51          0  ...                        0                     0\n",
              "1   31          1  ...                        1                     4\n",
              "2   32          0  ...                        0                     3\n",
              "3   38          0  ...                        7                     5\n",
              "4   32          0  ...                        0                     4\n",
              "\n",
              "[5 rows x 20 columns]"
            ]
          },
          "metadata": {
            "tags": []
          },
          "execution_count": 36
        }
      ]
    },
    {
      "cell_type": "code",
      "metadata": {
        "id": "ITI4RbQg4yfW",
        "outputId": "461cc1fd-f77a-4c4c-9cd6-481022104c72",
        "colab": {
          "base_uri": "https://localhost:8080/",
          "height": 415
        }
      },
      "source": [
        "Data.isnull().sum()"
      ],
      "execution_count": null,
      "outputs": [
        {
          "output_type": "execute_result",
          "data": {
            "text/plain": [
              "Age                         0\n",
              "Attrition                   0\n",
              "BusinessTravel              0\n",
              "Department                  0\n",
              "DistanceFromHome            0\n",
              "Education                   0\n",
              "EducationField              0\n",
              "Gender                      0\n",
              "JobLevel                    0\n",
              "JobRole                     0\n",
              "MaritalStatus               0\n",
              "MonthlyIncome               0\n",
              "NumCompaniesWorked         19\n",
              "PercentSalaryHike           0\n",
              "StockOptionLevel            0\n",
              "TotalWorkingYears           9\n",
              "TrainingTimesLastYear       0\n",
              "YearsAtCompany              0\n",
              "YearsSinceLastPromotion     0\n",
              "YearsWithCurrManager        0\n",
              "dtype: int64"
            ]
          },
          "metadata": {
            "tags": []
          },
          "execution_count": 37
        }
      ]
    },
    {
      "cell_type": "code",
      "metadata": {
        "id": "iyVLs_rr7HM3",
        "outputId": "a27dda60-3a6c-4008-cd82-a18c143c460b",
        "colab": {
          "base_uri": "https://localhost:8080/",
          "height": 682
        }
      },
      "source": [
        "Data.describe().T"
      ],
      "execution_count": null,
      "outputs": [
        {
          "output_type": "execute_result",
          "data": {
            "text/html": [
              "<div>\n",
              "<style scoped>\n",
              "    .dataframe tbody tr th:only-of-type {\n",
              "        vertical-align: middle;\n",
              "    }\n",
              "\n",
              "    .dataframe tbody tr th {\n",
              "        vertical-align: top;\n",
              "    }\n",
              "\n",
              "    .dataframe thead th {\n",
              "        text-align: right;\n",
              "    }\n",
              "</style>\n",
              "<table border=\"1\" class=\"dataframe\">\n",
              "  <thead>\n",
              "    <tr style=\"text-align: right;\">\n",
              "      <th></th>\n",
              "      <th>count</th>\n",
              "      <th>mean</th>\n",
              "      <th>std</th>\n",
              "      <th>min</th>\n",
              "      <th>25%</th>\n",
              "      <th>50%</th>\n",
              "      <th>75%</th>\n",
              "      <th>max</th>\n",
              "    </tr>\n",
              "  </thead>\n",
              "  <tbody>\n",
              "    <tr>\n",
              "      <th>Age</th>\n",
              "      <td>4410.0</td>\n",
              "      <td>36.923810</td>\n",
              "      <td>9.133301</td>\n",
              "      <td>18.0</td>\n",
              "      <td>30.0</td>\n",
              "      <td>36.0</td>\n",
              "      <td>43.0</td>\n",
              "      <td>60.0</td>\n",
              "    </tr>\n",
              "    <tr>\n",
              "      <th>Attrition</th>\n",
              "      <td>4410.0</td>\n",
              "      <td>0.161224</td>\n",
              "      <td>0.367780</td>\n",
              "      <td>0.0</td>\n",
              "      <td>0.0</td>\n",
              "      <td>0.0</td>\n",
              "      <td>0.0</td>\n",
              "      <td>1.0</td>\n",
              "    </tr>\n",
              "    <tr>\n",
              "      <th>BusinessTravel</th>\n",
              "      <td>4410.0</td>\n",
              "      <td>1.607483</td>\n",
              "      <td>0.665304</td>\n",
              "      <td>0.0</td>\n",
              "      <td>1.0</td>\n",
              "      <td>2.0</td>\n",
              "      <td>2.0</td>\n",
              "      <td>2.0</td>\n",
              "    </tr>\n",
              "    <tr>\n",
              "      <th>Department</th>\n",
              "      <td>4410.0</td>\n",
              "      <td>1.260544</td>\n",
              "      <td>0.527673</td>\n",
              "      <td>0.0</td>\n",
              "      <td>1.0</td>\n",
              "      <td>1.0</td>\n",
              "      <td>2.0</td>\n",
              "      <td>2.0</td>\n",
              "    </tr>\n",
              "    <tr>\n",
              "      <th>DistanceFromHome</th>\n",
              "      <td>4410.0</td>\n",
              "      <td>9.192517</td>\n",
              "      <td>8.105026</td>\n",
              "      <td>1.0</td>\n",
              "      <td>2.0</td>\n",
              "      <td>7.0</td>\n",
              "      <td>14.0</td>\n",
              "      <td>29.0</td>\n",
              "    </tr>\n",
              "    <tr>\n",
              "      <th>Education</th>\n",
              "      <td>4410.0</td>\n",
              "      <td>2.912925</td>\n",
              "      <td>1.023933</td>\n",
              "      <td>1.0</td>\n",
              "      <td>2.0</td>\n",
              "      <td>3.0</td>\n",
              "      <td>4.0</td>\n",
              "      <td>5.0</td>\n",
              "    </tr>\n",
              "    <tr>\n",
              "      <th>EducationField</th>\n",
              "      <td>4410.0</td>\n",
              "      <td>2.247619</td>\n",
              "      <td>1.331067</td>\n",
              "      <td>0.0</td>\n",
              "      <td>1.0</td>\n",
              "      <td>2.0</td>\n",
              "      <td>3.0</td>\n",
              "      <td>5.0</td>\n",
              "    </tr>\n",
              "    <tr>\n",
              "      <th>Gender</th>\n",
              "      <td>4410.0</td>\n",
              "      <td>0.600000</td>\n",
              "      <td>0.489954</td>\n",
              "      <td>0.0</td>\n",
              "      <td>0.0</td>\n",
              "      <td>1.0</td>\n",
              "      <td>1.0</td>\n",
              "      <td>1.0</td>\n",
              "    </tr>\n",
              "    <tr>\n",
              "      <th>JobLevel</th>\n",
              "      <td>4410.0</td>\n",
              "      <td>2.063946</td>\n",
              "      <td>1.106689</td>\n",
              "      <td>1.0</td>\n",
              "      <td>1.0</td>\n",
              "      <td>2.0</td>\n",
              "      <td>3.0</td>\n",
              "      <td>5.0</td>\n",
              "    </tr>\n",
              "    <tr>\n",
              "      <th>JobRole</th>\n",
              "      <td>4410.0</td>\n",
              "      <td>4.458503</td>\n",
              "      <td>2.461263</td>\n",
              "      <td>0.0</td>\n",
              "      <td>2.0</td>\n",
              "      <td>5.0</td>\n",
              "      <td>7.0</td>\n",
              "      <td>8.0</td>\n",
              "    </tr>\n",
              "    <tr>\n",
              "      <th>MaritalStatus</th>\n",
              "      <td>4410.0</td>\n",
              "      <td>1.097279</td>\n",
              "      <td>0.729955</td>\n",
              "      <td>0.0</td>\n",
              "      <td>1.0</td>\n",
              "      <td>1.0</td>\n",
              "      <td>2.0</td>\n",
              "      <td>2.0</td>\n",
              "    </tr>\n",
              "    <tr>\n",
              "      <th>MonthlyIncome</th>\n",
              "      <td>4410.0</td>\n",
              "      <td>65029.312925</td>\n",
              "      <td>47068.888559</td>\n",
              "      <td>10090.0</td>\n",
              "      <td>29110.0</td>\n",
              "      <td>49190.0</td>\n",
              "      <td>83800.0</td>\n",
              "      <td>199990.0</td>\n",
              "    </tr>\n",
              "    <tr>\n",
              "      <th>NumCompaniesWorked</th>\n",
              "      <td>4391.0</td>\n",
              "      <td>2.694830</td>\n",
              "      <td>2.498887</td>\n",
              "      <td>0.0</td>\n",
              "      <td>1.0</td>\n",
              "      <td>2.0</td>\n",
              "      <td>4.0</td>\n",
              "      <td>9.0</td>\n",
              "    </tr>\n",
              "    <tr>\n",
              "      <th>PercentSalaryHike</th>\n",
              "      <td>4410.0</td>\n",
              "      <td>15.209524</td>\n",
              "      <td>3.659108</td>\n",
              "      <td>11.0</td>\n",
              "      <td>12.0</td>\n",
              "      <td>14.0</td>\n",
              "      <td>18.0</td>\n",
              "      <td>25.0</td>\n",
              "    </tr>\n",
              "    <tr>\n",
              "      <th>StockOptionLevel</th>\n",
              "      <td>4410.0</td>\n",
              "      <td>0.793878</td>\n",
              "      <td>0.851883</td>\n",
              "      <td>0.0</td>\n",
              "      <td>0.0</td>\n",
              "      <td>1.0</td>\n",
              "      <td>1.0</td>\n",
              "      <td>3.0</td>\n",
              "    </tr>\n",
              "    <tr>\n",
              "      <th>TotalWorkingYears</th>\n",
              "      <td>4401.0</td>\n",
              "      <td>11.279936</td>\n",
              "      <td>7.782222</td>\n",
              "      <td>0.0</td>\n",
              "      <td>6.0</td>\n",
              "      <td>10.0</td>\n",
              "      <td>15.0</td>\n",
              "      <td>40.0</td>\n",
              "    </tr>\n",
              "    <tr>\n",
              "      <th>TrainingTimesLastYear</th>\n",
              "      <td>4410.0</td>\n",
              "      <td>2.799320</td>\n",
              "      <td>1.288978</td>\n",
              "      <td>0.0</td>\n",
              "      <td>2.0</td>\n",
              "      <td>3.0</td>\n",
              "      <td>3.0</td>\n",
              "      <td>6.0</td>\n",
              "    </tr>\n",
              "    <tr>\n",
              "      <th>YearsAtCompany</th>\n",
              "      <td>4410.0</td>\n",
              "      <td>7.008163</td>\n",
              "      <td>6.125135</td>\n",
              "      <td>0.0</td>\n",
              "      <td>3.0</td>\n",
              "      <td>5.0</td>\n",
              "      <td>9.0</td>\n",
              "      <td>40.0</td>\n",
              "    </tr>\n",
              "    <tr>\n",
              "      <th>YearsSinceLastPromotion</th>\n",
              "      <td>4410.0</td>\n",
              "      <td>2.187755</td>\n",
              "      <td>3.221699</td>\n",
              "      <td>0.0</td>\n",
              "      <td>0.0</td>\n",
              "      <td>1.0</td>\n",
              "      <td>3.0</td>\n",
              "      <td>15.0</td>\n",
              "    </tr>\n",
              "    <tr>\n",
              "      <th>YearsWithCurrManager</th>\n",
              "      <td>4410.0</td>\n",
              "      <td>4.123129</td>\n",
              "      <td>3.567327</td>\n",
              "      <td>0.0</td>\n",
              "      <td>2.0</td>\n",
              "      <td>3.0</td>\n",
              "      <td>7.0</td>\n",
              "      <td>17.0</td>\n",
              "    </tr>\n",
              "  </tbody>\n",
              "</table>\n",
              "</div>"
            ],
            "text/plain": [
              "                          count          mean  ...      75%       max\n",
              "Age                      4410.0     36.923810  ...     43.0      60.0\n",
              "Attrition                4410.0      0.161224  ...      0.0       1.0\n",
              "BusinessTravel           4410.0      1.607483  ...      2.0       2.0\n",
              "Department               4410.0      1.260544  ...      2.0       2.0\n",
              "DistanceFromHome         4410.0      9.192517  ...     14.0      29.0\n",
              "Education                4410.0      2.912925  ...      4.0       5.0\n",
              "EducationField           4410.0      2.247619  ...      3.0       5.0\n",
              "Gender                   4410.0      0.600000  ...      1.0       1.0\n",
              "JobLevel                 4410.0      2.063946  ...      3.0       5.0\n",
              "JobRole                  4410.0      4.458503  ...      7.0       8.0\n",
              "MaritalStatus            4410.0      1.097279  ...      2.0       2.0\n",
              "MonthlyIncome            4410.0  65029.312925  ...  83800.0  199990.0\n",
              "NumCompaniesWorked       4391.0      2.694830  ...      4.0       9.0\n",
              "PercentSalaryHike        4410.0     15.209524  ...     18.0      25.0\n",
              "StockOptionLevel         4410.0      0.793878  ...      1.0       3.0\n",
              "TotalWorkingYears        4401.0     11.279936  ...     15.0      40.0\n",
              "TrainingTimesLastYear    4410.0      2.799320  ...      3.0       6.0\n",
              "YearsAtCompany           4410.0      7.008163  ...      9.0      40.0\n",
              "YearsSinceLastPromotion  4410.0      2.187755  ...      3.0      15.0\n",
              "YearsWithCurrManager     4410.0      4.123129  ...      7.0      17.0\n",
              "\n",
              "[20 rows x 8 columns]"
            ]
          },
          "metadata": {
            "tags": []
          },
          "execution_count": 38
        }
      ]
    },
    {
      "cell_type": "code",
      "metadata": {
        "id": "upk9ySaN7pAv"
      },
      "source": [
        "new_NCW=np.where(Data['NumCompaniesWorked'].isnull(),2,Data['NumCompaniesWorked'])\n",
        "Data['NumCompaniesWorked']=new_NCW\n",
        "new_TWY=np.where(Data['TotalWorkingYears'].isnull(),11,Data['TotalWorkingYears'])\n",
        "Data['TotalWorkingYears']=new_TWY"
      ],
      "execution_count": null,
      "outputs": []
    },
    {
      "cell_type": "code",
      "metadata": {
        "id": "s2sKNrEb9mmI",
        "outputId": "aa4ec20d-458f-4342-9ee2-cefaf35314fc",
        "colab": {
          "base_uri": "https://localhost:8080/",
          "height": 35
        }
      },
      "source": [
        "Data.isnull().sum().sum()"
      ],
      "execution_count": null,
      "outputs": [
        {
          "output_type": "execute_result",
          "data": {
            "text/plain": [
              "0"
            ]
          },
          "metadata": {
            "tags": []
          },
          "execution_count": 40
        }
      ]
    },
    {
      "cell_type": "code",
      "metadata": {
        "id": "eLnqc82tWgca",
        "outputId": "bb5c9487-dd60-44a6-c4fa-0a456e010aea",
        "colab": {
          "base_uri": "https://localhost:8080/",
          "height": 35
        }
      },
      "source": [
        "Data.duplicated().sum()"
      ],
      "execution_count": null,
      "outputs": [
        {
          "output_type": "execute_result",
          "data": {
            "text/plain": [
              "2914"
            ]
          },
          "metadata": {
            "tags": []
          },
          "execution_count": 41
        }
      ]
    },
    {
      "cell_type": "code",
      "metadata": {
        "id": "D_m8JrUkWnXr",
        "outputId": "6360d2a3-260c-46f8-ef23-b18276703614",
        "colab": {
          "base_uri": "https://localhost:8080/",
          "height": 35
        }
      },
      "source": [
        "Data=Data.drop_duplicates()\n",
        "Data.duplicated().sum()"
      ],
      "execution_count": null,
      "outputs": [
        {
          "output_type": "execute_result",
          "data": {
            "text/plain": [
              "0"
            ]
          },
          "metadata": {
            "tags": []
          },
          "execution_count": 42
        }
      ]
    },
    {
      "cell_type": "code",
      "metadata": {
        "id": "_dXKCykb2oZw",
        "outputId": "35f73c4f-7df3-4f2c-bbcc-4c4fcbafc107",
        "colab": {
          "base_uri": "https://localhost:8080/",
          "height": 53
        }
      },
      "source": [
        "Rf_Model=RandomForestClassifier(n_estimators=1000,max_features=2,oob_score=True)\n",
        "features=['Age','BusinessTravel','Department','DistanceFromHome','Education','EducationField','Gender','JobLevel','JobRole','MaritalStatus','MonthlyIncome','NumCompaniesWorked','PercentSalaryHike','StockOptionLevel','TotalWorkingYears','TrainingTimesLastYear','YearsAtCompany','YearsSinceLastPromotion','YearsWithCurrManager']\n",
        "Rf_Model.fit(X=Data[features],y=Data.Attrition)\n",
        "print(\"OOB Accuracy:\")\n",
        "print(Rf_Model.oob_score_);"
      ],
      "execution_count": null,
      "outputs": [
        {
          "output_type": "stream",
          "text": [
            "OOB Accuracy:\n",
            "0.8516042780748663\n"
          ],
          "name": "stdout"
        }
      ]
    },
    {
      "cell_type": "code",
      "metadata": {
        "id": "6TTVa7rn-yHg",
        "outputId": "773f95a1-a97c-49cf-b7e4-fea536e5b63d",
        "colab": {
          "base_uri": "https://localhost:8080/",
          "height": 379
        }
      },
      "source": [
        "for feature,imp in zip(features,Rf_Model.feature_importances_):\n",
        "    print(feature,imp);"
      ],
      "execution_count": null,
      "outputs": [
        {
          "output_type": "stream",
          "text": [
            "Age 0.09736374845498486\n",
            "BusinessTravel 0.027769307811661717\n",
            "Department 0.027090212300992175\n",
            "DistanceFromHome 0.07012497126995854\n",
            "Education 0.040015172505684767\n",
            "EducationField 0.04200727834663016\n",
            "Gender 0.018889838538895278\n",
            "JobLevel 0.03773428049570135\n",
            "JobRole 0.05549189881780818\n",
            "MaritalStatus 0.04060589647317894\n",
            "MonthlyIncome 0.09219831887054264\n",
            "NumCompaniesWorked 0.055905956155790956\n",
            "PercentSalaryHike 0.06385965152801784\n",
            "StockOptionLevel 0.03356794194200538\n",
            "TotalWorkingYears 0.08479833676171025\n",
            "TrainingTimesLastYear 0.04477004704873708\n",
            "YearsAtCompany 0.06906189172021908\n",
            "YearsSinceLastPromotion 0.04344970993117481\n",
            "YearsWithCurrManager 0.05529554102630605\n"
          ],
          "name": "stdout"
        }
      ]
    },
    {
      "cell_type": "code",
      "metadata": {
        "id": "Cu5Rk9PaYxBx",
        "outputId": "dda57da8-5329-4880-a2f1-601f1310166e",
        "colab": {
          "base_uri": "https://localhost:8080/",
          "height": 145
        }
      },
      "source": [
        "tree1_model=tree.DecisionTreeClassifier()\n",
        "predictors1=pd.DataFrame([Data[\"Age\"],Data[\"MonthlyIncome\"],Data[\"TotalWorkingYears\"]]).T\n",
        "tree1_model=tree.DecisionTreeClassifier(max_depth=6,max_leaf_nodes=12)\n",
        "tree1_model.fit(X=predictors1,y=Data[\"Attrition\"])"
      ],
      "execution_count": null,
      "outputs": [
        {
          "output_type": "execute_result",
          "data": {
            "text/plain": [
              "DecisionTreeClassifier(ccp_alpha=0.0, class_weight=None, criterion='gini',\n",
              "                       max_depth=6, max_features=None, max_leaf_nodes=12,\n",
              "                       min_impurity_decrease=0.0, min_impurity_split=None,\n",
              "                       min_samples_leaf=1, min_samples_split=2,\n",
              "                       min_weight_fraction_leaf=0.0, presort='deprecated',\n",
              "                       random_state=None, splitter='best')"
            ]
          },
          "metadata": {
            "tags": []
          },
          "execution_count": 46
        }
      ]
    },
    {
      "cell_type": "code",
      "metadata": {
        "id": "MHa6m8lFaZ5a"
      },
      "source": [
        " with open(\"Dtree2.dot\",'w') as f:\n",
        "  f=tree.export_graphviz(tree1_model,feature_names=[\"Age\",\"MonthlyIncome\",\"TotalWorkingYears\"],out_file=f);"
      ],
      "execution_count": null,
      "outputs": []
    },
    {
      "cell_type": "code",
      "metadata": {
        "id": "W-kG6bhYareG",
        "outputId": "cd0ce270-dbf0-4d5d-fe57-4f5efd6ef956",
        "colab": {
          "base_uri": "https://localhost:8080/",
          "height": 955
        }
      },
      "source": [
        " with open(\"Dtree2.dot\") as f:\n",
        "    dot_graph=f.read()\n",
        "graphviz.Source(dot_graph)"
      ],
      "execution_count": null,
      "outputs": [
        {
          "output_type": "execute_result",
          "data": {
            "text/plain": [
              "<graphviz.files.Source at 0x7f71fb9e5160>"
            ],
            "image/svg+xml": "<?xml version=\"1.0\" encoding=\"UTF-8\" standalone=\"no\"?>\n<!DOCTYPE svg PUBLIC \"-//W3C//DTD SVG 1.1//EN\"\n \"http://www.w3.org/Graphics/SVG/1.1/DTD/svg11.dtd\">\n<!-- Generated by graphviz version 2.40.1 (20161225.0304)\n -->\n<!-- Title: Tree Pages: 1 -->\n<svg width=\"944pt\" height=\"685pt\"\n viewBox=\"0.00 0.00 943.50 685.00\" xmlns=\"http://www.w3.org/2000/svg\" xmlns:xlink=\"http://www.w3.org/1999/xlink\">\n<g id=\"graph0\" class=\"graph\" transform=\"scale(1 1) rotate(0) translate(4 681)\">\n<title>Tree</title>\n<polygon fill=\"#ffffff\" stroke=\"transparent\" points=\"-4,4 -4,-681 939.5,-681 939.5,4 -4,4\"/>\n<!-- 0 -->\n<g id=\"node1\" class=\"node\">\n<title>0</title>\n<polygon fill=\"none\" stroke=\"#000000\" points=\"602,-677 432,-677 432,-609 602,-609 602,-677\"/>\n<text text-anchor=\"middle\" x=\"517\" y=\"-661.8\" font-family=\"Times,serif\" font-size=\"14.00\" fill=\"#000000\">TotalWorkingYears &lt;= 1.5</text>\n<text text-anchor=\"middle\" x=\"517\" y=\"-646.8\" font-family=\"Times,serif\" font-size=\"14.00\" fill=\"#000000\">gini = 0.272</text>\n<text text-anchor=\"middle\" x=\"517\" y=\"-631.8\" font-family=\"Times,serif\" font-size=\"14.00\" fill=\"#000000\">samples = 1496</text>\n<text text-anchor=\"middle\" x=\"517\" y=\"-616.8\" font-family=\"Times,serif\" font-size=\"14.00\" fill=\"#000000\">value = [1253, 243]</text>\n</g>\n<!-- 1 -->\n<g id=\"node2\" class=\"node\">\n<title>1</title>\n<polygon fill=\"none\" stroke=\"#000000\" points=\"484,-573 374,-573 374,-505 484,-505 484,-573\"/>\n<text text-anchor=\"middle\" x=\"429\" y=\"-557.8\" font-family=\"Times,serif\" font-size=\"14.00\" fill=\"#000000\">Age &lt;= 26.5</text>\n<text text-anchor=\"middle\" x=\"429\" y=\"-542.8\" font-family=\"Times,serif\" font-size=\"14.00\" fill=\"#000000\">gini = 0.5</text>\n<text text-anchor=\"middle\" x=\"429\" y=\"-527.8\" font-family=\"Times,serif\" font-size=\"14.00\" fill=\"#000000\">samples = 94</text>\n<text text-anchor=\"middle\" x=\"429\" y=\"-512.8\" font-family=\"Times,serif\" font-size=\"14.00\" fill=\"#000000\">value = [48, 46]</text>\n</g>\n<!-- 0&#45;&gt;1 -->\n<g id=\"edge1\" class=\"edge\">\n<title>0&#45;&gt;1</title>\n<path fill=\"none\" stroke=\"#000000\" d=\"M488.1855,-608.9465C480.5883,-599.968 472.3026,-590.1758 464.4018,-580.8385\"/>\n<polygon fill=\"#000000\" stroke=\"#000000\" points=\"467.0105,-578.5031 457.8792,-573.13 461.6668,-583.0247 467.0105,-578.5031\"/>\n<text text-anchor=\"middle\" x=\"455.8031\" y=\"-594.3436\" font-family=\"Times,serif\" font-size=\"14.00\" fill=\"#000000\">True</text>\n</g>\n<!-- 2 -->\n<g id=\"node17\" class=\"node\">\n<title>2</title>\n<polygon fill=\"none\" stroke=\"#000000\" points=\"671,-573 539,-573 539,-505 671,-505 671,-573\"/>\n<text text-anchor=\"middle\" x=\"605\" y=\"-557.8\" font-family=\"Times,serif\" font-size=\"14.00\" fill=\"#000000\">Age &lt;= 33.5</text>\n<text text-anchor=\"middle\" x=\"605\" y=\"-542.8\" font-family=\"Times,serif\" font-size=\"14.00\" fill=\"#000000\">gini = 0.242</text>\n<text text-anchor=\"middle\" x=\"605\" y=\"-527.8\" font-family=\"Times,serif\" font-size=\"14.00\" fill=\"#000000\">samples = 1402</text>\n<text text-anchor=\"middle\" x=\"605\" y=\"-512.8\" font-family=\"Times,serif\" font-size=\"14.00\" fill=\"#000000\">value = [1205, 197]</text>\n</g>\n<!-- 0&#45;&gt;2 -->\n<g id=\"edge16\" class=\"edge\">\n<title>0&#45;&gt;2</title>\n<path fill=\"none\" stroke=\"#000000\" d=\"M545.8145,-608.9465C553.4117,-599.968 561.6974,-590.1758 569.5982,-580.8385\"/>\n<polygon fill=\"#000000\" stroke=\"#000000\" points=\"572.3332,-583.0247 576.1208,-573.13 566.9895,-578.5031 572.3332,-583.0247\"/>\n<text text-anchor=\"middle\" x=\"578.1969\" y=\"-594.3436\" font-family=\"Times,serif\" font-size=\"14.00\" fill=\"#000000\">False</text>\n</g>\n<!-- 5 -->\n<g id=\"node3\" class=\"node\">\n<title>5</title>\n<polygon fill=\"none\" stroke=\"#000000\" points=\"315.5,-469 126.5,-469 126.5,-401 315.5,-401 315.5,-469\"/>\n<text text-anchor=\"middle\" x=\"221\" y=\"-453.8\" font-family=\"Times,serif\" font-size=\"14.00\" fill=\"#000000\">MonthlyIncome &lt;= 112610.0</text>\n<text text-anchor=\"middle\" x=\"221\" y=\"-438.8\" font-family=\"Times,serif\" font-size=\"14.00\" fill=\"#000000\">gini = 0.457</text>\n<text text-anchor=\"middle\" x=\"221\" y=\"-423.8\" font-family=\"Times,serif\" font-size=\"14.00\" fill=\"#000000\">samples = 48</text>\n<text text-anchor=\"middle\" x=\"221\" y=\"-408.8\" font-family=\"Times,serif\" font-size=\"14.00\" fill=\"#000000\">value = [17, 31]</text>\n</g>\n<!-- 1&#45;&gt;5 -->\n<g id=\"edge2\" class=\"edge\">\n<title>1&#45;&gt;5</title>\n<path fill=\"none\" stroke=\"#000000\" d=\"M373.8059,-511.403C350.6529,-499.8264 323.3262,-486.1631 298.2308,-473.6154\"/>\n<polygon fill=\"#000000\" stroke=\"#000000\" points=\"299.6075,-470.3907 289.098,-469.049 296.477,-476.6517 299.6075,-470.3907\"/>\n</g>\n<!-- 6 -->\n<g id=\"node8\" class=\"node\">\n<title>6</title>\n<polygon fill=\"none\" stroke=\"#000000\" points=\"524,-469 334,-469 334,-401 524,-401 524,-469\"/>\n<text text-anchor=\"middle\" x=\"429\" y=\"-453.8\" font-family=\"Times,serif\" font-size=\"14.00\" fill=\"#000000\">MonthlyIncome &lt;= 106615.0</text>\n<text text-anchor=\"middle\" x=\"429\" y=\"-438.8\" font-family=\"Times,serif\" font-size=\"14.00\" fill=\"#000000\">gini = 0.44</text>\n<text text-anchor=\"middle\" x=\"429\" y=\"-423.8\" font-family=\"Times,serif\" font-size=\"14.00\" fill=\"#000000\">samples = 46</text>\n<text text-anchor=\"middle\" x=\"429\" y=\"-408.8\" font-family=\"Times,serif\" font-size=\"14.00\" fill=\"#000000\">value = [31, 15]</text>\n</g>\n<!-- 1&#45;&gt;6 -->\n<g id=\"edge7\" class=\"edge\">\n<title>1&#45;&gt;6</title>\n<path fill=\"none\" stroke=\"#000000\" d=\"M429,-504.9465C429,-496.776 429,-487.9318 429,-479.3697\"/>\n<polygon fill=\"#000000\" stroke=\"#000000\" points=\"432.5001,-479.13 429,-469.13 425.5001,-479.13 432.5001,-479.13\"/>\n</g>\n<!-- 9 -->\n<g id=\"node4\" class=\"node\">\n<title>9</title>\n<polygon fill=\"none\" stroke=\"#000000\" points=\"182,-365 0,-365 0,-297 182,-297 182,-365\"/>\n<text text-anchor=\"middle\" x=\"91\" y=\"-349.8\" font-family=\"Times,serif\" font-size=\"14.00\" fill=\"#000000\">MonthlyIncome &lt;= 19425.0</text>\n<text text-anchor=\"middle\" x=\"91\" y=\"-334.8\" font-family=\"Times,serif\" font-size=\"14.00\" fill=\"#000000\">gini = 0.399</text>\n<text text-anchor=\"middle\" x=\"91\" y=\"-319.8\" font-family=\"Times,serif\" font-size=\"14.00\" fill=\"#000000\">samples = 40</text>\n<text text-anchor=\"middle\" x=\"91\" y=\"-304.8\" font-family=\"Times,serif\" font-size=\"14.00\" fill=\"#000000\">value = [11, 29]</text>\n</g>\n<!-- 5&#45;&gt;9 -->\n<g id=\"edge3\" class=\"edge\">\n<title>5&#45;&gt;9</title>\n<path fill=\"none\" stroke=\"#000000\" d=\"M178.4331,-400.9465C166.6488,-391.519 153.7432,-381.1946 141.5519,-371.4415\"/>\n<polygon fill=\"#000000\" stroke=\"#000000\" points=\"143.6577,-368.6439 133.6625,-365.13 139.2848,-374.11 143.6577,-368.6439\"/>\n</g>\n<!-- 10 -->\n<g id=\"node7\" class=\"node\">\n<title>10</title>\n<polygon fill=\"none\" stroke=\"#000000\" points=\"295.5,-357.5 200.5,-357.5 200.5,-304.5 295.5,-304.5 295.5,-357.5\"/>\n<text text-anchor=\"middle\" x=\"248\" y=\"-342.3\" font-family=\"Times,serif\" font-size=\"14.00\" fill=\"#000000\">gini = 0.375</text>\n<text text-anchor=\"middle\" x=\"248\" y=\"-327.3\" font-family=\"Times,serif\" font-size=\"14.00\" fill=\"#000000\">samples = 8</text>\n<text text-anchor=\"middle\" x=\"248\" y=\"-312.3\" font-family=\"Times,serif\" font-size=\"14.00\" fill=\"#000000\">value = [6, 2]</text>\n</g>\n<!-- 5&#45;&gt;10 -->\n<g id=\"edge6\" class=\"edge\">\n<title>5&#45;&gt;10</title>\n<path fill=\"none\" stroke=\"#000000\" d=\"M229.8408,-400.9465C232.6433,-390.1519 235.751,-378.1813 238.5918,-367.2389\"/>\n<polygon fill=\"#000000\" stroke=\"#000000\" points=\"241.984,-368.1008 241.1092,-357.5422 235.2086,-366.3418 241.984,-368.1008\"/>\n</g>\n<!-- 11 -->\n<g id=\"node5\" class=\"node\">\n<title>11</title>\n<polygon fill=\"none\" stroke=\"#000000\" points=\"115.5,-253.5 20.5,-253.5 20.5,-200.5 115.5,-200.5 115.5,-253.5\"/>\n<text text-anchor=\"middle\" x=\"68\" y=\"-238.3\" font-family=\"Times,serif\" font-size=\"14.00\" fill=\"#000000\">gini = 0.0</text>\n<text text-anchor=\"middle\" x=\"68\" y=\"-223.3\" font-family=\"Times,serif\" font-size=\"14.00\" fill=\"#000000\">samples = 2</text>\n<text text-anchor=\"middle\" x=\"68\" y=\"-208.3\" font-family=\"Times,serif\" font-size=\"14.00\" fill=\"#000000\">value = [2, 0]</text>\n</g>\n<!-- 9&#45;&gt;11 -->\n<g id=\"edge4\" class=\"edge\">\n<title>9&#45;&gt;11</title>\n<path fill=\"none\" stroke=\"#000000\" d=\"M83.4689,-296.9465C81.106,-286.2621 78.4883,-274.4254 76.0885,-263.5742\"/>\n<polygon fill=\"#000000\" stroke=\"#000000\" points=\"79.4468,-262.5504 73.8699,-253.5422 72.6119,-264.062 79.4468,-262.5504\"/>\n</g>\n<!-- 12 -->\n<g id=\"node6\" class=\"node\">\n<title>12</title>\n<polygon fill=\"none\" stroke=\"#000000\" points=\"236,-253.5 134,-253.5 134,-200.5 236,-200.5 236,-253.5\"/>\n<text text-anchor=\"middle\" x=\"185\" y=\"-238.3\" font-family=\"Times,serif\" font-size=\"14.00\" fill=\"#000000\">gini = 0.361</text>\n<text text-anchor=\"middle\" x=\"185\" y=\"-223.3\" font-family=\"Times,serif\" font-size=\"14.00\" fill=\"#000000\">samples = 38</text>\n<text text-anchor=\"middle\" x=\"185\" y=\"-208.3\" font-family=\"Times,serif\" font-size=\"14.00\" fill=\"#000000\">value = [9, 29]</text>\n</g>\n<!-- 9&#45;&gt;12 -->\n<g id=\"edge5\" class=\"edge\">\n<title>9&#45;&gt;12</title>\n<path fill=\"none\" stroke=\"#000000\" d=\"M121.7791,-296.9465C132.1331,-285.491 143.6842,-272.711 154.0513,-261.2412\"/>\n<polygon fill=\"#000000\" stroke=\"#000000\" points=\"156.9011,-263.3078 161.01,-253.5422 151.708,-258.614 156.9011,-263.3078\"/>\n</g>\n<!-- 13 -->\n<g id=\"node9\" class=\"node\">\n<title>13</title>\n<polygon fill=\"none\" stroke=\"#000000\" points=\"464,-365 354,-365 354,-297 464,-297 464,-365\"/>\n<text text-anchor=\"middle\" x=\"409\" y=\"-349.8\" font-family=\"Times,serif\" font-size=\"14.00\" fill=\"#000000\">Age &lt;= 33.5</text>\n<text text-anchor=\"middle\" x=\"409\" y=\"-334.8\" font-family=\"Times,serif\" font-size=\"14.00\" fill=\"#000000\">gini = 0.478</text>\n<text text-anchor=\"middle\" x=\"409\" y=\"-319.8\" font-family=\"Times,serif\" font-size=\"14.00\" fill=\"#000000\">samples = 38</text>\n<text text-anchor=\"middle\" x=\"409\" y=\"-304.8\" font-family=\"Times,serif\" font-size=\"14.00\" fill=\"#000000\">value = [23, 15]</text>\n</g>\n<!-- 6&#45;&gt;13 -->\n<g id=\"edge8\" class=\"edge\">\n<title>6&#45;&gt;13</title>\n<path fill=\"none\" stroke=\"#000000\" d=\"M422.4513,-400.9465C420.8627,-392.6863 419.1418,-383.7374 417.4784,-375.0875\"/>\n<polygon fill=\"#000000\" stroke=\"#000000\" points=\"420.889,-374.2891 415.5635,-365.13 414.015,-375.6111 420.889,-374.2891\"/>\n</g>\n<!-- 14 -->\n<g id=\"node16\" class=\"node\">\n<title>14</title>\n<polygon fill=\"none\" stroke=\"#000000\" points=\"577.5,-357.5 482.5,-357.5 482.5,-304.5 577.5,-304.5 577.5,-357.5\"/>\n<text text-anchor=\"middle\" x=\"530\" y=\"-342.3\" font-family=\"Times,serif\" font-size=\"14.00\" fill=\"#000000\">gini = 0.0</text>\n<text text-anchor=\"middle\" x=\"530\" y=\"-327.3\" font-family=\"Times,serif\" font-size=\"14.00\" fill=\"#000000\">samples = 8</text>\n<text text-anchor=\"middle\" x=\"530\" y=\"-312.3\" font-family=\"Times,serif\" font-size=\"14.00\" fill=\"#000000\">value = [8, 0]</text>\n</g>\n<!-- 6&#45;&gt;14 -->\n<g id=\"edge15\" class=\"edge\">\n<title>6&#45;&gt;14</title>\n<path fill=\"none\" stroke=\"#000000\" d=\"M462.0712,-400.9465C473.3032,-389.3809 485.8463,-376.4652 497.0675,-364.9107\"/>\n<polygon fill=\"#000000\" stroke=\"#000000\" points=\"499.7674,-367.1544 504.2235,-357.5422 494.7458,-362.2776 499.7674,-367.1544\"/>\n</g>\n<!-- 15 -->\n<g id=\"node10\" class=\"node\">\n<title>15</title>\n<polygon fill=\"none\" stroke=\"#000000\" points=\"448,-261 266,-261 266,-193 448,-193 448,-261\"/>\n<text text-anchor=\"middle\" x=\"357\" y=\"-245.8\" font-family=\"Times,serif\" font-size=\"14.00\" fill=\"#000000\">MonthlyIncome &lt;= 22780.0</text>\n<text text-anchor=\"middle\" x=\"357\" y=\"-230.8\" font-family=\"Times,serif\" font-size=\"14.00\" fill=\"#000000\">gini = 0.499</text>\n<text text-anchor=\"middle\" x=\"357\" y=\"-215.8\" font-family=\"Times,serif\" font-size=\"14.00\" fill=\"#000000\">samples = 29</text>\n<text text-anchor=\"middle\" x=\"357\" y=\"-200.8\" font-family=\"Times,serif\" font-size=\"14.00\" fill=\"#000000\">value = [15, 14]</text>\n</g>\n<!-- 13&#45;&gt;15 -->\n<g id=\"edge9\" class=\"edge\">\n<title>13&#45;&gt;15</title>\n<path fill=\"none\" stroke=\"#000000\" d=\"M391.9733,-296.9465C387.7085,-288.4169 383.0765,-279.153 378.6212,-270.2424\"/>\n<polygon fill=\"#000000\" stroke=\"#000000\" points=\"381.6677,-268.509 374.065,-261.13 375.4067,-271.6395 381.6677,-268.509\"/>\n</g>\n<!-- 16 -->\n<g id=\"node15\" class=\"node\">\n<title>16</title>\n<polygon fill=\"none\" stroke=\"#000000\" points=\"561.5,-253.5 466.5,-253.5 466.5,-200.5 561.5,-200.5 561.5,-253.5\"/>\n<text text-anchor=\"middle\" x=\"514\" y=\"-238.3\" font-family=\"Times,serif\" font-size=\"14.00\" fill=\"#000000\">gini = 0.198</text>\n<text text-anchor=\"middle\" x=\"514\" y=\"-223.3\" font-family=\"Times,serif\" font-size=\"14.00\" fill=\"#000000\">samples = 9</text>\n<text text-anchor=\"middle\" x=\"514\" y=\"-208.3\" font-family=\"Times,serif\" font-size=\"14.00\" fill=\"#000000\">value = [8, 1]</text>\n</g>\n<!-- 13&#45;&gt;16 -->\n<g id=\"edge14\" class=\"edge\">\n<title>13&#45;&gt;16</title>\n<path fill=\"none\" stroke=\"#000000\" d=\"M443.3809,-296.9465C455.169,-285.2707 468.3462,-272.219 480.0962,-260.5809\"/>\n<polygon fill=\"#000000\" stroke=\"#000000\" points=\"482.5608,-263.066 487.2026,-253.5422 477.6348,-258.0927 482.5608,-263.066\"/>\n</g>\n<!-- 19 -->\n<g id=\"node11\" class=\"node\">\n<title>19</title>\n<polygon fill=\"none\" stroke=\"#000000\" points=\"326.5,-149.5 231.5,-149.5 231.5,-96.5 326.5,-96.5 326.5,-149.5\"/>\n<text text-anchor=\"middle\" x=\"279\" y=\"-134.3\" font-family=\"Times,serif\" font-size=\"14.00\" fill=\"#000000\">gini = 0.0</text>\n<text text-anchor=\"middle\" x=\"279\" y=\"-119.3\" font-family=\"Times,serif\" font-size=\"14.00\" fill=\"#000000\">samples = 3</text>\n<text text-anchor=\"middle\" x=\"279\" y=\"-104.3\" font-family=\"Times,serif\" font-size=\"14.00\" fill=\"#000000\">value = [3, 0]</text>\n</g>\n<!-- 15&#45;&gt;19 -->\n<g id=\"edge10\" class=\"edge\">\n<title>15&#45;&gt;19</title>\n<path fill=\"none\" stroke=\"#000000\" d=\"M331.4599,-192.9465C322.9509,-181.6012 313.4675,-168.9567 304.9293,-157.5724\"/>\n<polygon fill=\"#000000\" stroke=\"#000000\" points=\"307.7067,-155.4422 298.9066,-149.5422 302.1067,-159.6422 307.7067,-155.4422\"/>\n</g>\n<!-- 20 -->\n<g id=\"node12\" class=\"node\">\n<title>20</title>\n<polygon fill=\"none\" stroke=\"#000000\" points=\"527,-157 345,-157 345,-89 527,-89 527,-157\"/>\n<text text-anchor=\"middle\" x=\"436\" y=\"-141.8\" font-family=\"Times,serif\" font-size=\"14.00\" fill=\"#000000\">MonthlyIncome &lt;= 42410.0</text>\n<text text-anchor=\"middle\" x=\"436\" y=\"-126.8\" font-family=\"Times,serif\" font-size=\"14.00\" fill=\"#000000\">gini = 0.497</text>\n<text text-anchor=\"middle\" x=\"436\" y=\"-111.8\" font-family=\"Times,serif\" font-size=\"14.00\" fill=\"#000000\">samples = 26</text>\n<text text-anchor=\"middle\" x=\"436\" y=\"-96.8\" font-family=\"Times,serif\" font-size=\"14.00\" fill=\"#000000\">value = [12, 14]</text>\n</g>\n<!-- 15&#45;&gt;20 -->\n<g id=\"edge11\" class=\"edge\">\n<title>15&#45;&gt;20</title>\n<path fill=\"none\" stroke=\"#000000\" d=\"M382.8676,-192.9465C389.6196,-184.0578 396.9774,-174.3716 404.0059,-165.1188\"/>\n<polygon fill=\"#000000\" stroke=\"#000000\" points=\"406.8125,-167.2102 410.0743,-157.13 401.2383,-162.976 406.8125,-167.2102\"/>\n</g>\n<!-- 21 -->\n<g id=\"node13\" class=\"node\">\n<title>21</title>\n<polygon fill=\"none\" stroke=\"#000000\" points=\"424.5,-53 329.5,-53 329.5,0 424.5,0 424.5,-53\"/>\n<text text-anchor=\"middle\" x=\"377\" y=\"-37.8\" font-family=\"Times,serif\" font-size=\"14.00\" fill=\"#000000\">gini = 0.346</text>\n<text text-anchor=\"middle\" x=\"377\" y=\"-22.8\" font-family=\"Times,serif\" font-size=\"14.00\" fill=\"#000000\">samples = 9</text>\n<text text-anchor=\"middle\" x=\"377\" y=\"-7.8\" font-family=\"Times,serif\" font-size=\"14.00\" fill=\"#000000\">value = [2, 7]</text>\n</g>\n<!-- 20&#45;&gt;21 -->\n<g id=\"edge12\" class=\"edge\">\n<title>20&#45;&gt;21</title>\n<path fill=\"none\" stroke=\"#000000\" d=\"M415.1988,-88.9777C409.8242,-80.187 404.0265,-70.7044 398.6115,-61.8477\"/>\n<polygon fill=\"#000000\" stroke=\"#000000\" points=\"401.5564,-59.9545 393.354,-53.2485 395.5842,-63.6059 401.5564,-59.9545\"/>\n</g>\n<!-- 22 -->\n<g id=\"node14\" class=\"node\">\n<title>22</title>\n<polygon fill=\"none\" stroke=\"#000000\" points=\"545,-53 443,-53 443,0 545,0 545,-53\"/>\n<text text-anchor=\"middle\" x=\"494\" y=\"-37.8\" font-family=\"Times,serif\" font-size=\"14.00\" fill=\"#000000\">gini = 0.484</text>\n<text text-anchor=\"middle\" x=\"494\" y=\"-22.8\" font-family=\"Times,serif\" font-size=\"14.00\" fill=\"#000000\">samples = 17</text>\n<text text-anchor=\"middle\" x=\"494\" y=\"-7.8\" font-family=\"Times,serif\" font-size=\"14.00\" fill=\"#000000\">value = [10, 7]</text>\n</g>\n<!-- 20&#45;&gt;22 -->\n<g id=\"edge13\" class=\"edge\">\n<title>20&#45;&gt;22</title>\n<path fill=\"none\" stroke=\"#000000\" d=\"M456.4486,-88.9777C461.7322,-80.187 467.4316,-70.7044 472.7548,-61.8477\"/>\n<polygon fill=\"#000000\" stroke=\"#000000\" points=\"475.7715,-63.6225 477.9232,-53.2485 469.7718,-60.0165 475.7715,-63.6225\"/>\n</g>\n<!-- 3 -->\n<g id=\"node18\" class=\"node\">\n<title>3</title>\n<polygon fill=\"none\" stroke=\"#000000\" points=\"667.5,-461.5 542.5,-461.5 542.5,-408.5 667.5,-408.5 667.5,-461.5\"/>\n<text text-anchor=\"middle\" x=\"605\" y=\"-446.3\" font-family=\"Times,serif\" font-size=\"14.00\" fill=\"#000000\">gini = 0.318</text>\n<text text-anchor=\"middle\" x=\"605\" y=\"-431.3\" font-family=\"Times,serif\" font-size=\"14.00\" fill=\"#000000\">samples = 504</text>\n<text text-anchor=\"middle\" x=\"605\" y=\"-416.3\" font-family=\"Times,serif\" font-size=\"14.00\" fill=\"#000000\">value = [404, 100]</text>\n</g>\n<!-- 2&#45;&gt;3 -->\n<g id=\"edge17\" class=\"edge\">\n<title>2&#45;&gt;3</title>\n<path fill=\"none\" stroke=\"#000000\" d=\"M605,-504.9465C605,-494.2621 605,-482.4254 605,-471.5742\"/>\n<polygon fill=\"#000000\" stroke=\"#000000\" points=\"608.5001,-471.5421 605,-461.5422 601.5001,-471.5422 608.5001,-471.5421\"/>\n</g>\n<!-- 4 -->\n<g id=\"node19\" class=\"node\">\n<title>4</title>\n<polygon fill=\"none\" stroke=\"#000000\" points=\"864,-469 686,-469 686,-401 864,-401 864,-469\"/>\n<text text-anchor=\"middle\" x=\"775\" y=\"-453.8\" font-family=\"Times,serif\" font-size=\"14.00\" fill=\"#000000\">TotalWorkingYears &lt;= 39.0</text>\n<text text-anchor=\"middle\" x=\"775\" y=\"-438.8\" font-family=\"Times,serif\" font-size=\"14.00\" fill=\"#000000\">gini = 0.193</text>\n<text text-anchor=\"middle\" x=\"775\" y=\"-423.8\" font-family=\"Times,serif\" font-size=\"14.00\" fill=\"#000000\">samples = 898</text>\n<text text-anchor=\"middle\" x=\"775\" y=\"-408.8\" font-family=\"Times,serif\" font-size=\"14.00\" fill=\"#000000\">value = [801, 97]</text>\n</g>\n<!-- 2&#45;&gt;4 -->\n<g id=\"edge18\" class=\"edge\">\n<title>2&#45;&gt;4</title>\n<path fill=\"none\" stroke=\"#000000\" d=\"M660.6644,-504.9465C676.5149,-495.2497 693.9168,-484.6039 710.2579,-474.6069\"/>\n<polygon fill=\"#000000\" stroke=\"#000000\" points=\"712.5067,-477.3342 719.2106,-469.13 708.8537,-471.363 712.5067,-477.3342\"/>\n</g>\n<!-- 7 -->\n<g id=\"node20\" class=\"node\">\n<title>7</title>\n<polygon fill=\"none\" stroke=\"#000000\" points=\"822,-365 640,-365 640,-297 822,-297 822,-365\"/>\n<text text-anchor=\"middle\" x=\"731\" y=\"-349.8\" font-family=\"Times,serif\" font-size=\"14.00\" fill=\"#000000\">MonthlyIncome &lt;= 10300.0</text>\n<text text-anchor=\"middle\" x=\"731\" y=\"-334.8\" font-family=\"Times,serif\" font-size=\"14.00\" fill=\"#000000\">gini = 0.19</text>\n<text text-anchor=\"middle\" x=\"731\" y=\"-319.8\" font-family=\"Times,serif\" font-size=\"14.00\" fill=\"#000000\">samples = 896</text>\n<text text-anchor=\"middle\" x=\"731\" y=\"-304.8\" font-family=\"Times,serif\" font-size=\"14.00\" fill=\"#000000\">value = [801, 95]</text>\n</g>\n<!-- 4&#45;&gt;7 -->\n<g id=\"edge19\" class=\"edge\">\n<title>4&#45;&gt;7</title>\n<path fill=\"none\" stroke=\"#000000\" d=\"M760.5928,-400.9465C757.0221,-392.5067 753.1472,-383.3479 749.4139,-374.5239\"/>\n<polygon fill=\"#000000\" stroke=\"#000000\" points=\"752.5595,-372.9759 745.4396,-365.13 746.1127,-375.7034 752.5595,-372.9759\"/>\n</g>\n<!-- 8 -->\n<g id=\"node23\" class=\"node\">\n<title>8</title>\n<polygon fill=\"none\" stroke=\"#000000\" points=\"935.5,-357.5 840.5,-357.5 840.5,-304.5 935.5,-304.5 935.5,-357.5\"/>\n<text text-anchor=\"middle\" x=\"888\" y=\"-342.3\" font-family=\"Times,serif\" font-size=\"14.00\" fill=\"#000000\">gini = 0.0</text>\n<text text-anchor=\"middle\" x=\"888\" y=\"-327.3\" font-family=\"Times,serif\" font-size=\"14.00\" fill=\"#000000\">samples = 2</text>\n<text text-anchor=\"middle\" x=\"888\" y=\"-312.3\" font-family=\"Times,serif\" font-size=\"14.00\" fill=\"#000000\">value = [0, 2]</text>\n</g>\n<!-- 4&#45;&gt;8 -->\n<g id=\"edge22\" class=\"edge\">\n<title>4&#45;&gt;8</title>\n<path fill=\"none\" stroke=\"#000000\" d=\"M812.0004,-400.9465C824.6866,-389.2707 838.8678,-376.219 851.513,-364.5809\"/>\n<polygon fill=\"#000000\" stroke=\"#000000\" points=\"854.1731,-366.8895 859.1609,-357.5422 849.4327,-361.7389 854.1731,-366.8895\"/>\n</g>\n<!-- 17 -->\n<g id=\"node21\" class=\"node\">\n<title>17</title>\n<polygon fill=\"none\" stroke=\"#000000\" points=\"718.5,-253.5 623.5,-253.5 623.5,-200.5 718.5,-200.5 718.5,-253.5\"/>\n<text text-anchor=\"middle\" x=\"671\" y=\"-238.3\" font-family=\"Times,serif\" font-size=\"14.00\" fill=\"#000000\">gini = 0.0</text>\n<text text-anchor=\"middle\" x=\"671\" y=\"-223.3\" font-family=\"Times,serif\" font-size=\"14.00\" fill=\"#000000\">samples = 1</text>\n<text text-anchor=\"middle\" x=\"671\" y=\"-208.3\" font-family=\"Times,serif\" font-size=\"14.00\" fill=\"#000000\">value = [0, 1]</text>\n</g>\n<!-- 7&#45;&gt;17 -->\n<g id=\"edge20\" class=\"edge\">\n<title>7&#45;&gt;17</title>\n<path fill=\"none\" stroke=\"#000000\" d=\"M711.3538,-296.9465C704.9355,-285.8215 697.7965,-273.4473 691.329,-262.237\"/>\n<polygon fill=\"#000000\" stroke=\"#000000\" points=\"694.3417,-260.455 686.3128,-253.5422 688.2784,-263.9531 694.3417,-260.455\"/>\n</g>\n<!-- 18 -->\n<g id=\"node22\" class=\"node\">\n<title>18</title>\n<polygon fill=\"none\" stroke=\"#000000\" points=\"853.5,-253.5 736.5,-253.5 736.5,-200.5 853.5,-200.5 853.5,-253.5\"/>\n<text text-anchor=\"middle\" x=\"795\" y=\"-238.3\" font-family=\"Times,serif\" font-size=\"14.00\" fill=\"#000000\">gini = 0.188</text>\n<text text-anchor=\"middle\" x=\"795\" y=\"-223.3\" font-family=\"Times,serif\" font-size=\"14.00\" fill=\"#000000\">samples = 895</text>\n<text text-anchor=\"middle\" x=\"795\" y=\"-208.3\" font-family=\"Times,serif\" font-size=\"14.00\" fill=\"#000000\">value = [801, 94]</text>\n</g>\n<!-- 7&#45;&gt;18 -->\n<g id=\"edge21\" class=\"edge\">\n<title>7&#45;&gt;18</title>\n<path fill=\"none\" stroke=\"#000000\" d=\"M751.956,-296.9465C758.8022,-285.8215 766.4171,-273.4473 773.3157,-262.237\"/>\n<polygon fill=\"#000000\" stroke=\"#000000\" points=\"776.4061,-263.8931 778.6664,-253.5422 770.4445,-260.2244 776.4061,-263.8931\"/>\n</g>\n</g>\n</svg>\n"
          },
          "metadata": {
            "tags": []
          },
          "execution_count": 48
        }
      ]
    },
    {
      "cell_type": "markdown",
      "metadata": {
        "id": "e5OEq88S3zQU"
      },
      "source": [
        "__☆ Rules:__   \n",
        "¤ Low chances of Attrition:  \n",
        "__1.__ If Total Working Years is <= 1.5, Age is <= 26.5 and Monthly Income is <= 19425.  \n",
        "__2.__ If Total Working Years is <= 1.5, Age is between 26.5 and 33.5 and Monthly Income is <=22780.  \n",
        "__3.__ If Total Working Years is <= 1.5, Age > 26.5 and Monthly Income > 106615.  \n",
        "__4.__ If Total Working Years is <= 1.5, Age is > 33.5 and Monthly Income is <= 106615.  \n",
        "__5.__ If Total Working Years is between 1.5 and 39, Age is > 33.5 and Monthly Income is > 10300.\n",
        " \n",
        "¤ High chances of Attrition:  \n",
        "__1.__ If Total Working Years is between 1.5 and 39, Age is > 33.5 and Monthly Income is <=10300.  \n",
        "__2.__ If Total Working Years is > 39 and Age is > 33.5."
      ]
    },
    {
      "cell_type": "markdown",
      "metadata": {
        "id": "t2--SBZMKQvZ"
      },
      "source": [
        "___Q3. Build Decision Tree for Bank Loan Modelling (DV - \"Personal Loan\",\n",
        "IDV - Output of RF Algorithm).___"
      ]
    },
    {
      "cell_type": "code",
      "metadata": {
        "id": "6RGDZFPiMbVN",
        "outputId": "8d32e6fc-acb3-4021-a926-5caecf78225d",
        "colab": {
          "base_uri": "https://localhost:8080/",
          "height": 239
        }
      },
      "source": [
        "path=\"/content/drive/My Drive/Colab Notebooks/Bank_Personal_Loan_Modelling.xlsx\"\n",
        "Data1=pd.read_excel(path, sheet_name=1)\n",
        "Data1.head()"
      ],
      "execution_count": null,
      "outputs": [
        {
          "output_type": "execute_result",
          "data": {
            "text/html": [
              "<div>\n",
              "<style scoped>\n",
              "    .dataframe tbody tr th:only-of-type {\n",
              "        vertical-align: middle;\n",
              "    }\n",
              "\n",
              "    .dataframe tbody tr th {\n",
              "        vertical-align: top;\n",
              "    }\n",
              "\n",
              "    .dataframe thead th {\n",
              "        text-align: right;\n",
              "    }\n",
              "</style>\n",
              "<table border=\"1\" class=\"dataframe\">\n",
              "  <thead>\n",
              "    <tr style=\"text-align: right;\">\n",
              "      <th></th>\n",
              "      <th>ID</th>\n",
              "      <th>Age</th>\n",
              "      <th>Experience</th>\n",
              "      <th>Income</th>\n",
              "      <th>ZIP Code</th>\n",
              "      <th>Family</th>\n",
              "      <th>CCAvg</th>\n",
              "      <th>Education</th>\n",
              "      <th>Mortgage</th>\n",
              "      <th>Personal Loan</th>\n",
              "      <th>Securities Account</th>\n",
              "      <th>CD Account</th>\n",
              "      <th>Online</th>\n",
              "      <th>CreditCard</th>\n",
              "    </tr>\n",
              "  </thead>\n",
              "  <tbody>\n",
              "    <tr>\n",
              "      <th>0</th>\n",
              "      <td>1</td>\n",
              "      <td>25</td>\n",
              "      <td>1</td>\n",
              "      <td>49</td>\n",
              "      <td>91107</td>\n",
              "      <td>4</td>\n",
              "      <td>1.6</td>\n",
              "      <td>1</td>\n",
              "      <td>0</td>\n",
              "      <td>0</td>\n",
              "      <td>1</td>\n",
              "      <td>0</td>\n",
              "      <td>0</td>\n",
              "      <td>0</td>\n",
              "    </tr>\n",
              "    <tr>\n",
              "      <th>1</th>\n",
              "      <td>2</td>\n",
              "      <td>45</td>\n",
              "      <td>19</td>\n",
              "      <td>34</td>\n",
              "      <td>90089</td>\n",
              "      <td>3</td>\n",
              "      <td>1.5</td>\n",
              "      <td>1</td>\n",
              "      <td>0</td>\n",
              "      <td>0</td>\n",
              "      <td>1</td>\n",
              "      <td>0</td>\n",
              "      <td>0</td>\n",
              "      <td>0</td>\n",
              "    </tr>\n",
              "    <tr>\n",
              "      <th>2</th>\n",
              "      <td>3</td>\n",
              "      <td>39</td>\n",
              "      <td>15</td>\n",
              "      <td>11</td>\n",
              "      <td>94720</td>\n",
              "      <td>1</td>\n",
              "      <td>1.0</td>\n",
              "      <td>1</td>\n",
              "      <td>0</td>\n",
              "      <td>0</td>\n",
              "      <td>0</td>\n",
              "      <td>0</td>\n",
              "      <td>0</td>\n",
              "      <td>0</td>\n",
              "    </tr>\n",
              "    <tr>\n",
              "      <th>3</th>\n",
              "      <td>4</td>\n",
              "      <td>35</td>\n",
              "      <td>9</td>\n",
              "      <td>100</td>\n",
              "      <td>94112</td>\n",
              "      <td>1</td>\n",
              "      <td>2.7</td>\n",
              "      <td>2</td>\n",
              "      <td>0</td>\n",
              "      <td>0</td>\n",
              "      <td>0</td>\n",
              "      <td>0</td>\n",
              "      <td>0</td>\n",
              "      <td>0</td>\n",
              "    </tr>\n",
              "    <tr>\n",
              "      <th>4</th>\n",
              "      <td>5</td>\n",
              "      <td>35</td>\n",
              "      <td>8</td>\n",
              "      <td>45</td>\n",
              "      <td>91330</td>\n",
              "      <td>4</td>\n",
              "      <td>1.0</td>\n",
              "      <td>2</td>\n",
              "      <td>0</td>\n",
              "      <td>0</td>\n",
              "      <td>0</td>\n",
              "      <td>0</td>\n",
              "      <td>0</td>\n",
              "      <td>1</td>\n",
              "    </tr>\n",
              "  </tbody>\n",
              "</table>\n",
              "</div>"
            ],
            "text/plain": [
              "   ID  Age  Experience  ...  CD Account  Online  CreditCard\n",
              "0   1   25           1  ...           0       0           0\n",
              "1   2   45          19  ...           0       0           0\n",
              "2   3   39          15  ...           0       0           0\n",
              "3   4   35           9  ...           0       0           0\n",
              "4   5   35           8  ...           0       0           1\n",
              "\n",
              "[5 rows x 14 columns]"
            ]
          },
          "metadata": {
            "tags": []
          },
          "execution_count": 49
        }
      ]
    },
    {
      "cell_type": "code",
      "metadata": {
        "id": "cjz_nFYQMpy1",
        "outputId": "296ad064-2df2-4eca-c31c-0d7f5e6ab16c",
        "colab": {
          "base_uri": "https://localhost:8080/",
          "height": 239
        }
      },
      "source": [
        "Data1=Data1.drop(columns=['ID','ZIP Code'])\n",
        "Data1.head()"
      ],
      "execution_count": null,
      "outputs": [
        {
          "output_type": "execute_result",
          "data": {
            "text/html": [
              "<div>\n",
              "<style scoped>\n",
              "    .dataframe tbody tr th:only-of-type {\n",
              "        vertical-align: middle;\n",
              "    }\n",
              "\n",
              "    .dataframe tbody tr th {\n",
              "        vertical-align: top;\n",
              "    }\n",
              "\n",
              "    .dataframe thead th {\n",
              "        text-align: right;\n",
              "    }\n",
              "</style>\n",
              "<table border=\"1\" class=\"dataframe\">\n",
              "  <thead>\n",
              "    <tr style=\"text-align: right;\">\n",
              "      <th></th>\n",
              "      <th>Age</th>\n",
              "      <th>Experience</th>\n",
              "      <th>Income</th>\n",
              "      <th>Family</th>\n",
              "      <th>CCAvg</th>\n",
              "      <th>Education</th>\n",
              "      <th>Mortgage</th>\n",
              "      <th>Personal Loan</th>\n",
              "      <th>Securities Account</th>\n",
              "      <th>CD Account</th>\n",
              "      <th>Online</th>\n",
              "      <th>CreditCard</th>\n",
              "    </tr>\n",
              "  </thead>\n",
              "  <tbody>\n",
              "    <tr>\n",
              "      <th>0</th>\n",
              "      <td>25</td>\n",
              "      <td>1</td>\n",
              "      <td>49</td>\n",
              "      <td>4</td>\n",
              "      <td>1.6</td>\n",
              "      <td>1</td>\n",
              "      <td>0</td>\n",
              "      <td>0</td>\n",
              "      <td>1</td>\n",
              "      <td>0</td>\n",
              "      <td>0</td>\n",
              "      <td>0</td>\n",
              "    </tr>\n",
              "    <tr>\n",
              "      <th>1</th>\n",
              "      <td>45</td>\n",
              "      <td>19</td>\n",
              "      <td>34</td>\n",
              "      <td>3</td>\n",
              "      <td>1.5</td>\n",
              "      <td>1</td>\n",
              "      <td>0</td>\n",
              "      <td>0</td>\n",
              "      <td>1</td>\n",
              "      <td>0</td>\n",
              "      <td>0</td>\n",
              "      <td>0</td>\n",
              "    </tr>\n",
              "    <tr>\n",
              "      <th>2</th>\n",
              "      <td>39</td>\n",
              "      <td>15</td>\n",
              "      <td>11</td>\n",
              "      <td>1</td>\n",
              "      <td>1.0</td>\n",
              "      <td>1</td>\n",
              "      <td>0</td>\n",
              "      <td>0</td>\n",
              "      <td>0</td>\n",
              "      <td>0</td>\n",
              "      <td>0</td>\n",
              "      <td>0</td>\n",
              "    </tr>\n",
              "    <tr>\n",
              "      <th>3</th>\n",
              "      <td>35</td>\n",
              "      <td>9</td>\n",
              "      <td>100</td>\n",
              "      <td>1</td>\n",
              "      <td>2.7</td>\n",
              "      <td>2</td>\n",
              "      <td>0</td>\n",
              "      <td>0</td>\n",
              "      <td>0</td>\n",
              "      <td>0</td>\n",
              "      <td>0</td>\n",
              "      <td>0</td>\n",
              "    </tr>\n",
              "    <tr>\n",
              "      <th>4</th>\n",
              "      <td>35</td>\n",
              "      <td>8</td>\n",
              "      <td>45</td>\n",
              "      <td>4</td>\n",
              "      <td>1.0</td>\n",
              "      <td>2</td>\n",
              "      <td>0</td>\n",
              "      <td>0</td>\n",
              "      <td>0</td>\n",
              "      <td>0</td>\n",
              "      <td>0</td>\n",
              "      <td>1</td>\n",
              "    </tr>\n",
              "  </tbody>\n",
              "</table>\n",
              "</div>"
            ],
            "text/plain": [
              "   Age  Experience  Income  ...  CD Account  Online  CreditCard\n",
              "0   25           1      49  ...           0       0           0\n",
              "1   45          19      34  ...           0       0           0\n",
              "2   39          15      11  ...           0       0           0\n",
              "3   35           9     100  ...           0       0           0\n",
              "4   35           8      45  ...           0       0           1\n",
              "\n",
              "[5 rows x 12 columns]"
            ]
          },
          "metadata": {
            "tags": []
          },
          "execution_count": 50
        }
      ]
    },
    {
      "cell_type": "code",
      "metadata": {
        "id": "ULxXnnISJiQF",
        "outputId": "ace55c8f-1c4e-4403-ea29-6be0ec4f4188",
        "colab": {
          "base_uri": "https://localhost:8080/",
          "height": 251
        }
      },
      "source": [
        "Data1.isnull().sum()"
      ],
      "execution_count": null,
      "outputs": [
        {
          "output_type": "execute_result",
          "data": {
            "text/plain": [
              "Age                   0\n",
              "Experience            0\n",
              "Income                0\n",
              "Family                0\n",
              "CCAvg                 0\n",
              "Education             0\n",
              "Mortgage              0\n",
              "Personal Loan         0\n",
              "Securities Account    0\n",
              "CD Account            0\n",
              "Online                0\n",
              "CreditCard            0\n",
              "dtype: int64"
            ]
          },
          "metadata": {
            "tags": []
          },
          "execution_count": 51
        }
      ]
    },
    {
      "cell_type": "code",
      "metadata": {
        "id": "1v7eY6XPM202",
        "outputId": "d6a18625-b5cd-42c7-eeea-5e3fdffd437e",
        "colab": {
          "base_uri": "https://localhost:8080/",
          "height": 35
        }
      },
      "source": [
        "Data1.duplicated().sum()"
      ],
      "execution_count": null,
      "outputs": [
        {
          "output_type": "execute_result",
          "data": {
            "text/plain": [
              "13"
            ]
          },
          "metadata": {
            "tags": []
          },
          "execution_count": 52
        }
      ]
    },
    {
      "cell_type": "code",
      "metadata": {
        "id": "BOzhLB31NEP2",
        "outputId": "4fb4df7f-a76d-46ab-a131-550a3fc29d5d",
        "colab": {
          "base_uri": "https://localhost:8080/",
          "height": 35
        }
      },
      "source": [
        "Data1=Data1.drop_duplicates()\n",
        "Data1.duplicated().sum()"
      ],
      "execution_count": null,
      "outputs": [
        {
          "output_type": "execute_result",
          "data": {
            "text/plain": [
              "0"
            ]
          },
          "metadata": {
            "tags": []
          },
          "execution_count": 53
        }
      ]
    },
    {
      "cell_type": "code",
      "metadata": {
        "id": "2HkeiFtUNuwO",
        "outputId": "910f532c-dd8b-4996-c885-3540ceafd54f",
        "colab": {
          "base_uri": "https://localhost:8080/",
          "height": 239
        }
      },
      "source": [
        "Data1['CCAvg']=np.round(Data1['CCAvg'])\n",
        "Data1.head()"
      ],
      "execution_count": null,
      "outputs": [
        {
          "output_type": "execute_result",
          "data": {
            "text/html": [
              "<div>\n",
              "<style scoped>\n",
              "    .dataframe tbody tr th:only-of-type {\n",
              "        vertical-align: middle;\n",
              "    }\n",
              "\n",
              "    .dataframe tbody tr th {\n",
              "        vertical-align: top;\n",
              "    }\n",
              "\n",
              "    .dataframe thead th {\n",
              "        text-align: right;\n",
              "    }\n",
              "</style>\n",
              "<table border=\"1\" class=\"dataframe\">\n",
              "  <thead>\n",
              "    <tr style=\"text-align: right;\">\n",
              "      <th></th>\n",
              "      <th>Age</th>\n",
              "      <th>Experience</th>\n",
              "      <th>Income</th>\n",
              "      <th>Family</th>\n",
              "      <th>CCAvg</th>\n",
              "      <th>Education</th>\n",
              "      <th>Mortgage</th>\n",
              "      <th>Personal Loan</th>\n",
              "      <th>Securities Account</th>\n",
              "      <th>CD Account</th>\n",
              "      <th>Online</th>\n",
              "      <th>CreditCard</th>\n",
              "    </tr>\n",
              "  </thead>\n",
              "  <tbody>\n",
              "    <tr>\n",
              "      <th>0</th>\n",
              "      <td>25</td>\n",
              "      <td>1</td>\n",
              "      <td>49</td>\n",
              "      <td>4</td>\n",
              "      <td>2.0</td>\n",
              "      <td>1</td>\n",
              "      <td>0</td>\n",
              "      <td>0</td>\n",
              "      <td>1</td>\n",
              "      <td>0</td>\n",
              "      <td>0</td>\n",
              "      <td>0</td>\n",
              "    </tr>\n",
              "    <tr>\n",
              "      <th>1</th>\n",
              "      <td>45</td>\n",
              "      <td>19</td>\n",
              "      <td>34</td>\n",
              "      <td>3</td>\n",
              "      <td>2.0</td>\n",
              "      <td>1</td>\n",
              "      <td>0</td>\n",
              "      <td>0</td>\n",
              "      <td>1</td>\n",
              "      <td>0</td>\n",
              "      <td>0</td>\n",
              "      <td>0</td>\n",
              "    </tr>\n",
              "    <tr>\n",
              "      <th>2</th>\n",
              "      <td>39</td>\n",
              "      <td>15</td>\n",
              "      <td>11</td>\n",
              "      <td>1</td>\n",
              "      <td>1.0</td>\n",
              "      <td>1</td>\n",
              "      <td>0</td>\n",
              "      <td>0</td>\n",
              "      <td>0</td>\n",
              "      <td>0</td>\n",
              "      <td>0</td>\n",
              "      <td>0</td>\n",
              "    </tr>\n",
              "    <tr>\n",
              "      <th>3</th>\n",
              "      <td>35</td>\n",
              "      <td>9</td>\n",
              "      <td>100</td>\n",
              "      <td>1</td>\n",
              "      <td>3.0</td>\n",
              "      <td>2</td>\n",
              "      <td>0</td>\n",
              "      <td>0</td>\n",
              "      <td>0</td>\n",
              "      <td>0</td>\n",
              "      <td>0</td>\n",
              "      <td>0</td>\n",
              "    </tr>\n",
              "    <tr>\n",
              "      <th>4</th>\n",
              "      <td>35</td>\n",
              "      <td>8</td>\n",
              "      <td>45</td>\n",
              "      <td>4</td>\n",
              "      <td>1.0</td>\n",
              "      <td>2</td>\n",
              "      <td>0</td>\n",
              "      <td>0</td>\n",
              "      <td>0</td>\n",
              "      <td>0</td>\n",
              "      <td>0</td>\n",
              "      <td>1</td>\n",
              "    </tr>\n",
              "  </tbody>\n",
              "</table>\n",
              "</div>"
            ],
            "text/plain": [
              "   Age  Experience  Income  ...  CD Account  Online  CreditCard\n",
              "0   25           1      49  ...           0       0           0\n",
              "1   45          19      34  ...           0       0           0\n",
              "2   39          15      11  ...           0       0           0\n",
              "3   35           9     100  ...           0       0           0\n",
              "4   35           8      45  ...           0       0           1\n",
              "\n",
              "[5 rows x 12 columns]"
            ]
          },
          "metadata": {
            "tags": []
          },
          "execution_count": 54
        }
      ]
    },
    {
      "cell_type": "code",
      "metadata": {
        "id": "kywaTW4aJtcZ",
        "outputId": "e65b7e89-4e8e-4a94-fcc9-7de93cf61760",
        "colab": {
          "base_uri": "https://localhost:8080/",
          "height": 489
        }
      },
      "source": [
        "Data1.describe().T"
      ],
      "execution_count": null,
      "outputs": [
        {
          "output_type": "execute_result",
          "data": {
            "text/html": [
              "<div>\n",
              "<style scoped>\n",
              "    .dataframe tbody tr th:only-of-type {\n",
              "        vertical-align: middle;\n",
              "    }\n",
              "\n",
              "    .dataframe tbody tr th {\n",
              "        vertical-align: top;\n",
              "    }\n",
              "\n",
              "    .dataframe thead th {\n",
              "        text-align: right;\n",
              "    }\n",
              "</style>\n",
              "<table border=\"1\" class=\"dataframe\">\n",
              "  <thead>\n",
              "    <tr style=\"text-align: right;\">\n",
              "      <th></th>\n",
              "      <th>count</th>\n",
              "      <th>mean</th>\n",
              "      <th>std</th>\n",
              "      <th>min</th>\n",
              "      <th>25%</th>\n",
              "      <th>50%</th>\n",
              "      <th>75%</th>\n",
              "      <th>max</th>\n",
              "    </tr>\n",
              "  </thead>\n",
              "  <tbody>\n",
              "    <tr>\n",
              "      <th>Age</th>\n",
              "      <td>4987.0</td>\n",
              "      <td>45.347704</td>\n",
              "      <td>11.460838</td>\n",
              "      <td>23.0</td>\n",
              "      <td>35.0</td>\n",
              "      <td>45.0</td>\n",
              "      <td>55.0</td>\n",
              "      <td>67.0</td>\n",
              "    </tr>\n",
              "    <tr>\n",
              "      <th>Experience</th>\n",
              "      <td>4987.0</td>\n",
              "      <td>20.114498</td>\n",
              "      <td>11.464902</td>\n",
              "      <td>-3.0</td>\n",
              "      <td>10.0</td>\n",
              "      <td>20.0</td>\n",
              "      <td>30.0</td>\n",
              "      <td>43.0</td>\n",
              "    </tr>\n",
              "    <tr>\n",
              "      <th>Income</th>\n",
              "      <td>4987.0</td>\n",
              "      <td>73.824544</td>\n",
              "      <td>46.062728</td>\n",
              "      <td>8.0</td>\n",
              "      <td>39.0</td>\n",
              "      <td>64.0</td>\n",
              "      <td>98.0</td>\n",
              "      <td>224.0</td>\n",
              "    </tr>\n",
              "    <tr>\n",
              "      <th>Family</th>\n",
              "      <td>4987.0</td>\n",
              "      <td>2.396631</td>\n",
              "      <td>1.147510</td>\n",
              "      <td>1.0</td>\n",
              "      <td>1.0</td>\n",
              "      <td>2.0</td>\n",
              "      <td>3.0</td>\n",
              "      <td>4.0</td>\n",
              "    </tr>\n",
              "    <tr>\n",
              "      <th>CCAvg</th>\n",
              "      <td>4987.0</td>\n",
              "      <td>1.919591</td>\n",
              "      <td>1.797888</td>\n",
              "      <td>0.0</td>\n",
              "      <td>1.0</td>\n",
              "      <td>2.0</td>\n",
              "      <td>3.0</td>\n",
              "      <td>10.0</td>\n",
              "    </tr>\n",
              "    <tr>\n",
              "      <th>Education</th>\n",
              "      <td>4987.0</td>\n",
              "      <td>1.879286</td>\n",
              "      <td>0.839667</td>\n",
              "      <td>1.0</td>\n",
              "      <td>1.0</td>\n",
              "      <td>2.0</td>\n",
              "      <td>3.0</td>\n",
              "      <td>3.0</td>\n",
              "    </tr>\n",
              "    <tr>\n",
              "      <th>Mortgage</th>\n",
              "      <td>4987.0</td>\n",
              "      <td>56.646080</td>\n",
              "      <td>101.805341</td>\n",
              "      <td>0.0</td>\n",
              "      <td>0.0</td>\n",
              "      <td>0.0</td>\n",
              "      <td>101.0</td>\n",
              "      <td>635.0</td>\n",
              "    </tr>\n",
              "    <tr>\n",
              "      <th>Personal Loan</th>\n",
              "      <td>4987.0</td>\n",
              "      <td>0.096250</td>\n",
              "      <td>0.294964</td>\n",
              "      <td>0.0</td>\n",
              "      <td>0.0</td>\n",
              "      <td>0.0</td>\n",
              "      <td>0.0</td>\n",
              "      <td>1.0</td>\n",
              "    </tr>\n",
              "    <tr>\n",
              "      <th>Securities Account</th>\n",
              "      <td>4987.0</td>\n",
              "      <td>0.104672</td>\n",
              "      <td>0.306161</td>\n",
              "      <td>0.0</td>\n",
              "      <td>0.0</td>\n",
              "      <td>0.0</td>\n",
              "      <td>0.0</td>\n",
              "      <td>1.0</td>\n",
              "    </tr>\n",
              "    <tr>\n",
              "      <th>CD Account</th>\n",
              "      <td>4987.0</td>\n",
              "      <td>0.060557</td>\n",
              "      <td>0.238541</td>\n",
              "      <td>0.0</td>\n",
              "      <td>0.0</td>\n",
              "      <td>0.0</td>\n",
              "      <td>0.0</td>\n",
              "      <td>1.0</td>\n",
              "    </tr>\n",
              "    <tr>\n",
              "      <th>Online</th>\n",
              "      <td>4987.0</td>\n",
              "      <td>0.596150</td>\n",
              "      <td>0.490717</td>\n",
              "      <td>0.0</td>\n",
              "      <td>0.0</td>\n",
              "      <td>1.0</td>\n",
              "      <td>1.0</td>\n",
              "      <td>1.0</td>\n",
              "    </tr>\n",
              "    <tr>\n",
              "      <th>CreditCard</th>\n",
              "      <td>4987.0</td>\n",
              "      <td>0.294566</td>\n",
              "      <td>0.455893</td>\n",
              "      <td>0.0</td>\n",
              "      <td>0.0</td>\n",
              "      <td>0.0</td>\n",
              "      <td>1.0</td>\n",
              "      <td>1.0</td>\n",
              "    </tr>\n",
              "  </tbody>\n",
              "</table>\n",
              "</div>"
            ],
            "text/plain": [
              "                     count       mean         std  ...   50%    75%    max\n",
              "Age                 4987.0  45.347704   11.460838  ...  45.0   55.0   67.0\n",
              "Experience          4987.0  20.114498   11.464902  ...  20.0   30.0   43.0\n",
              "Income              4987.0  73.824544   46.062728  ...  64.0   98.0  224.0\n",
              "Family              4987.0   2.396631    1.147510  ...   2.0    3.0    4.0\n",
              "CCAvg               4987.0   1.919591    1.797888  ...   2.0    3.0   10.0\n",
              "Education           4987.0   1.879286    0.839667  ...   2.0    3.0    3.0\n",
              "Mortgage            4987.0  56.646080  101.805341  ...   0.0  101.0  635.0\n",
              "Personal Loan       4987.0   0.096250    0.294964  ...   0.0    0.0    1.0\n",
              "Securities Account  4987.0   0.104672    0.306161  ...   0.0    0.0    1.0\n",
              "CD Account          4987.0   0.060557    0.238541  ...   0.0    0.0    1.0\n",
              "Online              4987.0   0.596150    0.490717  ...   1.0    1.0    1.0\n",
              "CreditCard          4987.0   0.294566    0.455893  ...   0.0    1.0    1.0\n",
              "\n",
              "[12 rows x 8 columns]"
            ]
          },
          "metadata": {
            "tags": []
          },
          "execution_count": 55
        }
      ]
    },
    {
      "cell_type": "code",
      "metadata": {
        "id": "tpsi8QbUKcKH",
        "outputId": "71373630-3f6d-4cab-c484-aa542c61cc31",
        "colab": {
          "base_uri": "https://localhost:8080/",
          "height": 109
        }
      },
      "source": [
        "Data1.columns"
      ],
      "execution_count": null,
      "outputs": [
        {
          "output_type": "execute_result",
          "data": {
            "text/plain": [
              "Index(['Age', 'Experience', 'Income', 'Family', 'CCAvg', 'Education',\n",
              "       'Mortgage', 'Personal Loan', 'Securities Account', 'CD Account',\n",
              "       'Online', 'CreditCard'],\n",
              "      dtype='object')"
            ]
          },
          "metadata": {
            "tags": []
          },
          "execution_count": 56
        }
      ]
    },
    {
      "cell_type": "code",
      "metadata": {
        "id": "FbUMwANgJzMj",
        "outputId": "6e71c52f-7c23-46ff-e8b0-2164c5d766f1",
        "colab": {
          "base_uri": "https://localhost:8080/",
          "height": 53
        }
      },
      "source": [
        "Rf1_Model=RandomForestClassifier(n_estimators=1000,max_features=2,oob_score=True)\n",
        "Features=['Age','Experience','Income','Family','CCAvg','Education','Mortgage','Securities Account','CD Account','Online','CreditCard']\n",
        "Rf1_Model.fit(X=Data1[Features],y=Data1['Personal Loan'])\n",
        "print(\"OOB Accuracy:\")\n",
        "print(Rf1_Model.oob_score_);"
      ],
      "execution_count": null,
      "outputs": [
        {
          "output_type": "stream",
          "text": [
            "OOB Accuracy:\n",
            "0.9857629837577702\n"
          ],
          "name": "stdout"
        }
      ]
    },
    {
      "cell_type": "code",
      "metadata": {
        "id": "Q-Ydx74-Lf_z",
        "outputId": "3806c8d0-fcac-4695-9071-ca8309b09f10",
        "colab": {
          "base_uri": "https://localhost:8080/",
          "height": 235
        }
      },
      "source": [
        " for feature,imp in zip(Features,Rf1_Model.feature_importances_):\n",
        "    print(feature,imp);"
      ],
      "execution_count": null,
      "outputs": [
        {
          "output_type": "stream",
          "text": [
            "Age 0.050502565775224925\n",
            "Experience 0.050690428166122285\n",
            "Income 0.36553110549240275\n",
            "Family 0.09893924200019627\n",
            "CCAvg 0.13859817111901354\n",
            "Education 0.1644434774940988\n",
            "Mortgage 0.04856890247828632\n",
            "Securities Account 0.006356820542940757\n",
            "CD Account 0.05533025326708758\n",
            "Online 0.009683388684889169\n",
            "CreditCard 0.011355644979737472\n"
          ],
          "name": "stdout"
        }
      ]
    },
    {
      "cell_type": "code",
      "metadata": {
        "id": "pW9gRMy4Oj6-",
        "outputId": "89936481-8d49-4765-c4cd-3b63dfa66f7a",
        "colab": {
          "base_uri": "https://localhost:8080/",
          "height": 145
        }
      },
      "source": [
        "tree2_model=tree.DecisionTreeClassifier()\n",
        "predictors2=pd.DataFrame([Data1[\"Income\"],Data1[\"CCAvg\"],Data1[\"Education\"]]).T\n",
        "tree2_model=tree.DecisionTreeClassifier(max_depth=6,max_leaf_nodes=12)\n",
        "tree2_model.fit(X=predictors2,y=Data1[\"Personal Loan\"])"
      ],
      "execution_count": null,
      "outputs": [
        {
          "output_type": "execute_result",
          "data": {
            "text/plain": [
              "DecisionTreeClassifier(ccp_alpha=0.0, class_weight=None, criterion='gini',\n",
              "                       max_depth=6, max_features=None, max_leaf_nodes=12,\n",
              "                       min_impurity_decrease=0.0, min_impurity_split=None,\n",
              "                       min_samples_leaf=1, min_samples_split=2,\n",
              "                       min_weight_fraction_leaf=0.0, presort='deprecated',\n",
              "                       random_state=None, splitter='best')"
            ]
          },
          "metadata": {
            "tags": []
          },
          "execution_count": 59
        }
      ]
    },
    {
      "cell_type": "code",
      "metadata": {
        "id": "V22V5F9xRdSg"
      },
      "source": [
        " with open(\"Dtree3.dot\",'w') as f:\n",
        "  f=tree.export_graphviz(tree2_model,feature_names=[\"Income\",\"CCAvg\",\"Education\"],out_file=f);"
      ],
      "execution_count": null,
      "outputs": []
    },
    {
      "cell_type": "code",
      "metadata": {
        "id": "5bzS1rDQSH3_",
        "outputId": "1b7a7eae-af25-46b6-a709-e72097c2ffc4",
        "colab": {
          "base_uri": "https://localhost:8080/",
          "height": 955
        }
      },
      "source": [
        " with open(\"Dtree3.dot\") as f:\n",
        "    dot_graph=f.read()\n",
        "graphviz.Source(dot_graph)"
      ],
      "execution_count": null,
      "outputs": [
        {
          "output_type": "execute_result",
          "data": {
            "text/plain": [
              "<graphviz.files.Source at 0x7f71fb7d8e80>"
            ],
            "image/svg+xml": "<?xml version=\"1.0\" encoding=\"UTF-8\" standalone=\"no\"?>\n<!DOCTYPE svg PUBLIC \"-//W3C//DTD SVG 1.1//EN\"\n \"http://www.w3.org/Graphics/SVG/1.1/DTD/svg11.dtd\">\n<!-- Generated by graphviz version 2.40.1 (20161225.0304)\n -->\n<!-- Title: Tree Pages: 1 -->\n<svg width=\"800pt\" height=\"685pt\"\n viewBox=\"0.00 0.00 799.50 685.00\" xmlns=\"http://www.w3.org/2000/svg\" xmlns:xlink=\"http://www.w3.org/1999/xlink\">\n<g id=\"graph0\" class=\"graph\" transform=\"scale(1 1) rotate(0) translate(4 681)\">\n<title>Tree</title>\n<polygon fill=\"#ffffff\" stroke=\"transparent\" points=\"-4,4 -4,-681 795.5,-681 795.5,4 -4,4\"/>\n<!-- 0 -->\n<g id=\"node1\" class=\"node\">\n<title>0</title>\n<polygon fill=\"none\" stroke=\"#000000\" points=\"472.5,-677 340.5,-677 340.5,-609 472.5,-609 472.5,-677\"/>\n<text text-anchor=\"middle\" x=\"406.5\" y=\"-661.8\" font-family=\"Times,serif\" font-size=\"14.00\" fill=\"#000000\">Income &lt;= 113.5</text>\n<text text-anchor=\"middle\" x=\"406.5\" y=\"-646.8\" font-family=\"Times,serif\" font-size=\"14.00\" fill=\"#000000\">gini = 0.174</text>\n<text text-anchor=\"middle\" x=\"406.5\" y=\"-631.8\" font-family=\"Times,serif\" font-size=\"14.00\" fill=\"#000000\">samples = 4987</text>\n<text text-anchor=\"middle\" x=\"406.5\" y=\"-616.8\" font-family=\"Times,serif\" font-size=\"14.00\" fill=\"#000000\">value = [4507, 480]</text>\n</g>\n<!-- 1 -->\n<g id=\"node2\" class=\"node\">\n<title>1</title>\n<polygon fill=\"none\" stroke=\"#000000\" points=\"398,-573 273,-573 273,-505 398,-505 398,-573\"/>\n<text text-anchor=\"middle\" x=\"335.5\" y=\"-557.8\" font-family=\"Times,serif\" font-size=\"14.00\" fill=\"#000000\">CCAvg &lt;= 3.5</text>\n<text text-anchor=\"middle\" x=\"335.5\" y=\"-542.8\" font-family=\"Times,serif\" font-size=\"14.00\" fill=\"#000000\">gini = 0.041</text>\n<text text-anchor=\"middle\" x=\"335.5\" y=\"-527.8\" font-family=\"Times,serif\" font-size=\"14.00\" fill=\"#000000\">samples = 4009</text>\n<text text-anchor=\"middle\" x=\"335.5\" y=\"-512.8\" font-family=\"Times,serif\" font-size=\"14.00\" fill=\"#000000\">value = [3925, 84]</text>\n</g>\n<!-- 0&#45;&gt;1 -->\n<g id=\"edge1\" class=\"edge\">\n<title>0&#45;&gt;1</title>\n<path fill=\"none\" stroke=\"#000000\" d=\"M383.2519,-608.9465C377.245,-600.1475 370.7045,-590.5672 364.4457,-581.3993\"/>\n<polygon fill=\"#000000\" stroke=\"#000000\" points=\"367.3293,-579.4155 358.8003,-573.13 361.548,-583.3623 367.3293,-579.4155\"/>\n<text text-anchor=\"middle\" x=\"354.1676\" y=\"-593.997\" font-family=\"Times,serif\" font-size=\"14.00\" fill=\"#000000\">True</text>\n</g>\n<!-- 2 -->\n<g id=\"node17\" class=\"node\">\n<title>2</title>\n<polygon fill=\"none\" stroke=\"#000000\" points=\"541,-573 416,-573 416,-505 541,-505 541,-573\"/>\n<text text-anchor=\"middle\" x=\"478.5\" y=\"-557.8\" font-family=\"Times,serif\" font-size=\"14.00\" fill=\"#000000\">Education &lt;= 1.5</text>\n<text text-anchor=\"middle\" x=\"478.5\" y=\"-542.8\" font-family=\"Times,serif\" font-size=\"14.00\" fill=\"#000000\">gini = 0.482</text>\n<text text-anchor=\"middle\" x=\"478.5\" y=\"-527.8\" font-family=\"Times,serif\" font-size=\"14.00\" fill=\"#000000\">samples = 978</text>\n<text text-anchor=\"middle\" x=\"478.5\" y=\"-512.8\" font-family=\"Times,serif\" font-size=\"14.00\" fill=\"#000000\">value = [582, 396]</text>\n</g>\n<!-- 0&#45;&gt;2 -->\n<g id=\"edge16\" class=\"edge\">\n<title>0&#45;&gt;2</title>\n<path fill=\"none\" stroke=\"#000000\" d=\"M430.0755,-608.9465C436.1671,-600.1475 442.7996,-590.5672 449.1466,-581.3993\"/>\n<polygon fill=\"#000000\" stroke=\"#000000\" points=\"452.0571,-583.3442 454.8715,-573.13 446.3017,-579.3597 452.0571,-583.3442\"/>\n<text text-anchor=\"middle\" x=\"459.3437\" y=\"-594.0267\" font-family=\"Times,serif\" font-size=\"14.00\" fill=\"#000000\">False</text>\n</g>\n<!-- 5 -->\n<g id=\"node3\" class=\"node\">\n<title>5</title>\n<polygon fill=\"none\" stroke=\"#000000\" points=\"261,-469 136,-469 136,-401 261,-401 261,-469\"/>\n<text text-anchor=\"middle\" x=\"198.5\" y=\"-453.8\" font-family=\"Times,serif\" font-size=\"14.00\" fill=\"#000000\">Income &lt;= 101.5</text>\n<text text-anchor=\"middle\" x=\"198.5\" y=\"-438.8\" font-family=\"Times,serif\" font-size=\"14.00\" fill=\"#000000\">gini = 0.021</text>\n<text text-anchor=\"middle\" x=\"198.5\" y=\"-423.8\" font-family=\"Times,serif\" font-size=\"14.00\" fill=\"#000000\">samples = 3808</text>\n<text text-anchor=\"middle\" x=\"198.5\" y=\"-408.8\" font-family=\"Times,serif\" font-size=\"14.00\" fill=\"#000000\">value = [3768, 40]</text>\n</g>\n<!-- 1&#45;&gt;5 -->\n<g id=\"edge2\" class=\"edge\">\n<title>1&#45;&gt;5</title>\n<path fill=\"none\" stroke=\"#000000\" d=\"M290.6411,-504.9465C278.2222,-495.519 264.6217,-485.1946 251.7739,-475.4415\"/>\n<polygon fill=\"#000000\" stroke=\"#000000\" points=\"253.541,-472.3887 243.4597,-469.13 249.3085,-477.9642 253.541,-472.3887\"/>\n</g>\n<!-- 6 -->\n<g id=\"node8\" class=\"node\">\n<title>6</title>\n<polygon fill=\"none\" stroke=\"#000000\" points=\"396,-469 279,-469 279,-401 396,-401 396,-469\"/>\n<text text-anchor=\"middle\" x=\"337.5\" y=\"-453.8\" font-family=\"Times,serif\" font-size=\"14.00\" fill=\"#000000\">Income &lt;= 88.5</text>\n<text text-anchor=\"middle\" x=\"337.5\" y=\"-438.8\" font-family=\"Times,serif\" font-size=\"14.00\" fill=\"#000000\">gini = 0.342</text>\n<text text-anchor=\"middle\" x=\"337.5\" y=\"-423.8\" font-family=\"Times,serif\" font-size=\"14.00\" fill=\"#000000\">samples = 201</text>\n<text text-anchor=\"middle\" x=\"337.5\" y=\"-408.8\" font-family=\"Times,serif\" font-size=\"14.00\" fill=\"#000000\">value = [157, 44]</text>\n</g>\n<!-- 1&#45;&gt;6 -->\n<g id=\"edge7\" class=\"edge\">\n<title>1&#45;&gt;6</title>\n<path fill=\"none\" stroke=\"#000000\" d=\"M336.1549,-504.9465C336.312,-496.776 336.4821,-487.9318 336.6467,-479.3697\"/>\n<polygon fill=\"#000000\" stroke=\"#000000\" points=\"340.1506,-479.1955 336.8437,-469.13 333.1519,-479.0608 340.1506,-479.1955\"/>\n</g>\n<!-- 15 -->\n<g id=\"node4\" class=\"node\">\n<title>15</title>\n<polygon fill=\"none\" stroke=\"#000000\" points=\"125,-357.5 0,-357.5 0,-304.5 125,-304.5 125,-357.5\"/>\n<text text-anchor=\"middle\" x=\"62.5\" y=\"-342.3\" font-family=\"Times,serif\" font-size=\"14.00\" fill=\"#000000\">gini = 0.011</text>\n<text text-anchor=\"middle\" x=\"62.5\" y=\"-327.3\" font-family=\"Times,serif\" font-size=\"14.00\" fill=\"#000000\">samples = 3653</text>\n<text text-anchor=\"middle\" x=\"62.5\" y=\"-312.3\" font-family=\"Times,serif\" font-size=\"14.00\" fill=\"#000000\">value = [3633, 20]</text>\n</g>\n<!-- 5&#45;&gt;15 -->\n<g id=\"edge3\" class=\"edge\">\n<title>5&#45;&gt;15</title>\n<path fill=\"none\" stroke=\"#000000\" d=\"M153.9685,-400.9465C138.4121,-389.0504 120.9879,-375.726 105.5541,-363.9237\"/>\n<polygon fill=\"#000000\" stroke=\"#000000\" points=\"107.2787,-360.8364 97.209,-357.5422 103.0265,-366.397 107.2787,-360.8364\"/>\n</g>\n<!-- 16 -->\n<g id=\"node5\" class=\"node\">\n<title>16</title>\n<polygon fill=\"none\" stroke=\"#000000\" points=\"260,-365 143,-365 143,-297 260,-297 260,-365\"/>\n<text text-anchor=\"middle\" x=\"201.5\" y=\"-349.8\" font-family=\"Times,serif\" font-size=\"14.00\" fill=\"#000000\">CCAvg &lt;= 2.5</text>\n<text text-anchor=\"middle\" x=\"201.5\" y=\"-334.8\" font-family=\"Times,serif\" font-size=\"14.00\" fill=\"#000000\">gini = 0.225</text>\n<text text-anchor=\"middle\" x=\"201.5\" y=\"-319.8\" font-family=\"Times,serif\" font-size=\"14.00\" fill=\"#000000\">samples = 155</text>\n<text text-anchor=\"middle\" x=\"201.5\" y=\"-304.8\" font-family=\"Times,serif\" font-size=\"14.00\" fill=\"#000000\">value = [135, 20]</text>\n</g>\n<!-- 5&#45;&gt;16 -->\n<g id=\"edge4\" class=\"edge\">\n<title>5&#45;&gt;16</title>\n<path fill=\"none\" stroke=\"#000000\" d=\"M199.4823,-400.9465C199.718,-392.776 199.9731,-383.9318 200.2201,-375.3697\"/>\n<polygon fill=\"#000000\" stroke=\"#000000\" points=\"203.7256,-375.2268 200.5155,-365.13 196.7285,-375.0249 203.7256,-375.2268\"/>\n</g>\n<!-- 21 -->\n<g id=\"node6\" class=\"node\">\n<title>21</title>\n<polygon fill=\"none\" stroke=\"#000000\" points=\"138.5,-253.5 22.5,-253.5 22.5,-200.5 138.5,-200.5 138.5,-253.5\"/>\n<text text-anchor=\"middle\" x=\"80.5\" y=\"-238.3\" font-family=\"Times,serif\" font-size=\"14.00\" fill=\"#000000\">gini = 0.168</text>\n<text text-anchor=\"middle\" x=\"80.5\" y=\"-223.3\" font-family=\"Times,serif\" font-size=\"14.00\" fill=\"#000000\">samples = 130</text>\n<text text-anchor=\"middle\" x=\"80.5\" y=\"-208.3\" font-family=\"Times,serif\" font-size=\"14.00\" fill=\"#000000\">value = [118, 12]</text>\n</g>\n<!-- 16&#45;&gt;21 -->\n<g id=\"edge5\" class=\"edge\">\n<title>16&#45;&gt;21</title>\n<path fill=\"none\" stroke=\"#000000\" d=\"M161.8801,-296.9465C148.1676,-285.1606 132.8239,-271.9726 119.1873,-260.2519\"/>\n<polygon fill=\"#000000\" stroke=\"#000000\" points=\"121.2459,-257.4061 111.3808,-253.5422 116.6831,-262.7147 121.2459,-257.4061\"/>\n</g>\n<!-- 22 -->\n<g id=\"node7\" class=\"node\">\n<title>22</title>\n<polygon fill=\"none\" stroke=\"#000000\" points=\"258.5,-253.5 156.5,-253.5 156.5,-200.5 258.5,-200.5 258.5,-253.5\"/>\n<text text-anchor=\"middle\" x=\"207.5\" y=\"-238.3\" font-family=\"Times,serif\" font-size=\"14.00\" fill=\"#000000\">gini = 0.435</text>\n<text text-anchor=\"middle\" x=\"207.5\" y=\"-223.3\" font-family=\"Times,serif\" font-size=\"14.00\" fill=\"#000000\">samples = 25</text>\n<text text-anchor=\"middle\" x=\"207.5\" y=\"-208.3\" font-family=\"Times,serif\" font-size=\"14.00\" fill=\"#000000\">value = [17, 8]</text>\n</g>\n<!-- 16&#45;&gt;22 -->\n<g id=\"edge6\" class=\"edge\">\n<title>16&#45;&gt;22</title>\n<path fill=\"none\" stroke=\"#000000\" d=\"M203.4646,-296.9465C204.081,-286.2621 204.7639,-274.4254 205.3899,-263.5742\"/>\n<polygon fill=\"#000000\" stroke=\"#000000\" points=\"208.8869,-263.7272 205.9687,-253.5422 201.8985,-263.3239 208.8869,-263.7272\"/>\n</g>\n<!-- 9 -->\n<g id=\"node9\" class=\"node\">\n<title>9</title>\n<polygon fill=\"none\" stroke=\"#000000\" points=\"385.5,-357.5 283.5,-357.5 283.5,-304.5 385.5,-304.5 385.5,-357.5\"/>\n<text text-anchor=\"middle\" x=\"334.5\" y=\"-342.3\" font-family=\"Times,serif\" font-size=\"14.00\" fill=\"#000000\">gini = 0.1</text>\n<text text-anchor=\"middle\" x=\"334.5\" y=\"-327.3\" font-family=\"Times,serif\" font-size=\"14.00\" fill=\"#000000\">samples = 95</text>\n<text text-anchor=\"middle\" x=\"334.5\" y=\"-312.3\" font-family=\"Times,serif\" font-size=\"14.00\" fill=\"#000000\">value = [90, 5]</text>\n</g>\n<!-- 6&#45;&gt;9 -->\n<g id=\"edge8\" class=\"edge\">\n<title>6&#45;&gt;9</title>\n<path fill=\"none\" stroke=\"#000000\" d=\"M336.5177,-400.9465C336.2095,-390.2621 335.868,-378.4254 335.555,-367.5742\"/>\n<polygon fill=\"#000000\" stroke=\"#000000\" points=\"339.0526,-367.4371 335.2656,-357.5422 332.0555,-367.639 339.0526,-367.4371\"/>\n</g>\n<!-- 10 -->\n<g id=\"node10\" class=\"node\">\n<title>10</title>\n<polygon fill=\"none\" stroke=\"#000000\" points=\"521.5,-365 403.5,-365 403.5,-297 521.5,-297 521.5,-365\"/>\n<text text-anchor=\"middle\" x=\"462.5\" y=\"-349.8\" font-family=\"Times,serif\" font-size=\"14.00\" fill=\"#000000\">Education &lt;= 1.5</text>\n<text text-anchor=\"middle\" x=\"462.5\" y=\"-334.8\" font-family=\"Times,serif\" font-size=\"14.00\" fill=\"#000000\">gini = 0.465</text>\n<text text-anchor=\"middle\" x=\"462.5\" y=\"-319.8\" font-family=\"Times,serif\" font-size=\"14.00\" fill=\"#000000\">samples = 106</text>\n<text text-anchor=\"middle\" x=\"462.5\" y=\"-304.8\" font-family=\"Times,serif\" font-size=\"14.00\" fill=\"#000000\">value = [67, 39]</text>\n</g>\n<!-- 6&#45;&gt;10 -->\n<g id=\"edge9\" class=\"edge\">\n<title>6&#45;&gt;10</title>\n<path fill=\"none\" stroke=\"#000000\" d=\"M378.4297,-400.9465C389.6528,-391.6088 401.9337,-381.3911 413.5573,-371.7203\"/>\n<polygon fill=\"#000000\" stroke=\"#000000\" points=\"416.0296,-374.2164 421.4784,-365.13 411.5526,-368.8353 416.0296,-374.2164\"/>\n</g>\n<!-- 11 -->\n<g id=\"node11\" class=\"node\">\n<title>11</title>\n<polygon fill=\"none\" stroke=\"#000000\" points=\"392.5,-253.5 290.5,-253.5 290.5,-200.5 392.5,-200.5 392.5,-253.5\"/>\n<text text-anchor=\"middle\" x=\"341.5\" y=\"-238.3\" font-family=\"Times,serif\" font-size=\"14.00\" fill=\"#000000\">gini = 0.234</text>\n<text text-anchor=\"middle\" x=\"341.5\" y=\"-223.3\" font-family=\"Times,serif\" font-size=\"14.00\" fill=\"#000000\">samples = 59</text>\n<text text-anchor=\"middle\" x=\"341.5\" y=\"-208.3\" font-family=\"Times,serif\" font-size=\"14.00\" fill=\"#000000\">value = [51, 8]</text>\n</g>\n<!-- 10&#45;&gt;11 -->\n<g id=\"edge10\" class=\"edge\">\n<title>10&#45;&gt;11</title>\n<path fill=\"none\" stroke=\"#000000\" d=\"M422.8801,-296.9465C409.1676,-285.1606 393.8239,-271.9726 380.1873,-260.2519\"/>\n<polygon fill=\"#000000\" stroke=\"#000000\" points=\"382.2459,-257.4061 372.3808,-253.5422 377.6831,-262.7147 382.2459,-257.4061\"/>\n</g>\n<!-- 12 -->\n<g id=\"node12\" class=\"node\">\n<title>12</title>\n<polygon fill=\"none\" stroke=\"#000000\" points=\"528.5,-261 410.5,-261 410.5,-193 528.5,-193 528.5,-261\"/>\n<text text-anchor=\"middle\" x=\"469.5\" y=\"-245.8\" font-family=\"Times,serif\" font-size=\"14.00\" fill=\"#000000\">Education &lt;= 2.5</text>\n<text text-anchor=\"middle\" x=\"469.5\" y=\"-230.8\" font-family=\"Times,serif\" font-size=\"14.00\" fill=\"#000000\">gini = 0.449</text>\n<text text-anchor=\"middle\" x=\"469.5\" y=\"-215.8\" font-family=\"Times,serif\" font-size=\"14.00\" fill=\"#000000\">samples = 47</text>\n<text text-anchor=\"middle\" x=\"469.5\" y=\"-200.8\" font-family=\"Times,serif\" font-size=\"14.00\" fill=\"#000000\">value = [16, 31]</text>\n</g>\n<!-- 10&#45;&gt;12 -->\n<g id=\"edge11\" class=\"edge\">\n<title>10&#45;&gt;12</title>\n<path fill=\"none\" stroke=\"#000000\" d=\"M464.7921,-296.9465C465.342,-288.776 465.9373,-279.9318 466.5136,-271.3697\"/>\n<polygon fill=\"#000000\" stroke=\"#000000\" points=\"470.0232,-271.3425 467.2028,-261.13 463.039,-270.8723 470.0232,-271.3425\"/>\n</g>\n<!-- 13 -->\n<g id=\"node13\" class=\"node\">\n<title>13</title>\n<polygon fill=\"none\" stroke=\"#000000\" points=\"458.5,-149.5 356.5,-149.5 356.5,-96.5 458.5,-96.5 458.5,-149.5\"/>\n<text text-anchor=\"middle\" x=\"407.5\" y=\"-134.3\" font-family=\"Times,serif\" font-size=\"14.00\" fill=\"#000000\">gini = 0.0</text>\n<text text-anchor=\"middle\" x=\"407.5\" y=\"-119.3\" font-family=\"Times,serif\" font-size=\"14.00\" fill=\"#000000\">samples = 16</text>\n<text text-anchor=\"middle\" x=\"407.5\" y=\"-104.3\" font-family=\"Times,serif\" font-size=\"14.00\" fill=\"#000000\">value = [0, 16]</text>\n</g>\n<!-- 12&#45;&gt;13 -->\n<g id=\"edge12\" class=\"edge\">\n<title>12&#45;&gt;13</title>\n<path fill=\"none\" stroke=\"#000000\" d=\"M449.1989,-192.9465C442.5666,-181.8215 435.1897,-169.4473 428.5067,-158.237\"/>\n<polygon fill=\"#000000\" stroke=\"#000000\" points=\"431.4502,-156.3394 423.3232,-149.5422 425.4376,-159.9239 431.4502,-156.3394\"/>\n</g>\n<!-- 14 -->\n<g id=\"node14\" class=\"node\">\n<title>14</title>\n<polygon fill=\"none\" stroke=\"#000000\" points=\"586.5,-157 476.5,-157 476.5,-89 586.5,-89 586.5,-157\"/>\n<text text-anchor=\"middle\" x=\"531.5\" y=\"-141.8\" font-family=\"Times,serif\" font-size=\"14.00\" fill=\"#000000\">Income &lt;= 92.5</text>\n<text text-anchor=\"middle\" x=\"531.5\" y=\"-126.8\" font-family=\"Times,serif\" font-size=\"14.00\" fill=\"#000000\">gini = 0.499</text>\n<text text-anchor=\"middle\" x=\"531.5\" y=\"-111.8\" font-family=\"Times,serif\" font-size=\"14.00\" fill=\"#000000\">samples = 31</text>\n<text text-anchor=\"middle\" x=\"531.5\" y=\"-96.8\" font-family=\"Times,serif\" font-size=\"14.00\" fill=\"#000000\">value = [16, 15]</text>\n</g>\n<!-- 12&#45;&gt;14 -->\n<g id=\"edge13\" class=\"edge\">\n<title>12&#45;&gt;14</title>\n<path fill=\"none\" stroke=\"#000000\" d=\"M489.8011,-192.9465C494.9396,-184.3271 500.5251,-174.9579 505.8886,-165.9611\"/>\n<polygon fill=\"#000000\" stroke=\"#000000\" points=\"509.0389,-167.5117 511.1533,-157.13 503.0263,-163.9272 509.0389,-167.5117\"/>\n</g>\n<!-- 17 -->\n<g id=\"node15\" class=\"node\">\n<title>17</title>\n<polygon fill=\"none\" stroke=\"#000000\" points=\"519,-53 424,-53 424,0 519,0 519,-53\"/>\n<text text-anchor=\"middle\" x=\"471.5\" y=\"-37.8\" font-family=\"Times,serif\" font-size=\"14.00\" fill=\"#000000\">gini = 0.0</text>\n<text text-anchor=\"middle\" x=\"471.5\" y=\"-22.8\" font-family=\"Times,serif\" font-size=\"14.00\" fill=\"#000000\">samples = 5</text>\n<text text-anchor=\"middle\" x=\"471.5\" y=\"-7.8\" font-family=\"Times,serif\" font-size=\"14.00\" fill=\"#000000\">value = [5, 0]</text>\n</g>\n<!-- 14&#45;&gt;17 -->\n<g id=\"edge14\" class=\"edge\">\n<title>14&#45;&gt;17</title>\n<path fill=\"none\" stroke=\"#000000\" d=\"M510.3462,-88.9777C504.8805,-80.187 498.9846,-70.7044 493.4778,-61.8477\"/>\n<polygon fill=\"#000000\" stroke=\"#000000\" points=\"496.3837,-59.8927 488.1312,-53.2485 490.4391,-63.5889 496.3837,-59.8927\"/>\n</g>\n<!-- 18 -->\n<g id=\"node16\" class=\"node\">\n<title>18</title>\n<polygon fill=\"none\" stroke=\"#000000\" points=\"646,-53 537,-53 537,0 646,0 646,-53\"/>\n<text text-anchor=\"middle\" x=\"591.5\" y=\"-37.8\" font-family=\"Times,serif\" font-size=\"14.00\" fill=\"#000000\">gini = 0.488</text>\n<text text-anchor=\"middle\" x=\"591.5\" y=\"-22.8\" font-family=\"Times,serif\" font-size=\"14.00\" fill=\"#000000\">samples = 26</text>\n<text text-anchor=\"middle\" x=\"591.5\" y=\"-7.8\" font-family=\"Times,serif\" font-size=\"14.00\" fill=\"#000000\">value = [11, 15]</text>\n</g>\n<!-- 14&#45;&gt;18 -->\n<g id=\"edge15\" class=\"edge\">\n<title>14&#45;&gt;18</title>\n<path fill=\"none\" stroke=\"#000000\" d=\"M552.6538,-88.9777C558.1195,-80.187 564.0154,-70.7044 569.5222,-61.8477\"/>\n<polygon fill=\"#000000\" stroke=\"#000000\" points=\"572.5609,-63.5889 574.8688,-53.2485 566.6163,-59.8927 572.5609,-63.5889\"/>\n</g>\n<!-- 3 -->\n<g id=\"node18\" class=\"node\">\n<title>3</title>\n<polygon fill=\"none\" stroke=\"#000000\" points=\"535,-461.5 418,-461.5 418,-408.5 535,-408.5 535,-461.5\"/>\n<text text-anchor=\"middle\" x=\"476.5\" y=\"-446.3\" font-family=\"Times,serif\" font-size=\"14.00\" fill=\"#000000\">gini = 0.194</text>\n<text text-anchor=\"middle\" x=\"476.5\" y=\"-431.3\" font-family=\"Times,serif\" font-size=\"14.00\" fill=\"#000000\">samples = 635</text>\n<text text-anchor=\"middle\" x=\"476.5\" y=\"-416.3\" font-family=\"Times,serif\" font-size=\"14.00\" fill=\"#000000\">value = [566, 69]</text>\n</g>\n<!-- 2&#45;&gt;3 -->\n<g id=\"edge17\" class=\"edge\">\n<title>2&#45;&gt;3</title>\n<path fill=\"none\" stroke=\"#000000\" d=\"M477.8451,-504.9465C477.6397,-494.2621 477.412,-482.4254 477.2034,-471.5742\"/>\n<polygon fill=\"#000000\" stroke=\"#000000\" points=\"480.7021,-471.473 477.0104,-461.5422 473.7034,-471.6076 480.7021,-471.473\"/>\n</g>\n<!-- 4 -->\n<g id=\"node19\" class=\"node\">\n<title>4</title>\n<polygon fill=\"none\" stroke=\"#000000\" points=\"670,-469 553,-469 553,-401 670,-401 670,-469\"/>\n<text text-anchor=\"middle\" x=\"611.5\" y=\"-453.8\" font-family=\"Times,serif\" font-size=\"14.00\" fill=\"#000000\">Income &lt;= 116.5</text>\n<text text-anchor=\"middle\" x=\"611.5\" y=\"-438.8\" font-family=\"Times,serif\" font-size=\"14.00\" fill=\"#000000\">gini = 0.089</text>\n<text text-anchor=\"middle\" x=\"611.5\" y=\"-423.8\" font-family=\"Times,serif\" font-size=\"14.00\" fill=\"#000000\">samples = 343</text>\n<text text-anchor=\"middle\" x=\"611.5\" y=\"-408.8\" font-family=\"Times,serif\" font-size=\"14.00\" fill=\"#000000\">value = [16, 327]</text>\n</g>\n<!-- 2&#45;&gt;4 -->\n<g id=\"edge18\" class=\"edge\">\n<title>2&#45;&gt;4</title>\n<path fill=\"none\" stroke=\"#000000\" d=\"M522.0492,-504.9465C534.1054,-495.519 547.3089,-485.1946 559.7816,-475.4415\"/>\n<polygon fill=\"#000000\" stroke=\"#000000\" points=\"562.1314,-478.0471 567.853,-469.13 557.8194,-472.5328 562.1314,-478.0471\"/>\n</g>\n<!-- 7 -->\n<g id=\"node20\" class=\"node\">\n<title>7</title>\n<polygon fill=\"none\" stroke=\"#000000\" points=\"663.5,-365 553.5,-365 553.5,-297 663.5,-297 663.5,-365\"/>\n<text text-anchor=\"middle\" x=\"608.5\" y=\"-349.8\" font-family=\"Times,serif\" font-size=\"14.00\" fill=\"#000000\">CCAvg &lt;= 3.5</text>\n<text text-anchor=\"middle\" x=\"608.5\" y=\"-334.8\" font-family=\"Times,serif\" font-size=\"14.00\" fill=\"#000000\">gini = 0.495</text>\n<text text-anchor=\"middle\" x=\"608.5\" y=\"-319.8\" font-family=\"Times,serif\" font-size=\"14.00\" fill=\"#000000\">samples = 29</text>\n<text text-anchor=\"middle\" x=\"608.5\" y=\"-304.8\" font-family=\"Times,serif\" font-size=\"14.00\" fill=\"#000000\">value = [16, 13]</text>\n</g>\n<!-- 4&#45;&gt;7 -->\n<g id=\"edge19\" class=\"edge\">\n<title>4&#45;&gt;7</title>\n<path fill=\"none\" stroke=\"#000000\" d=\"M610.5177,-400.9465C610.282,-392.776 610.0269,-383.9318 609.7799,-375.3697\"/>\n<polygon fill=\"#000000\" stroke=\"#000000\" points=\"613.2715,-375.0249 609.4845,-365.13 606.2744,-375.2268 613.2715,-375.0249\"/>\n</g>\n<!-- 8 -->\n<g id=\"node23\" class=\"node\">\n<title>8</title>\n<polygon fill=\"none\" stroke=\"#000000\" points=\"791.5,-357.5 681.5,-357.5 681.5,-304.5 791.5,-304.5 791.5,-357.5\"/>\n<text text-anchor=\"middle\" x=\"736.5\" y=\"-342.3\" font-family=\"Times,serif\" font-size=\"14.00\" fill=\"#000000\">gini = 0.0</text>\n<text text-anchor=\"middle\" x=\"736.5\" y=\"-327.3\" font-family=\"Times,serif\" font-size=\"14.00\" fill=\"#000000\">samples = 314</text>\n<text text-anchor=\"middle\" x=\"736.5\" y=\"-312.3\" font-family=\"Times,serif\" font-size=\"14.00\" fill=\"#000000\">value = [0, 314]</text>\n</g>\n<!-- 4&#45;&gt;8 -->\n<g id=\"edge22\" class=\"edge\">\n<title>4&#45;&gt;8</title>\n<path fill=\"none\" stroke=\"#000000\" d=\"M652.4297,-400.9465C666.5955,-389.1606 682.4463,-375.9726 696.5338,-364.2519\"/>\n<polygon fill=\"#000000\" stroke=\"#000000\" points=\"699.1496,-366.6285 704.5984,-357.5422 694.6725,-361.2474 699.1496,-366.6285\"/>\n</g>\n<!-- 19 -->\n<g id=\"node21\" class=\"node\">\n<title>19</title>\n<polygon fill=\"none\" stroke=\"#000000\" points=\"655.5,-253.5 553.5,-253.5 553.5,-200.5 655.5,-200.5 655.5,-253.5\"/>\n<text text-anchor=\"middle\" x=\"604.5\" y=\"-238.3\" font-family=\"Times,serif\" font-size=\"14.00\" fill=\"#000000\">gini = 0.454</text>\n<text text-anchor=\"middle\" x=\"604.5\" y=\"-223.3\" font-family=\"Times,serif\" font-size=\"14.00\" fill=\"#000000\">samples = 23</text>\n<text text-anchor=\"middle\" x=\"604.5\" y=\"-208.3\" font-family=\"Times,serif\" font-size=\"14.00\" fill=\"#000000\">value = [15, 8]</text>\n</g>\n<!-- 7&#45;&gt;19 -->\n<g id=\"edge20\" class=\"edge\">\n<title>7&#45;&gt;19</title>\n<path fill=\"none\" stroke=\"#000000\" d=\"M607.1903,-296.9465C606.7793,-286.2621 606.3241,-274.4254 605.9067,-263.5742\"/>\n<polygon fill=\"#000000\" stroke=\"#000000\" points=\"609.4027,-263.4002 605.5209,-253.5422 602.4079,-263.6693 609.4027,-263.4002\"/>\n</g>\n<!-- 20 -->\n<g id=\"node22\" class=\"node\">\n<title>20</title>\n<polygon fill=\"none\" stroke=\"#000000\" points=\"769,-253.5 674,-253.5 674,-200.5 769,-200.5 769,-253.5\"/>\n<text text-anchor=\"middle\" x=\"721.5\" y=\"-238.3\" font-family=\"Times,serif\" font-size=\"14.00\" fill=\"#000000\">gini = 0.278</text>\n<text text-anchor=\"middle\" x=\"721.5\" y=\"-223.3\" font-family=\"Times,serif\" font-size=\"14.00\" fill=\"#000000\">samples = 6</text>\n<text text-anchor=\"middle\" x=\"721.5\" y=\"-208.3\" font-family=\"Times,serif\" font-size=\"14.00\" fill=\"#000000\">value = [1, 5]</text>\n</g>\n<!-- 7&#45;&gt;20 -->\n<g id=\"edge21\" class=\"edge\">\n<title>7&#45;&gt;20</title>\n<path fill=\"none\" stroke=\"#000000\" d=\"M645.5004,-296.9465C658.1866,-285.2707 672.3678,-272.219 685.013,-260.5809\"/>\n<polygon fill=\"#000000\" stroke=\"#000000\" points=\"687.6731,-262.8895 692.6609,-253.5422 682.9327,-257.7389 687.6731,-262.8895\"/>\n</g>\n</g>\n</svg>\n"
          },
          "metadata": {
            "tags": []
          },
          "execution_count": 61
        }
      ]
    },
    {
      "cell_type": "markdown",
      "metadata": {
        "id": "9coh_FviItkE"
      },
      "source": [
        "__☆ Rules :__  \n",
        "¤ Low chances of getting Personal Loan:  \n",
        "__1.__ If CC Average is <= 3.5 and Income is <= 101.5.  \n",
        "__2.__ If CC Average is > 3.5 and Income <= 88.5.  \n",
        "__3.__ If Education is > 2.5, Income <= 92.5 and CC Average is > 3.5.  \n",
        "__4.__ If Income > 113.5 and Education <= 1.5.\n",
        " \n",
        "¤ High chances of getting Personal Loan:  \n",
        "__1.__ If Income is > 88.5, CC Average is > 3.5 and Education is between 1.5 and 2.5.  \n",
        "__2.__ If Income is > 116.5 and Education is > 1.5."
      ]
    }
  ]
}