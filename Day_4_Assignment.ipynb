{
  "nbformat": 4,
  "nbformat_minor": 0,
  "metadata": {
    "colab": {
      "name": "Day_4_Assignment",
      "provenance": [],
      "collapsed_sections": [],
      "authorship_tag": "ABX9TyP+CvgPJAo+NXFSUJidWgPQ",
      "include_colab_link": true
    },
    "kernelspec": {
      "name": "python3",
      "display_name": "Python 3"
    }
  },
  "cells": [
    {
      "cell_type": "markdown",
      "metadata": {
        "id": "view-in-github",
        "colab_type": "text"
      },
      "source": [
        "<a href=\"https://colab.research.google.com/github/DhruvRajSingh-Coder/LetsUpgrade-AI-ML/blob/master/Day_4_Assignment.ipynb\" target=\"_parent\"><img src=\"https://colab.research.google.com/assets/colab-badge.svg\" alt=\"Open In Colab\"/></a>"
      ]
    },
    {
      "cell_type": "markdown",
      "metadata": {
        "id": "mjXLehO4Fd3H",
        "colab_type": "text"
      },
      "source": [
        "Question 1 :  \n",
        "Research on whether addition, subtraction, multiplication, division, floor division and modulo\n",
        "operations be performed on complex numbers. Based on your study, implement a Python\n",
        "program to demonstrate these operations."
      ]
    },
    {
      "cell_type": "code",
      "metadata": {
        "id": "jlF37dckG4FR",
        "colab_type": "code",
        "colab": {
          "base_uri": "https://localhost:8080/",
          "height": 85
        },
        "outputId": "9ca1a308-fd06-493b-dccf-585544a84345"
      },
      "source": [
        "#After reasearch i found that addition,subtraction,multiplication and division operations can be performed on complex numbers.\n",
        "#Python program to demonstrate it:\n",
        "a=7+6j\n",
        "b=7+6j\n",
        "print(\"The Sum of the complex numbers is\",a+b)\n",
        "print(\"The Differnce of the complex numbers is\",a-b)\n",
        "print(\"The Product of the complex numbers is\",a*b)\n",
        "print(\"The Quotient of the complex numbers is\",a/b)"
      ],
      "execution_count": null,
      "outputs": [
        {
          "output_type": "stream",
          "text": [
            "The Sum of the complex numbers is (14+12j)\n",
            "The Differnce of the complex numbers is 0j\n",
            "The Product of the complex numbers is (13+84j)\n",
            "The Quotient of the complex numbers is (1+0j)\n"
          ],
          "name": "stdout"
        }
      ]
    },
    {
      "cell_type": "code",
      "metadata": {
        "id": "8Un1aoeQLpU1",
        "colab_type": "code",
        "colab": {
          "base_uri": "https://localhost:8080/",
          "height": 197
        },
        "outputId": "f5234cf6-6638-496c-bb93-29f8822228ef"
      },
      "source": [
        "#Further i found that floor division and modulo operations cannot be performed on complex numbers.\n",
        "#Python program to demonstrate it:\n",
        "print(\"Floor division of the complex numbers is\",a//b)"
      ],
      "execution_count": null,
      "outputs": [
        {
          "output_type": "error",
          "ename": "TypeError",
          "evalue": "ignored",
          "traceback": [
            "\u001b[0;31m---------------------------------------------------------------------------\u001b[0m",
            "\u001b[0;31mTypeError\u001b[0m                                 Traceback (most recent call last)",
            "\u001b[0;32m<ipython-input-16-130953addeb4>\u001b[0m in \u001b[0;36m<module>\u001b[0;34m()\u001b[0m\n\u001b[1;32m      1\u001b[0m \u001b[0;31m#Further i found that floor division and modulo operations cannot be performed on complex numbers.\u001b[0m\u001b[0;34m\u001b[0m\u001b[0;34m\u001b[0m\u001b[0;34m\u001b[0m\u001b[0m\n\u001b[1;32m      2\u001b[0m \u001b[0;31m#Python program to demonstrate it:\u001b[0m\u001b[0;34m\u001b[0m\u001b[0;34m\u001b[0m\u001b[0;34m\u001b[0m\u001b[0m\n\u001b[0;32m----> 3\u001b[0;31m \u001b[0mprint\u001b[0m\u001b[0;34m(\u001b[0m\u001b[0;34m\"Floor division of the complex numbers is\"\u001b[0m\u001b[0;34m,\u001b[0m\u001b[0ma\u001b[0m\u001b[0;34m//\u001b[0m\u001b[0mb\u001b[0m\u001b[0;34m)\u001b[0m\u001b[0;34m\u001b[0m\u001b[0;34m\u001b[0m\u001b[0m\n\u001b[0m",
            "\u001b[0;31mTypeError\u001b[0m: can't take floor of complex number."
          ]
        }
      ]
    },
    {
      "cell_type": "code",
      "metadata": {
        "id": "EB2QSK3uOd6B",
        "colab_type": "code",
        "colab": {
          "base_uri": "https://localhost:8080/",
          "height": 163
        },
        "outputId": "f4e79d2c-6c9d-4d19-fc15-d9f102bd8ba5"
      },
      "source": [
        "print(\"Modulo of the complex numbers is\",a%b)"
      ],
      "execution_count": null,
      "outputs": [
        {
          "output_type": "error",
          "ename": "TypeError",
          "evalue": "ignored",
          "traceback": [
            "\u001b[0;31m---------------------------------------------------------------------------\u001b[0m",
            "\u001b[0;31mTypeError\u001b[0m                                 Traceback (most recent call last)",
            "\u001b[0;32m<ipython-input-17-b9bba376e1c3>\u001b[0m in \u001b[0;36m<module>\u001b[0;34m()\u001b[0m\n\u001b[0;32m----> 1\u001b[0;31m \u001b[0mprint\u001b[0m\u001b[0;34m(\u001b[0m\u001b[0;34m\"Modulo of the complex numbers is\"\u001b[0m\u001b[0;34m,\u001b[0m\u001b[0ma\u001b[0m\u001b[0;34m%\u001b[0m\u001b[0mb\u001b[0m\u001b[0;34m)\u001b[0m\u001b[0;34m\u001b[0m\u001b[0;34m\u001b[0m\u001b[0m\n\u001b[0m",
            "\u001b[0;31mTypeError\u001b[0m: can't mod complex numbers."
          ]
        }
      ]
    },
    {
      "cell_type": "markdown",
      "metadata": {
        "id": "34xuQn_uFQNo",
        "colab_type": "text"
      },
      "source": [
        "Question 2:        \n",
        "Research on range() functions and its parameters. Create a markdown cell and write in your own\n",
        "words (no copy-paste from google please) what you understand about it. Implement a small\n",
        "program of your choice on the same."
      ]
    },
    {
      "cell_type": "markdown",
      "metadata": {
        "id": "HJq15siuFsXl",
        "colab_type": "text"
      },
      "source": [
        "*Range() function intakes integral inputs and returns a sequence of numbers starting from 0 and increments by one,both actions takes place by default and stops before a specified number,which is given as output.It uses for loop for repetition purpose.  \n",
        "*Parameters of range() function:\n",
        "•start: Starting number of the sequence.  \n",
        "•stop:Generate numbers up to,but not including this number.  \n",
        "•step: Difference between each number in the sequence."
      ]
    },
    {
      "cell_type": "code",
      "metadata": {
        "id": "aogMMyy9M4f2",
        "colab_type": "code",
        "colab": {
          "base_uri": "https://localhost:8080/",
          "height": 199
        },
        "outputId": "7fa55361-00f6-48b4-f20e-51154584f736"
      },
      "source": [
        "k=(1,10)\n",
        "print(\"Integers between 1 and 10 are:\")\n",
        "for k in range(2,10):\n",
        "    print(k)"
      ],
      "execution_count": null,
      "outputs": [
        {
          "output_type": "stream",
          "text": [
            "Integers between 1 and 10 are:\n",
            "2\n",
            "3\n",
            "4\n",
            "5\n",
            "6\n",
            "7\n",
            "8\n",
            "9\n"
          ],
          "name": "stdout"
        }
      ]
    },
    {
      "cell_type": "markdown",
      "metadata": {
        "id": "46eqCGXfMdwH",
        "colab_type": "text"
      },
      "source": [
        "Question 3:  \n",
        "Consider two numbers. Perform their subtraction and if the result of subtraction is greater than\n",
        "25, print their multiplication result else print their division result."
      ]
    },
    {
      "cell_type": "code",
      "metadata": {
        "id": "ZPiUeJcLP87F",
        "colab_type": "code",
        "colab": {
          "base_uri": "https://localhost:8080/",
          "height": 55
        },
        "outputId": "c0765bfa-438c-4a0b-a793-4cec15e59f3d"
      },
      "source": [
        "x=12\n",
        "y=6\n",
        "if (x-y)>25:\n",
        "    print(\"The product of x and y is\",x*y)\n",
        "else:\n",
        "    print (\"The quotient of x and y is\",x/y)"
      ],
      "execution_count": 22,
      "outputs": [
        {
          "output_type": "stream",
          "text": [
            "The quotient of x and y is 2.0\n"
          ],
          "name": "stdout"
        }
      ]
    },
    {
      "cell_type": "markdown",
      "metadata": {
        "id": "AtDSwco7WRii",
        "colab_type": "text"
      },
      "source": [
        "Question 4:  \n",
        "Consider a list of 10 elements of integer values. If the number in the list is divisible by 2, print the\n",
        "result as \"square of that number minus 2\"."
      ]
    },
    {
      "cell_type": "code",
      "metadata": {
        "id": "uqhTzLkHWZ2L",
        "colab_type": "code",
        "colab": {
          "base_uri": "https://localhost:8080/",
          "height": 127
        },
        "outputId": "046837f5-c829-407d-c88a-a1532bd424ae"
      },
      "source": [
        "d=[6,7,9,11,12,15,16,21,23,24]\n",
        "print(\"The result of the given operation for the even numbers is:\")\n",
        "for k in d:\n",
        "   if k%2==0:\n",
        "       print((k**2)-2)"
      ],
      "execution_count": 33,
      "outputs": [
        {
          "output_type": "stream",
          "text": [
            "The result of the given operation for the even numbers is:\n",
            "34\n",
            "142\n",
            "254\n",
            "574\n"
          ],
          "name": "stdout"
        }
      ]
    },
    {
      "cell_type": "markdown",
      "metadata": {
        "id": "7ojmPie4Vt2w",
        "colab_type": "text"
      },
      "source": [
        "Question 5:   \n",
        "Consider a list of 10 elements. Print all the elements in the list which are greater than 7 when that\n",
        "number is divided 2."
      ]
    },
    {
      "cell_type": "code",
      "metadata": {
        "id": "4Y6nVWXnaajD",
        "colab_type": "code",
        "colab": {
          "base_uri": "https://localhost:8080/",
          "height": 109
        },
        "outputId": "1e0aca02-388c-4f02-df99-356c22405e3c"
      },
      "source": [
        "d=[1,2,6,7,9,12,15,16,21,22]\n",
        "print (\"The numbers divisible by 2 and greater than 7 are:\")\n",
        "for p in d:\n",
        "    if p%2==0 and p>7:\n",
        "        print(p)"
      ],
      "execution_count": 38,
      "outputs": [
        {
          "output_type": "stream",
          "text": [
            "The numbers divisible by 2 and greater than 7 are:\n",
            "12\n",
            "16\n",
            "22\n"
          ],
          "name": "stdout"
        }
      ]
    }
  ]
}