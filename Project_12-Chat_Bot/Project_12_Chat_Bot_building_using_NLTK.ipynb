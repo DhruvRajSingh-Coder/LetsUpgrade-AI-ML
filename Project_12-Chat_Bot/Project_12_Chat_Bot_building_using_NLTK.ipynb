{
  "nbformat": 4,
  "nbformat_minor": 0,
  "metadata": {
    "colab": {
      "name": "Project_12-Chat_Bot_building_using_NLTK",
      "provenance": [],
      "collapsed_sections": []
    },
    "kernelspec": {
      "name": "python3",
      "display_name": "Python 3"
    },
    "language_info": {
      "name": "python"
    }
  },
  "cells": [
    {
      "cell_type": "markdown",
      "metadata": {
        "id": "Jjpma9pm1-OO"
      },
      "source": [
        "___* NLP Basics___"
      ]
    },
    {
      "cell_type": "code",
      "metadata": {
        "id": "FPjwFtYkWuq3"
      },
      "source": [
        "import nltk"
      ],
      "execution_count": 1,
      "outputs": []
    },
    {
      "cell_type": "code",
      "metadata": {
        "colab": {
          "base_uri": "https://localhost:8080/"
        },
        "id": "6TeWWSxyW7IR",
        "outputId": "3180f163-1c46-4cd5-91af-69e21d262754"
      },
      "source": [
        "nltk.download('punkt')"
      ],
      "execution_count": 2,
      "outputs": [
        {
          "output_type": "stream",
          "text": [
            "[nltk_data] Downloading package punkt to /root/nltk_data...\n",
            "[nltk_data]   Package punkt is already up-to-date!\n"
          ],
          "name": "stdout"
        },
        {
          "output_type": "execute_result",
          "data": {
            "text/plain": [
              "True"
            ]
          },
          "metadata": {
            "tags": []
          },
          "execution_count": 2
        }
      ]
    },
    {
      "cell_type": "markdown",
      "metadata": {
        "id": "Aq0kv_lmXJyx"
      },
      "source": [
        "___Sentence tokenization :___"
      ]
    },
    {
      "cell_type": "code",
      "metadata": {
        "colab": {
          "base_uri": "https://localhost:8080/"
        },
        "id": "XBYuKPpnXHIH",
        "outputId": "b31a1067-a2e2-45af-a0f0-544e075b67db"
      },
      "source": [
        "from nltk.tokenize import sent_tokenize\n",
        "text=\"\"\"Learn to enjoy every minute of your life. Be happy now. Don’t wait for something outside of yourself to make you happy in the future. Think how really precious is the time you have to spend, whether it’s at work or with your family. Every minute should be enjoyed and savored.\"\"\"\n",
        "token_sent=sent_tokenize(text)\n",
        "print(token_sent)"
      ],
      "execution_count": 3,
      "outputs": [
        {
          "output_type": "stream",
          "text": [
            "['Learn to enjoy every minute of your life.', 'Be happy now.', 'Don’t wait for something outside of yourself to make you happy in the future.', 'Think how really precious is the time you have to spend, whether it’s at work or with your family.', 'Every minute should be enjoyed and savored.']\n"
          ],
          "name": "stdout"
        }
      ]
    },
    {
      "cell_type": "markdown",
      "metadata": {
        "id": "fMgi7dPvX38a"
      },
      "source": [
        "___Word Token :___"
      ]
    },
    {
      "cell_type": "code",
      "metadata": {
        "colab": {
          "base_uri": "https://localhost:8080/"
        },
        "id": "MvAxGYj0X25K",
        "outputId": "c25cf3e4-a45f-480c-8d86-7cba03883cc6"
      },
      "source": [
        "from nltk.tokenize import word_tokenize\n",
        "token_word=word_tokenize(text)\n",
        "print(token_word)"
      ],
      "execution_count": 4,
      "outputs": [
        {
          "output_type": "stream",
          "text": [
            "['Learn', 'to', 'enjoy', 'every', 'minute', 'of', 'your', 'life', '.', 'Be', 'happy', 'now', '.', 'Don', '’', 't', 'wait', 'for', 'something', 'outside', 'of', 'yourself', 'to', 'make', 'you', 'happy', 'in', 'the', 'future', '.', 'Think', 'how', 'really', 'precious', 'is', 'the', 'time', 'you', 'have', 'to', 'spend', ',', 'whether', 'it', '’', 's', 'at', 'work', 'or', 'with', 'your', 'family', '.', 'Every', 'minute', 'should', 'be', 'enjoyed', 'and', 'savored', '.']\n"
          ],
          "name": "stdout"
        }
      ]
    },
    {
      "cell_type": "markdown",
      "metadata": {
        "id": "N7txcJcFYNXv"
      },
      "source": [
        "___Frequency distribution :___"
      ]
    },
    {
      "cell_type": "code",
      "metadata": {
        "colab": {
          "base_uri": "https://localhost:8080/"
        },
        "id": "JC85RdZcYMy5",
        "outputId": "f88e934a-3ba0-4b97-fbba-a7d9a8901cf2"
      },
      "source": [
        "from nltk.probability import FreqDist\n",
        "freq_dist=FreqDist(token_word)\n",
        "print(freq_dist)"
      ],
      "execution_count": 5,
      "outputs": [
        {
          "output_type": "stream",
          "text": [
            "<FreqDist with 48 samples and 61 outcomes>\n"
          ],
          "name": "stdout"
        }
      ]
    },
    {
      "cell_type": "code",
      "metadata": {
        "colab": {
          "base_uri": "https://localhost:8080/"
        },
        "id": "So9ih5AeYsxq",
        "outputId": "4d9e73dc-6f84-457a-d070-ff6388538c40"
      },
      "source": [
        "freq_dist.most_common()"
      ],
      "execution_count": 6,
      "outputs": [
        {
          "output_type": "execute_result",
          "data": {
            "text/plain": [
              "[('.', 5),\n",
              " ('to', 3),\n",
              " ('minute', 2),\n",
              " ('of', 2),\n",
              " ('your', 2),\n",
              " ('happy', 2),\n",
              " ('’', 2),\n",
              " ('you', 2),\n",
              " ('the', 2),\n",
              " ('Learn', 1),\n",
              " ('enjoy', 1),\n",
              " ('every', 1),\n",
              " ('life', 1),\n",
              " ('Be', 1),\n",
              " ('now', 1),\n",
              " ('Don', 1),\n",
              " ('t', 1),\n",
              " ('wait', 1),\n",
              " ('for', 1),\n",
              " ('something', 1),\n",
              " ('outside', 1),\n",
              " ('yourself', 1),\n",
              " ('make', 1),\n",
              " ('in', 1),\n",
              " ('future', 1),\n",
              " ('Think', 1),\n",
              " ('how', 1),\n",
              " ('really', 1),\n",
              " ('precious', 1),\n",
              " ('is', 1),\n",
              " ('time', 1),\n",
              " ('have', 1),\n",
              " ('spend', 1),\n",
              " (',', 1),\n",
              " ('whether', 1),\n",
              " ('it', 1),\n",
              " ('s', 1),\n",
              " ('at', 1),\n",
              " ('work', 1),\n",
              " ('or', 1),\n",
              " ('with', 1),\n",
              " ('family', 1),\n",
              " ('Every', 1),\n",
              " ('should', 1),\n",
              " ('be', 1),\n",
              " ('enjoyed', 1),\n",
              " ('and', 1),\n",
              " ('savored', 1)]"
            ]
          },
          "metadata": {
            "tags": []
          },
          "execution_count": 6
        }
      ]
    },
    {
      "cell_type": "code",
      "metadata": {
        "colab": {
          "base_uri": "https://localhost:8080/",
          "height": 322
        },
        "id": "HoyRn7NeYzUp",
        "outputId": "9225956e-5300-45c4-a3d4-b051e12923a4"
      },
      "source": [
        "import matplotlib.pyplot as plt\n",
        "freq_dist.plot(27,cumulative=False)\n",
        "plt.show()"
      ],
      "execution_count": 7,
      "outputs": [
        {
          "output_type": "display_data",
          "data": {
            "image/png": "[encoded data removed]",
            "text/plain": [
              "<Figure size 432x288 with 1 Axes>"
            ]
          },
          "metadata": {
            "tags": [],
            "needs_background": "light"
          }
        }
      ]
    },
    {
      "cell_type": "markdown",
      "metadata": {
        "id": "jFrnrkCFZPfN"
      },
      "source": [
        "___Stop Words :___"
      ]
    },
    {
      "cell_type": "code",
      "metadata": {
        "colab": {
          "base_uri": "https://localhost:8080/"
        },
        "id": "Z3HyH438ZNcH",
        "outputId": "a4296381-dd07-4f3e-e6d4-9831a808a67e"
      },
      "source": [
        "nltk.download('stopwords')\n",
        "from nltk.corpus import stopwords\n",
        "stop_words=set(stopwords.words('english'))\n",
        "print(stop_words)"
      ],
      "execution_count": 8,
      "outputs": [
        {
          "output_type": "stream",
          "text": [
            "[nltk_data] Downloading package stopwords to /root/nltk_data...\n",
            "[nltk_data]   Package stopwords is already up-to-date!\n",
            "{'yourselves', 'because', 'me', 'a', 'don', 'again', 'until', 'hers', 'she', \"haven't\", 'this', 'ours', 'are', 'only', 'mightn', 'off', 'him', 'above', 'hasn', 'weren', 'them', \"you've\", 'further', 'about', 'yours', 'on', 'why', 'shan', \"shan't\", 'do', \"isn't\", 'doesn', 're', \"you'd\", 'what', 'couldn', 'to', 'during', 'both', 'having', 'between', 'our', 'shouldn', 'themselves', \"it's\", 'while', 'before', 'can', 'for', 'wouldn', \"wasn't\", \"should've\", 'has', 'ma', \"mustn't\", 'is', 'up', 'just', 'ourselves', 'its', 'doing', 'each', 'most', 'their', 'am', 'should', 'there', 'i', 'as', 'have', 'here', 'more', 've', 's', 'with', \"she's\", 'wasn', 'few', 'you', \"you're\", 'below', 'into', 'ain', 'her', 'it', 'any', 'when', 'itself', 'an', 'too', 'some', 'whom', 'your', 'd', \"hasn't\", \"doesn't\", 'so', 'the', 'those', 'myself', 'won', 'aren', \"aren't\", 'herself', 'his', 'my', 'of', 'didn', 'be', 'against', 'was', \"you'll\", 'all', 'been', 'at', \"won't\", 'did', 'were', 'does', \"didn't\", 'who', \"mightn't\", 'isn', 'out', \"wouldn't\", 'hadn', 'haven', 'own', \"that'll\", 'mustn', 'then', 'after', \"weren't\", 'they', 'than', \"couldn't\", 'under', 'not', 'and', 'same', 'y', 't', 'through', 'by', 'down', 'will', 'now', 'such', 'yourself', 'or', 'll', \"needn't\", 'these', 'we', 'but', 'that', 'needn', 'm', 'theirs', \"hadn't\", 'if', 'nor', 'o', 'where', 'no', \"don't\", 'over', 'other', 'which', 'how', 'being', 'he', 'very', 'in', 'once', \"shouldn't\", 'from', 'himself', 'had'}\n"
          ],
          "name": "stdout"
        }
      ]
    },
    {
      "cell_type": "code",
      "metadata": {
        "colab": {
          "base_uri": "https://localhost:8080/"
        },
        "id": "RNsdcQRTaWuu",
        "outputId": "bc714f6a-7274-4475-97a3-45ca33153341"
      },
      "source": [
        "len(stop_words)"
      ],
      "execution_count": 9,
      "outputs": [
        {
          "output_type": "execute_result",
          "data": {
            "text/plain": [
              "179"
            ]
          },
          "metadata": {
            "tags": []
          },
          "execution_count": 9
        }
      ]
    },
    {
      "cell_type": "markdown",
      "metadata": {
        "id": "s2texoghad0c"
      },
      "source": [
        "___Removing Stopwords :___"
      ]
    },
    {
      "cell_type": "code",
      "metadata": {
        "colab": {
          "base_uri": "https://localhost:8080/"
        },
        "id": "6F-4I_ROab99",
        "outputId": "4b70159f-bbc5-4bf6-a2c6-f304b49e0d52"
      },
      "source": [
        "filtered_sent=[]\n",
        "for w in token_word:\n",
        "    if w not in stop_words:\n",
        "        filtered_sent.append(w)\n",
        "print('Token sent\\n\\n',token_word)\n",
        " \n",
        "print('\\nAfter Removing Stopwords\\n\\n',filtered_sent)"
      ],
      "execution_count": 10,
      "outputs": [
        {
          "output_type": "stream",
          "text": [
            "Token sent\n",
            "\n",
            " ['Learn', 'to', 'enjoy', 'every', 'minute', 'of', 'your', 'life', '.', 'Be', 'happy', 'now', '.', 'Don', '’', 't', 'wait', 'for', 'something', 'outside', 'of', 'yourself', 'to', 'make', 'you', 'happy', 'in', 'the', 'future', '.', 'Think', 'how', 'really', 'precious', 'is', 'the', 'time', 'you', 'have', 'to', 'spend', ',', 'whether', 'it', '’', 's', 'at', 'work', 'or', 'with', 'your', 'family', '.', 'Every', 'minute', 'should', 'be', 'enjoyed', 'and', 'savored', '.']\n",
            "\n",
            "After Removing Stopwords\n",
            "\n",
            " ['Learn', 'enjoy', 'every', 'minute', 'life', '.', 'Be', 'happy', '.', 'Don', '’', 'wait', 'something', 'outside', 'make', 'happy', 'future', '.', 'Think', 'really', 'precious', 'time', 'spend', ',', 'whether', '’', 'work', 'family', '.', 'Every', 'minute', 'enjoyed', 'savored', '.']\n"
          ],
          "name": "stdout"
        }
      ]
    },
    {
      "cell_type": "markdown",
      "metadata": {
        "id": "1Yjp2PfCcQxk"
      },
      "source": [
        "___Stemming :___"
      ]
    },
    {
      "cell_type": "code",
      "metadata": {
        "colab": {
          "base_uri": "https://localhost:8080/"
        },
        "id": "mqKJPDGNcNpe",
        "outputId": "56780bd1-81b0-4f03-cd9d-f0795496dd31"
      },
      "source": [
        "from nltk.stem import PorterStemmer\n",
        "ps=PorterStemmer()\n",
        "stemmed_words=[]\n",
        "for w in filtered_sent:\n",
        "    stemmed_words.append(ps.stem(w))\n",
        "print('\\n The Filtered Sentence \\n',filtered_sent)\n",
        "print('\\n Stemmed Words \\n',stemmed_words)"
      ],
      "execution_count": 11,
      "outputs": [
        {
          "output_type": "stream",
          "text": [
            "\n",
            " The Filtered Sentence \n",
            " ['Learn', 'enjoy', 'every', 'minute', 'life', '.', 'Be', 'happy', '.', 'Don', '’', 'wait', 'something', 'outside', 'make', 'happy', 'future', '.', 'Think', 'really', 'precious', 'time', 'spend', ',', 'whether', '’', 'work', 'family', '.', 'Every', 'minute', 'enjoyed', 'savored', '.']\n",
            "\n",
            " Stemmed Words \n",
            " ['learn', 'enjoy', 'everi', 'minut', 'life', '.', 'Be', 'happi', '.', 'don', '’', 'wait', 'someth', 'outsid', 'make', 'happi', 'futur', '.', 'think', 'realli', 'preciou', 'time', 'spend', ',', 'whether', '’', 'work', 'famili', '.', 'everi', 'minut', 'enjoy', 'savor', '.']\n"
          ],
          "name": "stdout"
        }
      ]
    },
    {
      "cell_type": "code",
      "metadata": {
        "colab": {
          "base_uri": "https://localhost:8080/"
        },
        "id": "T3hXJzmHdYZ9",
        "outputId": "b3e8ad02-c92f-4e12-8b35-a83fdcc64899"
      },
      "source": [
        "st='connect,connected,connecting'\n",
        "st_word=word_tokenize(st)\n",
        "print(st_word)"
      ],
      "execution_count": 12,
      "outputs": [
        {
          "output_type": "stream",
          "text": [
            "['connect', ',', 'connected', ',', 'connecting']\n"
          ],
          "name": "stdout"
        }
      ]
    },
    {
      "cell_type": "code",
      "metadata": {
        "colab": {
          "base_uri": "https://localhost:8080/"
        },
        "id": "UmXRt820d3Lp",
        "outputId": "5f9398ac-3e74-4503-dd48-14317724946f"
      },
      "source": [
        "from nltk.stem import PorterStemmer\n",
        "ps=PorterStemmer()\n",
        "stemmed_words=[]\n",
        "for w in st_word:\n",
        "    stemmed_words.append(ps.stem(w))\n",
        "print('\\n Stemmed Words \\n',stemmed_words)"
      ],
      "execution_count": 13,
      "outputs": [
        {
          "output_type": "stream",
          "text": [
            "\n",
            " Stemmed Words \n",
            " ['connect', ',', 'connect', ',', 'connect']\n"
          ],
          "name": "stdout"
        }
      ]
    },
    {
      "cell_type": "code",
      "metadata": {
        "colab": {
          "base_uri": "https://localhost:8080/"
        },
        "id": "UnRhNk4veM4k",
        "outputId": "3e670767-2a89-4a4e-c3f5-bd4caeea2cdf"
      },
      "source": [
        "nltk.download('wordnet')"
      ],
      "execution_count": 14,
      "outputs": [
        {
          "output_type": "stream",
          "text": [
            "[nltk_data] Downloading package wordnet to /root/nltk_data...\n",
            "[nltk_data]   Package wordnet is already up-to-date!\n"
          ],
          "name": "stdout"
        },
        {
          "output_type": "execute_result",
          "data": {
            "text/plain": [
              "True"
            ]
          },
          "metadata": {
            "tags": []
          },
          "execution_count": 14
        }
      ]
    },
    {
      "cell_type": "markdown",
      "metadata": {
        "id": "A7KWmA4eeWVB"
      },
      "source": [
        "___Lemmatization :___"
      ]
    },
    {
      "cell_type": "code",
      "metadata": {
        "colab": {
          "base_uri": "https://localhost:8080/"
        },
        "id": "ItCi6AhNeU6i",
        "outputId": "eae996e5-bf7f-49bd-df07-4277239db067"
      },
      "source": [
        "from nltk.stem import WordNetLemmatizer\n",
        "lem=WordNetLemmatizer()\n",
        "stem=PorterStemmer()\n",
        "word='flying'\n",
        "print('Lemmatized word\\n',lem.lemmatize(word,'v'))\n",
        "print('\\n Stemmed Word \\n',stem.stem(word))"
      ],
      "execution_count": 15,
      "outputs": [
        {
          "output_type": "stream",
          "text": [
            "Lemmatized word\n",
            " fly\n",
            "\n",
            " Stemmed Word \n",
            " fli\n"
          ],
          "name": "stdout"
        }
      ]
    },
    {
      "cell_type": "markdown",
      "metadata": {
        "id": "5C0x_tTlgtk7"
      },
      "source": [
        "___* Chatbot Development with nltk___"
      ]
    },
    {
      "cell_type": "markdown",
      "metadata": {
        "id": "8NWXhtxg5o_D"
      },
      "source": [
        "___Import Necessary Libraries :___"
      ]
    },
    {
      "cell_type": "code",
      "metadata": {
        "id": "sEL28caegsfZ"
      },
      "source": [
        "import io\n",
        "import random\n",
        "import string\n",
        "import warnings\n",
        "import numpy as np\n",
        "from sklearn.feature_extraction.text import TfidfVectorizer\n",
        "from sklearn.metrics.pairwise import cosine_similarity\n",
        "warnings.filterwarnings('ignore')"
      ],
      "execution_count": 16,
      "outputs": []
    },
    {
      "cell_type": "markdown",
      "metadata": {
        "id": "ue4ulXM547Rm"
      },
      "source": [
        "___Installing NLTK Packages :___"
      ]
    },
    {
      "cell_type": "code",
      "metadata": {
        "colab": {
          "base_uri": "https://localhost:8080/"
        },
        "id": "3QOY3mzwhu13",
        "outputId": "7cb39f38-3739-4c46-84d9-b14746e46e45"
      },
      "source": [
        "import nltk\n",
        "from nltk.stem import WordNetLemmatizer\n",
        "nltk.download('popular',quiet=True)\n",
        "nltk.download('punkt')\n",
        "nltk.download('wordnet')"
      ],
      "execution_count": 17,
      "outputs": [
        {
          "output_type": "stream",
          "text": [
            "[nltk_data] Downloading package punkt to /root/nltk_data...\n",
            "[nltk_data]   Package punkt is already up-to-date!\n",
            "[nltk_data] Downloading package wordnet to /root/nltk_data...\n",
            "[nltk_data]   Package wordnet is already up-to-date!\n"
          ],
          "name": "stdout"
        },
        {
          "output_type": "execute_result",
          "data": {
            "text/plain": [
              "True"
            ]
          },
          "metadata": {
            "tags": []
          },
          "execution_count": 17
        }
      ]
    },
    {
      "cell_type": "markdown",
      "metadata": {
        "id": "BxQZ4N9hi2b8"
      },
      "source": [
        "___Reading The Corpus :___"
      ]
    },
    {
      "cell_type": "code",
      "metadata": {
        "id": "QC8cBVIxix8x"
      },
      "source": [
        "f=open('/content/drive/MyDrive/Chat_Bot.txt','r',errors='ignore')\n",
        "raw=f.read()\n",
        "raw=raw.lower()#converts to lowercase"
      ],
      "execution_count": 18,
      "outputs": []
    },
    {
      "cell_type": "markdown",
      "metadata": {
        "id": "AMDcbQufj3VY"
      },
      "source": [
        "___Tokenization :___"
      ]
    },
    {
      "cell_type": "code",
      "metadata": {
        "id": "z8YR7-bHjZNM"
      },
      "source": [
        "sent_tokens=nltk.sent_tokenize(raw)#Converts to list of sentences\n",
        "word_tokens=nltk.word_tokenize(raw)#Converts to list of words"
      ],
      "execution_count": 19,
      "outputs": []
    },
    {
      "cell_type": "markdown",
      "metadata": {
        "id": "3zEZAKYjkfWi"
      },
      "source": [
        "___Preprocessing :___"
      ]
    },
    {
      "cell_type": "code",
      "metadata": {
        "id": "ySLW_NgdkeLJ"
      },
      "source": [
        "lemmer=nltk.stem.WordNetLemmatizer()\n",
        "#WordNet is a semantically-oriented dictionary of English included in NLTK.\n",
        "def LemTokens(tokens):\n",
        "    return [lemmer.lemmatize(token) for token in tokens]\n",
        "remove_punct_dict=dict((ord(punct),None)for punct in string.punctuation)\n",
        "def LemNormalize(text):\n",
        "  return LemTokens(nltk.word_tokenize(text.lower().translate(remove_punct_dict)))    "
      ],
      "execution_count": 20,
      "outputs": []
    },
    {
      "cell_type": "markdown",
      "metadata": {
        "id": "ekGlbx8i6452"
      },
      "source": [
        "___Keyword Matching :___"
      ]
    },
    {
      "cell_type": "code",
      "metadata": {
        "id": "FAHRwayV6-yM"
      },
      "source": [
        "GREETING_INPUTS=(\"hello\",\"hi\",\"greetings\",\"sup\",\"what's up\",\"hey\")\n",
        "GREETING_RESPONSES=[\"hi\",\"hey\",\"*nods*\",\"hi there\",\"hello\",\"I am glad! You are talking to me\"]\n",
        "def greeting(sentence):\n",
        "  for word in sentence.split():\n",
        "    if word.lower() in GREETING_INPUTS:\n",
        "      return random.choice(GREETING_RESPONSES)"
      ],
      "execution_count": 21,
      "outputs": []
    },
    {
      "cell_type": "markdown",
      "metadata": {
        "id": "WwdGD1Vk8bgg"
      },
      "source": [
        "___Generating Response :___"
      ]
    },
    {
      "cell_type": "code",
      "metadata": {
        "id": "zt8ApBKQ8jhw"
      },
      "source": [
        "def response(user_response):\n",
        "    robo_response=''\n",
        "    sent_tokens.append(user_response)\n",
        "    TfidfVec=TfidfVectorizer(tokenizer=LemNormalize,stop_words='english')\n",
        "    tfidf=TfidfVec.fit_transform(sent_tokens)\n",
        "    vals=cosine_similarity(tfidf[-1],tfidf)\n",
        "    idx=vals.argsort()[0][-2]\n",
        "    flat=vals.flatten()\n",
        "    flat.sort()\n",
        "    req_tfidf=flat[-2]\n",
        "    if(req_tfidf==0):\n",
        "        robo_response=robo_response+\"I am sorry! I don't understand you\"\n",
        "        return robo_response\n",
        "    else:\n",
        "          robo_response=robo_response+sent_tokens[idx]\n",
        "          return robo_response"
      ],
      "execution_count": 22,
      "outputs": []
    },
    {
      "cell_type": "code",
      "metadata": {
        "id": "Df7eKbrC8a7x",
        "colab": {
          "base_uri": "https://localhost:8080/"
        },
        "outputId": "f81f1f52-5a88-4be0-c0d8-33acbf78503b"
      },
      "source": [
        "flag=True\n",
        "print(\"ROBO: My name is Robo. I will answer your queries about Chatbots. If you want to exit, type Bye!\")\n",
        "while(flag==True):\n",
        "    user_response=input()\n",
        "    user_response=user_response.lower()\n",
        "    if(user_response!='bye'):\n",
        "        if(user_response=='thanks' or user_response=='thank you'):\n",
        "            flag=False\n",
        "            print(\"ROBO: You are welcome.\")\n",
        "        else:\n",
        "            if(greeting(user_response)!=None):\n",
        "                print(\"ROBO:\"+greeting(user_response))\n",
        "            else:\n",
        "                print(\"ROBO: \",end=\"\")\n",
        "                print(response(user_response))\n",
        "                sent_tokens.remove(user_response)\n",
        "    else:\n",
        "        flag=False\n",
        "        print(\"ROBO: Bye! take care..\")"
      ],
      "execution_count": 23,
      "outputs": [
        {
          "output_type": "stream",
          "text": [
            "ROBO: My name is Robo. I will answer your queries about Chatbots. If you want to exit, type Bye!\n",
            "Hello\n",
            "ROBO:hi there\n",
            "What is chatterbot\n",
            "ROBO: a chatbot (also known as a talkbot, chatterbot, bot, im bot, interactive agent, or artificial conversational entity) is a computer program or an artificial intelligence which conducts a conversation via auditory or textual methods.\n",
            "Development\n",
            "ROBO: chatbot development platforms\n",
            "the process of building, testing and deploying chatbots can be done on cloud based chatbot development platforms offered by cloud platform as a service (paas) providers such as yekaliva, oracle cloud platform, snatchbot and ibm watson.these cloud platforms provide natural language processing, artificial intelligence and mobile backend as a service for chatbot development.\n",
            "API's\n",
            "ROBO: apis\n",
            "there are many apis available for building your own chatbots, such as aarc.\n",
            "Bye\n",
            "ROBO: Bye! take care..\n"
          ],
          "name": "stdout"
        }
      ]
    }
  ]
}