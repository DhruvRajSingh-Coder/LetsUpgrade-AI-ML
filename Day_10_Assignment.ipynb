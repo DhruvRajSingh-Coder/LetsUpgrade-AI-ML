{
  "nbformat": 4,
  "nbformat_minor": 0,
  "metadata": {
    "colab": {
      "name": "Day_10_Assignment",
      "provenance": [],
      "collapsed_sections": [],
      "authorship_tag": "ABX9TyNHvASzCAztE7r/h+I/KTZe",
      "include_colab_link": true
    },
    "kernelspec": {
      "name": "python3",
      "display_name": "Python 3"
    }
  },
  "cells": [
    {
      "cell_type": "markdown",
      "metadata": {
        "id": "view-in-github",
        "colab_type": "text"
      },
      "source": [
        "<a href=\"https://colab.research.google.com/github/DhruvRajSingh-Coder/LetsUpgrade-AI-ML/blob/master/Day_10_Assignment.ipynb\" target=\"_parent\"><img src=\"https://colab.research.google.com/assets/colab-badge.svg\" alt=\"Open In Colab\"/></a>"
      ]
    },
    {
      "cell_type": "markdown",
      "metadata": {
        "id": "QvLytHuziHXu",
        "colab_type": "text"
      },
      "source": [
        "Hypothesis Statements based on the data of day 7 assignment are as below:   \n",
        "1.Age above 60 have high employee atrrition rate.  \n",
        "2.Years at Company above 7 has higher employee attrition rate.\n",
        "3.Marital Status is not associated with Employee Attrition.   \n",
        "4.Employee Attrition is not related to Department of the employee.\n",
        "5.Employee who didn't got any promotion for last 2 years have higher rate of attrition.   \n",
        "6.Average Salary of attrition employee is greater than 61000.\n",
        "7.Percentage Salary Hike of attrition employee is greater than 15.\n",
        "8.Employees who have worked in more than 2 companies have higher attrition rate.   \n",
        "9.Female employees have higher employee attrition rate.   \n",
        "10.Married Female have higher employee attrition rate."
      ]
    }
  ]
}