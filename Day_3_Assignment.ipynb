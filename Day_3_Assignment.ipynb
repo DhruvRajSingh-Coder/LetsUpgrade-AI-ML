{
  "nbformat": 4,
  "nbformat_minor": 0,
  "metadata": {
    "colab": {
      "name": "Day 3 Assignment",
      "provenance": []
    },
    "kernelspec": {
      "name": "python3",
      "display_name": "Python 3"
    }
  },
  "cells": [
    {
      "cell_type": "markdown",
      "metadata": {
        "id": "Bc7sRQT1GWmA",
        "colab_type": "text"
      },
      "source": [
        "Question 1:  \n",
        "Write a program to subtract two complex numbers in python."
      ]
    },
    {
      "cell_type": "code",
      "metadata": {
        "id": "ie8GgcRJIC7z",
        "colab_type": "code",
        "colab": {
          "base_uri": "https://localhost:8080/",
          "height": 55
        },
        "outputId": "a2d0d43f-125b-4c45-f64c-0872090f31f0"
      },
      "source": [
        "a=12+7j\n",
        "b=6+6j\n",
        "c=a-b\n",
        "print(\"The difference of the complex numbers is\",c)"
      ],
      "execution_count": null,
      "outputs": [
        {
          "output_type": "stream",
          "text": [
            "The difference of the complex numbers is (6+1j)\n"
          ],
          "name": "stdout"
        }
      ]
    },
    {
      "cell_type": "markdown",
      "metadata": {
        "id": "E-HpkNieST_v",
        "colab_type": "text"
      },
      "source": [
        "Question 2:  \n",
        "Write a program to find the fourth root of a number."
      ]
    },
    {
      "cell_type": "code",
      "metadata": {
        "id": "TaRvGbyJKbTE",
        "colab_type": "code",
        "colab": {
          "base_uri": "https://localhost:8080/",
          "height": 55
        },
        "outputId": "9e192414-293b-4a6c-ebbf-cee36b97b730"
      },
      "source": [
        "d=16\n",
        "print(\"The fourth root of the number is\",d**(1/4))"
      ],
      "execution_count": null,
      "outputs": [
        {
          "output_type": "stream",
          "text": [
            "The fourth root of the number is 2.0\n"
          ],
          "name": "stdout"
        }
      ]
    },
    {
      "cell_type": "markdown",
      "metadata": {
        "id": "_0Irvfo3NBt2",
        "colab_type": "text"
      },
      "source": [
        "Question 3:  \n",
        "Write a program to swap two numbers in python with the help of a temporary variable."
      ]
    },
    {
      "cell_type": "code",
      "metadata": {
        "id": "eAKbSZjJPQb8",
        "colab_type": "code",
        "colab": {
          "base_uri": "https://localhost:8080/",
          "height": 73
        },
        "outputId": "8e461f72-39f6-44b9-c25e-19e981d95e5e"
      },
      "source": [
        "e=3\n",
        "f=6\n",
        "print(\"Initial values before swaaping of e is\",e,\"and f is\",f)\n",
        "temp=e\n",
        "e=f\n",
        "f=temp\n",
        "print(\"Final values after swapping of e is\",e,\"and f is\",f)"
      ],
      "execution_count": null,
      "outputs": [
        {
          "output_type": "stream",
          "text": [
            "Initial values before swaaping of e is 3 and f is 6\n",
            "Final values after swapping of e is 6 and f is 3\n"
          ],
          "name": "stdout"
        }
      ]
    },
    {
      "cell_type": "markdown",
      "metadata": {
        "id": "z6gKZekMRASx",
        "colab_type": "text"
      },
      "source": [
        "Question 4:  \n",
        "Write a program to swap two numbers in python without using a temporary variable."
      ]
    },
    {
      "cell_type": "code",
      "metadata": {
        "id": "zDZ_7oDtSsd6",
        "colab_type": "code",
        "colab": {
          "base_uri": "https://localhost:8080/",
          "height": 73
        },
        "outputId": "c4019478-bb79-46fe-aaeb-6c847e7bfd64"
      },
      "source": [
        "g=6\n",
        "h=7\n",
        "print(\"Initial values before swapping of g is\",g,\"and f is\",f)\n",
        "print(\"Final values after swapping of g is\",f,\"and f is\",g)"
      ],
      "execution_count": null,
      "outputs": [
        {
          "output_type": "stream",
          "text": [
            "Initial values before swapping of g is 6 and f is 3\n",
            "Final values after swapping of g is 3 and f is 6\n"
          ],
          "name": "stdout"
        }
      ]
    },
    {
      "cell_type": "markdown",
      "metadata": {
        "id": "VdKW6ujuU8nc",
        "colab_type": "text"
      },
      "source": [
        "Question 5:  \n",
        "Write a program to convert farenheit to kelvin and celsius both."
      ]
    },
    {
      "cell_type": "code",
      "metadata": {
        "id": "eU_HByuSVyRX",
        "colab_type": "code",
        "colab": {
          "base_uri": "https://localhost:8080/",
          "height": 55
        },
        "outputId": "0e85c152-46fe-4b8f-d327-db65d1425b94"
      },
      "source": [
        "F=39\n",
        "C=(F-32)*(9/5)\n",
        "K=C+273.15\n",
        "print(\"Temperature in Farenheit to Kelvin is\",K,\"and to Celsius is\",C)"
      ],
      "execution_count": null,
      "outputs": [
        {
          "output_type": "stream",
          "text": [
            "Temperature in Farenheit to Kelvin is 285.75 and to Celsius is 12.6\n"
          ],
          "name": "stdout"
        }
      ]
    },
    {
      "cell_type": "markdown",
      "metadata": {
        "id": "B7aaecKuZiGC",
        "colab_type": "text"
      },
      "source": [
        " Question 6:  \n",
        "Write a program to demonstrate all the available data types in python."
      ]
    },
    {
      "cell_type": "code",
      "metadata": {
        "id": "E0A49_UYaMHt",
        "colab_type": "code",
        "colab": {
          "base_uri": "https://localhost:8080/",
          "height": 181
        },
        "outputId": "2cea206b-2c77-4874-b202-093949685f28"
      },
      "source": [
        "i=21\n",
        "j=6.12\n",
        "k=\"Infinite imagination\"\n",
        "l=9,999\n",
        "m={\"Bikes\":2,\"Car\":1}\n",
        "n=[1,0,8]\n",
        "o=6+7j\n",
        "print(\"Demonstration of available data types in python are as follows:\")\n",
        "print(\"i:\",type(i))\n",
        "print(\"j:\",type(j))\n",
        "print(\"k:\",type(k))\n",
        "print(\"l:\",type(l))\n",
        "print(\"m:\",type(m))\n",
        "print(\"n:\",type(n))\n",
        "print(\"o:\",type(o))"
      ],
      "execution_count": null,
      "outputs": [
        {
          "output_type": "stream",
          "text": [
            "Demonstration of available data types in python are as follows:\n",
            "i: <class 'int'>\n",
            "j: <class 'float'>\n",
            "k: <class 'str'>\n",
            "l: <class 'tuple'>\n",
            "m: <class 'dict'>\n",
            "n: <class 'list'>\n",
            "o: <class 'complex'>\n"
          ],
          "name": "stdout"
        }
      ]
    },
    {
      "cell_type": "markdown",
      "metadata": {
        "id": "tC-A-UQwfsdI",
        "colab_type": "text"
      },
      "source": [
        " Question 7:  \n",
        "List the steps discussed in the session by Dr. Darshan\n",
        "Ingle sir to create Github profile and upload Githubs Assignment link."
      ]
    },
    {
      "cell_type": "markdown",
      "metadata": {
        "id": "vWkCMivBgbsy",
        "colab_type": "text"
      },
      "source": [
        "Steps are as follows:      \n",
        "1.Log in to github.com    \n",
        "2.Sign in with gmail account\n",
        "3.Create a new repository and name it LetsUpgrade AI-ML which should be public  \n",
        "4.Click on upload file and upload the assignment file there  \n",
        "5.Click on commit changes  \n",
        "6.Copy the url from github and paste it in google form shared by letsupgrade team along with filling required details  \n",
        "7.Click on Submit button."
      ]
    }
  ]
}