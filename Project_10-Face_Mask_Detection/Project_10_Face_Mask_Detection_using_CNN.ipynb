{
  "nbformat": 4,
  "nbformat_minor": 0,
  "metadata": {
    "colab": {
      "name": "Project_10-Face_Mask_Detection_using_CNN",
      "provenance": [],
      "collapsed_sections": []
    },
    "kernelspec": {
      "name": "python3",
      "display_name": "Python 3"
    },
    "language_info": {
      "name": "python"
    }
  },
  "cells": [
    {
      "cell_type": "markdown",
      "metadata": {
        "id": "tFRDkG7fi-dJ"
      },
      "source": [
        "___Data Preprocessing___"
      ]
    },
    {
      "cell_type": "code",
      "metadata": {
        "colab": {
          "base_uri": "https://localhost:8080/"
        },
        "id": "As6GQgKz7vrv",
        "outputId": "68ddfe54-7935-45f6-d59c-489e95264ac6"
      },
      "source": [
        "import cv2,os\n",
        "data_path='/content/drive/MyDrive/Train_Data'\n",
        "categories=os.listdir(data_path)\n",
        "labels=[i for i in range(len(categories))]\n",
        "label_dict=dict(zip(categories,labels)) #empty dictionary\n",
        "print(label_dict)\n",
        "print(categories)\n",
        "print(labels)"
      ],
      "execution_count": 1,
      "outputs": [
        {
          "output_type": "stream",
          "text": [
            "{'With_Mask': 0, 'Without_Mask': 1}\n",
            "['With_Mask', 'Without_Mask']\n",
            "[0, 1]\n"
          ],
          "name": "stdout"
        }
      ]
    },
    {
      "cell_type": "code",
      "metadata": {
        "id": "Vw2RT3EX8R7_"
      },
      "source": [
        "img_size=100\n",
        "data=[]\n",
        "target=[]\n",
        "for category in categories:\n",
        "    folder_path=os.path.join(data_path,category)\n",
        "    img_names=os.listdir(folder_path)\n",
        "    for img_name in img_names:\n",
        "        img_path=os.path.join(folder_path,img_name)\n",
        "        img=cv2.imread(img_path)\n",
        "        try:\n",
        "            gray=cv2.cvtColor(img,cv2.COLOR_BGR2GRAY)\n",
        "            #Coverting the image into gray scale\n",
        "            resized=cv2.resize(gray,(img_size,img_size))\n",
        "            #Resizing the gray scale into 50x50, since we need a fixed common size for all the images in the dataset\n",
        "            data.append(resized)\n",
        "            target.append(label_dict[category])\n",
        "            #Appending the image and the label(categorized) into the list(dataset)\n",
        "        except Exception as e:\n",
        "            print('Exception:',e)"
      ],
      "execution_count": 2,
      "outputs": []
    },
    {
      "cell_type": "code",
      "metadata": {
        "id": "q-R7er5s9I4U"
      },
      "source": [
        "import numpy as np\n",
        "data=np.array(data)/255.0\n",
        "data=np.reshape(data,(data.shape[0],img_size,img_size,1))\n",
        "target=np.array(target)\n",
        "from keras.utils import np_utils\n",
        "new_target=np_utils.to_categorical(target)"
      ],
      "execution_count": 3,
      "outputs": []
    },
    {
      "cell_type": "code",
      "metadata": {
        "id": "bs0_klfa9Rx7"
      },
      "source": [
        "np.save('data',data)\n",
        "np.save('target',new_target)"
      ],
      "execution_count": 4,
      "outputs": []
    },
    {
      "cell_type": "markdown",
      "metadata": {
        "id": "SBT0Rfw-kmb0"
      },
      "source": [
        "___Training the CNN___"
      ]
    },
    {
      "cell_type": "code",
      "metadata": {
        "id": "nJt8f8V69i2Y"
      },
      "source": [
        "data=np.load('data.npy')\n",
        "target=np.load('target.npy')"
      ],
      "execution_count": 5,
      "outputs": []
    },
    {
      "cell_type": "code",
      "metadata": {
        "id": "f9c1pW-a9keH"
      },
      "source": [
        "from keras.models import Sequential\n",
        "from keras.layers import Dense,Activation,Flatten,Dropout\n",
        "from keras.layers import Conv2D,MaxPooling2D\n",
        "from keras.callbacks import ModelCheckpoint\n",
        "model=Sequential()\n",
        "model.add(Conv2D(200,(3,3),input_shape=data.shape[1:]))\n",
        "model.add(Activation('relu'))\n",
        "model.add(MaxPooling2D(pool_size=(2,2)))\n",
        "#The first CNN layer followed by Relu and MaxPooling layers\n",
        "model.add(Conv2D(100,(3,3)))\n",
        "model.add(Activation('relu'))\n",
        "model.add(MaxPooling2D(pool_size=(2,2)))\n",
        "#The second convolution layer followed by Relu and MaxPooling layers\n",
        "model.add(Flatten())\n",
        "model.add(Dropout(0.5))\n",
        "#Flatten layer to stack the output convolutions from second convolution layer\n",
        "model.add(Dense(50,activation='relu'))\n",
        "#Dense layer of 64 neurons\n",
        "model.add(Dense(2,activation='softmax'))\n",
        "#The Final layer with two outputs for two categories\n",
        "model.compile(loss='categorical_crossentropy',optimizer='adam',metrics=['accuracy'])"
      ],
      "execution_count": 6,
      "outputs": []
    },
    {
      "cell_type": "code",
      "metadata": {
        "id": "k-QlfQwH9pVm"
      },
      "source": [
        "from sklearn.model_selection import train_test_split\n",
        "train_data,test_data,train_target,test_target=train_test_split(data,target,test_size=0.1)"
      ],
      "execution_count": 7,
      "outputs": []
    },
    {
      "cell_type": "code",
      "metadata": {
        "colab": {
          "base_uri": "https://localhost:8080/"
        },
        "id": "FG9b8DM397gD",
        "outputId": "eab707c1-9dcf-424b-e53f-1f069582e3e2"
      },
      "source": [
        "checkpoint=ModelCheckpoint('model-{epoch:03d}.model',monitor='val_loss',verbose=0,save_best_only=True,mode='auto')\n",
        "history=model.fit(train_data,train_target,epochs=20,callbacks=[checkpoint],validation_split=0.2)"
      ],
      "execution_count": 8,
      "outputs": [
        {
          "output_type": "stream",
          "text": [
            "Epoch 1/20\n",
            "12/12 [==============================] - 47s 2s/step - loss: 0.7904 - accuracy: 0.5473 - val_loss: 0.6904 - val_accuracy: 0.6444\n",
            "INFO:tensorflow:Assets written to: model-001.model/assets\n",
            "Epoch 2/20\n",
            "12/12 [==============================] - 28s 2s/step - loss: 0.6861 - accuracy: 0.5865 - val_loss: 0.6598 - val_accuracy: 0.7111\n",
            "INFO:tensorflow:Assets written to: model-002.model/assets\n",
            "Epoch 3/20\n",
            "12/12 [==============================] - 27s 2s/step - loss: 0.6310 - accuracy: 0.6983 - val_loss: 0.5903 - val_accuracy: 0.7444\n",
            "INFO:tensorflow:Assets written to: model-003.model/assets\n",
            "Epoch 4/20\n",
            "12/12 [==============================] - 27s 2s/step - loss: 0.5555 - accuracy: 0.7540 - val_loss: 0.5123 - val_accuracy: 0.7778\n",
            "INFO:tensorflow:Assets written to: model-004.model/assets\n",
            "Epoch 5/20\n",
            "12/12 [==============================] - 27s 2s/step - loss: 0.4959 - accuracy: 0.7572 - val_loss: 0.4312 - val_accuracy: 0.8444\n",
            "INFO:tensorflow:Assets written to: model-005.model/assets\n",
            "Epoch 6/20\n",
            "12/12 [==============================] - 27s 2s/step - loss: 0.3463 - accuracy: 0.8573 - val_loss: 0.4224 - val_accuracy: 0.8333\n",
            "INFO:tensorflow:Assets written to: model-006.model/assets\n",
            "Epoch 7/20\n",
            "12/12 [==============================] - 27s 2s/step - loss: 0.2699 - accuracy: 0.8823 - val_loss: 0.4073 - val_accuracy: 0.8556\n",
            "INFO:tensorflow:Assets written to: model-007.model/assets\n",
            "Epoch 8/20\n",
            "12/12 [==============================] - 27s 2s/step - loss: 0.2018 - accuracy: 0.9241 - val_loss: 0.4274 - val_accuracy: 0.8667\n",
            "Epoch 9/20\n",
            "12/12 [==============================] - 26s 2s/step - loss: 0.2379 - accuracy: 0.9144 - val_loss: 0.4197 - val_accuracy: 0.8444\n",
            "Epoch 10/20\n",
            "12/12 [==============================] - 27s 2s/step - loss: 0.2032 - accuracy: 0.9255 - val_loss: 0.4815 - val_accuracy: 0.8889\n",
            "Epoch 11/20\n",
            "12/12 [==============================] - 27s 2s/step - loss: 0.1396 - accuracy: 0.9632 - val_loss: 0.4375 - val_accuracy: 0.8444\n",
            "Epoch 12/20\n",
            "12/12 [==============================] - 27s 2s/step - loss: 0.2113 - accuracy: 0.9224 - val_loss: 0.4951 - val_accuracy: 0.8778\n",
            "Epoch 13/20\n",
            "12/12 [==============================] - 27s 2s/step - loss: 0.1161 - accuracy: 0.9540 - val_loss: 0.3628 - val_accuracy: 0.8889\n",
            "INFO:tensorflow:Assets written to: model-013.model/assets\n",
            "Epoch 14/20\n",
            "12/12 [==============================] - 27s 2s/step - loss: 0.0637 - accuracy: 0.9737 - val_loss: 0.5964 - val_accuracy: 0.8667\n",
            "Epoch 15/20\n",
            "12/12 [==============================] - 27s 2s/step - loss: 0.0960 - accuracy: 0.9528 - val_loss: 0.3857 - val_accuracy: 0.8889\n",
            "Epoch 16/20\n",
            "12/12 [==============================] - 26s 2s/step - loss: 0.1159 - accuracy: 0.9597 - val_loss: 0.4414 - val_accuracy: 0.8444\n",
            "Epoch 17/20\n",
            "12/12 [==============================] - 26s 2s/step - loss: 0.0606 - accuracy: 0.9827 - val_loss: 0.3846 - val_accuracy: 0.8778\n",
            "Epoch 18/20\n",
            "12/12 [==============================] - 27s 2s/step - loss: 0.0425 - accuracy: 0.9923 - val_loss: 0.3625 - val_accuracy: 0.8778\n",
            "INFO:tensorflow:Assets written to: model-018.model/assets\n",
            "Epoch 19/20\n",
            "12/12 [==============================] - 27s 2s/step - loss: 0.0522 - accuracy: 0.9794 - val_loss: 0.5643 - val_accuracy: 0.8667\n",
            "Epoch 20/20\n",
            "12/12 [==============================] - 27s 2s/step - loss: 0.0534 - accuracy: 0.9902 - val_loss: 0.4442 - val_accuracy: 0.9111\n"
          ],
          "name": "stdout"
        }
      ]
    },
    {
      "cell_type": "code",
      "metadata": {
        "colab": {
          "base_uri": "https://localhost:8080/",
          "height": 279
        },
        "id": "gODhFM7r-Ain",
        "outputId": "5ca27e03-9992-4e98-b4c5-3ea593a18ab8"
      },
      "source": [
        "from matplotlib import pyplot as plt\n",
        "plt.plot(history.history['loss'],'r',label='training loss')\n",
        "plt.plot(history.history['val_loss'],label='validation loss')\n",
        "plt.xlabel('# epochs')\n",
        "plt.ylabel('loss')\n",
        "plt.legend()\n",
        "plt.show()"
      ],
      "execution_count": 9,
      "outputs": [
        {
          "output_type": "display_data",
          "data": {
            "image/png": "[encoded data removed]",
            "text/plain": [
              "<Figure size 432x288 with 1 Axes>"
            ]
          },
          "metadata": {
            "tags": [],
            "needs_background": "light"
          }
        }
      ]
    },
    {
      "cell_type": "code",
      "metadata": {
        "colab": {
          "base_uri": "https://localhost:8080/",
          "height": 279
        },
        "id": "cUhXbHfh_JDE",
        "outputId": "ec92249a-01ab-4318-f823-9811a6603ae1"
      },
      "source": [
        "plt.plot(history.history['accuracy'],'r',label='training accuracy')\n",
        "plt.plot(history.history['val_accuracy'],label='validation accuracy')\n",
        "plt.xlabel('# epochs')\n",
        "plt.ylabel('loss')\n",
        "plt.legend()\n",
        "plt.show()"
      ],
      "execution_count": 10,
      "outputs": [
        {
          "output_type": "display_data",
          "data": {
            "image/png": "[encoded data removed]",
            "text/plain": [
              "<Figure size 432x288 with 1 Axes>"
            ]
          },
          "metadata": {
            "tags": [],
            "needs_background": "light"
          }
        }
      ]
    },
    {
      "cell_type": "code",
      "metadata": {
        "colab": {
          "base_uri": "https://localhost:8080/"
        },
        "id": "iWIaU-Iy_OOC",
        "outputId": "fb8e4a8d-9f33-4018-b560-32a8f5c68078"
      },
      "source": [
        "print(model.evaluate(test_data,test_target))"
      ],
      "execution_count": 11,
      "outputs": [
        {
          "output_type": "stream",
          "text": [
            "2/2 [==============================] - 1s 343ms/step - loss: 0.1819 - accuracy: 0.9200\n",
            "[0.1818820983171463, 0.9200000166893005]\n"
          ],
          "name": "stdout"
        }
      ]
    },
    {
      "cell_type": "markdown",
      "metadata": {
        "id": "UxkMCzkcocdH"
      },
      "source": [
        "___Detecting Masks___"
      ]
    },
    {
      "cell_type": "code",
      "metadata": {
        "id": "gbLNCYRnuIaW"
      },
      "source": [
        "from keras.models import load_model\n",
        "model=load_model('model-018.model')\n",
        "face_clsfr=cv2.CascadeClassifier('haarcascade_frontalface_default.xml')\n",
        "source=cv2.VideoCapture(0)\n",
        "img=cv2.imread(img_path)\n",
        "labels_dict={0:'MASK',1:'NO MASK'}\n",
        "color_dict={0:(0,255,0),1:(0,0,255)}\n",
        "while(True):\n",
        "    ret,img=source.read()\n",
        "    gray=cv2.cvtColor(img,cv2.COLOR_BGR2GRAY)\n",
        "    faces=face_clsfr.detectMultiScale(gray,1.3,5)\n",
        "    for (x,y,w,h) in faces:\n",
        "        face_img=gray[y:y+w,x:x+w]\n",
        "        resized=cv2.resize(face_img,(100,100))\n",
        "        normalized=resized/255.0\n",
        "        reshaped=np.reshape(normalized,(1,100,100,1))\n",
        "        result=model.predict(reshaped)\n",
        "        label=np.argmax(result,axis=1)[0]\n",
        "        cv2.rectangle(img,(x,y),(x+w,y+h),color_dict[label],2)\n",
        "        cv2.rectangle(img,(x,y-40),(x+w,y),color_dict[label],-1)\n",
        "        cv2.putText(img, labels_dict[label], (x, y-10),cv2.FONT_HERSHEY_SIMPLEX,0.8,(255,255,255),2)\n",
        "    cv2.imshow('LIVE',img)\n",
        "    key=cv2.waitKey(1)\n",
        "    if(key==27):\n",
        "        break\n",
        "cv2.destroyAllWindows()\n",
        "source.release()"
      ],
      "execution_count": null,
      "outputs": []
    },
    {
      "cell_type": "code",
      "metadata": {
        "id": "4WLD5L0wyZzC"
      },
      "source": [
        "import cv2\n",
        "import numpy as np\n",
        "cap=cv2.VideoCapture(0)\n",
        "while(1):\n",
        "    # Take each frame\n",
        "    _, frame = cap.read()\n",
        "    # Convert BGR to HSV\n",
        "    hsv=cv2.cvtColor(frame,cv2.COLOR_BGR2HSV)\n",
        "    # define range of blue color in HSV\n",
        "    lower_blue=np.array([110,50,50])\n",
        "    upper_blue=np.array([130,255,255])\n",
        "    # Threshold the HSV image to get only blue colors\n",
        "    mask=cv2.inRange(hsv,lower_blue,upper_blue)\n",
        "    # Bitwise-AND mask and original image\n",
        "    res=cv2.bitwise_and(frame,frame,mask=mask)\n",
        "    cv2.imshow('frame',frame)\n",
        "    cv2.imshow('mask',mask)\n",
        "    cv2.imshow('res',res)\n",
        "    k=cv2.waitKey(5) & 0xFF\n",
        "    if k == 27:\n",
        "        break\n",
        "cv2.destroyAllWindows()"
      ],
      "execution_count": null,
      "outputs": []
    }
  ]
}