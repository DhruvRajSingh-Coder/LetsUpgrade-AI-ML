{
  "nbformat": 4,
  "nbformat_minor": 0,
  "metadata": {
    "colab": {
      "name": "Project_10-Face_Mask_Detection_using_opencv",
      "provenance": [],
      "collapsed_sections": []
    },
    "kernelspec": {
      "name": "python3",
      "display_name": "Python 3"
    },
    "language_info": {
      "name": "python"
    }
  },
  "cells": [
    {
      "cell_type": "markdown",
      "metadata": {
        "id": "HlyugOoysKsL"
      },
      "source": [
        "___Import Necessary Packages :___"
      ]
    },
    {
      "cell_type": "code",
      "metadata": {
        "id": "2L0NGm23R9VA"
      },
      "source": [
        "import numpy as np\n",
        "import keras\n",
        "import tensorflow as tf\n",
        "import cv2\n",
        "import imutils\n",
        "from keras.optimizers import RMSprop\n",
        "from keras.preprocessing.image import ImageDataGenerator\n",
        "from keras.models import Sequential\n",
        "from keras.layers import Conv2D,Input,ZeroPadding2D,BatchNormalization,Activation,MaxPooling2D,Flatten,Dense,Dropout\n",
        "from keras.models import Model,load_model\n",
        "from keras.callbacks import TensorBoard,ModelCheckpoint\n",
        "from sklearn.model_selection import train_test_split\n",
        "from keras.metrics import Accuracy\n",
        "from sklearn.metrics import f1_score\n",
        "from sklearn.utils import shuffle"
      ],
      "execution_count": 1,
      "outputs": []
    },
    {
      "cell_type": "markdown",
      "metadata": {
        "id": "3LISHY3ht9ZS"
      },
      "source": [
        "___Data Augmentation :___"
      ]
    },
    {
      "cell_type": "code",
      "metadata": {
        "id": "hLhyL0HUYBz5"
      },
      "source": [
        "from keras.preprocessing.image import ImageDataGenerator,array_to_img,img_to_array,load_img\n",
        "import matplotlib as mt\n",
        "train_datagen=ImageDataGenerator(rescale=1.0/255,rotation_range=40,width_shift_range=0.2,height_shift_range=0.2,shear_range=0.2,zoom_range=0.2,horizontal_flip=True,fill_mode='nearest')\n",
        "test_datagen=ImageDataGenerator(rescale=1.0/255)"
      ],
      "execution_count": 2,
      "outputs": []
    },
    {
      "cell_type": "markdown",
      "metadata": {
        "id": "tc6S4GelvRFz"
      },
      "source": [
        "___Read the Train directory of images :___"
      ]
    },
    {
      "cell_type": "code",
      "metadata": {
        "id": "3ukuyhRTYK5z",
        "colab": {
          "base_uri": "https://localhost:8080/"
        },
        "outputId": "510c2019-60ff-490e-de41-1cdcbd22a366"
      },
      "source": [
        "Train_Data=train_datagen.flow_from_directory('/content/drive/MyDrive/Train_Data',target_size=(150,150),batch_size=10,class_mode='binary')"
      ],
      "execution_count": 3,
      "outputs": [
        {
          "output_type": "stream",
          "text": [
            "Found 500 images belonging to 2 classes.\n"
          ],
          "name": "stdout"
        }
      ]
    },
    {
      "cell_type": "markdown",
      "metadata": {
        "id": "cC6ShF_Fv1hg"
      },
      "source": [
        "___Read the Test directory of images :___"
      ]
    },
    {
      "cell_type": "code",
      "metadata": {
        "id": "3ZkwFqZ0YTM8",
        "colab": {
          "base_uri": "https://localhost:8080/"
        },
        "outputId": "310ea78c-3d91-4ed9-b54d-7a01bd60d80a"
      },
      "source": [
        "Test_Data=test_datagen.flow_from_directory('/content/drive/MyDrive/Test_Data',target_size=(150,150),batch_size=10,class_mode='binary')"
      ],
      "execution_count": 4,
      "outputs": [
        {
          "output_type": "stream",
          "text": [
            "Found 100 images belonging to 2 classes.\n"
          ],
          "name": "stdout"
        }
      ]
    },
    {
      "cell_type": "markdown",
      "metadata": {
        "id": "l2mGRJ1pwKgn"
      },
      "source": [
        "___CNN Model design :___"
      ]
    },
    {
      "cell_type": "code",
      "metadata": {
        "id": "v4FlECKTYXy1"
      },
      "source": [
        "Model=Sequential([Conv2D(100,(3,3),activation='relu',input_shape=(150,150,3)),MaxPooling2D(2,2),\n",
        "                  Conv2D(100,(3,3),activation='relu'),MaxPooling2D(2,2),\n",
        "                  Flatten(),\n",
        "                  Dropout(0.5),\n",
        "                  Dense(50,activation='relu'),\n",
        "                  Dense(2,activation='softmax')])"
      ],
      "execution_count": 5,
      "outputs": []
    },
    {
      "cell_type": "markdown",
      "metadata": {
        "id": "6wt3pkMfxSY_"
      },
      "source": [
        "___Define the Compiler of CNN :___"
      ]
    },
    {
      "cell_type": "code",
      "metadata": {
        "id": "UbcdQkO-YdLd"
      },
      "source": [
        "Model.compile(optimizer='adam',loss='sparse_categorical_crossentropy',metrics=['acc'])"
      ],
      "execution_count": 6,
      "outputs": []
    },
    {
      "cell_type": "code",
      "metadata": {
        "id": "f7UVkqXUYijG"
      },
      "source": [
        "checkpoint=ModelCheckpoint('model2-{epoch:03d}.model',monitor='val_loss',verbose=0,save_best_only=True,mode='auto')"
      ],
      "execution_count": 7,
      "outputs": []
    },
    {
      "cell_type": "markdown",
      "metadata": {
        "id": "cv7c0BSCxprt"
      },
      "source": [
        "___Train the model with the data :___"
      ]
    },
    {
      "cell_type": "code",
      "metadata": {
        "colab": {
          "base_uri": "https://localhost:8080/"
        },
        "id": "r011pdJU4E7Q",
        "outputId": "1d4fca81-55f1-41aa-9ac2-05cdfcf92726"
      },
      "source": [
        "histroy=Model.fit_generator(Train_Data,steps_per_epoch=5,epochs=10,validation_data=Test_Data,validation_steps=4)"
      ],
      "execution_count": 8,
      "outputs": [
        {
          "output_type": "stream",
          "text": [
            "/usr/local/lib/python3.7/dist-packages/keras/engine/training.py:1915: UserWarning: `Model.fit_generator` is deprecated and will be removed in a future version. Please use `Model.fit`, which supports generators.\n",
            "  warnings.warn('`Model.fit_generator` is deprecated and '\n"
          ],
          "name": "stderr"
        },
        {
          "output_type": "stream",
          "text": [
            "Epoch 1/10\n",
            "5/5 [==============================] - 20s 1s/step - loss: 1.0454 - acc: 0.4531 - val_loss: 0.6887 - val_acc: 0.4750\n",
            "Epoch 2/10\n",
            "5/5 [==============================] - 5s 1s/step - loss: 0.6800 - acc: 0.5450 - val_loss: 0.6882 - val_acc: 0.5500\n",
            "Epoch 3/10\n",
            "5/5 [==============================] - 5s 1s/step - loss: 0.6794 - acc: 0.6514 - val_loss: 0.6793 - val_acc: 0.5500\n",
            "Epoch 4/10\n",
            "5/5 [==============================] - 5s 1s/step - loss: 0.7144 - acc: 0.4028 - val_loss: 0.6888 - val_acc: 0.4500\n",
            "Epoch 5/10\n",
            "5/5 [==============================] - 5s 1s/step - loss: 0.6917 - acc: 0.4264 - val_loss: 0.6689 - val_acc: 0.4250\n",
            "Epoch 6/10\n",
            "5/5 [==============================] - 5s 1s/step - loss: 0.6825 - acc: 0.5061 - val_loss: 0.6469 - val_acc: 0.5250\n",
            "Epoch 7/10\n",
            "5/5 [==============================] - 5s 1s/step - loss: 0.6749 - acc: 0.4767 - val_loss: 0.6824 - val_acc: 0.4750\n",
            "Epoch 8/10\n",
            "5/5 [==============================] - 5s 1s/step - loss: 0.6738 - acc: 0.6792 - val_loss: 0.5456 - val_acc: 0.7250\n",
            "Epoch 9/10\n",
            "5/5 [==============================] - 5s 1s/step - loss: 0.6907 - acc: 0.6425 - val_loss: 0.5129 - val_acc: 0.8500\n",
            "Epoch 10/10\n",
            "5/5 [==============================] - 5s 1s/step - loss: 0.5329 - acc: 0.8575 - val_loss: 0.5152 - val_acc: 0.7000\n"
          ],
          "name": "stdout"
        }
      ]
    },
    {
      "cell_type": "code",
      "metadata": {
        "id": "BPn7EuWlYuZb"
      },
      "source": [
        "Model.save('mask_project.h5')"
      ],
      "execution_count": 9,
      "outputs": []
    },
    {
      "cell_type": "markdown",
      "metadata": {
        "id": "-wR7Ddc1y6dV"
      },
      "source": [
        "___Implement Face Mask Detection with opencv-Haar cascade classifier :___"
      ]
    },
    {
      "cell_type": "code",
      "metadata": {
        "id": "vtDv2j96iagT"
      },
      "source": [
        "model=tf.keras.models.load_model('mask_project.h5')\n",
        "results={0:'without mask',1:'mask'}\n",
        "GR_dict={0:(0,0,255),1:(0,255,0)}\n",
        "rect_size=4\n",
        "cap=cv2.VideoCapture(0)\n",
        "haarcascade=cv2.CascadeClassifier('haarcascade_frontalface_default.xml')\n",
        "while True:\n",
        "    (rval,im)=cap.read()\n",
        "    im=cv2.flip(im,1,1)\n",
        "    rerect_size=cv2.resize(im,(im.shape[1]//rect_size,im.shape[0]//rect_size))\n",
        "    faces=haarcascade.detectMultiScale(rerect_size)\n",
        "    for f in faces:\n",
        "        (x,y,w,h)=[v*rect_size for v in f]\n",
        "        face_img=im[y:y+h,x:x+w]\n",
        "        rerect_sized=cv2.resize(face_img,(150,150))\n",
        "        normalized=rerect_sized/255.0\n",
        "        reshaped=np.reshape(normalized,(1,150,150,3))\n",
        "        reshaped=np.vstack([reshaped])\n",
        "        result=model.predict(reshaped)\n",
        "        label=np.argmax(result,axis=1)[0]\n",
        "        cv2.rectangle(im,(x,y),(x+w,y+h),GR_dict[label],2)\n",
        "        cv2.rectangle(im,(x,y-40),(x+w,y),GR_dict[label],-1)\n",
        "        cv2.putText(im,results[label],(x,y-10),cv2.FONT_HERSHEY_SIMPLEX,0.8,(255,255,255),2)\n",
        "    cv2.imshow('LIVE',im)\n",
        "    key=cv2.waitKey(10)\n",
        "    if key==27:\n",
        "        break\n",
        "cap.release()\n",
        "cv2.destroyAllWindows()"
      ],
      "execution_count": null,
      "outputs": []
    }
  ]
}